{
 "cells": [
  {
   "cell_type": "markdown",
   "metadata": {},
   "source": [
    "# Black Scholes valuation methods\n",
    "\n",
    "[*Black Scholes model WIKI*](https://en.wikipedia.org/wiki/Black%E2%80%93Scholes_model). \n",
    "\n",
    "\n",
    "The purpose of this notebook is to review the most common algorithms and implement them numerically. \n",
    "\n",
    "## Contents\n",
    "   - [European option](#sec1)\n",
    "      - [Put-Call parity](#sec1.1)\n",
    "   - [Numerical integration](#sec2)\n",
    "   - [Monte Carlo method](#sec3)\n",
    "   - [Binomial tree](#sec4)\n",
    "   - [Limits of the model](#sec5)"
   ]
  },
  {
   "cell_type": "code",
   "execution_count": 9,
   "metadata": {},
   "outputs": [],
   "source": [
    "from functions.BS_pricer import BS_pricer\n",
    "from functions.Parameters import Option_param\n",
    "from functions.Processes import Diffusion_process\n",
    "\n",
    "import numpy as np\n",
    "import scipy as scp\n",
    "import scipy.stats as ss\n",
    "from scipy.integrate import quad\n",
    "from functools import partial\n",
    "\n",
    "import matplotlib.pyplot as plt\n",
    "%matplotlib inline"
   ]
  },
  {
   "cell_type": "markdown",
   "metadata": {},
   "source": [
    "<a id='sec1'></a>\n",
    "## European option\n",
    "\n",
    "Under the Black-Scholes (BS) model, the best method to price a vanilla European option is to use the [BS closed formula](https://en.wikipedia.org/wiki/Black%E2%80%93Scholes_model).\n",
    "\n",
    "The **BS formula** for a call is:\n",
    "\n",
    "$$ C(t,T,S_t,K,r,\\sigma) = S_t N(d_1) - K e^{-r(T-t)} N(d_2) $$\n",
    "\n",
    "with \n",
    "\n",
    "$$ d_1 = \\frac{1}{\\sigma \\sqrt{T-t}} \\biggl[ \\log \\biggl( \\frac{S_t}{K} \\biggr) + \\biggl(r + \\frac{\\sigma^2}{2} \\biggr) (T-t) \\biggr] \\quad \\mbox{and} \\quad d_2 = d_1 - \\sigma \\sqrt{T-t} $$\n",
    "\n",
    "where $N$ is the cumulative distribution function of a standard normal random variable.    \n",
    "The formula for a put is similar and can be found in the wiki page.\n",
    "\n",
    "The value of an option can be also computed as the discounted expectation of a future payoff in this way:\n",
    "\n",
    "$$\\begin{aligned}\n",
    " C(S_t,K,T) &= e^{-r(T-t)} \\mathbb{E}^{\\mathbb{Q}}\\biggl[ (S_T - K)^+ \\bigg| S_t \\biggr] \\\\\n",
    "            &= e^{-r(T-t)} \\int_0^{\\infty} (S_T - K)^+ f(S_T|S_t) dS_T   \\quad \\text{(see comment below)} \\\\\n",
    "            &= e^{-r(T-t)} \\int_K^{\\infty} (S_T - K) f(S_T|S_t) dS_T \n",
    "\\end{aligned}$$\n",
    "\n",
    "where $f(S_T|S_t)$ is the risk neutral transition probability of the process $\\{S_u\\}_{u\\in [t,T]}$. This is a log-normal density function \n",
    "\n",
    "$$ f(S_T|S_t) = \\frac{1}{S_T \\sigma \\sqrt{2\\pi (T-t)}} \\; e^{- \\frac{ \\biggl[\\log(S_T) - \\bigl(\\log(S_t) + (r-\\frac{1}{2} \\sigma^2)(T-t) \\bigr) \\biggr]^2}{2\\sigma^2 (T-t)}} $$\n",
    "\n",
    "\n",
    "#### Comment:\n",
    "In this context there is a clear abuse of notation!! Usually in statistics random variables are indicated by capital letters, and non-random variables are indicated with small letters. However, it is very common to indicate the stock price in the Black-Scholes formula with a capital letter. Here I used this notation in order to be consistent with the [wiki notation](https://en.wikipedia.org/wiki/Black%E2%80%93Scholes_model#Notation), although I think this choice can generate misunderstandings. To summarize:    \n",
    "In the function $C(S_t,K,T)$ the variables are non-random! Inside the expectation $\\mathbb{E}^{\\mathbb{Q}}\\bigl[ (S_T - K)^+ \\big| S_t \\bigr]$, the variable $S_T$ is random. In the second and third lines, $S_T$ is not random and consequently the integral in $dS_T$ **is NOT** a stochastic integral. "
   ]
  },
  {
   "cell_type": "markdown",
   "metadata": {},
   "source": [
    "### Let us analyze better the previous formulas\n",
    "\n",
    "\n",
    "\n",
    "\\begin{align*}\n",
    " C(S_t,K,T) &= e^{-r(T-t)} \\mathbb{E}^{\\mathbb{Q}}\\biggl[ (S_T - K)^+ \\bigg| S_t \\biggr] \\\\\n",
    "            &= e^{-r(T-t)} \\mathbb{E}^{\\mathbb{Q}}\\biggl[ S_T \\mathbb{1}_{S_T >K} \\bigg| S_t \\biggr] \n",
    "              - e^{-r(T-t)} \\mathbb{E}^{\\mathbb{Q}}\\biggl[ K \\mathbb{1}_{S_T >K} \\bigg| S_t \\biggr] \\\\\n",
    "            &= e^{-r(T-t)} \\mathbb{E}^{\\mathbb{Q}}\\biggl[ S_T \\mathbb{1}_{S_T >K} \\bigg| S_t \\biggr] \n",
    "              - e^{-r(T-t)} K \\, \\underbrace{\\mathbb{Q}\\biggl[ S_T >K \\bigg| S_t \\biggr]}_{N(d_2)} \\\\            \n",
    "\\end{align*}\n",
    "\n",
    "Let us introduce the following change of measure (under the stock numeraire):\n",
    "\n",
    "$$ \\begin{aligned}\n",
    "\\frac{d \\tilde{\\mathbb{Q}} }{ d \\mathbb{Q} } &= \\frac{S_T}{\\mathbb{E}^\\mathbb{Q}[S_T]} = \\frac{S_T}{S_t e^{r(T-t)}}  \\\\ \n",
    "                                            &= \\frac{S_t e^{(r -\\frac{1}{2}\\sigma^2)(T-t) + \\sigma W_{T-t}} }{S_t e^{r(T-t)}} \\\\\n",
    "                                            &=   e^{ -\\frac{1}{2}\\sigma^2(T-t) + \\sigma W_{T-t} } \\quad \\text{(exponential martingale)} \n",
    "\\end{aligned} $$\n",
    "\n",
    "By [Girsanov theorem](https://en.wikipedia.org/wiki/Girsanov_theorem), under $\\tilde{\\mathbb{Q}}$ the driving Brownian motion has the new dynamics \n",
    "\n",
    "$$ \\tilde{W_t} = W_t - \\sigma t $$\n",
    "\n",
    "and the corresponding stock dynamics becomes\n",
    "\n",
    "$$\\begin{aligned}\n",
    " \\frac{dS_t}{S_t} &= r dt + \\sigma dW_t \\\\\n",
    "                  &= (r+\\sigma^2) dt + \\sigma d\\tilde{W}_t \n",
    "\\end{aligned}$$\n",
    "\n",
    "The first term is\n",
    "\n",
    "$$ \\begin{aligned}\n",
    " e^{-r(T-t)} \\mathbb{E}^{\\mathbb{Q}}\\biggl[ S_T \\mathbb{1}_{S_T >K} \\bigg| S_t \\biggr] =& e^{-r(T-t)} \\mathbb{E}^{\\tilde{\\mathbb{Q}}} \n",
    "                 \\biggl[ \\frac{d \\mathbb{Q} }{ d \\tilde{\\mathbb{Q}}}  S_T \\mathbb{1}_{S_T >K} \\bigg| S_t \\biggr] \\\\\n",
    "                     =& e^{-r(T-t)} \\mathbb{E}^{\\tilde{\\mathbb{Q}}} \n",
    "                 \\biggl[ \\frac{e^{r(T-t)}S_t}{S_T}  S_T \\mathbb{1}_{S_T >K} \\bigg| S_t \\biggr] \\\\ \n",
    "                    =& S_t \\, \\underbrace{\\tilde{\\mathbb{Q}} ( S_T > K | S_t)}_{N(d_1)}\n",
    "\\end{aligned}$$\n",
    "\n",
    "We have just seen how to interpret the terms $N(d_1)$ and $N(d_2)$. These are the risk neutral probabilities of $S_T > K$ in the stock and money market numeraires respectively."
   ]
  },
  {
   "cell_type": "markdown",
   "metadata": {},
   "source": [
    "I implemented the BS closed formula in the class `BS_pricer`.     \n",
    "Let us consider the following set of parameters, that will be recurrent in all the next notebooks. "
   ]
  },
  {
   "cell_type": "code",
   "execution_count": 1,
   "metadata": {},
   "outputs": [
    {
     "name": "stdout",
     "output_type": "stream",
     "text": [
      "Requirement already up-to-date: pip in e:\\wpy64-3760\\python-3.7.6.amd64\\lib\\site-packages (20.0.2)\n",
      "Note: you may need to restart the kernel to use updated packages.\n"
     ]
    }
   ],
   "source": [
    "pip install --upgrade pip"
   ]
  },
  {
   "cell_type": "code",
   "execution_count": 2,
   "metadata": {},
   "outputs": [
    {
     "name": "stdout",
     "output_type": "stream",
     "text": [
      "Requirement already satisfied: cython in e:\\wpy64-3760\\python-3.7.6.amd64\\lib\\site-packages (0.29.14)\n",
      "Note: you may need to restart the kernel to use updated packages.\n"
     ]
    }
   ],
   "source": [
    "pip install cython"
   ]
  },
  {
   "cell_type": "code",
   "execution_count": 7,
   "metadata": {},
   "outputs": [
    {
     "ename": "SyntaxError",
     "evalue": "invalid syntax (<ipython-input-7-2cb21d7d2b68>, line 1)",
     "output_type": "error",
     "traceback": [
      "\u001b[1;36m  File \u001b[1;32m\"<ipython-input-7-2cb21d7d2b68>\"\u001b[1;36m, line \u001b[1;32m1\u001b[0m\n\u001b[1;33m    python setup.py build_ext --inplace\u001b[0m\n\u001b[1;37m               ^\u001b[0m\n\u001b[1;31mSyntaxError\u001b[0m\u001b[1;31m:\u001b[0m invalid syntax\n"
     ]
    }
   ],
   "source": [
    "python setup.py build_ext --inplace"
   ]
  },
  {
   "cell_type": "code",
   "execution_count": 10,
   "metadata": {},
   "outputs": [],
   "source": [
    "S0=100.0    # spot stock price\n",
    "K=100.0     # strike\n",
    "T=1.0       # maturity \n",
    "r=0.1       # risk free rate \n",
    "sig=0.2     # diffusion coefficient or volatility"
   ]
  },
  {
   "cell_type": "code",
   "execution_count": 11,
   "metadata": {},
   "outputs": [
    {
     "name": "stdout",
     "output_type": "stream",
     "text": [
      "Call price:  13.269676584660893\n",
      "Put price:  3.753418388256833\n"
     ]
    }
   ],
   "source": [
    "call = BS_pricer.BlackScholes(\"call\",S0,K,T,r,sig) \n",
    "put = BS_pricer.BlackScholes(\"put\",S0,K,T,r,sig) \n",
    "print(\"Call price: \", call )  \n",
    "print(\"Put price: \", put ) "
   ]
  },
  {
   "cell_type": "markdown",
   "metadata": {},
   "source": [
    "<a id='sec1.1'></a>\n",
    "### Put-Call parity\n",
    "\n",
    "This is an important formula [wiki page](https://en.wikipedia.org/wiki/Put%E2%80%93call_parity)\n",
    "\n",
    "$$ Call - Put = S_0 - K e^{-rT}  $$\n",
    "\n",
    "Let us check if it works:"
   ]
  },
  {
   "cell_type": "code",
   "execution_count": 12,
   "metadata": {},
   "outputs": [
    {
     "name": "stdout",
     "output_type": "stream",
     "text": [
      "13.269676584660893\n",
      "13.269676584660886\n"
     ]
    }
   ],
   "source": [
    "print(call) \n",
    "print(put + S0 - K * np.exp(-r*T) )"
   ]
  },
  {
   "cell_type": "markdown",
   "metadata": {},
   "source": [
    "<a id='sec2'></a>\n",
    "## Numerical integration\n",
    "\n",
    "I want to play a bit with the different formulas written above.  \n",
    "\n",
    "Let us compute the option prices by integrating the log-normal density:"
   ]
  },
  {
   "cell_type": "code",
   "execution_count": 13,
   "metadata": {},
   "outputs": [],
   "source": [
    "e_ret = np.log(S0) + ( r - 0.5 * sig**2 ) * T   # expected return of the log-price\n",
    "vol = sig * np.sqrt(T)                          # standard deviation of the log-price\n",
    "\n",
    "# log-normal density (defined above) \n",
    "def log_normal(x, e_ret, vol):\n",
    "    return 1/(x*vol*np.sqrt(2*np.pi)) * np.exp(- (np.log(x) - e_ret)**2 /(2*vol**2) )"
   ]
  },
  {
   "cell_type": "code",
   "execution_count": 14,
   "metadata": {},
   "outputs": [
    {
     "data": {
      "image/png": "[encoded data removed]",
      "text/plain": [
       "<Figure size 576x360 with 1 Axes>"
      ]
     },
     "metadata": {
      "needs_background": "light"
     },
     "output_type": "display_data"
    }
   ],
   "source": [
    "plt.figure(figsize=(8,5))\n",
    "x = np.linspace(30,190, 100)\n",
    "plt.plot(x, log_normal(x, e_ret,vol))\n",
    "plt.title(\"Lognormal distribution, conditioned on $S_0=100$\")\n",
    "plt.xlabel(\"$S_T$\"); plt.show()"
   ]
  },
  {
   "cell_type": "markdown",
   "metadata": {},
   "source": [
    "The function `log_normal(x, e_ret, vol)` defined above, corresponds to the scipy.stats function: \n",
    "```\n",
    "ss.lognorm.pdf(x, vol, scale=np.exp(e_ret) ).\n",
    "```\n",
    "\n",
    "In the next calculation, I'm going to use the scipy function.    \n",
    "Let us perform the integration with the `scipy.integrate` function [quad](https://docs.scipy.org/doc/scipy/reference/generated/scipy.integrate.quad.html):"
   ]
  },
  {
   "cell_type": "code",
   "execution_count": 15,
   "metadata": {},
   "outputs": [
    {
     "name": "stdout",
     "output_type": "stream",
     "text": [
      "Call price: 13.269676584660926 \n",
      "Put price: 3.753418388256828 \n"
     ]
    }
   ],
   "source": [
    "def integrand_LN(S, strike, e_ret, vol, payoff):\n",
    "    if payoff == \"call\":\n",
    "        return (S - strike ) * ss.lognorm.pdf(S, vol, scale=np.exp(e_ret))\n",
    "    elif payoff == \"put\":\n",
    "        return (strike - S) * ss.lognorm.pdf(S, vol, scale=np.exp(e_ret))\n",
    "\n",
    "call = quad(integrand_LN, K, np.inf, args=(K, e_ret, vol, \"call\") )[0]  * np.exp(-r*T)\n",
    "put = quad(integrand_LN, 0, K, args=(K, e_ret, vol, \"put\") )[0]  * np.exp(-r*T)\n",
    "\n",
    "print(\"Call price: {} \\nPut price: {} \".format(call,put) )"
   ]
  },
  {
   "cell_type": "markdown",
   "metadata": {},
   "source": [
    "The put option payoff $(K-S_T)^+$ is positive for $S_T < K$.    \n",
    "- In the call case, the integration is from $K$ to $\\infty$.\n",
    "- In the put case, the integration is from $0$ to $K$."
   ]
  },
  {
   "cell_type": "markdown",
   "metadata": {},
   "source": [
    "What if we use the change of measure proposed above?  In this way the integrations are simpler.    \n",
    "Let us compute $\\tilde{\\mathbb{Q}}( S_T > K )$ and $\\mathbb{Q}( S_T > K )$."
   ]
  },
  {
   "cell_type": "code",
   "execution_count": 16,
   "metadata": {},
   "outputs": [
    {
     "name": "stdout",
     "output_type": "stream",
     "text": [
      "Risk neutral probability under stock numeraire,\n",
      " Q1 = 0.7257468822499274\n",
      "Risk neutral probability under money market numeraire,\n",
      " Q2 = 0.6554217416103069\n",
      "BS call price:  13.269676584662555\n"
     ]
    }
   ],
   "source": [
    "e_ret_1 = np.log(S0) + ( r + 0.5 * sig**2 ) * T  # expected return of the log-price under the new measure\n",
    "\n",
    "Q1 = quad(lambda S: ss.lognorm.pdf(S, vol, scale=np.exp(e_ret_1)), K, np.inf )[0]\n",
    "print(\"Risk neutral probability under stock numeraire,\\n Q1 =\", Q1)\n",
    "Q2 = quad(lambda S: ss.lognorm.pdf(S, vol, scale=np.exp(e_ret)), K, np.inf )[0]\n",
    "print(\"Risk neutral probability under money market numeraire,\\n Q2 =\", Q2)\n",
    "\n",
    "print(\"BS call price: \", S0 * Q1 - K* np.exp(-r*T) *Q2  )"
   ]
  },
  {
   "cell_type": "markdown",
   "metadata": {},
   "source": [
    "It is quite common to compute the Black-Scholes formula using $N(d_1)$ and $N(d_2)$.   \n",
    "The reason is that the cumulative function of the standard Normal distribution is more accessible (I guess). In the `BS_pricer` class I used the function `scipy.stats.norm.cdf`.     \n",
    "\n",
    "For completeness, let me recall that if $X_T$ is a Normal random variable, then $S_T = S_0 e^{X_T}$ is Log-Normal. Therefore we have:\n",
    "\n",
    "$$ \\mathbb{Q}( S_T > K ) = \\mathbb{Q}\\biggl( S_0 e^{X_T} > K \\biggr) = \\mathbb{Q}\\biggl( X_T > \\log \\frac{K}{S_0} \\biggr). $$\n",
    "\n",
    "This permits to use the Normal cumulative function."
   ]
  },
  {
   "cell_type": "markdown",
   "metadata": {},
   "source": [
    "<a id='sec3'></a>\n",
    "## Monte Carlo method\n",
    "\n",
    "I'm going to simulate the random variables: \n",
    "\n",
    "$$ S_T^i = S_0 e^{(r -\\frac{1}{2}\\sigma^2)T + \\sigma W_{T}^i} $$\n",
    "\n",
    "for $1 \\leq i \\leq N$.    \n",
    "Then use the approximation for a call option:\n",
    "\n",
    "$$ \\mathbb{E}^{\\mathbb{Q}}\\biggl[ (S_T - K)^+ \\bigg| S_0 \\biggr] \\; \n",
    "\\approx \\; \\frac{1}{N} \\sum_{i=1}^N (S_T^i - K)^+\n",
    "$$\n",
    "\n",
    "For a put option I use this payoff $(K - S_T )^+$ inside the expectation."
   ]
  },
  {
   "cell_type": "code",
   "execution_count": 17,
   "metadata": {},
   "outputs": [
    {
     "name": "stderr",
     "output_type": "stream",
     "text": [
      "E:\\WPy64-3760\\python-3.7.6.amd64\\lib\\site-packages\\ipykernel_launcher.py:7: DeprecationWarning: scipy.mean is deprecated and will be removed in SciPy 2.0.0, use numpy.mean instead\n",
      "  import sys\n",
      "E:\\WPy64-3760\\python-3.7.6.amd64\\lib\\site-packages\\ipykernel_launcher.py:8: DeprecationWarning: scipy.mean is deprecated and will be removed in SciPy 2.0.0, use numpy.mean instead\n",
      "  \n"
     ]
    }
   ],
   "source": [
    "np.random.seed(seed=44)  # seed for random number generation\n",
    "N = 10000000  # Number of random variables\n",
    "\n",
    "W = ss.norm.rvs( (r-0.5*sig**2)*T , np.sqrt(T)*sig, N)\n",
    "S_T = S0 * np.exp(W)\n",
    "\n",
    "call = scp.mean( np.exp(-r*T) * np.maximum(S_T-K,0) )\n",
    "put = scp.mean( np.exp(-r*T) * np.maximum(K-S_T,0) )\n",
    "call_err = ss.sem( np.exp(-r*T) * np.maximum(S_T-K,0) )  # standard error\n",
    "put_err = ss.sem( np.exp(-r*T) * np.maximum(K-S_T,0) )   # standard error"
   ]
  },
  {
   "cell_type": "code",
   "execution_count": 18,
   "metadata": {},
   "outputs": [
    {
     "name": "stdout",
     "output_type": "stream",
     "text": [
      "Call price: 13.26333800663666, with error: 0.005093638687208466\n",
      "Put price: 3.7553894006350084, with error: 0.002214066662789331\n"
     ]
    }
   ],
   "source": [
    "print(\"Call price: {}, with error: {}\".format(call, call_err))\n",
    "print(\"Put price: {}, with error: {}\".format(put, put_err))"
   ]
  },
  {
   "cell_type": "markdown",
   "metadata": {},
   "source": [
    "### BS_pricer\n",
    "\n",
    "In the next notebooks I will present better the class `BS_pricer`. But now let's have a look at the prices obtained by different pricing methods:"
   ]
  },
  {
   "cell_type": "code",
   "execution_count": 20,
   "metadata": {},
   "outputs": [],
   "source": [
    "# Creates the object with the parameters of the option\n",
    "opt_param = Option_param(S0=100, K=100, T=1, exercise=\"European\", payoff=\"call\" )\n",
    "# Creates the object with the parameters of the process\n",
    "diff_param = Diffusion_process(r=0.1, sig=0.2)\n",
    "# Creates the pricer object\n",
    "BS = BS_pricer(opt_param, diff_param)"
   ]
  },
  {
   "cell_type": "code",
   "execution_count": 21,
   "metadata": {},
   "outputs": [
    {
     "data": {
      "text/plain": [
       "13.269676584660893"
      ]
     },
     "execution_count": 21,
     "metadata": {},
     "output_type": "execute_result"
    }
   ],
   "source": [
    "BS.closed_formula()"
   ]
  },
  {
   "cell_type": "code",
   "execution_count": 22,
   "metadata": {},
   "outputs": [
    {
     "data": {
      "text/plain": [
       "13.26967658466063"
      ]
     },
     "execution_count": 22,
     "metadata": {},
     "output_type": "execute_result"
    }
   ],
   "source": [
    "BS.Fourier_inversion()"
   ]
  },
  {
   "cell_type": "code",
   "execution_count": 23,
   "metadata": {},
   "outputs": [
    {
     "data": {
      "text/plain": [
       "(13.267535105460487, 0.002940847167898856, 4.998799085617065)"
      ]
     },
     "execution_count": 23,
     "metadata": {},
     "output_type": "execute_result"
    }
   ],
   "source": [
    "BS.MC(N=30000000, Err=True, Time=True)  # output is: price, standard error and execution time "
   ]
  },
  {
   "cell_type": "code",
   "execution_count": 24,
   "metadata": {},
   "outputs": [
    {
     "data": {
      "image/png": "[encoded data removed]",
      "text/plain": [
       "<Figure size 432x288 with 1 Axes>"
      ]
     },
     "metadata": {
      "needs_background": "light"
     },
     "output_type": "display_data"
    }
   ],
   "source": [
    "BS.mesh_plt()   # PDE method"
   ]
  },
  {
   "cell_type": "markdown",
   "metadata": {},
   "source": [
    "The PDE approach is the topic of the notebook **2.1**."
   ]
  },
  {
   "cell_type": "markdown",
   "metadata": {},
   "source": [
    "<a id='sec4'></a>\n",
    "## Binomial tree\n",
    "\n",
    "\n",
    "Of course I cannot forget about the Binomial model!\n",
    "This is a simple but very powerful numerical method!\n",
    "\n",
    "I expect you to be familiar with this model. If not, have a look at the [wiki page](https://en.wikipedia.org/wiki/Binomial_options_pricing_model). \n",
    "Although I said I expect you to know the model, I'm not expecting that you have already implemented it!     \n",
    "Therefore, here I present an efficient implementation:"
   ]
  },
  {
   "cell_type": "code",
   "execution_count": 27,
   "metadata": {},
   "outputs": [
    {
     "name": "stdout",
     "output_type": "stream",
     "text": [
      "BS Tree Price:  13.269537371978052\n"
     ]
    }
   ],
   "source": [
    "N = 15000              # number of periods or number of time steps  \n",
    "payoff = \"call\"        # payoff \n",
    "\n",
    "dT = float(T) / N                             # Delta t\n",
    "u = np.exp(sig * np.sqrt(dT))                 # up factor\n",
    "d = 1.0 / u                                   # down factor \n",
    "\n",
    "V = np.zeros(N+1)                             # initialize the price vector\n",
    "S_T = np.array( [(S0 * u**j * d**(N - j)) for j in range(N + 1)] )  # price S_T at time T\n",
    "\n",
    "a = np.exp(r * dT)    # risk free compounded return\n",
    "p = (a - d)/ (u - d)  # risk neutral up probability\n",
    "q = 1.0 - p           # risk neutral down probability   \n",
    "\n",
    "if payoff ==\"call\":\n",
    "    V[:] = np.maximum(S_T-K, 0.0)\n",
    "else:\n",
    "    V[:] = np.maximum(K-S_T, 0.0)\n",
    "\n",
    "for i in range(N-1, -1, -1):\n",
    "    V[:-1] = np.exp(-r*dT) * (p * V[1:] + q * V[:-1])    # the price vector is overwritten at each step\n",
    "        \n",
    "print(\"BS Tree Price: \", V[0])"
   ]
  },
  {
   "cell_type": "markdown",
   "metadata": {},
   "source": [
    "<a id='sec5'></a>\n",
    "## Limits of the model"
   ]
  },
  {
   "cell_type": "code",
   "execution_count": 26,
   "metadata": {},
   "outputs": [
    {
     "data": {
      "image/png": "[encoded data removed]",
      "text/plain": [
       "<Figure size 432x288 with 1 Axes>"
      ]
     },
     "metadata": {
      "needs_background": "light"
     },
     "output_type": "display_data"
    }
   ],
   "source": [
    "BS_sigma = partial(BS_pricer.BlackScholes, \"call\", S0, K, T, r) # binding the function \n",
    "sigmas = np.linspace(0.01, 10, 1000)\n",
    "\n",
    "plt.plot(sigmas, BS_sigma(sigmas))\n",
    "plt.xlabel(\"sig\"); plt.ylabel(\"price\"); plt.title(\"Black-Scholes price as function of volatility\")\n",
    "plt.show()"
   ]
  },
  {
   "cell_type": "markdown",
   "metadata": {},
   "source": [
    "The BS formula is an increasing function of the volatility.    \n",
    "However, for higher volatilities, the graph becomes almost flat!!\n",
    "\n",
    "We can conclude that the model is reliable for volatilities in the range $0 - 400\\%$.\n"
   ]
  }
 ],
 "metadata": {
  "kernelspec": {
   "display_name": "Python 3",
   "language": "python",
   "name": "python3"
  },
  "language_info": {
   "codemirror_mode": {
    "name": "ipython",
    "version": 3
   },
   "file_extension": ".py",
   "mimetype": "text/x-python",
   "name": "python",
   "nbconvert_exporter": "python",
   "pygments_lexer": "ipython3",
   "version": "3.7.6"
  }
 },
 "nbformat": 4,
 "nbformat_minor": 2
}
