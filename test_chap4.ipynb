{
 "cells": [
  {
   "cell_type": "markdown",
   "metadata": {},
   "source": [
    "$\\Omega$ = {$\\overline{x}$ ∈ $R^n$ | $c_i(\\overline{x})$ = 0 , i ∈ E and $c_i(\\overline{x}) \\le 0$ , i ∈ I }"
   ]
  },
  {
   "cell_type": "markdown",
   "metadata": {},
   "source": [
    "by 𝒜$(x^*)$ = "
   ]
  },
  {
   "cell_type": "code",
   "execution_count": null,
   "metadata": {},
   "outputs": [],
   "source": []
  }
 ],
 "metadata": {
  "kernelspec": {
   "display_name": "Python 3",
   "language": "python",
   "name": "python3"
  },
  "language_info": {
   "codemirror_mode": {
    "name": "ipython",
    "version": 3
   },
   "file_extension": ".py",
   "mimetype": "text/x-python",
   "name": "python",
   "nbconvert_exporter": "python",
   "pygments_lexer": "ipython3",
   "version": "3.7.6"
  }
 },
 "nbformat": 4,
 "nbformat_minor": 2
}
