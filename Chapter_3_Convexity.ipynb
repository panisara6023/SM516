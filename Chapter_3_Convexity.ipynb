{
 "cells": [
  {
   "cell_type": "markdown",
   "metadata": {},
   "source": [
    "# Chapter 3 : Convexity"
   ]
  },
  {
   "cell_type": "markdown",
   "metadata": {},
   "source": [
    "- ทฤษฎีของ $Convex$ $Set$ และ $Convex$ $Function$ จะให้เงื่อนไขผิวสัมผัส (Sufficient Condition) เพียงพอสำหรับมี Local Minimizer to be Global Minimizer \n",
    "- $Convexity$ จะเป็นคุณสมบัติพื้นฐานของปัญหา Minimization Problems ซึ่งเป็นสิ่งสำคัญที่นำไปสู่ Powerful Resault มากมายหรือเป็นการลดวิธีการแก้ปัญหหาให้ง่ายขึ้น\n",
    "    "
   ]
  },
  {
   "cell_type": "markdown",
   "metadata": {},
   "source": [
    "## 1.Convex  Sets"
   ]
  },
  {
   "cell_type": "markdown",
   "metadata": {},
   "source": [
    "Definition : คือ Set ของ $\\Omega$ ที่อยู่ใน $R^n$ ซึ่งจะเป็น $Convex$ ก็ต่อเมื่อ"
   ]
  },
  {
   "cell_type": "markdown",
   "metadata": {},
   "source": [
    "$\\Large{\\bar{X}(\\theta) = \\theta\\bar{Y} + (1-\\theta)\\bar{Z}  \\in \\Omega , \\forall \\bar{Y} , \\bar{Z} \\in \\Omega}$"
   ]
  },
  {
   "cell_type": "markdown",
   "metadata": {},
   "source": [
    "The Convex Set Include:\n",
    "- a) The emple set : เซตว่าง ( $\\large\\phi$ ) \n",
    "- b) เซตที่ประกอบด้วยจุด 1 จุด\n",
    "- c) เส้นหรือเส้นเชื่อม (line segment) ระหว่างจุด\n",
    "- d) Subspace\n",
    "- e) Hyperplane : $\\large{H_{0}} $= {$ \\bar{x} \\in R^n \\mid \\bar{a}^T\\bar{x} \\pm \\beta $}$= 0 $\n",
    "\n",
    "*เมื่อ คือ Vector ของ จำนวนจริง และ คือ ค่าคงที่ (ตัวเลข) [Scalar]"
   ]
  },
  {
   "cell_type": "markdown",
   "metadata": {},
   "source": [
    "### #Property of Convex Set# ###"
   ]
  },
  {
   "cell_type": "markdown",
   "metadata": {},
   "source": [
    "   - ให้ $\\Omega_{1}$ และ $\\Omega_{2}$ เป็น $Convex$ $Set$ ดังนั้น"
   ]
  },
  {
   "cell_type": "markdown",
   "metadata": {},
   "source": [
    "1.) $\\large\\Omega_1 \\cap \\Omega_2$ จะเป็น $Convex$ $Set$"
   ]
  },
  {
   "cell_type": "markdown",
   "metadata": {},
   "source": [
    "2.) $\\large\\Omega_1 + \\Omega_2$  จะเป็น $Convex$ $Set$"
   ]
  },
  {
   "cell_type": "markdown",
   "metadata": {},
   "source": [
    "3.) $\\large\\Omega_1 \\cup \\Omega_2$  จะไม่เป็น $Convex$ $Set$"
   ]
  },
  {
   "cell_type": "markdown",
   "metadata": {},
   "source": [
    "### #Definition Extreme Point# ###"
   ]
  },
  {
   "cell_type": "markdown",
   "metadata": {},
   "source": [
    "   - ถ้าให้ $\\large\\Omega$ เป็น $Convex$ $Set$ แล้วจุด $\\large\\bar{x} \\in \\Omega$ จะเป็นจุด Extreme Points ของ $\\large\\Omega$ ถ้า $\\large\\bar{y},\\bar{z} \\in \\Omega$ , $\\large\\theta = [0 , 1]$ และ"
   ]
  },
  {
   "cell_type": "markdown",
   "metadata": {},
   "source": [
    "$\\Large\\bar{x}(\\theta) = \\theta\\bar{y} + (1- \\theta\\bar{z})$   แล้ว   $\\Large\\bar{x} = \\bar{y} = \\bar{z}$"
   ]
  },
  {
   "cell_type": "markdown",
   "metadata": {},
   "source": [
    "- ถ้าลากเส้นเชื่อม (Line Segment) แล้วได้จุดเดียวกัน หรือ ไม่สามารถลากเส้นเชื่อมได้ แล้ว จะเรียกจุดนั้นว่า Extreme Point"
   ]
  },
  {
   "cell_type": "markdown",
   "metadata": {},
   "source": [
    "- $\\large\\bar{x}$ จะเป็น Extreme Points ของ $\\large\\Omega$ ถ้าไม่มีความแตกต่างของทั้ง 2 จุด $\\large\\bar{y}$ และ $\\large\\bar{z}$ ที่อยู่ใน $\\large\\Omega$ ซึ่ง $\\large\\bar{x}$ เป็นเส้นที่อยู่ในบริเวณของเส้นเชื่อม (Line Segment) ที่เชื่อมจุด $\\large\\bar{y}$ และ $\\large\\bar{z}$ "
   ]
  },
  {
   "cell_type": "markdown",
   "metadata": {},
   "source": [
    "## 2.Convex Function"
   ]
  },
  {
   "cell_type": "markdown",
   "metadata": {},
   "source": [
    "- ถ้าเราเอาจุด $\\Omega$ แทนลงไปใน Function แล้วเราก็จะได้ค่าจำนวนจริงออกมา $ f : \\Omega \\rightarrow R$  ซึ่ง  $\\Omega$  คือ $Convex$ $Set$ แล้ว ${f}$ จะเป็น $Convex$ $Function$ ก็ต่อเมื่อ"
   ]
  },
  {
   "cell_type": "markdown",
   "metadata": {},
   "source": [
    "$ \\Large f( \\theta \\bar{y} + (1- \\theta)\\bar{z} )  \\leq  \\theta f(\\bar{y}) + (1- \\theta) f(\\bar{z}) $  ,  $\\Large \\forall \\bar{y} , \\bar{z} \\in \\Omega$ และ $\\Large\\theta \\in [0 , 1]$"
   ]
  },
  {
   "cell_type": "markdown",
   "metadata": {},
   "source": [
    "- สำหรับ $Convex$ $Function$ ${f}$ ค่าของฟังก์ชัน ${f}$ ที่จุดบนเส้นเชื่อม (Line Segment) $\\alpha\\bar{y} + (1 - \\alpha)\\bar{z}$ จะต้องน้อยกว่า หรือ เท่ากับ ความสูงของเส้น Chord ที่เชื่อมระหว่างจุด $ (\\bar{y} , f(\\bar{y}))$"
   ]
  },
  {
   "cell_type": "markdown",
   "metadata": {},
   "source": [
    "$\\Large {NOTE}$"
   ]
  },
  {
   "cell_type": "markdown",
   "metadata": {},
   "source": [
    "- $\\large f(\\theta\\bar{y} + (1 - \\theta)\\bar{z})$  :  คือการเอาทั้งเส้นเชื่อม (Line Segment) ของจุด $\\bar{y}$ และ $\\bar{z}$ แทนเข้าไปใน Function ทั้ง Function แล้วจะได้ค่า Function ออกมาเป็นเส้นโค้ง เพราะค่าของ Function จะเท่ากับความสูง"
   ]
  },
  {
   "cell_type": "markdown",
   "metadata": {},
   "source": [
    "- $\\large\\theta f(\\bar{y}) + (1 - \\theta)f(\\bar{z})$  : คือเส้นเชื่อมของค่า Function ที่นำค่า $\\large\\bar{y}$ และ $\\large\\bar{z}$ ไปแทนใน Function แล้วลากเส้นเชื่อม แล้วจะได้เส้นตรงที่อยู่เหนือ $\\large f(\\theta\\bar{y} + (1 - \\theta)\\bar{z}$"
   ]
  },
  {
   "cell_type": "markdown",
   "metadata": {},
   "source": [
    "- สำหรับ Convex Function f ค่าของฟังก์ชัน f ที่จุดบนเส้นเชื่อม(Line Segment) $\\large\\alpha\\bar{y} + (1 - \\alpha)\\bar{z}$ จะต้องน้อยกว่าหรือเท่ากับความสูงของเส้น Chord ที่เชื่อมระหว่างจุด $ (\\bar{y} , f(\\bar{y}))$ และ $ (\\bar{z} , f(\\bar{z}))$"
   ]
  },
  {
   "cell_type": "markdown",
   "metadata": {},
   "source": [
    "$\\Large {Example}$"
   ]
  },
  {
   "cell_type": "markdown",
   "metadata": {},
   "source": [
    "- a) $ f(\\bar{x}) = 3x+4 , \\bar{x} \\in R $  จะเป็น $Convex$ $Function$\n",
    "- b) $f(\\bar{x}) = |x| , \\bar{x} \\in R $   จะเป็น $Convex$ $Function$\n",
    "- c) $ f(\\bar{x}) = x^3 , \\bar{x} \\in R $   จะเป็น $Convex$ $Function$ บนช่วง $[0 , \\infty]$\n",
    "- d) $ f(\\bar{x}) = x^2 - 2x , \\bar{x} \\in R $   จะเป็น $Convex$ $Function$"
   ]
  },
  {
   "cell_type": "markdown",
   "metadata": {},
   "source": [
    "### #Classificatio Convex Function :"
   ]
  },
  {
   "cell_type": "markdown",
   "metadata": {},
   "source": [
    "ถ้า  $\\Omega$ เป็น $Convex$ $Set$ และ $\\large\\bar{x}(\\alpha) = \\alpha\\bar{y} + (1- \\alpha)\\bar{z}$ แล้ว $\\large{f}$ นิยามบน  $\\Omega$"
   ]
  },
  {
   "cell_type": "markdown",
   "metadata": {},
   "source": [
    "1. $Convex$ ก็ต่อเมื่อ :"
   ]
  },
  {
   "cell_type": "markdown",
   "metadata": {},
   "source": [
    "- $\\large \\forall \\bar{y} , \\bar{z} \\in \\Omega$ และ $\\large f(\\bar{x}(\\alpha))  \\leq  \\alpha f(\\bar{y}) + (1-\\alpha) f(\\bar{z})$"
   ]
  },
  {
   "cell_type": "markdown",
   "metadata": {},
   "source": [
    "2. $Strictly$ $Convex$ ก็ต่อเมื่อ :"
   ]
  },
  {
   "cell_type": "markdown",
   "metadata": {},
   "source": [
    "- $\\large \\forall \\bar{y}\\neq\\bar{z} \\in \\Omega$ และ $\\large f(\\bar{x}(\\alpha))  <  \\alpha f(\\bar{y}) + (1-\\alpha) f(\\bar{z})$"
   ]
  },
  {
   "cell_type": "markdown",
   "metadata": {},
   "source": [
    "3. $Concave$ ก็ต่อเมื่อ :"
   ]
  },
  {
   "cell_type": "markdown",
   "metadata": {},
   "source": [
    "- $\\large \\forall \\bar{y} , \\bar{z} \\in \\Omega$ และ $\\large f(\\bar{x}(\\alpha))  \\geq  \\alpha f(\\bar{y}) + (1-\\alpha) f(\\bar{z})$"
   ]
  },
  {
   "cell_type": "markdown",
   "metadata": {},
   "source": [
    "4. $Strictly$ $Concave$ ก็ต่อเมื่อ :"
   ]
  },
  {
   "cell_type": "markdown",
   "metadata": {},
   "source": [
    "- $\\large \\forall \\bar{y} \\neq \\bar{z} \\in \\Omega$ และ $\\large f(\\bar{x}(\\alpha))  >  \\alpha f(\\bar{y}) + (1-\\alpha) f(\\bar{z})$"
   ]
  },
  {
   "cell_type": "markdown",
   "metadata": {},
   "source": [
    "$\\Large {Example}$ "
   ]
  },
  {
   "cell_type": "markdown",
   "metadata": {},
   "source": [
    "จงแสดงว่า  $ f(\\bar{x}) = 3x+4 , \\bar{x} \\in R $ เป็นทั้ง convex และ concave function โดยให้ $\\bar{y},\\bar{x} \\in \\Omega$ และ $\\bar{y}=1,\\bar{z}=2$ สำหรับ $\\alpha \\in [0 , 1]$"
   ]
  },
  {
   "cell_type": "markdown",
   "metadata": {},
   "source": [
    "$\\Large {Sol}$ "
   ]
  },
  {
   "cell_type": "markdown",
   "metadata": {},
   "source": [
    "#### #หาค่าฟังก์ชันของเส้นเชื่อมระหว่างจุด (Line Segment) ของ $\\large\\bar{y}$ , $\\large\\bar{z}$# ####"
   ]
  },
  {
   "cell_type": "markdown",
   "metadata": {},
   "source": [
    "จาก $ f(\\bar{x}(\\alpha)) = f(\\alpha\\bar{y} + (1 - \\alpha)\\bar{z})$"
   ]
  },
  {
   "cell_type": "markdown",
   "metadata": {},
   "source": [
    "แทนค่า ; $ f(\\bar{x}(\\alpha)) = f(\\alpha(1) + (1 - \\alpha)(2)) = f(2 - \\alpha)$"
   ]
  },
  {
   "cell_type": "markdown",
   "metadata": {},
   "source": [
    "จะได้ ; $f(2 - \\alpha) = f(\\bar{x}) = 10 - 3\\alpha$"
   ]
  },
  {
   "cell_type": "markdown",
   "metadata": {},
   "source": [
    "#### #หาค่าของเส้นเชื่อมระหว่างค่า $\\large f(\\bar{y})$ $\\large {,}$ $\\large f(\\bar{z})$# ####"
   ]
  },
  {
   "cell_type": "markdown",
   "metadata": {},
   "source": [
    "จะได้ $\\alpha f(\\bar{y}) + (1 - \\alpha))f(\\bar{z}) = \\alpha f(1) + (1 - \\alpha)f(2)$"
   ]
  },
  {
   "cell_type": "markdown",
   "metadata": {},
   "source": [
    "แทนค่า ; $f(\\bar{x}(\\alpha)) = f(\\alpha(1) + (1 - \\alpha)(2))$"
   ]
  },
  {
   "cell_type": "markdown",
   "metadata": {},
   "source": [
    "ดังนั้น ; $\\alpha f(\\bar{y}) + (1 - \\alpha))f(\\bar{z}) = 10 - 3\\alpha$"
   ]
  },
  {
   "cell_type": "markdown",
   "metadata": {},
   "source": [
    "#### #สรุปผล# ####"
   ]
  },
  {
   "cell_type": "markdown",
   "metadata": {},
   "source": [
    "เนื่องจาก $ f(\\bar{x}(\\alpha))  =  \\alpha f(\\bar{y}) + (1-\\alpha) f(\\bar{z})$ ดังนั้น  $ f(\\bar{x}) = 3x+4$ เป็นได้ทั้ง convex และ concave function"
   ]
  },
  {
   "cell_type": "markdown",
   "metadata": {},
   "source": [
    "$\\Large {Example}$ "
   ]
  },
  {
   "cell_type": "markdown",
   "metadata": {},
   "source": [
    "จงแสดงว่า  $ f(\\bar{x}) =x_1 x_2  , \\bar{x} \\in R $ เป็นทั้ง convex และ concave function เมื่อ $\\Omega = ${$\\bar{x}\\in R^2 | x_1\\geq 0 , x_2 \\geq 0$} และ $\\bar{y}=\\left[\n",
    "\\begin{array}{rrr}\n",
    "1  \\\\\n",
    "2 \\\\\n",
    "\\end{array}\n",
    "\\right] , {z}=\\left[\n",
    "\\begin{array}{rrr}\n",
    "2  \\\\\n",
    "1 \\\\\n",
    "\\end{array}\n",
    "\\right]$  $\\alpha \\in \\Omega$"
   ]
  },
  {
   "cell_type": "markdown",
   "metadata": {},
   "source": [
    "$\\large {Sol}$ "
   ]
  },
  {
   "cell_type": "markdown",
   "metadata": {},
   "source": [
    "#### #หาค่า function ของเส้นเชื่อมระหว่างจุด(Line Seqment) ของ  $\\bar{y},\\bar{x}$# ####"
   ]
  },
  {
   "cell_type": "markdown",
   "metadata": {},
   "source": [
    "   จาก $\\bar{x}(\\alpha) = \\alpha\\bar{y} + (1 - \\alpha)\\bar{z}$"
   ]
  },
  {
   "cell_type": "markdown",
   "metadata": {},
   "source": [
    "แทนค่า ; $\\bar{x}(\\alpha) = \\alpha\\left[\n",
    "\\begin{array}{rrr}\n",
    "1  \\\\\n",
    "2 \\\\\n",
    "\\end{array}\n",
    "\\right]  +\n",
    "(1 - \\alpha)\\left[\n",
    "\\begin{array}{rrr}\n",
    "2  \\\\\n",
    "1 \\\\\n",
    "\\end{array}\n",
    "\\right] $"
   ]
  },
  {
   "cell_type": "markdown",
   "metadata": {},
   "source": [
    "จะได้    $\\bar{x}(\\alpha) = \\left[\n",
    "\\begin{array}{rrr}\n",
    "2 - \\alpha  \\\\\n",
    "1 + \\alpha \\\\\n",
    "\\end{array}\n",
    "\\right] $"
   ]
  },
  {
   "cell_type": "markdown",
   "metadata": {},
   "source": [
    "#### #หาค่าเส้นเชื่อมระหว่างจุด(Line Seqment) ของ  $f(\\bar{y})$ และ $f(\\bar{x})$# ####"
   ]
  },
  {
   "cell_type": "markdown",
   "metadata": {},
   "source": [
    "จาก $ f(\\bar{x}(\\alpha)) = f(\\alpha\\bar{y} + (1-\\alpha)\\bar{z})$"
   ]
  },
  {
   "cell_type": "markdown",
   "metadata": {},
   "source": [
    "แทนค่า ; $ f(\\bar{x}(\\alpha)) = f\\left[\n",
    "\\begin{array}{rrr}\n",
    "2 - \\alpha  \\\\\n",
    "1 + \\alpha \\\\\n",
    "\\end{array}\n",
    "\\right] $"
   ]
  },
  {
   "cell_type": "markdown",
   "metadata": {},
   "source": [
    "จะได้ $ f(\\bar{x}(\\alpha)) = 2 + \\alpha - \\alpha^2$   $, \\alpha \\in [0 , 1]$"
   ]
  },
  {
   "cell_type": "markdown",
   "metadata": {},
   "source": [
    "#### #สมมติให้ $\\large\\alpha = \\frac{1}{2}$# ####"
   ]
  },
  {
   "cell_type": "markdown",
   "metadata": {},
   "source": [
    "จะได้ $ f(\\bar{x}(\\alpha)) = 2 + \\frac{1}{2} - (\\frac{1}{2})^2 = \\frac{9}{2} = 4.5$"
   ]
  },
  {
   "cell_type": "markdown",
   "metadata": {},
   "source": [
    "#### #หาค่าเส้น Chord ที่เชื่อมระหว่าง $f(\\bar{y})$ กับ $f(\\bar{z})$# ####"
   ]
  },
  {
   "cell_type": "markdown",
   "metadata": {},
   "source": [
    "จะได้ $\\alpha f(\\bar{y}) + (1 - \\alpha)f(\\bar{z}) = \\alpha f\\left[\n",
    "\\begin{array}{rrr}\n",
    "1  \\\\\n",
    "2 \\\\\n",
    "\\end{array}\n",
    "\\right] +\n",
    "(1 - \\alpha) f\\left[\n",
    "\\begin{array}{rrr}\n",
    "2  \\\\\n",
    "1  \\\\\n",
    "\\end{array}\n",
    "\\right] $"
   ]
  },
  {
   "cell_type": "markdown",
   "metadata": {},
   "source": [
    "ดังนั้น $\\alpha f(\\bar{y}) + (1 - \\alpha)f(\\bar{z}) = 2\\alpha + 2 - 2\\alpha = 2$ $\\large {,}$ $\\large\\alpha\\in [0 , 1]$"
   ]
  },
  {
   "cell_type": "markdown",
   "metadata": {},
   "source": [
    "เนื่องจาก $ f(\\bar{x}(\\alpha))  =  \\alpha f(\\bar{y}) + (1-\\alpha) f(\\bar{z})$ ดังนั้น  $ f(\\bar{x}) = 3x+4$ เป็นได้ทั้ง convex และ concave function"
   ]
  },
  {
   "cell_type": "markdown",
   "metadata": {},
   "source": [
    "$\\Large {Example}$ "
   ]
  },
  {
   "cell_type": "markdown",
   "metadata": {},
   "source": [
    "a) ถ้าเรามีฟังก์ชัน 2 ฟังก์ชัน $ f_i : \\Omega \\rightarrow R$ สำหรับ $ i = 1,2$ ซึ่งเป็น Convex Function ทั้งคู่ แล้ว"
   ]
  },
  {
   "cell_type": "markdown",
   "metadata": {},
   "source": [
    "   - $\\large f(\\bar{x}) = max{f_1(\\bar{x}) , f_2(\\bar{x})}$ ก็จะเป็น \" Convex Function \" บน $\\Omega$ ด้วย "
   ]
  },
  {
   "cell_type": "markdown",
   "metadata": {},
   "source": [
    "b) ถ้าเรามีฟังก์ชัน 2 ฟังก์ชัน $ f_i : \\Omega \\rightarrow R$ สำหรับ $i = 1,2$ ซึ่งเป็น Convex Function ทั้งคู่ แล้ว"
   ]
  },
  {
   "cell_type": "markdown",
   "metadata": {},
   "source": [
    "   - $\\large f(\\bar{x}) = min{f_1(\\bar{x}) , f_2(\\bar{x})}$ ${Function}$ ใหม่ของค่า ${min}$ ของทั้งสอง Function จะ \" ไม่ใช่ Convex Function \" บน $\\Omega$ "
   ]
  },
  {
   "cell_type": "markdown",
   "metadata": {},
   "source": [
    "$\\Large {Remark!}$"
   ]
  },
  {
   "cell_type": "markdown",
   "metadata": {},
   "source": [
    "1. ${Function (f)}$ จะเป็น $ (Strictly)$ $Concave$ ก็ต่อเมื่อ $ -f(\\bar{x})$ เป็น $(Strictly)$  $Concave$"
   ]
  },
  {
   "cell_type": "markdown",
   "metadata": {},
   "source": [
    "2. Affine Function ใดๆในรูป จะเป็นทั้ง $Convex$ และ $Concave$ $Function$ เพราะ Affine คือ Linear Function ที่มี $n$ ตัวแปร"
   ]
  },
  {
   "cell_type": "markdown",
   "metadata": {},
   "source": [
    "3. $Norm$ บน $ R^n$ หรือเขียนในรูป $||\\bar{x}||$ จะเป็น $Convex$ $ Function$"
   ]
  },
  {
   "cell_type": "markdown",
   "metadata": {},
   "source": [
    "### #Convex Function Properties :"
   ]
  },
  {
   "cell_type": "markdown",
   "metadata": {},
   "source": [
    "   - ถ้า $ f_{1},f_{2}$ เป็น $Convex$ $ Function$ แล้ว"
   ]
  },
  {
   "cell_type": "markdown",
   "metadata": {},
   "source": [
    "1. $ f_{1}+f_{2}$ จะเป็น $Convex$ $Function$ ด้วย"
   ]
  },
  {
   "cell_type": "markdown",
   "metadata": {},
   "source": [
    "2. $\\theta f_{1} + \\beta f_{2}$ จะเป็น $ Convex$ $Function$ สำหรับ $ \\theta,\\beta $"
   ]
  },
  {
   "cell_type": "markdown",
   "metadata": {},
   "source": [
    "### #Convexity and First Derivative :"
   ]
  },
  {
   "cell_type": "markdown",
   "metadata": {},
   "source": [
    "- Theorem : ถ้า  $f : \\Omega \\rightarrow R$ และฟังก์ชัน $f$ นั้นมีอนุพันธ์อันดับที่ 1 ที่ต่อเนื่องโดยมี $\\Omega$ อยู่ใน $R^n$ หรือ  $ f$   $C'[\\Omega \\in R]$ แล้ว $ f$ จะเป็น $ Convex$ บน $\\Omega$ ก็ต่อเมื่อ"
   ]
  },
  {
   "cell_type": "markdown",
   "metadata": {},
   "source": [
    "$\\Large f(\\bar{y}) \\geq f(\\bar{x}) + (\\bar{y} - \\bar{x})^T \\nabla f(\\bar{x})$   $\\Large ;$   $\\Large\\forall \\bar{x} , \\bar{y} \\in \\Omega$"
   ]
  },
  {
   "cell_type": "markdown",
   "metadata": {},
   "source": [
    "### #Convexity and Second Derivative :"
   ]
  },
  {
   "cell_type": "markdown",
   "metadata": {},
   "source": [
    "- Theorem : ถ้า  $\\Omega \\rightarrow R^n$ เป็น $Convex$ $Set$ และ $ f \\in C^2(\\Omega \\in R^n)$ แล้ว\n",
    " 1. ถ้า $Hessian$ ของฟังก์ชัน มีคุณสมบัติเป็น \"Positive\" , $\\forall \\bar{x}\\in\\Omega$ แล้ว $f$ จะเป็น $Strictly$ $Convex$ บน $\\Omega$\n",
    " 2. ถ้า $ Hessian$ ของฟังก์ชัน มีคุณสมบัติเป็น \"Positive - Semidefinite\" , $\\forall \\bar{x}\\in\\Omega$ แล้ว $ f$ จะเป็น $Convex$ บน $\\Omega$ "
   ]
  },
  {
   "cell_type": "markdown",
   "metadata": {},
   "source": [
    "$\\Large {NOTE}$"
   ]
  },
  {
   "cell_type": "markdown",
   "metadata": {},
   "source": [
    "- ถ้า $Hessian$ ของฟังก์ชัน มีคุณสมบัติเป็น \"Negative definite\" แล้ว $f$ จะเป็น $Strictly$ $Concave$ บน $\\Omega$\n",
    "- ถ้า $ Hessian$ ของฟังก์ชัน มีคุณสมบัติเป็น \"Negative - Semidefinite\" แล้ว $f$ จะเป็น  $Concave$  บน $\\Omega$"
   ]
  },
  {
   "cell_type": "markdown",
   "metadata": {},
   "source": [
    "$\\Large {Example}$ "
   ]
  },
  {
   "cell_type": "markdown",
   "metadata": {},
   "source": [
    "- a.) $ f(\\bar{x}) = x^4 , \\Omega \\in R $\n",
    "- b.) $f(\\bar{x}) = 8x^4-9x+8 , \\bar{x} \\in R $\n",
    "- จงทดสอบว่า a.) , b.) มีคุณสมบัติ Convexity เป็นยังไง"
   ]
  },
  {
   "cell_type": "markdown",
   "metadata": {},
   "source": [
    "$\\large{Sol}$ "
   ]
  },
  {
   "cell_type": "markdown",
   "metadata": {},
   "source": [
    "( a.) $f(\\bar{x}) = x^4 , \\Omega \\in R $"
   ]
  },
  {
   "cell_type": "markdown",
   "metadata": {},
   "source": [
    "#### #หาอนุพันธ์อันดับที่ 1 ;  Gradient# ####"
   ]
  },
  {
   "cell_type": "markdown",
   "metadata": {},
   "source": [
    "จะได้  $ \\nabla f(\\bar{x}) = 4x^3 $"
   ]
  },
  {
   "cell_type": "markdown",
   "metadata": {},
   "source": [
    "#### #หาอนุพันธ์อันดับที่ 2 ;  Hessian Matrix# ####"
   ]
  },
  {
   "cell_type": "markdown",
   "metadata": {},
   "source": [
    "จะได้  $\\nabla^2f(\\bar{x}) = 12x^2 $"
   ]
  },
  {
   "cell_type": "markdown",
   "metadata": {},
   "source": [
    " เพราะฉะนั้น ที่ $x = 0$ จะได้ $\\nabla^2 f(0) = 12(0)^2 $ เนื่องจาก จะได้  $f(\\bar{x})$ เป็น Positive - Semidefinite ดังนั้น $f$ เป็น Convex Function บน $\\Omega$"
   ]
  },
  {
   "cell_type": "markdown",
   "metadata": {},
   "source": [
    "( b.) $f(\\bar{x}) = 8x^4-9x+8 , \\bar{x} \\in R $"
   ]
  },
  {
   "cell_type": "markdown",
   "metadata": {},
   "source": [
    "#### #หาอนุพันธ์อันดับที่ 1 ;  Gradient# ####"
   ]
  },
  {
   "cell_type": "markdown",
   "metadata": {},
   "source": [
    "จะได้  $\\nabla f(\\bar{x}) = 16x - 9 $"
   ]
  },
  {
   "cell_type": "markdown",
   "metadata": {},
   "source": [
    "#### #หาอนุพันธ์อันดับที่ 2 ;  Hessian Matrix# ####"
   ]
  },
  {
   "cell_type": "markdown",
   "metadata": {},
   "source": [
    "จะได้  $ \\nabla^2 f(\\bar{x}) = 16  $ [ค่าที่ได้ > 0]"
   ]
  },
  {
   "cell_type": "markdown",
   "metadata": {},
   "source": [
    "เพราะฉะนั้น เนื่องจาก $\\nabla^2$ เป็น Positive definite ดังนั้น $ f(\\bar{x})$ เป็น Strictly Convex Function"
   ]
  },
  {
   "cell_type": "markdown",
   "metadata": {},
   "source": [
    "## 3. Convex Programing Problem"
   ]
  },
  {
   "cell_type": "markdown",
   "metadata": {},
   "source": [
    "- Convexity ของ Feasible Region $(\\Omega)$ หริอ $Convex$ $Set$ และ Objective Function หรือ $Convex$ $Function$ มันจะให้ข้อมูลเกี่ยวกับที่อยู่ของ \" Global Extrema \"\n",
    "- \"Theorem\" : ถ้า  $ f : \\Omega \\in R^n \\rightarrow R$ เป็น $Convex$ $Function$ บน $Convex$ $Set$  $\\Omega \\in R^n$ \n",
    "> 1. ถ้า $x^*$ ที่เราหามาได้เป็น \" Local Minimizer \" ของ $f$ บน $\\Omega$ แล้วจะได้ว่าจุดนี้มันกลายเป็น \" Global Mininizer \"\n",
    "> 2. ถ้า $f(\\bar{x})$ เป็น $Strictly$ $Convex$ บน $ \\Omega $ แล้ว $x^*$ จะเป็น \" Unique Global Minimizer \"\n",
    "> 3. ถ้า $f(\\bar{x})$ เป็น $Convex$ $Function$ และสามารถหาค่า \" Global Maximizer \" ได้แล้ว Global Maximizer นั้นจะเกิดนี่จุด \" Extreme Point \" บน $\\Omega$"
   ]
  },
  {
   "cell_type": "markdown",
   "metadata": {},
   "source": [
    "- ถ้า Function  $ f : \\Omega \\rightarrow R$ มีอนุพันธ์อันดับที่ 1 ที่ต่อเนื่องสำหรับ $\\Omega$ ที่อยู่ใน $R^n$ $f\\in C(R^n) $ คือ $Convex$ $Function$ ที่อยู่บน $Convex$ $Set$ (Convex Programing Problem) แล้ว $x^*$ จะเป็น Global Minimizer ของ $f$ บน $\\Omega$ ที่สอดคล้องกับ"
   ]
  },
  {
   "cell_type": "markdown",
   "metadata": {},
   "source": [
    "$\\Large\\nabla f(x^*) = 0$ $\\Large for$ $\\Large x^* \\in \\Omega$"
   ]
  },
  {
   "cell_type": "markdown",
   "metadata": {},
   "source": [
    "$\\Large {Example}$"
   ]
  },
  {
   "cell_type": "markdown",
   "metadata": {},
   "source": [
    "หา Global Maximum ของ $f(\\bar{x}) = 6x^4_{2}+x^3_{1}+x^2_{1}-x_{1}x_{2}+2x^2_{2}-4x_{1}+3$ เมื่อ $\\bar{x} \\in R^2 $ , $ \\Omega =$ {$\\bar{x} \\in R^2 | 0\\leq x_{1} \\leq1, |x_{2}|\\leq  2$}"
   ]
  },
  {
   "cell_type": "markdown",
   "metadata": {},
   "source": [
    "$\\large {Sol}$ "
   ]
  },
  {
   "cell_type": "markdown",
   "metadata": {},
   "source": [
    "#### #หา Gradient ของ $f(\\bar{x})$ ; $f(\\bar{x})$# ####"
   ]
  },
  {
   "cell_type": "markdown",
   "metadata": {},
   "source": [
    "จาก $\\large\\nabla f(\\bar{x}) $ $\\large=\\left[\n",
    "\\begin{array}{rrr}\n",
    "\\frac{\\partial f}{\\partial x_1}  \\\\\n",
    "\\frac{\\partial f}{\\partial x_2} \\\\\n",
    "\\end{array}\n",
    "\\right]$ $\\large=$ $ \n",
    "\\left[\n",
    "\\begin{array}{rrr}\n",
    "3x_1^2 + 2x_1 - x_2 - 4  \\\\\n",
    "24x_2^3 - x_1 + 4x_2\\\\\n",
    "\\end{array}\n",
    "\\right] $"
   ]
  },
  {
   "cell_type": "markdown",
   "metadata": {},
   "source": [
    "#### #หา Hessian Metrix : $f(\\bar{x})$# ####"
   ]
  },
  {
   "cell_type": "markdown",
   "metadata": {},
   "source": [
    "จาก $\\large\\nabla^2f(\\bar{x})$ $\\large =\n",
    "\\left[\n",
    "\\begin{array}{rrr}\n",
    "\\frac{\\partial f}{\\partial x_1^2} & \\frac{\\partial f}{\\partial x_1\\partial x_2} \\\\\n",
    "\\frac{\\partial f}{\\partial x_2\\partial x_1} &\\frac{\\partial f}{\\partial x_2^2} \\\\\n",
    "\\end{array}\n",
    "\\right]$ $\\large=$ $\n",
    "\\left[\n",
    "\\begin{array}{rrr}\n",
    "6x_{1} +2 & -1  \\\\\n",
    "-1 & 72x_{2}^2 + 4 \\\\\n",
    "\\end{array}\n",
    "\\right] $"
   ]
  },
  {
   "cell_type": "markdown",
   "metadata": {},
   "source": [
    "#### #หา $Tr(\\nabla^2f(\\bar{x}))$# ####"
   ]
  },
  {
   "cell_type": "markdown",
   "metadata": {},
   "source": [
    "จะได้ $Tr(\\nabla^2f(\\bar{x}))$ = $(6x_1 + 2) + (72x_2^2 + 4) > 0$"
   ]
  },
  {
   "cell_type": "markdown",
   "metadata": {},
   "source": [
    "#### #หา $Det(\\nabla^2f(\\bar{x}))$# ####"
   ]
  },
  {
   "cell_type": "markdown",
   "metadata": {},
   "source": [
    "จะได้ $|\\nabla^2f(\\bar{x})| = (6x_1 + 2)(72x_2^2 + 4) - (-1)(-1) = 144x_2^2+322x_1 x_2^2 -24x_1 +7 > 0$"
   ]
  },
  {
   "cell_type": "markdown",
   "metadata": {},
   "source": [
    "* เนื่องจาก Eigen Value ของ $\\nabla^2f(\\bar{x})$ ; $\\lambda_{1}\\lambda_{2} > 0$ ดังนั้น $\\nabla^2f(\\bar{x}) > 0$ มี คุณสมบัติเป็น Positive Definite และ $f(\\bar{x})$ เป็น Strictly Convex Function\n",
    "* $f(\\bar{x})$  เป็น Strictly Convex Function บน Convex Set : $\\Omega \\rightarrow f(\\bar{x})$ เป็น Convexity Programming Problem"
   ]
  },
  {
   "cell_type": "markdown",
   "metadata": {},
   "source": [
    "#### #หาค่าของ Function ที่จุด Extreme Poiont บน $\\Omega$# ####"
   ]
  },
  {
   "cell_type": "markdown",
   "metadata": {},
   "source": [
    "จาก $(\\bar{x})^{(1)} = \\left[\n",
    "\\begin{array}{rrr}\n",
    "0  \\\\\n",
    "2 \\\\\n",
    "\\end{array}\n",
    "\\right]$"
   ]
  },
  {
   "cell_type": "markdown",
   "metadata": {},
   "source": [
    "แทนค่าใน  $f(\\bar{x}) = 6(2)^4+(0)^3+(0)^2-(0)(2)+2(2)^2-4(0)+3 = 107$"
   ]
  },
  {
   "cell_type": "markdown",
   "metadata": {},
   "source": [
    "จาก $(\\bar{x})^{(2)} = \\left[\n",
    "\\begin{array}{rrr}\n",
    "1  \\\\\n",
    "2 \\\\\n",
    "\\end{array}\n",
    "\\right]$"
   ]
  },
  {
   "cell_type": "markdown",
   "metadata": {},
   "source": [
    "จะได้  $f(\\bar{x}^{(2)} ) = 6(2)^4+(1)^3+(1)^2-(1)(2)+2(2)^2-4(1)+3 = 103$"
   ]
  },
  {
   "cell_type": "markdown",
   "metadata": {},
   "source": [
    "จาก $(\\bar{x})^{(3)} = \\left[\n",
    "\\begin{array}{rrr}\n",
    "1  \\\\\n",
    "-2 \\\\\n",
    "\\end{array}\n",
    "\\right]$"
   ]
  },
  {
   "cell_type": "markdown",
   "metadata": {},
   "source": [
    "จะได้  $f(\\bar{x}^{(3)}) = 6(-2)^4+(1)^3+(1)^2-(1)(-2)+2(-2)^2-4(1)+3 = 107$"
   ]
  },
  {
   "cell_type": "markdown",
   "metadata": {},
   "source": [
    "จาก $(\\bar{x})^{(4)} = \\left[\n",
    "\\begin{array}{rrr}\n",
    "0  \\\\\n",
    "-2 \\\\\n",
    "\\end{array}\n",
    "\\right]$"
   ]
  },
  {
   "cell_type": "markdown",
   "metadata": {},
   "source": [
    "จะได้  $f(\\bar{x}^{(4)}) = 6(-2)^4+(0)^3+(0)^2-(0)(-2)+2(-2)^2-4(0)+3 = 107$"
   ]
  },
  {
   "cell_type": "markdown",
   "metadata": {},
   "source": [
    "เพราะฉะนั้น จะได้ว่าค่าของ Global Maximum ของ $f(\\bar{x})$ บน $\\Omega$ คือ 107 ที่จุด $x^{(1)},x^{(2)},x^{(4)} $"
   ]
  },
  {
   "cell_type": "markdown",
   "metadata": {},
   "source": [
    "#### #หาจุด Unique Local และ Global Minimizer# ####"
   ]
  },
  {
   "cell_type": "markdown",
   "metadata": {},
   "source": [
    "จะได้ $x^* = \\left[\n",
    "\\begin{array}{rrr}\n",
    "0.617086  \\\\\n",
    "-0.264044 \\\\\n",
    "\\end{array}\n",
    "\\right]$ $\\large ,$ $f^{(4)} = 1.478974$"
   ]
  }
 ],
 "metadata": {
  "kernelspec": {
   "display_name": "Python 3",
   "language": "python",
   "name": "python3"
  },
  "language_info": {
   "codemirror_mode": {
    "name": "ipython",
    "version": 3
   },
   "file_extension": ".py",
   "mimetype": "text/x-python",
   "name": "python",
   "nbconvert_exporter": "python",
   "pygments_lexer": "ipython3",
   "version": "3.8.1"
  }
 },
 "nbformat": 4,
 "nbformat_minor": 2
}
