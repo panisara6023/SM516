{
 "cells": [
  {
   "cell_type": "markdown",
   "metadata": {},
   "source": [
    "# Chapter 4 : Multivariable optimization"
   ]
  },
  {
   "cell_type": "markdown",
   "metadata": {},
   "source": [
    "Problem : Min f(𝑥̄) ; 𝑥̄ ∈ Ω  \n",
    " subject to  Ω ≤ $R^n$"
   ]
  },
  {
   "cell_type": "markdown",
   "metadata": {
    "slideshow": {
     "slide_type": "slide"
    }
   },
   "source": [
    "In this chapter , we will study about\n",
    "\n",
    "a) Existence of solutions \n",
    "\n",
    "b) Optimality conditions\n",
    "\n",
    "    1) The unconstrained problem ,  "
   ]
  },
  {
   "cell_type": "markdown",
   "metadata": {},
   "source": [
    "Ω = $ R^n $"
   ]
  },
  {
   "cell_type": "markdown",
   "metadata": {},
   "source": [
    "    2) The equality constrained problem ,  "
   ]
  },
  {
   "cell_type": "markdown",
   "metadata": {},
   "source": [
    "Ω = { 𝑥̄ ∈ $R^n | c_i(𝑥̄)$ = 0 , i ∈ E }     "
   ]
  },
  {
   "cell_type": "markdown",
   "metadata": {},
   "source": [
    "    3) The inequality constrained problem :"
   ]
  },
  {
   "cell_type": "markdown",
   "metadata": {},
   "source": [
    "Ω = { 𝑥̄ ∈ $R^n | c_i(𝑥̄)$ = 0 for i ∈ E and $c_i(𝑥̄)$ ≤ 0 for i ∈ I }"
   ]
  },
  {
   "cell_type": "markdown",
   "metadata": {},
   "source": [
    "    4) The linearly constrained problem ;"
   ]
  },
  {
   "cell_type": "markdown",
   "metadata": {},
   "source": [
    "Ω = { 𝑥̄ ∈ $𝑅^n | a_𝑖^T(𝑥̄) - β_i$ = 0 for i ∈ E and $a_𝑖^T(𝑥̄) - β_i$ ≤ 0 for i ∈ I }"
   ]
  },
  {
   "cell_type": "markdown",
   "metadata": {},
   "source": [
    "* By using Simplex method , We will not mention here"
   ]
  },
  {
   "cell_type": "markdown",
   "metadata": {},
   "source": [
    "c) Sensidivity analysis and Duality properties of optimal solutions"
   ]
  },
  {
   "cell_type": "markdown",
   "metadata": {},
   "source": [
    "## 4.1  The existence theorem : 𝑥̄ ∈ $R^n$"
   ]
  },
  {
   "cell_type": "markdown",
   "metadata": {},
   "source": [
    "If the function f(𝑥̄) is continuous every where on Ω and if Ω is closed and bounded,\n",
    "then f has a global minimizer and global maximizer."
   ]
  },
  {
   "cell_type": "markdown",
   "metadata": {},
   "source": [
    "The continuity of f(𝑥̄) and closeness and boundedness of Ω are sufficient condition buy they are not neccessary for existence of extrema."
   ]
  },
  {
   "cell_type": "markdown",
   "metadata": {},
   "source": [
    "Ex. i) $Ω_1$ is closed and bounded"
   ]
  },
  {
   "cell_type": "markdown",
   "metadata": {},
   "source": [
    "$Ω_1$ = { $𝑥̄ ∈ 𝑅^2 | x_1^2 + x_2^2$ ≤ 1 }"
   ]
  },
  {
   "cell_type": "markdown",
   "metadata": {},
   "source": [
    "ii) $Ω_2$ is bounded but not closed"
   ]
  },
  {
   "cell_type": "markdown",
   "metadata": {},
   "source": [
    "$Ω_2$ = { $𝑥̄ ∈ 𝑅^2 | x_1^2 + x_2^2$ < 1 }"
   ]
  },
  {
   "cell_type": "markdown",
   "metadata": {},
   "source": [
    "iii) $Ω_3$ is closed but not bounded"
   ]
  },
  {
   "cell_type": "markdown",
   "metadata": {},
   "source": [
    "The closeness and boundedness of Ω is not neccessery for existence extrema."
   ]
  },
  {
   "cell_type": "markdown",
   "metadata": {},
   "source": [
    "Ex.  i) f(𝑥̄) = sinx ; 𝑥̄ ∈ 𝑅"
   ]
  },
  {
   "cell_type": "markdown",
   "metadata": {},
   "source": [
    "Ω ∈ ($-∞,∞$) is not closed and bounded , but it has a local max (x = $π/2$) and a local min (x = $3π/2$)"
   ]
  },
  {
   "cell_type": "markdown",
   "metadata": {},
   "source": [
    "ii) The convex function f(𝑥̄) on an open interval Ω"
   ]
  },
  {
   "cell_type": "markdown",
   "metadata": {},
   "source": [
    "Ω is not closed but it has a global minimizer.\n",
    "\n",
    "\n"
   ]
  },
  {
   "cell_type": "markdown",
   "metadata": {},
   "source": [
    "## 4.2  Optimality conditions"
   ]
  },
  {
   "cell_type": "markdown",
   "metadata": {},
   "source": [
    "### Case I Unconstrained problems"
   ]
  },
  {
   "cell_type": "markdown",
   "metadata": {},
   "source": [
    "Theorem - First order necessary conditions"
   ]
  },
  {
   "cell_type": "markdown",
   "metadata": {},
   "source": [
    "Let $Ω = R^n$ and $f ∈ C(R^n$) , if $x^*$ is a local minimizer of f then $∇f(x^*$) = 0"
   ]
  },
  {
   "cell_type": "markdown",
   "metadata": {},
   "source": [
    "$x^*$ any point $∇f(x^*$) = 0 ,  $x^*$ is a local min or a local max or saddle"
   ]
  },
  {
   "cell_type": "markdown",
   "metadata": {},
   "source": [
    "* Note A point $x^*$ with $∇f(x^*$) = 0 can correspond to a minimizer,maximizer or saddle pt."
   ]
  },
  {
   "cell_type": "markdown",
   "metadata": {},
   "source": [
    "Definition  (Stationary points of $f(𝑥̄), 𝑥̄ ∈ R^n)$"
   ]
  },
  {
   "cell_type": "markdown",
   "metadata": {},
   "source": [
    "A point $x^*$ is a stationary point if $∇f(x^*$) = 0 and a stationary point $x^*$ can be either minimizer or maximizer or saddle point. More information on the nature of $x^*$ can be obtained from considering second derivative informations."
   ]
  },
  {
   "cell_type": "markdown",
   "metadata": {},
   "source": [
    "Second order conditions"
   ]
  },
  {
   "cell_type": "markdown",
   "metadata": {},
   "source": [
    "Theorem(Second order neccesary conditions)"
   ]
  },
  {
   "cell_type": "markdown",
   "metadata": {},
   "source": [
    "Let $Ω = R^n$ and $f ∈ C^2(R^n$) , if $x^*$ is a local minimizer of f then $∇f(x^*$) = 0 and $∇^2f(x^*)$ is positive semidefinite"
   ]
  },
  {
   "cell_type": "markdown",
   "metadata": {},
   "source": [
    "Similarly, if $x^*$ is a local maximizer then $∇f(x^*$) = 0 and $∇^2f(x^*)$ is negative semidefinite."
   ]
  },
  {
   "cell_type": "markdown",
   "metadata": {},
   "source": [
    "Ex. f(𝑥̄) = $x^3$ , 𝑥̄ ∈  𝑅"
   ]
  },
  {
   "cell_type": "markdown",
   "metadata": {},
   "source": [
    "$∇f(𝑥̄) = 3x^2$ $\\rightarrow$ $∇f(𝑥̄) = 0 , x^* = 0$"
   ]
  },
  {
   "cell_type": "markdown",
   "metadata": {},
   "source": [
    "$∇^2f(x^*) = 6x$ $\\rightarrow$ $∇^2f(x^*) = 0$"
   ]
  },
  {
   "cell_type": "markdown",
   "metadata": {},
   "source": [
    "at $x^* = 0$ is a saddle point."
   ]
  },
  {
   "cell_type": "markdown",
   "metadata": {},
   "source": [
    "Theorem (Second order sufficient conditions)"
   ]
  },
  {
   "cell_type": "markdown",
   "metadata": {},
   "source": [
    "Let $Ω = R^n$ and $f ∈ C^2(R^n)$ , if $x^*$ is a stationary point with $∇f(x^*$) = 0 and $∇^2f(x^*)$  positive definite, then $x^*$ is a strict local minimizer."
   ]
  },
  {
   "cell_type": "markdown",
   "metadata": {},
   "source": [
    "Similarly, if $x^*$ is a stationary point with $∇^2f(x^*)$  is negative definite then $x^*$ is a strict local maximizer."
   ]
  },
  {
   "cell_type": "markdown",
   "metadata": {},
   "source": [
    "In summary , if $x^*$ is an unconstrained($Ω = R^n$)stationary point for $∇f(x^*$) = 0, then if\n",
    "* 1) $∇^2f(x^*)$ positive definite then $x^*$ is a strict local minimizer.\n",
    "* 2) $∇^2f(x^*)$ negative definite then $x^*$ is a strict local maximizer.\n",
    "* 3) $∇^2f(x^*)$ indefinite then $x^*$ is a saddle point.\n",
    "* 4) $∇^2f(x^*)$ is positive semi-definite , then $x^*$ is either a local minimizer or saddle point.\n",
    "* 5) $∇^2f(x^*)$ is negative semi-definite , then $x^*$ is either a local maximizer or saddle point."
   ]
  },
  {
   "cell_type": "markdown",
   "metadata": {},
   "source": [
    "note"
   ]
  },
  {
   "cell_type": "markdown",
   "metadata": {},
   "source": [
    "The convexity of f and the nature of a stationary point $x^*$ is also known :\n",
    "* 1) If f is convex on $R^n$ , then $x^*$ is a global minimizer.\n",
    "* 2) If f is strictly convex on $R^n$ , then $x^*$ is an unique global minimizer.\n",
    "* 3) If f is concave on $R^n$ , then $x^*$ is a global maximizer.\n",
    "* 4) If f is strictly concave on $R^n$ , then $x^*$ is an unique global maximizer."
   ]
  },
  {
   "cell_type": "markdown",
   "metadata": {},
   "source": [
    "Ex. Consider the function $f(𝑥̄) = x_1^2-2x_1^3-x_2^3$"
   ]
  },
  {
   "cell_type": "markdown",
   "metadata": {},
   "source": [
    "a) Show that $x^* = \n",
    "\\left[\n",
    "\\begin{array}{rrr}\n",
    "0  \\\\\n",
    "0 \\\\\n",
    "\\end{array}\n",
    "\\right] $ and $x̂ = \n",
    "\\left[\n",
    "\\begin{array}{rrr}\n",
    "1/3  \\\\\n",
    "0 \\\\\n",
    "\\end{array}\n",
    "\\right] $\n",
    "are stationary points of 𝑓(𝑥̄)"
   ]
  },
  {
   "cell_type": "markdown",
   "metadata": {},
   "source": [
    "b) Using second order conditions determine , if possible ; the nature of there stationary points."
   ]
  },
  {
   "cell_type": "markdown",
   "metadata": {},
   "source": [
    "c) Show that $x^*$ satisfies the second order necessary conditions for minimizer.\n",
    "However, by looking of the function value along a lim though $x^*$ , show that $x^*$ is not a local minimizer."
   ]
  },
  {
   "cell_type": "markdown",
   "metadata": {},
   "source": [
    "$Sol^n$ a) at $x^* = \n",
    "\\left[\n",
    "\\begin{array}{rrr}\n",
    "0  \\\\\n",
    "0 \\\\\n",
    "\\end{array}\n",
    "\\right] $ and $x̂ = \n",
    "\\left[\n",
    "\\begin{array}{rrr}\n",
    "1/3  \\\\\n",
    "0 \\\\\n",
    "\\end{array}\n",
    "\\right] $ :"
   ]
  },
  {
   "cell_type": "markdown",
   "metadata": {},
   "source": [
    "$∇f(x^*) =\n",
    "\\left[\n",
    "\\begin{array}{rrr}\n",
    "∂f/∂x_1  \\\\\n",
    "∂f/∂x_2 \\\\\n",
    "\\end{array}\n",
    "\\right] = \n",
    "\\left[\n",
    "\\begin{array}{rrr}\n",
    "2x_1-6x_1^2  \\\\\n",
    "-3x_2^2 \\\\\n",
    "\\end{array}\n",
    "\\right] $"
   ]
  },
  {
   "cell_type": "markdown",
   "metadata": {},
   "source": [
    "$\\rightarrow$ $∇f(x^*) = \n",
    "\\left[\n",
    "\\begin{array}{rrr}\n",
    "0  \\\\\n",
    "0 \\\\\n",
    "\\end{array}\n",
    "\\right] $ , so\n",
    "$x^* = \n",
    "\\left[\n",
    "\\begin{array}{rrr}\n",
    "0  \\\\\n",
    "0 \\\\\n",
    "\\end{array}\n",
    "\\right] $ is stationary point."
   ]
  },
  {
   "cell_type": "markdown",
   "metadata": {},
   "source": [
    "and $∇f(x̂) =\n",
    "\\left[\n",
    "\\begin{array}{rrr}\n",
    "2(1/3)-6(1/3)^2  \\\\\n",
    "-3(0) \\\\\n",
    "\\end{array}\n",
    "\\right] =\n",
    "\\left[\n",
    "\\begin{array}{rrr}\n",
    "2/3-2/3  \\\\\n",
    "0 \\\\\n",
    "\\end{array}\n",
    "\\right] =\n",
    "\\left[\n",
    "\\begin{array}{rrr}\n",
    "0  \\\\\n",
    "0 \\\\\n",
    "\\end{array}\n",
    "\\right] $ \n",
    ", $x̂ = \n",
    "\\left[\n",
    "\\begin{array}{rrr}\n",
    "1/3  \\\\\n",
    "0 \\\\\n",
    "\\end{array}\n",
    "\\right] $ is stationary point."
   ]
  },
  {
   "cell_type": "markdown",
   "metadata": {},
   "source": [
    "b) Hessian matrix : $∇^2f(𝑥̄) =\n",
    "\\left[\n",
    "\\begin{array}{rrr}\n",
    "∂^2f/∂x_1^2 & ∂^2f/∂x_1∂x_2  \\\\\n",
    "∂^2f/∂x_2∂x_1 & ∂^2f/∂x_2^2 \\\\\n",
    "\\end{array}\n",
    "\\right] =\n",
    "\\left[\n",
    "\\begin{array}{rrr}\n",
    "2-12x_1 & 0  \\\\\n",
    "0 & -6x_2 \\\\\n",
    "\\end{array}\n",
    "\\right] $"
   ]
  },
  {
   "cell_type": "markdown",
   "metadata": {},
   "source": [
    "At $x^* =\n",
    "\\left[\n",
    "\\begin{array}{rrr}\n",
    "0  \\\\\n",
    "0 \\\\\n",
    "\\end{array}\n",
    "\\right] , ∇^2f(x^*) =\n",
    "\\left[\n",
    "\\begin{array}{rrr}\n",
    "2 & 0  \\\\\n",
    "0 & 0 \\\\\n",
    "\\end{array}\n",
    "\\right] $ \n",
    "is  positive semidefinite with eigen values $λ_1 = 2 , λ_2 = 0$"
   ]
  },
  {
   "cell_type": "markdown",
   "metadata": {},
   "source": [
    "At $x̂ =\n",
    "\\left[\n",
    "\\begin{array}{rrr}\n",
    "1/3  \\\\\n",
    "0 \\\\\n",
    "\\end{array}\n",
    "\\right] , ∇^2f(x̂) =\n",
    "\\left[\n",
    "\\begin{array}{rrr}\n",
    "-2 & 0  \\\\\n",
    "0 & 0 \\\\\n",
    "\\end{array}\n",
    "\\right] $ \n",
    "is  positive semidefinite with eigen values $λ_1 = -2 , λ_2 = 0$"
   ]
  },
  {
   "cell_type": "markdown",
   "metadata": {},
   "source": [
    "c) $x^* =\n",
    "\\left[\n",
    "\\begin{array}{rrr}\n",
    "0  \\\\\n",
    "0 \\\\\n",
    "\\end{array}\n",
    "\\right]$\n",
    "satisfies the second order necessary condition for minimizer but not the sufficient condition"
   ]
  },
  {
   "cell_type": "markdown",
   "metadata": {},
   "source": [
    "From the Hessian matrix, it is only possible to say that $x^*$ is not a local maximizer (a minimizer or saddle point)"
   ]
  },
  {
   "cell_type": "markdown",
   "metadata": {},
   "source": [
    "Looking the function value along the line passing though $x^* =\n",
    "\\left[\n",
    "\\begin{array}{rrr}\n",
    "0  \\\\\n",
    "0 \\\\\n",
    "\\end{array}\n",
    "\\right]$ "
   ]
  },
  {
   "cell_type": "markdown",
   "metadata": {},
   "source": [
    "If i) $d =\n",
    "\\left[\n",
    "\\begin{array}{rrr}\n",
    "0  \\\\\n",
    "1 \\\\\n",
    "\\end{array}\n",
    "\\right] , 𝑥̄(α) = x^* + αd = \\left[\n",
    "\\begin{array}{rrr}\n",
    "0  \\\\\n",
    "0 \\\\\n",
    "\\end{array}\n",
    "\\right] + α\n",
    "\\left[\n",
    "\\begin{array}{rrr}\n",
    "0  \\\\\n",
    "1 \\\\\n",
    "\\end{array}\n",
    "\\right] = \n",
    "\\left[\n",
    "\\begin{array}{rrr}\n",
    "0  \\\\\n",
    "α \\\\\n",
    "\\end{array}\n",
    "\\right]$"
   ]
  },
  {
   "cell_type": "markdown",
   "metadata": {},
   "source": [
    "Substitating 𝑥̄(α) into f(𝑥̄) , we obtain ℓ(α)"
   ]
  },
  {
   "cell_type": "markdown",
   "metadata": {},
   "source": [
    "$ℓ(α) = f(x^*+αd) =f\n",
    "\\left[\n",
    "\\begin{array}{rrr}\n",
    "0  \\\\\n",
    "α \\\\\n",
    "\\end{array}\n",
    "\\right]\n",
    "= -α^3$"
   ]
  },
  {
   "cell_type": "markdown",
   "metadata": {},
   "source": [
    "$x^*$ is a saddle point."
   ]
  },
  {
   "cell_type": "markdown",
   "metadata": {},
   "source": [
    "If ii) $d =\n",
    "\\left[\n",
    "\\begin{array}{rrr}\n",
    "1  \\\\\n",
    "0 \\\\\n",
    "\\end{array}\n",
    "\\right] , 𝑥̄(α) = x^* + αd = \\left[\n",
    "\\begin{array}{rrr}\n",
    "0  \\\\\n",
    "0 \\\\\n",
    "\\end{array}\n",
    "\\right] + α\n",
    "\\left[\n",
    "\\begin{array}{rrr}\n",
    "1  \\\\\n",
    "0 \\\\\n",
    "\\end{array}\n",
    "\\right] = \n",
    "\\left[\n",
    "\\begin{array}{rrr}\n",
    "α  \\\\\n",
    "0 \\\\\n",
    "\\end{array}\n",
    "\\right]$"
   ]
  },
  {
   "cell_type": "markdown",
   "metadata": {},
   "source": [
    "Substitating 𝑥̄(α) into f(𝑥̄) , we obtain"
   ]
  },
  {
   "cell_type": "markdown",
   "metadata": {},
   "source": [
    "$ℓ(α) = α^2 - 2α^3$"
   ]
  },
  {
   "cell_type": "markdown",
   "metadata": {},
   "source": [
    "$ℓ'(α) = 2α - 6α^2 = 0 \\rightarrow 2α(1-3α) = 0$"
   ]
  },
  {
   "cell_type": "markdown",
   "metadata": {},
   "source": [
    "$α = 0 , α = 1/3$"
   ]
  },
  {
   "cell_type": "markdown",
   "metadata": {},
   "source": [
    "$ℓ''(α) = 2-12α$"
   ]
  },
  {
   "cell_type": "markdown",
   "metadata": {},
   "source": [
    "$ℓ″(α = 0) = 2>0$"
   ]
  },
  {
   "cell_type": "markdown",
   "metadata": {},
   "source": [
    "$ℓ″(α=1/3)=-2<0$"
   ]
  },
  {
   "cell_type": "markdown",
   "metadata": {},
   "source": [
    "Therefore , $x^* = \n",
    "\\left[\n",
    "\\begin{array}{rrr}\n",
    "0  \\\\\n",
    "0 \\\\\n",
    "\\end{array}\n",
    "\\right]$\n",
    "is a saddle point."
   ]
  },
  {
   "cell_type": "markdown",
   "metadata": {},
   "source": [
    "Ex. Consider $𝑓(𝑥̄) = x_1^4-3x_1^3+4x_1^2-6x_1x_2+3x_2^2$"
   ]
  },
  {
   "cell_type": "markdown",
   "metadata": {},
   "source": [
    "a) Is the point $x^* = \n",
    "\\left[\n",
    "\\begin{array}{rrr}\n",
    "1  \\\\\n",
    "1 \\\\\n",
    "\\end{array}\n",
    "\\right]$\n",
    "a stationary point of f?"
   ]
  },
  {
   "cell_type": "markdown",
   "metadata": {},
   "source": [
    "b) Find all stationary points pf f"
   ]
  },
  {
   "cell_type": "markdown",
   "metadata": {},
   "source": [
    "c) Identify the nature of all stationary points by using second order conditions."
   ]
  },
  {
   "cell_type": "markdown",
   "metadata": {},
   "source": [
    "$Sol^n$ Let $𝑓(𝑥̄) = x_1^4-3x_1^3+4x_1^2-6x_1x_2+3x_2^2$"
   ]
  },
  {
   "cell_type": "markdown",
   "metadata": {},
   "source": [
    "then $∇f(𝑥̄) =\n",
    "\\left[\n",
    "\\begin{array}{rrr}\n",
    "∂f/∂x_1  \\\\\n",
    "∂f/∂x_2 \\\\\n",
    "\\end{array}\n",
    "\\right] = \n",
    "\\left[\n",
    "\\begin{array}{rrr}\n",
    "4x_1^3-9x_1^2+8x_1-6x_2  \\\\\n",
    "-6x_1+6x_2 \\\\\n",
    "\\end{array}\n",
    "\\right] $"
   ]
  },
  {
   "cell_type": "markdown",
   "metadata": {},
   "source": [
    "and $∇^2f(𝑥̄) =\n",
    "\\left[\n",
    "\\begin{array}{rrr}\n",
    "12x_1^2-18x_1+8 & -6  \\\\\n",
    "-6 & 6 \\\\\n",
    "\\end{array}\n",
    "\\right] $ "
   ]
  },
  {
   "cell_type": "markdown",
   "metadata": {},
   "source": [
    "a) At  $x^* =\n",
    "\\left[\n",
    "\\begin{array}{rrr}\n",
    "1 \\\\\n",
    "1 \\\\\n",
    "\\end{array}\n",
    "\\right] ,∇f(x^*) = \n",
    "\\left[\n",
    "\\begin{array}{rrr}\n",
    "4-9+8-6  \\\\\n",
    "-6+6 \\\\\n",
    "\\end{array}\n",
    "\\right] =\n",
    "\\left[\n",
    "\\begin{array}{rrr}\n",
    "-3 \\\\\n",
    "0 \\\\\n",
    "\\end{array}\n",
    "\\right] ≠\n",
    "\\left[\n",
    "\\begin{array}{rrr}\n",
    "0 \\\\\n",
    "0 \\\\\n",
    "\\end{array}\n",
    "\\right] $"
   ]
  },
  {
   "cell_type": "markdown",
   "metadata": {},
   "source": [
    "So $x^* =\n",
    "\\left[\n",
    "\\begin{array}{rrr}\n",
    "1 \\\\\n",
    "1 \\\\\n",
    "\\end{array}\n",
    "\\right] $\n",
    "is not stationary point"
   ]
  },
  {
   "cell_type": "markdown",
   "metadata": {},
   "source": [
    "b) From $∇f(𝑥̄) =\n",
    "\\left[\n",
    "\\begin{array}{rrr}\n",
    "4x_1^3-9x_1^2+8x_1-6x_2  \\\\\n",
    "-6x_1+6x_2 \\\\\n",
    "\\end{array}\n",
    "\\right] $ , Let ∇f(𝑥̄) = 0"
   ]
  },
  {
   "cell_type": "markdown",
   "metadata": {},
   "source": [
    "$ \\left[\n",
    "\\begin{array}{rrr}\n",
    "4x_1^3-9x_1^2+8x_1-6x_2  \\\\\n",
    "-6x_1+6x_2 \\\\\n",
    "\\end{array}\n",
    "\\right] =\n",
    "\\left[\n",
    "\\begin{array}{rrr}\n",
    "0 \\\\\n",
    "0 \\\\\n",
    "\\end{array}\n",
    "\\right] $"
   ]
  },
  {
   "cell_type": "markdown",
   "metadata": {},
   "source": [
    "$4x_1^3-9x_1^2+8x_1-6x_2 = 0 $ — ①"
   ]
  },
  {
   "cell_type": "markdown",
   "metadata": {},
   "source": [
    "$-6x_1+6x_2 = 0$ — ②"
   ]
  },
  {
   "cell_type": "markdown",
   "metadata": {},
   "source": [
    "From ② ; $x_1 = x_2$ , substitating into ① ,"
   ]
  },
  {
   "cell_type": "markdown",
   "metadata": {},
   "source": [
    "$4x_1^3-9x_1^2+8x_1-6x_1 = 0 $"
   ]
  },
  {
   "cell_type": "markdown",
   "metadata": {},
   "source": [
    "$4x_1^3-9x_1^2+2x_1 = 0 $"
   ]
  },
  {
   "cell_type": "markdown",
   "metadata": {},
   "source": [
    "$x_1(4x_1^2-9x_1+2) = 0$"
   ]
  },
  {
   "cell_type": "markdown",
   "metadata": {},
   "source": [
    "$x_1(4x_1-1)(x_1-2) = 0$"
   ]
  },
  {
   "cell_type": "markdown",
   "metadata": {},
   "source": [
    "$x_1$ = 0 , 1/4 , 2  $(x_1=x_2)$"
   ]
  },
  {
   "cell_type": "markdown",
   "metadata": {},
   "source": [
    "So all stationary pts are $x^* =\n",
    "\\left[\n",
    "\\begin{array}{rrr}\n",
    "0 \\\\\n",
    "0 \\\\\n",
    "\\end{array}\n",
    "\\right] ,\n",
    "\\left[\n",
    "\\begin{array}{rrr}\n",
    "1/4 \\\\\n",
    "1/4 \\\\\n",
    "\\end{array}\n",
    "\\right] ,\n",
    "\\left[\n",
    "\\begin{array}{rrr}\n",
    "2 \\\\\n",
    "2 \\\\\n",
    "\\end{array}\n",
    "\\right] $"
   ]
  },
  {
   "cell_type": "markdown",
   "metadata": {},
   "source": [
    "c) Test the second order conditions"
   ]
  },
  {
   "cell_type": "markdown",
   "metadata": {},
   "source": [
    "* At $x^* =\n",
    "\\left[\n",
    "\\begin{array}{rrr}\n",
    "0 \\\\\n",
    "0 \\\\\n",
    "\\end{array}\n",
    "\\right] , ∇^2f\n",
    "\\left[\n",
    "\\begin{array}{rrr}\n",
    "0 \\\\\n",
    "0 \\\\\n",
    "\\end{array}\n",
    "\\right] =\n",
    "\\left[\n",
    "\\begin{array}{rrr}\n",
    "8 & -6  \\\\\n",
    "-6 & 6 \\\\\n",
    "\\end{array}\n",
    "\\right] $\n"
   ]
  },
  {
   "cell_type": "markdown",
   "metadata": {},
   "source": [
    "Leading principle minor : $∆_1|8| = 8>0$"
   ]
  },
  {
   "cell_type": "markdown",
   "metadata": {},
   "source": [
    "$∆_2|∇^2𝑓| = 48-36 = 12 > 0$"
   ]
  },
  {
   "cell_type": "markdown",
   "metadata": {},
   "source": [
    "$\\rightarrow ∇^2f(x^*)$ is positive definite , then $x^* =\n",
    "\\left[\n",
    "\\begin{array}{rrr}\n",
    "0 \\\\\n",
    "0 \\\\\n",
    "\\end{array}\n",
    "\\right] $\n",
    "is strictly local minimizer and $f(x^*)=0$"
   ]
  },
  {
   "cell_type": "markdown",
   "metadata": {},
   "source": [
    "* At $x^* =\n",
    "\\left[\n",
    "\\begin{array}{rrr}\n",
    "1/4 \\\\\n",
    "1/4 \\\\\n",
    "\\end{array}\n",
    "\\right] , ∇^2f(x^*)\n",
    "\\left[\n",
    "\\begin{array}{rrr}\n",
    "17/4 & -4 \\\\\n",
    "-4 & 6 \\\\\n",
    "\\end{array}\n",
    "\\right] ∼\n",
    "\\left[\n",
    "\\begin{array}{rrr}\n",
    "λ_1 & 0 \\\\\n",
    "0 & λ_2 \\\\\n",
    "\\end{array}\n",
    "\\right]$"
   ]
  },
  {
   "cell_type": "markdown",
   "metadata": {},
   "source": [
    "Leading principle minor : $∆_1|17/4| >0$"
   ]
  },
  {
   "cell_type": "markdown",
   "metadata": {},
   "source": [
    "$∆_2|∇^2𝑓| < 0 $"
   ]
  },
  {
   "cell_type": "markdown",
   "metadata": {},
   "source": [
    "$x^* =\n",
    "\\left[\n",
    "\\begin{array}{rrr}\n",
    "1/4 \\\\\n",
    "1/4 \\\\\n",
    "\\end{array}\n",
    "\\right]$ is a saddle point."
   ]
  },
  {
   "cell_type": "markdown",
   "metadata": {},
   "source": [
    "or Consider trace $∇^2f(x^*) = 41/4 > 0$ and $det(∇^2𝑓) = -21/2 < 0$"
   ]
  },
  {
   "cell_type": "markdown",
   "metadata": {},
   "source": [
    "Hence $x^* =\n",
    "\\left[\n",
    "\\begin{array}{rrr}\n",
    "1/4 \\\\\n",
    "1/4 \\\\\n",
    "\\end{array}\n",
    "\\right]$ \n",
    "is a saddle pt with $f(x^*)= 5/256$"
   ]
  },
  {
   "cell_type": "markdown",
   "metadata": {},
   "source": [
    "* At $x^* =\n",
    "\\left[\n",
    "\\begin{array}{rrr}\n",
    "2 \\\\\n",
    "2 \\\\\n",
    "\\end{array}\n",
    "\\right] , ∇^2f(x^*)\n",
    "\\left[\n",
    "\\begin{array}{rrr}\n",
    "20 & -6 \\\\\n",
    "-6 & 6 \\\\\n",
    "\\end{array}\n",
    "\\right]$"
   ]
  },
  {
   "cell_type": "markdown",
   "metadata": {},
   "source": [
    "Leading principle minor : $∆_1= 20 >0$"
   ]
  },
  {
   "cell_type": "markdown",
   "metadata": {},
   "source": [
    " $∆_2= 120-36 >0$"
   ]
  },
  {
   "cell_type": "markdown",
   "metadata": {},
   "source": [
    "$\\rightarrow ∇^2f$ is positive definite , then $x^* =\n",
    "\\left[\n",
    "\\begin{array}{rrr}\n",
    "2 \\\\\n",
    "2 \\\\\n",
    "\\end{array}\n",
    "\\right] $\n",
    "is strictly local minimizer with $f(x^*)=-4$"
   ]
  },
  {
   "cell_type": "markdown",
   "metadata": {},
   "source": [
    "### Case II Equality constraints"
   ]
  },
  {
   "cell_type": "markdown",
   "metadata": {},
   "source": [
    "Min 𝑓(𝑥̄) , 𝑥̄ ∈ $R^n$"
   ]
  },
  {
   "cell_type": "markdown",
   "metadata": {},
   "source": [
    "subject to $c_i(𝑥̄)$ = 0 , i ∈ E"
   ]
  },
  {
   "cell_type": "markdown",
   "metadata": {},
   "source": [
    "Let n = |E| be the number of equality constraints and E = {1,2, ... ,m}"
   ]
  },
  {
   "cell_type": "markdown",
   "metadata": {},
   "source": [
    "Ex. Min 𝑓(𝑥̄) = $(x_1-1)^2 + x_2 -2$ ,  $𝑥̄ ∈  R^2$"
   ]
  },
  {
   "cell_type": "markdown",
   "metadata": {},
   "source": [
    "subject to $x_2-x_1 = 1 , x_1+x_2 ≤ 2$"
   ]
  },
  {
   "cell_type": "markdown",
   "metadata": {},
   "source": [
    "$\\rightarrow c_1 : x_2-x_1-1 = 0$"
   ]
  },
  {
   "cell_type": "markdown",
   "metadata": {},
   "source": [
    "$\\rightarrow c_2 : x_1+x_2-2 ≤ 0$"
   ]
  },
  {
   "cell_type": "markdown",
   "metadata": {},
   "source": [
    "Solve by substitating $x_2 = 1+x_1$ into $𝑓(𝑥̄) , 𝑥̄ ∈ 𝑅^2$"
   ]
  },
  {
   "cell_type": "markdown",
   "metadata": {},
   "source": [
    "$f(x_1) = (x_1-1)^2+(1+x_1)-2$"
   ]
  },
  {
   "cell_type": "markdown",
   "metadata": {},
   "source": [
    "$f(x_1) = x_1^2-2x_1+1+1+x_1-2$"
   ]
  },
  {
   "cell_type": "markdown",
   "metadata": {},
   "source": [
    "$f(x_1) = x_1^2 - x_1 $"
   ]
  },
  {
   "cell_type": "markdown",
   "metadata": {},
   "source": [
    "1st derivative , $f'(x_1) = 2x_1-1$"
   ]
  },
  {
   "cell_type": "markdown",
   "metadata": {},
   "source": [
    "Let $𝑓′(𝑥_1) = 0 $"
   ]
  },
  {
   "cell_type": "markdown",
   "metadata": {},
   "source": [
    "$2x_1-1 = 0 \\rightarrow x_1 = 1/2 $"
   ]
  },
  {
   "cell_type": "markdown",
   "metadata": {},
   "source": [
    "and $x_2 = 1+1/2 = 3/2$"
   ]
  },
  {
   "cell_type": "markdown",
   "metadata": {},
   "source": [
    "Then the stationary pt(or critical pt.) is $x^* =\n",
    "\\left[\n",
    "\\begin{array}{rrr}\n",
    "1/2 \\\\\n",
    "3/2 \\\\\n",
    "\\end{array}\n",
    "\\right]$ , 2nd derivative ; $𝑓''(𝑥_1) = 2 > 0 $"
   ]
  },
  {
   "cell_type": "markdown",
   "metadata": {},
   "source": [
    "So $x^* =\n",
    "\\left[\n",
    "\\begin{array}{rrr}\n",
    "1/2 \\\\\n",
    "3/2 \\\\\n",
    "\\end{array}\n",
    "\\right]$ is minimizer of f(𝑥̄)"
   ]
  },
  {
   "cell_type": "markdown",
   "metadata": {},
   "source": [
    "$f(𝑥̄) = (1/2-1)^2+3/2-2 = 1/4+3/2-2 = 1/4 $"
   ]
  },
  {
   "cell_type": "markdown",
   "metadata": {},
   "source": [
    "Ex. Let $𝑓(𝑥̄) = x_1^2+6x_1x_2+x_2^2-12x_1-4x_2 $"
   ]
  },
  {
   "cell_type": "markdown",
   "metadata": {},
   "source": [
    "subject to $c_1 : x_1-x_2-1 = 0$"
   ]
  },
  {
   "cell_type": "markdown",
   "metadata": {},
   "source": [
    "$x^* =\n",
    "\\left[\n",
    "\\begin{array}{rrr}\n",
    "1/2 \\\\\n",
    "3/2 \\\\\n",
    "\\end{array}\n",
    "\\right] $ is stationary pt. and a minimizer of 𝑓(𝑥̄ )"
   ]
  },
  {
   "cell_type": "markdown",
   "metadata": {},
   "source": [
    "The equality constrained problem is associated with the Lagrangion function"
   ]
  },
  {
   "cell_type": "markdown",
   "metadata": {},
   "source": [
    "$L(𝑥̄,λ) = 𝑓(𝑥̄) + (∑^m_{i=1} λ_ic_i(𝑥̄)) $ "
   ]
  },
  {
   "cell_type": "markdown",
   "metadata": {},
   "source": [
    "when there is a Lagrange multiplier $λ_i$ , corresopording to each constraint $c_i(𝑥̄)$ for i = 1,2,...,m"
   ]
  },
  {
   "cell_type": "markdown",
   "metadata": {},
   "source": [
    "Lagrangion Methods"
   ]
  },
  {
   "cell_type": "markdown",
   "metadata": {},
   "source": [
    "$ ∇_xL(𝑥̄,λ) = ∇𝑓(𝑥̄) + ∑λ_i∇c_i(𝑥̄) = 0 , i= 1 $"
   ]
  },
  {
   "cell_type": "markdown",
   "metadata": {},
   "source": [
    "$ ∇𝑓(𝑥̄) + λ_1∇𝑐_1(𝑥̄) = 0 $"
   ]
  },
  {
   "cell_type": "markdown",
   "metadata": {},
   "source": [
    "$ ∇𝑓(𝑥̄) = -λ_1∇𝑐_1(𝑥̄) $"
   ]
  },
  {
   "cell_type": "markdown",
   "metadata": {},
   "source": [
    "$ ∇𝑓(𝑥̄),∇𝑐_1(𝑥̄)$ are vectors and $∇𝑓(𝑥̄)//∇𝑐_1(𝑥̄)$"
   ]
  },
  {
   "cell_type": "markdown",
   "metadata": {},
   "source": [
    "First order necessary conditions"
   ]
  },
  {
   "cell_type": "markdown",
   "metadata": {},
   "source": [
    "Necessary conditions for constrained optimization require a regularity condition on the geometry of the feasible region."
   ]
  },
  {
   "cell_type": "markdown",
   "metadata": {},
   "source": [
    "Definition - A feasible point $x^*$ is a regular point iff. the gradients $∇𝑐_i(𝑥̄ )$ for i ∈ E  are linearly independent"
   ]
  },
  {
   "cell_type": "markdown",
   "metadata": {},
   "source": [
    "As a feasible point satisfies the m equality constraints $c_i(𝑥̄) = 0$ for i = 1,2,...,m , it follows that m  ≤ n at a regular point."
   ]
  },
  {
   "cell_type": "markdown",
   "metadata": {},
   "source": [
    "Let $A(𝑥̄) = \n",
    "\\left[\n",
    "\\begin{array}{rrr}\n",
    "∇𝑐_1(𝑥̄)  & ∇𝑐_2(𝑥̄) & ...  & ∇𝑐_m(𝑥̄) \\\\ \n",
    "\\end{array}\n",
    "\\right]$ and A(𝑥̄) is the transpose of the Jacobian matrix"
   ]
  },
  {
   "cell_type": "markdown",
   "metadata": {},
   "source": [
    "$ J(𝑥̄) = \n",
    "\\left[\n",
    "\\begin{array}{rrr}\n",
    "∇𝑐_1^T(𝑥̄ )  \\\\\n",
    "∇𝑐_2^T(𝑥̄ ) \\\\\n",
    ".\\\\\n",
    ".\\\\\n",
    ".\\\\\n",
    "∇𝑐_m^T(𝑥̄ ) \\\\\n",
    "\\end{array}\n",
    "\\right] = A^T(𝑥̄) $"
   ]
  },
  {
   "cell_type": "markdown",
   "metadata": {},
   "source": [
    "$∇c_1 =\n",
    "\\left[\n",
    "\\begin{array}{rrr}\n",
    "1 \\\\\n",
    "2 \\\\\n",
    "\\end{array}\n",
    "\\right] ∇c_2 =\n",
    "\\left[\n",
    "\\begin{array}{rrr}\n",
    "3 \\\\\n",
    "4 \\\\\n",
    "\\end{array}\n",
    "\\right] $"
   ]
  },
  {
   "cell_type": "markdown",
   "metadata": {},
   "source": [
    "Let $A = \n",
    "\\left[\n",
    "\\begin{array}{rrr}\n",
    "∇𝑐_1  & ∇𝑐_2 \\\\ \n",
    "\\end{array}\n",
    "\\right]$"
   ]
  },
  {
   "cell_type": "markdown",
   "metadata": {},
   "source": [
    "$ = \n",
    "\\left[\n",
    "\\begin{array}{rrr}\n",
    "1&3 \\\\\n",
    "2&4 \\\\\n",
    "\\end{array}\n",
    "\\right] $ ; Rank(A) = 2"
   ]
  },
  {
   "cell_type": "markdown",
   "metadata": {},
   "source": [
    "A feasible point $x^*$ is a regular point iff the n by m matrix A(𝑥̄) has full column rank, rank(A(𝑥̄)) = m"
   ]
  },
  {
   "cell_type": "markdown",
   "metadata": {},
   "source": [
    "Ex. $ c_1(𝑥̄) = x_1 , c_2(𝑥̄) = x_2-x_3^2 $ and $x^* =\n",
    "\\left[\n",
    "\\begin{array}{rrr}\n",
    "0 \\\\\n",
    "0 \\\\\n",
    "0 \\\\\n",
    "\\end{array}\n",
    "\\right] , 𝑥̄ ∈ R^3 $"
   ]
  },
  {
   "cell_type": "markdown",
   "metadata": {},
   "source": [
    "The $∇𝑐_1 = \n",
    "\\left[\n",
    "\\begin{array}{rrr}\n",
    "∂c_1/∂x_1  \\\\\n",
    "∂c_1/∂x_2 \\\\\n",
    "∂c_1/∂x_3 \\\\\n",
    "\\end{array}\n",
    "\\right] = \n",
    "\\left[\n",
    "\\begin{array}{rrr}\n",
    "1  \\\\\n",
    "0 \\\\\n",
    "0 \\\\\n",
    "\\end{array}\n",
    "\\right] \\rightarrow ∇𝑐_1(x^*) =\n",
    "\\left[\n",
    "\\begin{array}{rrr}\n",
    "1  \\\\\n",
    "0 \\\\\n",
    "0 \\\\\n",
    "\\end{array}\n",
    "\\right] $"
   ]
  },
  {
   "cell_type": "markdown",
   "metadata": {},
   "source": [
    "$∇𝑐_2 = \n",
    "\\left[\n",
    "\\begin{array}{rrr}\n",
    "∂c_2/∂x_1  \\\\\n",
    "∂c_2/∂x_2 \\\\\n",
    "∂c_2/∂x_3 \\\\\n",
    "\\end{array}\n",
    "\\right] = \n",
    "\\left[\n",
    "\\begin{array}{rrr}\n",
    "0  \\\\\n",
    "1 \\\\\n",
    "-2x_3 \\\\\n",
    "\\end{array}\n",
    "\\right] \\rightarrow ∇𝑐_2(x^*) =\n",
    "\\left[\n",
    "\\begin{array}{rrr}\n",
    "0  \\\\\n",
    "1 \\\\\n",
    "0 \\\\\n",
    "\\end{array}\n",
    "\\right] $"
   ]
  },
  {
   "cell_type": "markdown",
   "metadata": {},
   "source": [
    "Let $A = \n",
    "\\left[\n",
    "\\begin{array}{rrr}\n",
    "∇𝑐_1(x^*)  & ∇𝑐_2(x^*)  \\\\ \n",
    "\\end{array}\n",
    "\\right] =\n",
    "\\left[\n",
    "\\begin{array}{rrr}\n",
    "1 & 0  \\\\\n",
    "0 & 1 \\\\\n",
    "0 & 0 \\\\\n",
    "\\end{array}\n",
    "\\right]  $"
   ]
  },
  {
   "cell_type": "markdown",
   "metadata": {},
   "source": [
    "$ ∇𝑐_1(x^*)$ and $∇𝑐_2(x^*)$ are linearly independent"
   ]
  },
  {
   "cell_type": "markdown",
   "metadata": {},
   "source": [
    "$x^*$ is a regular point"
   ]
  },
  {
   "cell_type": "markdown",
   "metadata": {},
   "source": [
    "Theorem (Second order sufficient condition)"
   ]
  },
  {
   "cell_type": "markdown",
   "metadata": {},
   "source": [
    " Let Ω = { x̄ ∈ $R^n | c_i(x̄)$ = 0  for  i = 1,2,..,m } and f ∈ c(Ω) If $x^*$ is a local minimizer of f(x̄) on Ω and if $x^*$ is a regular pt. then there exists Lagrange multiplier $λ_i$ , i = 1,2,..,m such that "
   ]
  },
  {
   "cell_type": "markdown",
   "metadata": {},
   "source": [
    "$ ∇_xL(x^*,λ^*) = 0 $ and $ ∇_λL(x^*,λ^*) = 0 $"
   ]
  },
  {
   "cell_type": "markdown",
   "metadata": {},
   "source": [
    "If a local minimizer $x^*$ is not a regular pt. , that is the constraint gradients $∇𝑐_1(x̄)$ are not linearly independent, there are 2 possibilities"
   ]
  },
  {
   "cell_type": "markdown",
   "metadata": {},
   "source": [
    "1) There are not exist multipliers $λ^*∈R^m$"
   ]
  },
  {
   "cell_type": "markdown",
   "metadata": {},
   "source": [
    "satisfying $∇f(x^*) + A(x^*,λ^*) = 0$"
   ]
  },
  {
   "cell_type": "markdown",
   "metadata": {},
   "source": [
    "2) There are infinite number of multipliers $λ^*∈R^m$"
   ]
  },
  {
   "cell_type": "markdown",
   "metadata": {},
   "source": [
    "satisfying $∇f(x^*) + A(x^*)λ^* = 0$"
   ]
  },
  {
   "cell_type": "markdown",
   "metadata": {},
   "source": [
    "Note"
   ]
  },
  {
   "cell_type": "markdown",
   "metadata": {},
   "source": [
    "* A regular pt. guarantees the existance and uniqueness of multipliers $λ^*$ satisfying $∇f(x^*) + A(x^*,λ^*) = 0$"
   ]
  },
  {
   "cell_type": "markdown",
   "metadata": {},
   "source": [
    "* Any regular local minimizer must satisfy the first order necessary conditions. However points which satisfy $ ∇_xL(x^*,λ^*) = 0 $ and $ ∇_λL(x^*,λ^*) = 0 $ in the first order condition may correspond to either a local minimizer or a local maximizer or a saddle point."
   ]
  },
  {
   "cell_type": "markdown",
   "metadata": {},
   "source": [
    "Definition Any point $x^*$ for which there exists Lagrange multiplier $λ^*∈R^m$ such that $ ∇_xL(x^*,λ^*) = 0 $ and $ ∇_λL(x^*,λ^*) = 0 $ is a constrained stationary point of the equality constrained problem."
   ]
  },
  {
   "cell_type": "markdown",
   "metadata": {},
   "source": [
    "A constrained stationary point may be either a local min or local max or saddle pt."
   ]
  },
  {
   "cell_type": "markdown",
   "metadata": {},
   "source": [
    "Ex. Find all constrained stationary points of"
   ]
  },
  {
   "cell_type": "markdown",
   "metadata": {},
   "source": [
    "Min f(x̄) = $x_1x_2^2$ , $ x̄ ∈ 𝑅^2$"
   ]
  },
  {
   "cell_type": "markdown",
   "metadata": {},
   "source": [
    "subject to $x_1^2+x_2^2 = 1 \\rightarrow c_1 : x_1^2+x_2^2-1 = 0$ "
   ]
  },
  {
   "cell_type": "markdown",
   "metadata": {},
   "source": [
    "step 1 : Standard form of optimization problem"
   ]
  },
  {
   "cell_type": "markdown",
   "metadata": {},
   "source": [
    "Min f(x̄) = $x_1x_2^2$ , $ x̄ ∈ 𝑅^2$"
   ]
  },
  {
   "cell_type": "markdown",
   "metadata": {},
   "source": [
    "subject to $x_1^2+x_2^2-1 = 0$ , n = 2 , m = 1"
   ]
  },
  {
   "cell_type": "markdown",
   "metadata": {},
   "source": [
    "step 2 : Lagrangion function"
   ]
  },
  {
   "cell_type": "markdown",
   "metadata": {},
   "source": [
    "$ ∇_xL(𝑥̄,λ) = ∇𝑓(𝑥̄) + λ∇c_1(𝑥̄) $"
   ]
  },
  {
   "cell_type": "markdown",
   "metadata": {},
   "source": [
    "$ = x_1x_2^2 + λ(x_1^2+x_2^2-1) $"
   ]
  },
  {
   "cell_type": "markdown",
   "metadata": {},
   "source": [
    "step 3 : First order condition"
   ]
  },
  {
   "cell_type": "markdown",
   "metadata": {},
   "source": [
    "$ ∇_xL(x̄,λ) = 0 $ — ①"
   ]
  },
  {
   "cell_type": "markdown",
   "metadata": {},
   "source": [
    "$ ∇_λL(x̄,λ) = 0 $ — ②"
   ]
  },
  {
   "cell_type": "markdown",
   "metadata": {},
   "source": [
    "So  $ ∂L/∂x_1 = 0   $ — (1.1)"
   ]
  },
  {
   "cell_type": "markdown",
   "metadata": {},
   "source": [
    "$∂L/∂x_2 = 0$ — (1.2)"
   ]
  },
  {
   "cell_type": "markdown",
   "metadata": {},
   "source": [
    "$x_2^2+2λx_1 = 0$ — (1.1)"
   ]
  },
  {
   "cell_type": "markdown",
   "metadata": {},
   "source": [
    "$2x_1x_2+2λx_2 = 0$  — (1.2)"
   ]
  },
  {
   "cell_type": "markdown",
   "metadata": {},
   "source": [
    "$∂𝐿/∂λ = 0$ — ② $\\rightarrow x_1^2+x_2^2-1 = 0$ — ② "
   ]
  },
  {
   "cell_type": "markdown",
   "metadata": {},
   "source": [
    "From (1.2) , we obtains $2x_2(x_1+λ) = 0$"
   ]
  },
  {
   "cell_type": "markdown",
   "metadata": {},
   "source": [
    "$x_2 = 0$ or $x_1 = -λ$"
   ]
  },
  {
   "cell_type": "markdown",
   "metadata": {},
   "source": [
    "Consider case $x_2 =0$ , substitating into ② , we get $x_1 = ±1$"
   ]
  },
  {
   "cell_type": "markdown",
   "metadata": {},
   "source": [
    "From (1.1) , for $x_2 = 0$ and $x_1 = ±1$ , then we get λ = 0"
   ]
  },
  {
   "cell_type": "markdown",
   "metadata": {},
   "source": [
    "Therefore , 2 stationary pts. are $x^* =\n",
    "\\left[\n",
    "\\begin{array}{rrr}\n",
    "1 \\\\\n",
    "0 \\\\\n",
    "\\end{array}\n",
    "\\right] , =\n",
    "\\left[\n",
    "\\begin{array}{rrr}\n",
    "-1 \\\\\n",
    "0 \\\\\n",
    "\\end{array}\n",
    "\\right] $ with λ = 0"
   ]
  },
  {
   "cell_type": "markdown",
   "metadata": {},
   "source": [
    "Consider in case $x_1 = -λ$ , substitating into (1.2) , we get $-2λx_2+2λx_2 = 0$"
   ]
  },
  {
   "cell_type": "markdown",
   "metadata": {},
   "source": [
    "and substitating into (1.1) and ② , we obtain"
   ]
  },
  {
   "cell_type": "markdown",
   "metadata": {},
   "source": [
    "$x_2^2-2λ^2 = 0$ — ③"
   ]
  },
  {
   "cell_type": "markdown",
   "metadata": {},
   "source": [
    "$λ_1^2+x_2^2 = 1$ — ④"
   ]
  },
  {
   "cell_type": "markdown",
   "metadata": {},
   "source": [
    "④ - ③ , $3λ^2 = 1$"
   ]
  },
  {
   "cell_type": "markdown",
   "metadata": {},
   "source": [
    "$λ = ±1/√3 $"
   ]
  },
  {
   "cell_type": "markdown",
   "metadata": {},
   "source": [
    "For $λ = ±1/√3 $ , then $x_1 = -λ = ±1/√3 $"
   ]
  },
  {
   "cell_type": "markdown",
   "metadata": {},
   "source": [
    "From ④ ; $x_2^2 = 1-λ^2 = 1-1/3 = 2/3 $"
   ]
  },
  {
   "cell_type": "markdown",
   "metadata": {},
   "source": [
    "$x_2 = ±√2/3$"
   ]
  },
  {
   "cell_type": "markdown",
   "metadata": {},
   "source": [
    "Therefore , 2 stationary points are $ x^* =\n",
    "\\left[\n",
    "\\begin{array}{rrr}\n",
    "-1/√3 \\\\\n",
    "√2/3 \\\\\n",
    "\\end{array}\n",
    "\\right] , \n",
    "\\left[\n",
    "\\begin{array}{rrr}\n",
    "-1/√3 \\\\\n",
    "-√2/3 \\\\\n",
    "\\end{array}\n",
    "\\right] $ for λ = 1/3 , $\n",
    "\\left[\n",
    "\\begin{array}{rrr}\n",
    "1/√3 \\\\\n",
    "√2/3 \\\\\n",
    "\\end{array}\n",
    "\\right] , \n",
    "\\left[\n",
    "\\begin{array}{rrr}\n",
    "1/√3 \\\\\n",
    "-√2/3 \\\\\n",
    "\\end{array}\n",
    "\\right] $ for λ = -1/3 "
   ]
  },
  {
   "cell_type": "markdown",
   "metadata": {},
   "source": [
    "Second order conditions for constrained stationary points"
   ]
  },
  {
   "cell_type": "markdown",
   "metadata": {},
   "source": [
    "Second order information may help to determine the nature of a constrained  stationary pt."
   ]
  },
  {
   "cell_type": "markdown",
   "metadata": {},
   "source": [
    "Theorem (Second order necessary conditions)"
   ]
  },
  {
   "cell_type": "markdown",
   "metadata": {},
   "source": [
    "Let $f ∈ C^2(Ω)$ , $x^*$ be a local minimizer and a regular pt. of the equality constrained problem.(EP), then there exists multipliers $λ^*∈R^m $ such that"
   ]
  },
  {
   "cell_type": "markdown",
   "metadata": {},
   "source": [
    "$ ∇_xL(x^*,λ^*) = ∇𝑓(x^*)+A(x^*)λ^* = 0 $ ,"
   ]
  },
  {
   "cell_type": "markdown",
   "metadata": {},
   "source": [
    "$ ∇_λL(x^*,λ^*) = C(x^*) = 0 $"
   ]
  },
  {
   "cell_type": "markdown",
   "metadata": {},
   "source": [
    "and $d^T∇_x^2L(x^*,λ^*)d ≥ 0 $ ∀d such that $d^TA(x^*) = 0$"
   ]
  },
  {
   "cell_type": "markdown",
   "metadata": {},
   "source": [
    "Theorem (Second order sufficient conditions)"
   ]
  },
  {
   "cell_type": "markdown",
   "metadata": {},
   "source": [
    "Let $f ∈ C^2(Ω)$. Let $x^*$ be a constrained stationary pt, so there exists multipliers $λ^*∈R^m$ such that"
   ]
  },
  {
   "cell_type": "markdown",
   "metadata": {},
   "source": [
    "$ ∇_xL(x^*,λ^*) = ∇𝑓(x^*)+A(x^*)λ^* = 0 $ and"
   ]
  },
  {
   "cell_type": "markdown",
   "metadata": {},
   "source": [
    "$ ∇_λL(x^*,λ^*) = C(x^*) = 0 $"
   ]
  },
  {
   "cell_type": "markdown",
   "metadata": {},
   "source": [
    "If $d^T∇_x^2L(x^*,λ^*)d > 0$ ∀d ≠ 0 such that $d^TA(x^*) = 0$ then $x^*$ is a strict local minimizer of EP."
   ]
  },
  {
   "cell_type": "markdown",
   "metadata": {},
   "source": [
    "Theorem"
   ]
  },
  {
   "cell_type": "markdown",
   "metadata": {},
   "source": [
    "1) The Hessian of the Lagrangion function at$(x^*,λ^*)$ is $w^2 = ∇_x^2L(x^*,λ^*) = ∇^2f(x^*) + ∑^m_{i=1}λ_i^*∇^2c_i(x^*)$"
   ]
  },
  {
   "cell_type": "markdown",
   "metadata": {},
   "source": [
    "2) Geometrical representation of  $d^TA(x^*) = 0$ such that the direction d is tangential to the constraint surface at $x^*$"
   ]
  },
  {
   "cell_type": "markdown",
   "metadata": {},
   "source": [
    "For any nxm matrix A , m≤n . If rank $A(x^*) = n$ (m=n) then the only solution to $d^TA(x^*) = 0$ is d = 0. This implies that the feasible region consists of a single point."
   ]
  },
  {
   "cell_type": "markdown",
   "metadata": {},
   "source": [
    "If rank $A(x^*) = m<n$ then there exists a nx(n-m) matrix $z^*$ such that $z^*z^TA(x^*) = 0$ and rank $(z^*) = n-m$"
   ]
  },
  {
   "cell_type": "markdown",
   "metadata": {},
   "source": [
    "For any vector d such that $d^TA(x^*) = 0$ there exists a vector ⊽ ∈ R such that $d = z^*⊽$ , ⊽ ≠ 0"
   ]
  },
  {
   "cell_type": "markdown",
   "metadata": {},
   "source": [
    "So $d^T∇_x^2L(x^*,λ^*)d = ⊽^Tz^*z^T∇_x^2L(x^*,λ^*)z^*⊽ $"
   ]
  },
  {
   "cell_type": "markdown",
   "metadata": {},
   "source": [
    "and $z^*z^T∇_x^2L(x^*,λ^*)z^* = w_R^* $ is called the reduced Hessian or projected Hessian."
   ]
  },
  {
   "cell_type": "markdown",
   "metadata": {},
   "source": [
    "Let $x^*$ be a constrained stationary pt. of EP. "
   ]
  },
  {
   "cell_type": "markdown",
   "metadata": {},
   "source": [
    "correspond to $ ∇_xL(x^*,λ^*) = 0 $ and $ ∇_λL(x^*,λ^*) = 0$ , then"
   ]
  },
  {
   "cell_type": "markdown",
   "metadata": {},
   "source": [
    "1) if $z^*z^T∇_x^2L(x^*,λ^*)z^*$ is positive definite then $x^*$ is a strict local minimizer of f on Ω"
   ]
  },
  {
   "cell_type": "markdown",
   "metadata": {},
   "source": [
    "2) if $z^*z^T∇_x^2L(x^*,λ^*)z^*$ is negative definite then $x^*$ is a strict local maximizer of f on Ω"
   ]
  },
  {
   "cell_type": "markdown",
   "metadata": {},
   "source": [
    "3) if $z^*z^T∇_x^2L(x^*,λ^*)z^*$ is indefinite then $x^*$ is a constrained saddle pt."
   ]
  },
  {
   "cell_type": "markdown",
   "metadata": {},
   "source": [
    "Ex. Min f(x̄) = $x_1x_2^2 , x̄ ∈ R^2 $"
   ]
  },
  {
   "cell_type": "markdown",
   "metadata": {},
   "source": [
    "subject to $x_1^2+x_2^2-1 =0$ , n=2 , m=1"
   ]
  },
  {
   "cell_type": "markdown",
   "metadata": {},
   "source": [
    "The constrained stationary pts. are = $\n",
    "\\left[\n",
    "\\begin{array}{rrr}\n",
    "1 \\\\\n",
    "0 \\\\\n",
    "\\end{array}\n",
    "\\right] , =\n",
    "\\left[\n",
    "\\begin{array}{rrr}\n",
    "-1 \\\\\n",
    "0 \\\\\n",
    "\\end{array}\n",
    "\\right]  $At $λ_1 = 0 ,\n",
    "\\left[\n",
    "\\begin{array}{rrr}\n",
    "-1/√3 \\\\\n",
    "√2/3 \\\\\n",
    "\\end{array}\n",
    "\\right] , \n",
    "\\left[\n",
    "\\begin{array}{rrr}\n",
    "-1/√3 \\\\\n",
    "-√2/3 \\\\\n",
    "\\end{array}\n",
    "\\right]  $At $λ_1 = 1/3 ,\n",
    "\\left[\n",
    "\\begin{array}{rrr}\n",
    "1/√3 \\\\\n",
    "√2/3 \\\\\n",
    "\\end{array}\n",
    "\\right] , \n",
    "\\left[\n",
    "\\begin{array}{rrr}\n",
    "1/√3 \\\\\n",
    "-√2/3 \\\\\n",
    "\\end{array}\n",
    "\\right]  $At $λ_1$ = -1/3 "
   ]
  },
  {
   "cell_type": "markdown",
   "metadata": {},
   "source": [
    "The Lagrangion function"
   ]
  },
  {
   "cell_type": "markdown",
   "metadata": {},
   "source": [
    "$ ∇_xL(x̄,λ) = \n",
    "\\left[\n",
    "\\begin{array}{rrr}\n",
    "∂L/∂x_1  \\\\\n",
    "∂L/∂x_2 \\\\\n",
    "\\end{array}\n",
    "\\right] =\n",
    "\\left[\n",
    "\\begin{array}{rrr}\n",
    "x_2^2+2λ_1x_1  \\\\\n",
    "2x_1x_2+2λ_1x_2 \\\\\n",
    "\\end{array}\n",
    "\\right]$  and"
   ]
  },
  {
   "cell_type": "markdown",
   "metadata": {},
   "source": [
    "$ ∇_x^2L(x̄,λ) = \n",
    "\\left[\n",
    "\\begin{array}{rrr}\n",
    "2λ_1&2x_2  \\\\\n",
    "2x_2&2x_1+2λ_1 \\\\\n",
    "\\end{array}\n",
    "\\right] $ , $A(x̄) =\n",
    "\\left[\n",
    "\\begin{array}{rrr}\n",
    "∇c_1  \\\\ \n",
    "\\end{array}\n",
    "\\right] =\n",
    "\\left[\n",
    "\\begin{array}{rrr}\n",
    "2x_1  \\\\\n",
    "2x_2 \\\\\n",
    "\\end{array}\n",
    "\\right] $"
   ]
  },
  {
   "cell_type": "markdown",
   "metadata": {},
   "source": [
    "At $x^* = \n",
    "\\left[\n",
    "\\begin{array}{rrr}\n",
    "1  \\\\\n",
    "0 \\\\\n",
    "\\end{array}\n",
    "\\right] , λ^*=0 $ ;"
   ]
  },
  {
   "cell_type": "markdown",
   "metadata": {},
   "source": [
    "$A(x̄) =\n",
    "\\left[\n",
    "\\begin{array}{rrr}\n",
    "2x_1  \\\\\n",
    "2x_2 \\\\\n",
    "\\end{array}\n",
    "\\right] =\n",
    "\\left[\n",
    "\\begin{array}{rrr}\n",
    "2  \\\\\n",
    "0 \\\\\n",
    "\\end{array}\n",
    "\\right] $"
   ]
  },
  {
   "cell_type": "markdown",
   "metadata": {},
   "source": [
    "Find $z^*∈R (nx(n-m)) $ such that $z^*z^TA(x^*) = 0$"
   ]
  },
  {
   "cell_type": "markdown",
   "metadata": {},
   "source": [
    "$z^*z^TA(x^*) = \n",
    "\\left[\n",
    "\\begin{array}{rrr}\n",
    "....&....  \\\\ \n",
    "\\end{array}\n",
    "\\right]\n",
    "\\left[\n",
    "\\begin{array}{rrr}\n",
    "2  \\\\\n",
    "0 \\\\\n",
    "\\end{array}\n",
    "\\right] = 0 $ for $z^*≠0$"
   ]
  },
  {
   "cell_type": "markdown",
   "metadata": {},
   "source": [
    "Let $z^* =\n",
    "\\left[\n",
    "\\begin{array}{rrr}\n",
    "0  \\\\\n",
    "1 \\\\\n",
    "\\end{array}\n",
    "\\right]$ or $z^* =\n",
    "\\left[\n",
    "\\begin{array}{rrr}\n",
    "0  \\\\\n",
    "a \\\\\n",
    "\\end{array}\n",
    "\\right]$ for a ≠ 0"
   ]
  },
  {
   "cell_type": "markdown",
   "metadata": {},
   "source": [
    "The projected Hessian matrix is"
   ]
  },
  {
   "cell_type": "markdown",
   "metadata": {},
   "source": [
    "$z^*z^T∇_x^2L(x^*,λ^*)z^*$ where $z^* =\n",
    "\\left[\n",
    "\\begin{array}{rrr}\n",
    "0  \\\\\n",
    "1 \\\\\n",
    "\\end{array}\n",
    "\\right] $ and\n",
    "$ ∇_x^2L(x^*,λ^*) = \n",
    "\\left[\n",
    "\\begin{array}{rrr}\n",
    "0&0  \\\\\n",
    "0&2 \\\\\n",
    "\\end{array}\n",
    "\\right] $ , there $z^*z^T∇_x^2L(x^*,λ^*)z^* =\n",
    "\\left[\n",
    "\\begin{array}{rrr}\n",
    "0&1  \\\\ \n",
    "\\end{array}\n",
    "\\right] \n",
    "\\left[\n",
    "\\begin{array}{rrr}\n",
    "0&0  \\\\\n",
    "0&2 \\\\\n",
    "\\end{array}\n",
    "\\right]\n",
    "\\left[\n",
    "\\begin{array}{rrr}\n",
    "0  \\\\\n",
    "1 \\\\\n",
    "\\end{array}\n",
    "\\right] = 2 > 0$"
   ]
  },
  {
   "cell_type": "markdown",
   "metadata": {},
   "source": [
    "Hence the projected Hessian is positive ; so $x^*=\n",
    "\\left[\n",
    "\\begin{array}{rrr}\n",
    "1  \\\\\n",
    "0 \\\\\n",
    "\\end{array}\n",
    "\\right] $ is a strict local minimizer."
   ]
  },
  {
   "cell_type": "markdown",
   "metadata": {},
   "source": [
    "Consider at  $x^*  = \n",
    "\\left[\n",
    "\\begin{array}{rrr}\n",
    "-1/√3 \\\\\n",
    "√2/3 \\\\\n",
    "\\end{array}\n",
    "\\right]$ for $λ^* = 1/√3$ , we got"
   ]
  },
  {
   "cell_type": "markdown",
   "metadata": {},
   "source": [
    "$A(x^*) = \n",
    "\\left[\n",
    "\\begin{array}{rrr}\n",
    "-2/√3 \\\\\n",
    "2√2/3 \\\\\n",
    "\\end{array}\n",
    "\\right] = 2/√3\n",
    "\\left[\n",
    "\\begin{array}{rrr}\n",
    "-1 \\\\\n",
    "√2 \\\\\n",
    "\\end{array}\n",
    "\\right]$ , then"
   ]
  },
  {
   "cell_type": "markdown",
   "metadata": {},
   "source": [
    "$z^*∈R (nx(n-m)) $ such that $z^*z^TA(x^*) = 0$ is"
   ]
  },
  {
   "cell_type": "markdown",
   "metadata": {},
   "source": [
    "$ \\left[\n",
    "\\begin{array}{rrr}\n",
    "....&....  \\\\ \n",
    "\\end{array}\n",
    "\\right] 2/√3\n",
    "\\left[\n",
    "\\begin{array}{rrr}\n",
    "2  \\\\\n",
    "0 \\\\\n",
    "\\end{array}\n",
    "\\right] = 0 $"
   ]
  },
  {
   "cell_type": "markdown",
   "metadata": {},
   "source": [
    "Let $z^* = \n",
    "\\left[\n",
    "\\begin{array}{rrr}\n",
    "√2  \\\\\n",
    "1 \\\\\n",
    "\\end{array}\n",
    "\\right] $ , so the projected Hessian is  $w^* =z^*z^T∇_x^2L(x^*,λ^*)z^* = \n",
    "\\left[\n",
    "\\begin{array}{rrr}\n",
    "√2&1  \\\\ \n",
    "\\end{array}\n",
    "\\right]\n",
    "\\left[\n",
    "\\begin{array}{rrr}\n",
    "2(-1/√3)&2√2/3  \\\\\n",
    "2√2/3&2(-1/√3)+2(1/√3) \\\\\n",
    "\\end{array}\n",
    "\\right]\n",
    "\\left[\n",
    "\\begin{array}{rrr}\n",
    "√2  \\\\\n",
    "1 \\\\\n",
    "\\end{array}\n",
    "\\right] = 4/3 > 0 $"
   ]
  },
  {
   "cell_type": "markdown",
   "metadata": {},
   "source": [
    "The projected Hessian is positive so $x^* =\n",
    "\\left[\n",
    "\\begin{array}{rrr}\n",
    "-1/√3 \\\\\n",
    "√2/3 \\\\\n",
    "\\end{array}\n",
    "\\right] $ is a strict local minimizer."
   ]
  },
  {
   "cell_type": "markdown",
   "metadata": {},
   "source": [
    "The other stationary points can classify mentioned above."
   ]
  },
  {
   "cell_type": "markdown",
   "metadata": {},
   "source": [
    "Ex. (Post office parcel problem)"
   ]
  },
  {
   "cell_type": "markdown",
   "metadata": {},
   "source": [
    "Max f(x̄) = $x_1x_2x_3 , x̄ ∈ R^3$"
   ]
  },
  {
   "cell_type": "markdown",
   "metadata": {},
   "source": [
    "subject to $x_1+2x_2+2x_3-72 = 0$"
   ]
  },
  {
   "cell_type": "markdown",
   "metadata": {},
   "source": [
    "step 1 : convert the problem to a standard form"
   ]
  },
  {
   "cell_type": "markdown",
   "metadata": {},
   "source": [
    "Min f(x̄) = $-x_1x_2x_3 , x̄ ∈ R^3$"
   ]
  },
  {
   "cell_type": "markdown",
   "metadata": {},
   "source": [
    "subject to $c_1 =x_1+2x_2+2x_3-72 = 0$ , n=3,m=1"
   ]
  },
  {
   "cell_type": "markdown",
   "metadata": {},
   "source": [
    "step 2 : the Lagrangion function"
   ]
  },
  {
   "cell_type": "markdown",
   "metadata": {},
   "source": [
    "$L(x̄,λ) = -x_1x_2x_3+λ(x_1+2x_2+2x_3-72) $"
   ]
  },
  {
   "cell_type": "markdown",
   "metadata": {},
   "source": [
    "step 3 : First order conditions"
   ]
  },
  {
   "cell_type": "markdown",
   "metadata": {},
   "source": [
    "$ ∇_xL(x̄,λ) = 0 $"
   ]
  },
  {
   "cell_type": "markdown",
   "metadata": {},
   "source": [
    "$ ∇_λL(x̄,λ) = 0 $"
   ]
  },
  {
   "cell_type": "markdown",
   "metadata": {},
   "source": [
    "$∂L/∂x_1 = -x_2x_3+λ_1 = 0$ — ①"
   ]
  },
  {
   "cell_type": "markdown",
   "metadata": {},
   "source": [
    "$∂L/∂x_2 = -x_1x_3+2λ_1 = 0$ — ②"
   ]
  },
  {
   "cell_type": "markdown",
   "metadata": {},
   "source": [
    "$∂L/∂x_3 = -x_1x_2+2λ_1 = 0$ — ③"
   ]
  },
  {
   "cell_type": "markdown",
   "metadata": {},
   "source": [
    "$∂L/∂λ = x_1+2x_2+2x_3-7250 $ — ④"
   ]
  },
  {
   "cell_type": "markdown",
   "metadata": {},
   "source": [
    "We obtaines all stationary pts. are"
   ]
  },
  {
   "cell_type": "markdown",
   "metadata": {},
   "source": [
    "$x^* = \n",
    "\\left[\n",
    "\\begin{array}{rrr}\n",
    "24  \\\\\n",
    "12 \\\\\n",
    "12 \\\\\n",
    "\\end{array}\n",
    "\\right]$ , for $λ_1^* = 144\n",
    "\\left[\n",
    "\\begin{array}{rrr}\n",
    "72  \\\\\n",
    "0 \\\\\n",
    "0 \\\\\n",
    "\\end{array}\n",
    "\\right]$ , for $λ_1^* = 0\n",
    "\\left[\n",
    "\\begin{array}{rrr}\n",
    "0  \\\\\n",
    "32 \\\\\n",
    "12 \\\\\n",
    "\\end{array}\n",
    "\\right]$ , for $λ_1^* = 0\n",
    "\\left[\n",
    "\\begin{array}{rrr}\n",
    "0  \\\\\n",
    "0 \\\\\n",
    "36 \\\\\n",
    "\\end{array}\n",
    "\\right] $ , for $λ_1^* = 0$"
   ]
  },
  {
   "cell_type": "markdown",
   "metadata": {},
   "source": [
    "and $f_a(x^*) = -3456 , f_b(x^*) = 0 , f_c(x^*) = 0 , f_d(x^*) = 0 $"
   ]
  },
  {
   "cell_type": "markdown",
   "metadata": {},
   "source": [
    "step 4 : Test the projected Hessian"
   ]
  },
  {
   "cell_type": "markdown",
   "metadata": {},
   "source": [
    "The gradient of f(x̄) and constraint $c_1(x̄)$ are"
   ]
  },
  {
   "cell_type": "markdown",
   "metadata": {},
   "source": [
    "$∇f(𝑥̄) = \n",
    "\\left[\n",
    "\\begin{array}{rrr}\n",
    "-x_2x_3  \\\\\n",
    "-x_1x_3 \\\\\n",
    "-x_1x_2 \\\\\n",
    "\\end{array}\n",
    "\\right] , ∇c_1 =\n",
    "\\left[\n",
    "\\begin{array}{rrr}\n",
    "1  \\\\\n",
    "2 \\\\\n",
    "2 \\\\\n",
    "\\end{array}\n",
    "\\right] = A(x^*) $"
   ]
  },
  {
   "cell_type": "markdown",
   "metadata": {},
   "source": [
    "when $c_1(𝑥̄)  = x_1+2x_2+2x_3-72$ and $∇^2c_1(𝑥̄) = 0 $"
   ]
  },
  {
   "cell_type": "markdown",
   "metadata": {},
   "source": [
    "So $ ∇_x^2L(𝑥,λ) = ∇^2f(𝑥̄)+λ_1∇^2c_1(𝑥̄) $"
   ]
  },
  {
   "cell_type": "markdown",
   "metadata": {},
   "source": [
    "$ =\n",
    "\\left[\n",
    "\\begin{array}{rrr}\n",
    "0&-x_3&-x_2 \\\\\n",
    "-x_3&0&-x_1 \\\\\n",
    "-x_2&-x_1&0 \\\\\n",
    "\\end{array}\n",
    "\\right] + 0 $"
   ]
  },
  {
   "cell_type": "markdown",
   "metadata": {},
   "source": [
    "Find $z^*∈R(nx(n-m)) , z^* ∈ R(3x2)$ such that $z^*z^TA(x^*) = 0$ "
   ]
  },
  {
   "cell_type": "markdown",
   "metadata": {},
   "source": [
    "$ \\left[\n",
    "\\begin{array}{rrr}\n",
    "...&...&... \\\\\n",
    "...&...&... \\\\\n",
    "\\end{array}\n",
    "\\right]\n",
    "\\left[\n",
    "\\begin{array}{rrr}\n",
    "1 \\\\\n",
    "2 \\\\\n",
    "2 \\\\    \n",
    "\\end{array}\n",
    "\\right] = 0 $"
   ]
  },
  {
   "cell_type": "markdown",
   "metadata": {},
   "source": [
    "Let $z^* =\n",
    "\\left[\n",
    "\\begin{array}{rrr}\n",
    "0&2 \\\\\n",
    "1&-1 \\\\\n",
    "-1&0 \\\\    \n",
    "\\end{array}\n",
    "\\right] $ and rank$(z^*)=2$ , a full column rank and be linearly independent."
   ]
  },
  {
   "cell_type": "markdown",
   "metadata": {},
   "source": [
    "The reduced Hessian of the Lagrangion function at $x^* = \n",
    "\\left[\n",
    "\\begin{array}{rrr}\n",
    "24  \\\\\n",
    "12 \\\\\n",
    "12 \\\\\n",
    "\\end{array}\n",
    "\\right]$ , with $λ_1^* = 144$ , is $z^*z^T∇_x^2L(x^*,λ^*)z^* =\n",
    "\\left[\n",
    "\\begin{array}{rrr}\n",
    "0&1&-1  \\\\\n",
    "2&-1&0 \\\\\n",
    "\\end{array}\n",
    "\\right]\n",
    "\\left[\n",
    "\\begin{array}{rrr}\n",
    "0&-12&-12 \\\\\n",
    "-12&0&-24 \\\\\n",
    "-12&-24&0 \\\\\n",
    "\\end{array}\n",
    "\\right]\n",
    "\\left[\n",
    "\\begin{array}{rrr}\n",
    "0&2  \\\\\n",
    "1&-1 \\\\\n",
    "-1&0 \\\\\n",
    "\\end{array}\n",
    "\\right] = \n",
    "\\left[\n",
    "\\begin{array}{rrr}\n",
    "48&-24  \\\\\n",
    "-24&48 \\\\\n",
    "\\end{array}\n",
    "\\right] $"
   ]
  },
  {
   "cell_type": "markdown",
   "metadata": {},
   "source": [
    "Leading principle minor for definiteness"
   ]
  },
  {
   "cell_type": "markdown",
   "metadata": {},
   "source": [
    "$∆_1 = 48>0 , ∆_2 = 1728 > 0$ , so it is positive."
   ]
  },
  {
   "cell_type": "markdown",
   "metadata": {},
   "source": [
    "Therefore , $x^* = \n",
    "\\left[\n",
    "\\begin{array}{rrr}\n",
    "24  \\\\\n",
    "12 \\\\\n",
    "12 \\\\\n",
    "\\end{array}\n",
    "\\right]$ is a strict local minimizer and the value off the objective function at $x^*,f(x^*)=-3456$"
   ]
  },
  {
   "cell_type": "markdown",
   "metadata": {},
   "source": [
    "Convert to the real problem. Max f(x̄) = $x_1x_2x_3 = 3456$"
   ]
  },
  {
   "cell_type": "markdown",
   "metadata": {},
   "source": [
    "Sensitivity analysis"
   ]
  },
  {
   "cell_type": "markdown",
   "metadata": {},
   "source": [
    "Sensitivity analysis looks at how the solution value $f(x^*)$ and solution point $x^*$ change when the problem data changes."
   ]
  },
  {
   "cell_type": "markdown",
   "metadata": {},
   "source": [
    "Suppose the j equality constraint changes from $c_j(x̄) = 0$ to $c_j(x̄)+∈ = 0$"
   ]
  },
  {
   "cell_type": "markdown",
   "metadata": {},
   "source": [
    "Let $x^*(∈),λ^*(∈)$ denoted a solution to the first order necessary condition with the perturbed constraint so $ ∑^m_{i=1}λ_i^*(∈)∇^2c_i(x^*(∈)) =0$ and $c_i(x^*(∈))+∈c_j = 0 $ where $c_j∈R^m$ is the j unite vector."
   ]
  },
  {
   "cell_type": "markdown",
   "metadata": {},
   "source": [
    "The original sulution corresponds to ∈ = 0 and $x^* = x^*(∈ = 0) $ ,"
   ]
  },
  {
   "cell_type": "markdown",
   "metadata": {},
   "source": [
    "The change in the objective value f(x^*) due to small change ∈ in the j equality constraint is "
   ]
  },
  {
   "cell_type": "markdown",
   "metadata": {},
   "source": [
    "$∆f(x^*) = f(x^*(∈)) - f(x^*)$"
   ]
  },
  {
   "cell_type": "markdown",
   "metadata": {},
   "source": [
    "$ = L(x^*(∈)), (λ^*(∈)) - L(x^*,λ^*) $"
   ]
  },
  {
   "cell_type": "markdown",
   "metadata": {},
   "source": [
    "$∂L/∂c_j ∆c_j = λ_j^*∈ , ∆c_j = ∈ $"
   ]
  },
  {
   "cell_type": "markdown",
   "metadata": {},
   "source": [
    "Thus $a_j^*$ gives a first order estimate of the rate of change of $f(x^*)$ with respect to change in the j constraint3"
   ]
  },
  {
   "cell_type": "markdown",
   "metadata": {},
   "source": [
    "Interpretation of Lagrangion multiplier $λ_j$ ;"
   ]
  },
  {
   "cell_type": "markdown",
   "metadata": {},
   "source": [
    "$ λ_j^* = ∂f/∂∈_j(x^*(∈))|_∈=0 $"
   ]
  },
  {
   "cell_type": "markdown",
   "metadata": {},
   "source": [
    "= $lim_{ϵ→0} ∆f(x^*(∈))/∆∈ $"
   ]
  },
  {
   "cell_type": "markdown",
   "metadata": {},
   "source": [
    "= The rate of change of optimal value with respect tp increase in the right hand side of j constraint $(c_j(x̄) = 0 \\rightarrow c_j(x̄)+∈ = 0) $"
   ]
  },
  {
   "cell_type": "markdown",
   "metadata": {},
   "source": [
    "Ex. Max $f(x̄) = -x_1x_2x_3 $"
   ]
  },
  {
   "cell_type": "markdown",
   "metadata": {},
   "source": [
    "subject to $x_1+2x_2+2x_3-72 = 0$"
   ]
  },
  {
   "cell_type": "markdown",
   "metadata": {},
   "source": [
    "We have $x^* = \n",
    "\\left[\n",
    "\\begin{array}{rrr}\n",
    "24  \\\\\n",
    "12 \\\\\n",
    "12 \\\\\n",
    "\\end{array}\n",
    "\\right]$ with $λ^* = 144$ is a stict local minimizer and $f(x^*) = -x_1x_2x_3 = -3456$"
   ]
  },
  {
   "cell_type": "markdown",
   "metadata": {},
   "source": [
    "Let $c_1(x^a) = x_1+2x_2+2x_3-72 = 0$ changes to $c_1(x^*a)+∈ = 0$ such that ∈ = -2"
   ]
  },
  {
   "cell_type": "markdown",
   "metadata": {},
   "source": [
    "Then the estimate of change in objective value is $∆f(x^*) = λ^*∈ = 144(-2) = -288 $"
   ]
  },
  {
   "cell_type": "markdown",
   "metadata": {},
   "source": [
    "To check the accuracy of this estimate by resolution the problem with the constraint"
   ]
  },
  {
   "cell_type": "markdown",
   "metadata": {},
   "source": [
    "$c_1(x̄) = x_1+2x_2+2x_3-72+∈ = 0 $"
   ]
  },
  {
   "cell_type": "markdown",
   "metadata": {},
   "source": [
    "The first order neccesary condition give $∇_xf(x^*(∈)) + ∇_xc_1(x^*(∈)) λ(∈) = 0$ for ∈ = -2 "
   ]
  },
  {
   "cell_type": "markdown",
   "metadata": {},
   "source": [
    "$ \\left[\n",
    "\\begin{array}{rrr}\n",
    "-x_2x_3  \\\\\n",
    "-x_1x_3 \\\\\n",
    "-x_1x_2 \\\\\n",
    "\\end{array}\n",
    "\\right] + λ_1\n",
    "\\left[\n",
    "\\begin{array}{rrr}\n",
    "1  \\\\\n",
    "2 \\\\\n",
    "2 \\\\\n",
    "\\end{array}\n",
    "\\right] =\n",
    "\\left[\n",
    "\\begin{array}{rrr}\n",
    "0  \\\\\n",
    "0 \\\\\n",
    "0 \\\\\n",
    "\\end{array}\n",
    "\\right] $ — ① and"
   ]
  },
  {
   "cell_type": "markdown",
   "metadata": {},
   "source": [
    "$x_1+2x_2+2x_3-74 = 0 $ — ②"
   ]
  },
  {
   "cell_type": "markdown",
   "metadata": {},
   "source": [
    "From ① , $λ_1 = (x_1x_3)/2 = (x_1x_2)/2 = x_2x_3$ for $x_1,x_2,x_3 ≠ 0 $"
   ]
  },
  {
   "cell_type": "markdown",
   "metadata": {},
   "source": [
    "we get $x_1 = 2x_2 = 2x_3$ and substitating into ②"
   ]
  },
  {
   "cell_type": "markdown",
   "metadata": {},
   "source": [
    "From ② , $2x_2+2x_2+2x_2-74 = 0 $"
   ]
  },
  {
   "cell_type": "markdown",
   "metadata": {},
   "source": [
    "$6x_2 = 74$"
   ]
  },
  {
   "cell_type": "markdown",
   "metadata": {},
   "source": [
    "$x_2 = 74/6 = 37/3$"
   ]
  },
  {
   "cell_type": "markdown",
   "metadata": {},
   "source": [
    "So a stationary pt. is $x^*(∈) = x_2x_3 = (37/3)(37/3) = 152$ for ∈ = -2 and $f(x^*(∈)) = -(74/3)(37/3)(37/3) = -3752.07$"
   ]
  },
  {
   "cell_type": "markdown",
   "metadata": {},
   "source": [
    "Then $∆f(x^*(∈)) = f(x^*(∈))-f(x^*)$"
   ]
  },
  {
   "cell_type": "markdown",
   "metadata": {},
   "source": [
    "$= -3752.07 - (-3456)$"
   ]
  },
  {
   "cell_type": "markdown",
   "metadata": {},
   "source": [
    "$= -296.07 $"
   ]
  },
  {
   "cell_type": "markdown",
   "metadata": {},
   "source": [
    "Compare with approximate value $∆𝑓 = λ^*∈ = 144(-2) = -288 $ ,"
   ]
  },
  {
   "cell_type": "markdown",
   "metadata": {},
   "source": [
    "We obtain the objective value decrease by 288 unit."
   ]
  },
  {
   "cell_type": "markdown",
   "metadata": {},
   "source": [
    "* Considering for any ∈"
   ]
  },
  {
   "cell_type": "markdown",
   "metadata": {},
   "source": [
    "constraint : $c_1 = x_1+2x_2+2x_3-72+∈ = 0 $ and $ ∇f(x̄(∈))-A(x̄(∈))λ(∈) = 0 $"
   ]
  },
  {
   "cell_type": "markdown",
   "metadata": {},
   "source": [
    "$ \\left[\n",
    "\\begin{array}{rrr}\n",
    "-x_2x_3  \\\\\n",
    "-x_1x_3 \\\\\n",
    "-x_1x_2 \\\\\n",
    "\\end{array}\n",
    "\\right] + λ_1\n",
    "\\left[\n",
    "\\begin{array}{rrr}\n",
    "1  \\\\\n",
    "2 \\\\\n",
    "2 \\\\\n",
    "\\end{array}\n",
    "\\right] =\n",
    "\\left[\n",
    "\\begin{array}{rrr}\n",
    "0  \\\\\n",
    "0 \\\\\n",
    "0 \\\\\n",
    "\\end{array}\n",
    "\\right] $"
   ]
  },
  {
   "cell_type": "markdown",
   "metadata": {},
   "source": [
    "$\\rightarrow λ = x_2x_3 $ and $ x_1 = 2x_2 = 2x_3 $"
   ]
  },
  {
   "cell_type": "markdown",
   "metadata": {},
   "source": [
    "Substitating in $c_1 = x_1+2x_2+2x_3-72+∈ = 0 $ ,"
   ]
  },
  {
   "cell_type": "markdown",
   "metadata": {},
   "source": [
    "$3x_1-72+∈ = 0$"
   ]
  },
  {
   "cell_type": "markdown",
   "metadata": {},
   "source": [
    "$x_1 = 72/3-∈/3$"
   ]
  },
  {
   "cell_type": "markdown",
   "metadata": {},
   "source": [
    "and $x^* =\n",
    "\\left[\n",
    "\\begin{array}{rrr}\n",
    "24-∈/3  \\\\\n",
    "12-∈/6 \\\\\n",
    "12-∈/6 \\\\\n",
    "\\end{array}\n",
    "\\right] $ with $ λ^*(∈) = (12-∈/6)^2 $"
   ]
  },
  {
   "cell_type": "markdown",
   "metadata": {},
   "source": [
    "and $f(x^*(∈)) = -(24-∈/3)(12-∈/6)^2 $"
   ]
  },
  {
   "cell_type": "markdown",
   "metadata": {},
   "source": [
    "The actual change in the function value is"
   ]
  },
  {
   "cell_type": "markdown",
   "metadata": {},
   "source": [
    "$∆𝑓 = f(x^*(∈))-f(x^*)$"
   ]
  },
  {
   "cell_type": "markdown",
   "metadata": {},
   "source": [
    "$ = -(24-∈/3)(12-∈/6)^2 + 3456 $"
   ]
  },
  {
   "cell_type": "markdown",
   "metadata": {},
   "source": [
    "$ = 144∈-2∈^2+1/108∈^3 $"
   ]
  },
  {
   "cell_type": "markdown",
   "metadata": {},
   "source": [
    "The first order estimate of this change is"
   ]
  },
  {
   "cell_type": "markdown",
   "metadata": {},
   "source": [
    "= $lim_{ϵ→0} ∆f(x^*(∈))/∆∈ = df/d∈ (x^*(∈)) |_∈=0 $"
   ]
  },
  {
   "cell_type": "markdown",
   "metadata": {},
   "source": [
    "$ = 144-4∈+1/36∈^2|∈=0 = 144 = λ^* $"
   ]
  },
  {
   "cell_type": "markdown",
   "metadata": {},
   "source": [
    "This provides a good estimate for small values of ∈."
   ]
  },
  {
   "cell_type": "markdown",
   "metadata": {},
   "source": [
    "For example ∈ = -0.1 gives a predicted change of $λ^*∈ = -14.4$ , compared to the actual change in objective function of -14.420012"
   ]
  },
  {
   "cell_type": "markdown",
   "metadata": {},
   "source": [
    "For ∈ = -2 , the predicted change in the objective function of -288 does not compare so well with the actual change of -297.07"
   ]
  },
  {
   "cell_type": "markdown",
   "metadata": {},
   "source": [
    "Increasing the maximum for the length plus the girth of 72 inches to 74 inches make the value of the largest parcel to increase. The predicted increase is 288 inches from a volume of 3456 $inch^3$"
   ]
  },
  {
   "cell_type": "markdown",
   "metadata": {},
   "source": [
    "The actual increase is 296.07 $inch^3$"
   ]
  },
  {
   "cell_type": "markdown",
   "metadata": {},
   "source": [
    "### Case III Inequality constraints"
   ]
  },
  {
   "cell_type": "markdown",
   "metadata": {},
   "source": [
    "The standard form of inequality constrained problem is"
   ]
  },
  {
   "cell_type": "markdown",
   "metadata": {},
   "source": [
    "Min 𝑓(𝑥̄) , 𝑥̄ ∈ $R^n$"
   ]
  },
  {
   "cell_type": "markdown",
   "metadata": {},
   "source": [
    "subject to $c_i(𝑥̄)$ = 0 , i ∈ E\n",
    "\n",
    "$c_i(𝑥̄) \\le 0$ , i ∈ I"
   ]
  },
  {
   "cell_type": "markdown",
   "metadata": {},
   "source": [
    "The feasible region is"
   ]
  },
  {
   "cell_type": "markdown",
   "metadata": {},
   "source": [
    "$\\Omega$ = {𝑥̄ ∈ $R^n$ | $c_i(𝑥̄)$ = 0 , i ∈ E and $c_i(𝑥̄) \\le 0$ , i ∈ I }"
   ]
  },
  {
   "cell_type": "markdown",
   "metadata": {},
   "source": [
    "for E = {1,...,m} , I = {$m_{E+1}$,...,m} "
   ]
  },
  {
   "cell_type": "markdown",
   "metadata": {},
   "source": [
    "where m= |E| + |I| is the total number of constaints and $\\Omega$ is the set of point satisfying all the constraint"
   ]
  },
  {
   "cell_type": "markdown",
   "metadata": {},
   "source": [
    "The Lagrangian function is"
   ]
  },
  {
   "cell_type": "markdown",
   "metadata": {},
   "source": [
    "L($\\overline{x}$,$\\overline{λ}$) = f($\\overline{x}$) + $\\sum_{i=1}^{m}$ $λ_i$$c_i$($\\overline{x}$) or"
   ]
  },
  {
   "cell_type": "markdown",
   "metadata": {},
   "source": [
    "L($\\overline{x}$,$\\overline{λ}$) = f($\\overline{x}$) + $\\overline{λ}^T$C($\\overline{x}$) "
   ]
  },
  {
   "cell_type": "markdown",
   "metadata": {},
   "source": [
    "where  $\\overline{λ}$ ∈ $R^m$ is a Lagrange multiplier and C($\\overline{x}$) : ${R^n \\to R^m}$"
   ]
  },
  {
   "cell_type": "markdown",
   "metadata": {},
   "source": [
    "Constraints which are satisfied as equalities at a point $x^*$ are active at $x^*$ . Only active constraint are binding at a solution $x^*$"
   ]
  },
  {
   "cell_type": "markdown",
   "metadata": {},
   "source": [
    "* Definition (An active constraint)"
   ]
  },
  {
   "cell_type": "markdown",
   "metadata": {},
   "source": [
    "Let $x^*$ ∈ $R^n$ and $c_i(x^*)$ = 0 , so $c_i(x^*)$ = 0 is an active constraint"
   ]
  },
  {
   "cell_type": "markdown",
   "metadata": {},
   "source": [
    "* Definition the set of active constraint at a point $x^*$ is denoted by $𝒜(x^*)$ = { i ∈ {1,2,...,m} | $c_i(x^*)$ = 0 }"
   ]
  },
  {
   "cell_type": "markdown",
   "metadata": {},
   "source": [
    "* Definition A feasible point $x^*$ is a regular point if the gradients of active constraints , $∇c_i(x^*)$ , i = 1,...,m = 𝒜 are linearly independent."
   ]
  },
  {
   "cell_type": "markdown",
   "metadata": {},
   "source": [
    "Example : Consider the problem "
   ]
  },
  {
   "cell_type": "markdown",
   "metadata": {},
   "source": [
    "Min $f(\\overline{x}) = -x_1^2 - (x_2-1)^2 (x_2-3)^2 - \\frac{x_2}{2}$"
   ]
  },
  {
   "cell_type": "markdown",
   "metadata": {},
   "source": [
    "subject to $c_1(\\overline{x}) = x_1^2 - x_2 \\le 0$\n",
    "\n",
    "$c_2(\\overline{x}) = -x_1 + x_2 - 2 \\le 0$\n",
    "\n",
    "$c_3(\\overline{x}) = x_1 + x_2 - 4 \\le 0$\n",
    "\n",
    "n=2 , m=3 , E=$\\phi$ and I = {1,2,3}"
   ]
  },
  {
   "cell_type": "markdown",
   "metadata": {},
   "source": [
    "Let $x^{(a)}$ = $\\begin{bmatrix} 0 \\\\ 2 \\end{bmatrix}$ , $x^{(b)}$ = $\\begin{bmatrix} 0 \\\\ 0 \\end{bmatrix}$ , $x^{(c)}$ = $\\begin{bmatrix} 1 \\\\ 3 \\end{bmatrix}$"
   ]
  },
  {
   "cell_type": "markdown",
   "metadata": {},
   "source": [
    "Evaluating the constraint functions at there points give"
   ]
  },
  {
   "cell_type": "markdown",
   "metadata": {},
   "source": [
    "$C(\\overline{x})$ = $\\begin{bmatrix} c_1(\\overline{x}) \\\\ c_2(\\overline{x}) \\\\ c_3(\\overline{x}) \\end{bmatrix}$ for $x^{(a)} , x^{(b)}$ and  $x^{(c)}$ then"
   ]
  },
  {
   "cell_type": "markdown",
   "metadata": {},
   "source": [
    "$C(x^{(a)})$ = $\\begin{bmatrix} c_1(x^{(a)}) \\\\ c_2(x^{(a)}) \\\\ c_3(x^{(a)}) \\end{bmatrix}$ = $\\begin{bmatrix} -2 \\\\ 0 \\\\ -2 \\end{bmatrix}$  ∈  $\\Omega$ So $c_2$ is active constraint for $x^{(a)}$"
   ]
  },
  {
   "cell_type": "markdown",
   "metadata": {},
   "source": [
    "$C(x^{(b)})$ = $\\begin{bmatrix} c_1(x^{(b)}) \\\\ c_2(x^{(b)}) \\\\ c_3(x^{(b)}) \\end{bmatrix}$ = $\\begin{bmatrix} 0 \\\\ -2 \\\\ 4 \\end{bmatrix}$  ∈  $\\Omega$ So $c_1$ is active constraint for $x^{(b)}$"
   ]
  },
  {
   "cell_type": "markdown",
   "metadata": {},
   "source": [
    "$C(x^{(c)})$ = $\\begin{bmatrix} c_1(x^{(c)}) \\\\ c_2(x^{(c)}) \\\\ c_3(x^{(c)}) \\end{bmatrix}$ = $\\begin{bmatrix} -2 \\\\ 0 \\\\ 0 \\end{bmatrix}$  ∈  $\\Omega$ So $c_2 , c_3$ are active constraints for $x^{(c)}$"
   ]
  },
  {
   "cell_type": "markdown",
   "metadata": {},
   "source": [
    "So $x^{(a)}$ , $x^{(b)}$ and $x^{(c)}$ are feasible points"
   ]
  },
  {
   "cell_type": "markdown",
   "metadata": {},
   "source": [
    "The set of active constraints are  $𝒜(x^{(a)})$ = { 2 } , $𝒜(x^{(b)})$ = { 1 } and $𝒜(x^{(c)})$ = { 2 , 3 }"
   ]
  },
  {
   "cell_type": "markdown",
   "metadata": {},
   "source": [
    "The constraints $c_1(x^{(a)})$ and $c_3(x^{(a)})$ which are not active at $x^{(a)}$ can be change a little without affecting the nature of $x^{(a)}$ . Similarly the constraint $c_1(x^{(c)})$ can be changed slightly without affecting $x^{(c)}$ ."
   ]
  },
  {
   "cell_type": "markdown",
   "metadata": {},
   "source": [
    "There is only the constraints that are active at $x^*$ that help to determine the nature of the point $x^*$."
   ]
  },
  {
   "cell_type": "markdown",
   "metadata": {},
   "source": [
    "#### First order necessary conditions"
   ]
  },
  {
   "cell_type": "markdown",
   "metadata": {},
   "source": [
    "##### Theorem Karush - kuhn - Tuchen (KKT) conditions"
   ]
  },
  {
   "cell_type": "markdown",
   "metadata": {},
   "source": [
    "Let $x^*$ be a local minimizer of inequality constrained problem and $x^*$ be a regular point. Then there exists multipliers $λ_i^*$  , i = 1 , ... , m such that \n",
    "\n",
    "i) $∇_x L(x^*,λ^*)$ = $∇f(x^*) + \\sum_{i=1}^{m} λ_i^* ∇c_i(x^*)$ = 0\n",
    "\n",
    "ii) $c_i(x^*)$ = 0 for i ∈ E ( i=1 ,...,$m_E$)\n",
    "\n",
    "iii) $c_i(x^*) \\le 0$ for i ∈ I ( i = $m_{E+1}$,...,m)\n",
    "\n",
    "iv) $λ_i^* \\ge 0$ for i ∈ I\n",
    "\n",
    "v) $λ_i^* c_i(x^*)$ = 0 for i = 1,2, ... ,m ( IUE )"
   ]
  },
  {
   "cell_type": "markdown",
   "metadata": {},
   "source": [
    "The KKT conditions must be satisfied at any local minimizer which is a regular point.\n",
    "\n",
    "ii) and iii) respresent the feasibility of $x^*$ \n",
    "\n",
    "iv) respresent the non-negative condition $λ_i^* \\ge 0$ for inequality constraint, which is different from equality constrained problem. There are no sign restriction on $λ_i^*$ corresponding to equality constraints\n",
    "\n",
    "v) be the complementary condition  $λ_i^* c_i(x^*)$ = 0 for i ∈ EUI. It impllies that the corresponding multiplier $λ_i^*$ = 0 for i ∉ 𝒜.\n",
    "\n",
    "Inactive constraints have  zero multiplier."
   ]
  },
  {
   "cell_type": "markdown",
   "metadata": {},
   "source": [
    "Now, the KKT conditions rewritten so\n",
    "\n",
    "i) $∇f(x^*) + \\sum_{i=1∈𝒜(x^*)} λ_i^* ∇c_i(x^*)$ = 0\n",
    "\n",
    "ii) $c_i(x^*)$ = 0 , i = 1 ,...,$m_E$\n",
    "\n",
    "iii) $c_i(x^*) \\le 0$ , i = $m_{E+1}$,...,m\n",
    "\n",
    "iv) $λ_i^* \\ge 0$ , i = $m_{E+1}$,...,m\n",
    "\n",
    "v) $λ_i^*$ = 0 , i ∉ 𝒜$(x^*)$"
   ]
  },
  {
   "cell_type": "markdown",
   "metadata": {},
   "source": [
    "Example : Consider KKT conditions for 3 given points\n",
    "\n",
    "Min $f(\\overline{x}) = -x_1^2 - (x_2-1)^2 (x_2-3)^2 - \\frac{x_2}{2}$\n",
    "\n",
    "subject to $c_1(\\overline{x}) = x_1^2 - x_2 \\le 0$\n",
    "\n",
    "$c_2(\\overline{x}) = -x_1 + x_2 - 2 \\le 0$\n",
    "\n",
    "$c_3(\\overline{x}) = x_1 + x_2 - 4 \\le 0$\n",
    "\n",
    "Given points $x^{(a)}$ = $\\begin{bmatrix} 0 \\\\ 2 \\end{bmatrix}$ , $x^{(b)}$ = $\\begin{bmatrix} 0 \\\\ 0 \\end{bmatrix}$ , $x^{(c)}$ = $\\begin{bmatrix} 1 \\\\ 3 \\end{bmatrix}$\n",
    "\n",
    "$𝒜(x^{(a)})$ = { 2 } , $𝒜(x^{(b)})$ = { 1 } and $𝒜(x^{(c)})$ = { 2 , 3 }\n"
   ]
  },
  {
   "cell_type": "markdown",
   "metadata": {},
   "source": [
    "The gredient of objective function and constraint function ,\n",
    "\n",
    "$∇f(x^*)$ = $\\begin{bmatrix} 2x_1 \\\\ -2(x_2-1)(x_2-3)^2 -2(x_2-1)^2 (x_2-3)-\\frac{1}{2} \\end{bmatrix}$ "
   ]
  },
  {
   "cell_type": "markdown",
   "metadata": {},
   "source": [
    "and $∇c_1(\\overline{x})$ = $\\begin{bmatrix} 2x_1 \\\\ -1 \\end{bmatrix}$ , $∇c_2(\\overline{x})$ = $\\begin{bmatrix} -1 \\\\ 1 \\end{bmatrix}$ , $∇c_3(\\overline{x})$ = $\\begin{bmatrix} 1 \\\\ 1 \\end{bmatrix}$\n",
    "\n",
    "* At $x^{(a)}$ = $\\begin{bmatrix} 0 \\\\ 2 \\end{bmatrix}$ , $𝒜(x^{(a)})$ = {2} , so (i) of KKT is "
   ]
  },
  {
   "cell_type": "markdown",
   "metadata": {},
   "source": [
    "$∇f(x^{(a)}) + λ_2∇c_2(x^{(a)})$ = 0\n",
    "\n",
    "$\\begin{bmatrix} 0 \\\\ -\\frac{1}{2} \\end{bmatrix}$ + $λ_2$$\\begin{bmatrix} -1 \\\\ 1 \\end{bmatrix}$ = $\\begin{bmatrix} 0 \\\\ 0 \\end{bmatrix}$ , which cannot find any value of $λ_2$\n",
    "\n",
    "Therefore, $x^{(a)}$ = $\\begin{bmatrix} 0 \\\\ 2 \\end{bmatrix}$ doesn't satisfy the KKT condition \n",
    "\n",
    "* At $x^{(b)}$ = $\\begin{bmatrix} 0 \\\\ 0 \\end{bmatrix}$ , $𝒜(x^{(b)})$ = { 1 } , then \n",
    "\n",
    "$∇f(x^{(b)}) + λ_1∇c_1(x^{(b)})$ = 0\n",
    "\n",
    "$\\begin{bmatrix} 0 \\\\ \\frac{47}{2} \\end{bmatrix}$ + $λ_1$$\\begin{bmatrix} 0 \\\\ -1 \\end{bmatrix}$ = $\\begin{bmatrix} 0 \\\\ 0 \\end{bmatrix}$ so $λ_1$ = $\\frac{47}{2} > 0$\n",
    "\n",
    "with $f(x^{(b)})$ = -9 , satisfies the first order necessary condition (KKT) for a minimizer.\n",
    "\n",
    "As the constraint $c_2(x^{(b)}) < 0$ and $c_3(x^{(b)}) < 0$ are not active, the corresponding Lagrange multipliers are $λ_2 , λ_3$ = 0\n",
    "\n",
    "* At $x^{(c)}$ = $\\begin{bmatrix} 1 \\\\ 3 \\end{bmatrix}$ , $𝒜(x^{(c)})$ = { 2 , 3 }\n",
    "\n",
    "$∇f(x^{(c)}) + λ_2∇c_2(x^{(c)}) + λ_3∇c_3(x^{(c)})$ = 0\n",
    "\n",
    "$\\begin{bmatrix} -2 \\\\ -\\frac{1}{2} \\end{bmatrix}$ + $λ_2$$\\begin{bmatrix} -1 \\\\ 1 \\end{bmatrix}$ + $λ_3$$\\begin{bmatrix} 1 \\\\ 1 \\end{bmatrix}$ = $\\begin{bmatrix} 0 \\\\ 0 \\end{bmatrix}$ , giving \n",
    "\n",
    "$λ_2 = -\\frac{3}{4}$ , $λ_3 = \\frac{5}{4}$ and $f(x^{(c)}) = -\\frac{5}{2}$ , so\n",
    "\n",
    "$x^{(c)}$ = $\\begin{bmatrix} 1 \\\\ 3 \\end{bmatrix}$ is neither a local minimizer nor a local maximizer."
   ]
  },
  {
   "cell_type": "markdown",
   "metadata": {},
   "source": [
    "Theorem : A constrained stationary point. $x^*$ is a feasible point at which there exists multipliers $λ_i^* , i∈𝒜(x^*)$ \n",
    "\n",
    "satisfying $∇f(x^*) + \\sum_{i=1∈𝒜(x^*)} λ_i ∇c_i(x^*)$ = 0\n",
    "\n",
    "i) If $λ_i(x^*) \\ge 0$ ∀ i ∈ $ 𝒜(x^*) \\cap I $ then $x^*$ satisfies KKT for a minimizer.\n",
    "\n",
    "\n",
    "Thus if $λ_i^* < 0$ for i ∈ $ 𝒜(x^*) \\cap I $ then $x^*$ is not a local minimizer.\n",
    "\n",
    "ii) If $λ_i(x^*) \\le 0$ for i ∈ $ 𝒜(x^*) \\cap I $ then $x^*$ satisfies KKT for a maximizer.\n",
    "\n",
    "This implies that if $λ_i > 0$ for an active inequaly constraint i ∈ $ 𝒜(x^*) \\cap I $ then $x^*$ is not a local max \n",
    "\n",
    "The second order information is used to determine if a constrained stationary point is a local min or local max, However if $x^*$ is a vertex of the feasible region then there are the first order sufficient conditions.\n",
    "\n",
    "If $x^*$ is a vertex of the feasible region then there are the following first order sufficient condition."
   ]
  },
  {
   "cell_type": "markdown",
   "metadata": {},
   "source": [
    "Let $x^*$ be a regular constrained stationary point with $|𝒜(x^*)|$ = n\n",
    "\n",
    "1) If $λ_i^* > 0$ ∀ i ∈ $ 𝒜(x^*) \\cap I $ then $x^*$ is a strict local minimizer.\n",
    "\n",
    "2) If $λ_i^* < 0$ ∀ i ∈ $ 𝒜(x^*) \\cap I $ then $x^*$ is a strict local maximizer.\n",
    "\n",
    "3) If there exists i,j ∈ $ 𝒜(x^*) \\cap I $  such that $λ_i^* > 0$ and $λ_i^* < 0$, then $x^*$ is a constrained saddle point.\n",
    "\n",
    "Example : Find all constrained stationary points for the objective function $f(\\overline{x})$ = $x_1^2 + x_2^2 - 6x_1 - 2x_2 + 10$ and the feasible region \n",
    "\n",
    "$\\Omega$ = {$\\overline{x} ∈ R^2 | -2 \\le x_1 \\le 2 , 0 \\le x_2 \\le 4$} . Identify them as local (global) minimizer or constrained saddle point \n",
    "\n",
    "$\\Rightarrow$ A constrained stationary points satisfies $∇f(x^*) + \\sum_{i=1∈𝒜(x^*)} λ_i ∇c_i(x^*)$ = 0 where $𝒜(x^*)$ = {i=1,...,m for $c_i(x^*)$ = 0}\n",
    "\n",
    "For m=4, and I={1,2,3,4}, and $c_i(\\overline{x}) \\le 0$ , \n",
    "\n",
    "$c_1 = -x_1-2 \\le 0$\n",
    "\n",
    "$c_2 = x_1-2 \\le 0$\n",
    "\n",
    "$c_3 = -x_2 \\le 0$\n",
    "\n",
    "$c_4 = x_2-4 \\le 0$\n"
   ]
  },
  {
   "cell_type": "markdown",
   "metadata": {},
   "source": [
    "The gradient of objective function and constraints \n",
    "\n",
    "$∇f(\\overline{x})$ = $\\begin{bmatrix} 2x_1-6 \\\\ 2x_2-2 \\end{bmatrix}$ and \n",
    "\n",
    "$∇c_1(\\overline{x})$ = $\\begin{bmatrix} -1 \\\\ 0 \\end{bmatrix}$ , $∇c_2(\\overline{x})$ = $\\begin{bmatrix} 1 \\\\ 0 \\end{bmatrix}$ , $∇c_3(\\overline{x})$ = $\\begin{bmatrix} 0 \\\\ -1 \\end{bmatrix}$ , $∇c_4(\\overline{x})$ = $\\begin{bmatrix} 0 \\\\ 1 \\end{bmatrix}$\n",
    "\n",
    "The Hessian of  $f(\\overline{x})$ : $∇^2f(\\overline{x})$ = $\\begin{bmatrix} 2 & 0 \\\\ 0 & 2 \\end{bmatrix}$\n",
    "\n",
    "Sketch the feasible region :"
   ]
  },
  {
   "cell_type": "markdown",
   "metadata": {},
   "source": [
    "<img src = \"images/sketch_86.png\" width = 250 >"
   ]
  },
  {
   "cell_type": "markdown",
   "metadata": {},
   "source": [
    "$𝒜(x^*) = \\phi$ , {1} , {2} , {3} , {4} , {1,3} , {1,4} , {2,3} , {2,4}\n",
    "\n",
    "* For $𝒜(x^*) = \\phi$ \n",
    "\n",
    "Let $∇f(x^*)$ = 0 \n",
    "\n",
    "$\\begin{bmatrix} 2x_1-6 \\\\ 2x_2-2 \\end{bmatrix}$ = $\\begin{bmatrix} 0 \\\\ 0 \\end{bmatrix}$ $\\Rightarrow$ $\\begin{bmatrix} x_1 \\\\ x_2 \\end{bmatrix}$  = $\\begin{bmatrix} 3 \\\\ 1 \\end{bmatrix}$ ∉ $\\Omega$\n",
    "\n",
    "So we ignore $x^*$ = $\\begin{bmatrix} 3 \\\\ 1 \\end{bmatrix}$"
   ]
  },
  {
   "cell_type": "markdown",
   "metadata": {},
   "source": [
    "* For $𝒜(x^*)$ = {1} , then \n",
    "\n",
    "$∇f(x^*) + λ_1∇c_1(x^*)$= 0 and $c_1(x^*)$ = 0\n",
    "\n",
    "$\\begin{bmatrix} 2x_1-6 \\\\ 2x_2-2 \\end{bmatrix}$ + $λ_1$ $\\begin{bmatrix} -1\\\\ 0 \\end{bmatrix}$ = $\\begin{bmatrix} 0 \\\\ 0 \\end{bmatrix}$ and $c_1$ = $-x_1-2$ = 0 $\\Rightarrow$ $X^* = \\begin{bmatrix} x_1 \\\\ x_2 \\end{bmatrix}$ = $\\begin{bmatrix} -2\\\\ 1 \\end{bmatrix}$ , $λ_1$ = -10 with $f(x^*)$ = 25\n",
    "\n",
    "$x^* = \\begin{bmatrix} -2\\\\ 1 \\end{bmatrix}$ ∈ $\\Omega$ because $c(x^*)$ = $\\begin{bmatrix} 0 & -4 & -1 & -3 \\end{bmatrix}^T \\le 0$\n",
    "\n",
    "So $x^* = \\begin{bmatrix} -2\\\\ 1 \\end{bmatrix}$ is a feasible constrained stationary point but $λ_1 = -10 < 0$ , therefore this point is not a local minimizer"
   ]
  },
  {
   "cell_type": "markdown",
   "metadata": {},
   "source": [
    "* For $𝒜(x^*)$ = {2} , then \n",
    "\n",
    "$∇f(x^*) + λ_2∇c_2(x^*)$= 0 and $c_2(x^*)$ = 0\n",
    "\n",
    "$\\begin{bmatrix} 2x_1^*-6 \\\\ 2x_2^*-2 \\end{bmatrix}$ + $λ_2$ $\\begin{bmatrix} 1 \\\\ 0 \\end{bmatrix}$ = $\\begin{bmatrix} 0 \\\\ 0 \\end{bmatrix}$  $\\Rightarrow$ $X^* = \\begin{bmatrix} 2\\\\ 1 \\end{bmatrix}$ , $λ_2^*$ = 2 with $f(x^*)$ = 1\n",
    "\n",
    "and $c(x^*)$ = $\\begin{bmatrix} -4 & 0 & -1 & -3 \\end{bmatrix}^T \\le 0$\n",
    "\n",
    "So $x^* = \\begin{bmatrix} 2\\\\ 1 \\end{bmatrix}$ is a feasible constrained stationary point. As $λ_2^* > 0$ , this point is not a local max\n"
   ]
  },
  {
   "cell_type": "markdown",
   "metadata": {},
   "source": [
    "* For $𝒜(x^*)$ = {3} , then \n",
    "\n",
    "$∇f(x^*) + λ_3∇c_3(x^*)$= 0 and $c_3(x^*)$ = 0 $\\Rightarrow$ $x^* = \\begin{bmatrix} 3 \\\\ 0 \\end{bmatrix}$ , $λ_3^* = -2$ but $C(x^*) = \\begin{bmatrix} -5 & 1 & 0 & -4 \\end{bmatrix}^T \\nleq $ 0 \n",
    "\n",
    "So $x^* = \\begin{bmatrix} 3 \\\\ 0 \\end{bmatrix}$ is not a feasible point (ignore $x^* = \\begin{bmatrix} 3 \\\\ 0 \\end{bmatrix}$)"
   ]
  },
  {
   "cell_type": "markdown",
   "metadata": {},
   "source": [
    "* For $𝒜(x^*)$ = {4} , then \n",
    "\n",
    "$∇f(x^*) + λ_4∇c_4(x^*)$= 0 and $c_4(x^*)$ = 0 $\\Rightarrow$ $x^* = \\begin{bmatrix} 3 \\\\ 4 \\end{bmatrix}$ , $λ_4^* = -6$ but $C(x^*) = \\begin{bmatrix} -5 & 1 & -4 & 0 \\end{bmatrix}^T \\nleq$ 0 \n",
    "\n",
    "So $x^* = \\begin{bmatrix} 3 \\\\ 4 \\end{bmatrix}$ is not a feasible point."
   ]
  },
  {
   "cell_type": "markdown",
   "metadata": {},
   "source": [
    "* For $𝒜(x^*)$ = {1,3} , $c_1 = 0$ , $c_3 = 0$ , \n",
    "\n",
    "$∇f(x^*) + λ_1∇c_1 + λ_3∇c_3$ = 0 $\\Rightarrow$ $x^* = \\begin{bmatrix} -2 \\\\ 0 \\end{bmatrix}$ , $f(x^*)$ = 26 ,$λ_1^*$ = -10 , $λ_3^*$ = -2 and $C(x^*) = \\begin{bmatrix} 0 & -4 & 0 & -4 \\end{bmatrix}^T$ $\\le$ 0 , So\n",
    "\n",
    " $x^* = \\begin{bmatrix} -2 \\\\ 0 \\end{bmatrix}$ is a feasible constrained stationary point and a regular point with |$𝒜(x^*)$| = n and $λ_i^* < 0$ for i ∈ $I$ , then $x^*$ is a strict local minimizer."
   ]
  },
  {
   "cell_type": "markdown",
   "metadata": {},
   "source": [
    "* For $𝒜(x^*)$ = {1,4} \n",
    "\n",
    "$∇f(x^*) + λ_1∇c_1(x^*) + λ_4∇c_4(x^*)$ = 0 , $c_1 = 0$ , $c_4 = 0$ $\\Rightarrow$ $x^* = \\begin{bmatrix} -2 \\\\ 4 \\end{bmatrix}$ , $f(x^*)$ = 34 ,$λ_1^*$ = -10 , $λ_4^*$ = -6 and $C(x^*) = \\begin{bmatrix} 0 & -4 & -4 & 0 \\end{bmatrix}^T$ $\\le$ 0 , So\n",
    "\n",
    " $x^* = \\begin{bmatrix} -2 \\\\ 4 \\end{bmatrix}$ is a feasible constrained stationary point \n",
    " \n",
    " As $x^*$ is a regular point with |$𝒜(x^*)$| = n and $λ_i^* < 0$ ,  $∀$ i=1,4 \n",
    " \n",
    " $x^*$ is a strict local maximizer."
   ]
  },
  {
   "cell_type": "markdown",
   "metadata": {},
   "source": [
    "* For $𝒜(x^*)$ = {2,3} ,\n",
    "\n",
    "$∇f(x^*) + λ_2∇c_2(x^*) + λ_3∇c_3(x^*)$ = 0 , $c_2 = 0$ , $c_3 = 0$ $\\Rightarrow$ $x^* = \\begin{bmatrix} 2 \\\\ 0 \\end{bmatrix}$ , $f(x^*)$ = 26 ,$λ_2^*$ = 2 , $λ_3^*$ = -2 and $C(x^*) = \\begin{bmatrix} -4 & 0 & 0 & -4 \\end{bmatrix}^T$ $\\le$ 0 , So\n",
    "\n",
    " $x^*$ is a feasible constrained stationary point with $λ_2 > 0$ and $λ_3 < 0$ , \n",
    " \n",
    " So $x^*$ is neither a maximizer or a minimizer (is a saddle point)\n",
    " "
   ]
  },
  {
   "cell_type": "markdown",
   "metadata": {},
   "source": [
    "* For $𝒜(x^*)$ = {2,4} , $c_2 = 0$ , $c_4 = 0$ and \n",
    "\n",
    "$∇f(x^*) + λ_2∇c_2(x^*) + λ_4∇c_4(x^*)$ = 0 , then $x^* = \\begin{bmatrix} 2 \\\\ 4 \\end{bmatrix}$ , $f(x^*)$ = 10 ,$λ_2^*$ = 2 , $λ_4^*$ = -6 \n",
    "\n",
    "$\\Rightarrow x^*$ is neither a maximizer nor minimizer (is a saddle point)"
   ]
  },
  {
   "cell_type": "markdown",
   "metadata": {},
   "source": [
    "All cinstrained stationary points \n",
    "\n",
    "$x^* = \\begin{bmatrix} -2 \\\\ 1 \\end{bmatrix} , \\begin{bmatrix} 2 \\\\ 1 \\end{bmatrix} , \\begin{bmatrix} -2 \\\\ 0 \\end{bmatrix} , \\begin{bmatrix} -2 \\\\ 4 \\end{bmatrix} , \\begin{bmatrix} 2 \\\\ 0 \\end{bmatrix} , \\begin{bmatrix} 2 \\\\ 4 \\end{bmatrix}$\n",
    "\n",
    "$f(\\begin{bmatrix} -2 \\\\ 1 \\end{bmatrix})$ = 25 $\\Rightarrow$ not local min\n",
    "\n",
    "$f(\\begin{bmatrix} 2 \\\\ 1 \\end{bmatrix})$ = 1 $\\Rightarrow$ not local max\n",
    "\n",
    "$f(\\begin{bmatrix} -2 \\\\ 0 \\end{bmatrix})$ = 26 $\\Rightarrow$ local max\n",
    "\n",
    "$f(\\begin{bmatrix} -2 \\\\ 4 \\end{bmatrix})$ = 34 $\\Rightarrow$ local max and global max\n",
    "\n",
    "$f(\\begin{bmatrix} 2 \\\\ 0 \\end{bmatrix})$ = 26 $\\Rightarrow$ saddle point\n",
    "\n",
    "$f(\\begin{bmatrix} 2 \\\\ 4 \\end{bmatrix})$ = 10 $\\Rightarrow$ saddle point"
   ]
  },
  {
   "cell_type": "markdown",
   "metadata": {},
   "source": [
    "This ploblem is a convex programming problem. There exist the unique global minimizer and local max occurs at an extreme point if $\\Omega$\n",
    "\n",
    "Then $x^* =  \\begin{bmatrix} 2 \\\\ 1 \\end{bmatrix})$ is the unique global minimizer with $λ_2^*$ = 2 > 0 and $f(x^*)$ = 1 and $x^* =  \\begin{bmatrix} -2 \\\\ 4 \\end{bmatrix})$ with  $f(x^*)$ = 34 is global minimizer"
   ]
  },
  {
   "cell_type": "markdown",
   "metadata": {},
   "source": [
    "Example : Consider Min $f(\\overline{x}) =  x_1^2 + x_2^2 + 3x_2$ , $\\overline{x} ∈ R^2$\n",
    "\n",
    "subject to $x_1^2 + {(x_2+1)}^2 - 1 \\ge 0$\n",
    "\n",
    "The feasible region $\\Omega$ = { $\\overline{x} ∈ R^2 | x_1^2 + {(x_2+1)}^2 -1 \\ge 0$ }\n",
    "\n",
    "<img src = \"images/sketch_90.png\" width = 250 >\n",
    "\n",
    "$\\Omega$ is unbounded, so there is no guarantee that the global extreme exists\n",
    "\n",
    "All constrained stationary points \n",
    "\n",
    "$∇f(x^*) + \\sum_{i=1∈𝒜(x^*)} λ_i ∇c_i(x^*)$ = 0 and $c_i(x^*)$ = 0 for i ∈ $ 𝒜(x^*)$ \n",
    "\n",
    "For $𝒜(x^*)$  = {1} , $\\phi$ :\n",
    "\n",
    "* At $𝒜(x^*) = \\phi$\n",
    "\n",
    "$∇f(x^*) = 0 \\Rightarrow \\begin{bmatrix} 2x_1 \\\\ 2x_2+3 \\end{bmatrix} = \\begin{bmatrix} 0 \\\\ 0 \\end{bmatrix} \\Rightarrow x^* = \\begin{bmatrix} 0 \\\\ -\\frac{3}{2}\\end{bmatrix} ∉ \\Omega$\n",
    "\n",
    "Since $c_1x^* = 0 + {(-\\frac{3}{2} + 1)}^2 -1 = -\\frac{3}{4} < 0$ ($c_1(x^*) \\ge 0$)\n",
    "\n",
    "Then $x^*$ is not a feasible point "
   ]
  },
  {
   "cell_type": "markdown",
   "metadata": {},
   "source": [
    "* For $𝒜(x^*)$ = {1} , \n",
    "\n",
    "$∇f(x^*) + λ_1∇c_1(x^*)$= 0 and $c_1(x^*)$ = 0 $\\Rightarrow$ $\\begin{bmatrix} 2x_1 \\\\ 2x_2+3 \\end{bmatrix}$ + $λ_1$ $\\begin{bmatrix} -2x_1 \\\\ -2(x_2+1) \\end{bmatrix}$ = $\\begin{bmatrix} 0 \\\\ 0 \\end{bmatrix}$  and $-x_1^2 - {(x_2+1)}^2 + 1 = 0$\n",
    "\n",
    "or $2x_1(1-λ_1) = 0 \\longrightarrow (1)$\n",
    "\n",
    "$2x_2+3-2λ_1(x_2+1) = 0 \\longrightarrow (2)$\n",
    "\n",
    "$x_1^2+{(x_2+1)}^2 - 1 = 0 \\longrightarrow (3)$\n",
    "\n",
    "From (1) , $x_1 = 0$ or $λ_1 = 1$ (it is not correct or false by substituting in (2))\n",
    "\n",
    "Consider $x_1$ = 0 by substituting into (3) , we obtain $x_2 = 0 , -2$ , so all staionary points are $x^* = \\begin{bmatrix} 0 \\\\ 0 \\end{bmatrix}$ for $λ_1 = \\frac{3}{2}$ and $\\begin{bmatrix} 0 \\\\ -2 \\end{bmatrix}$ for $λ_1 = \\frac{1}{2}$\n",
    "\n",
    "Therefore, both of them are possible local minimizer. We can use the second order condition to verify about a local maximizer or local minimizer."
   ]
  },
  {
   "cell_type": "markdown",
   "metadata": {},
   "source": [
    "#### Second order conditions for inequality constraints\n",
    "\n",
    "Theorem : (second order sufficient condition)\n",
    "\n",
    "Let $x^*$ be a regular point and a constrained stationary point with |$𝒜(x^*)$| = k < n. Let $Z^* ∈ R^{n(n-k)}$ be a full column  rank matrix satisfying ${Z^*}^T ∇c_i(x^*) = 0$ , so the column of $Z^*$ form a basis for the tangent space to the active constraints at $x^*$ and rank$(Z^*) = n-k$"
   ]
  },
  {
   "cell_type": "markdown",
   "metadata": {},
   "source": [
    "The reduced Hessian of Lagrangian is $W_z^* = {Z^*}^T∇_x^2L(x^*,λ^*)Z^*$ \n",
    "\n",
    "Let $λ^* , x^*$ be a regular constrained stationary point \n",
    "\n",
    "i) If $λ_i^* > 0$  $∀$ i ∈ $I \\cap 𝒜(x^*)$ and $W_z^*$ is positive definite then $x^*$ is a strict local minimizer.\n",
    "\n",
    "ii) If $λ_i^* < 0$ $∀$ i ∈ $I \\cap 𝒜(x^*)$ and $W_z^*$ is negative definite then $x^*$ is a strict local maximizer.\n",
    "\n",
    "iii) a) If there are i,j ∈ $I \\cap 𝒜(x^*)$ such that  $λ_i^* > 0$ and $λ_i^* < 0$ or\n",
    "\n",
    "b) If i ∈ $I \\cap 𝒜(x^*)$ , $λ_i^* > 0$ and $W_z^*$ has a negative eigen value or\n",
    "\n",
    "c) If i ∈ $I \\cap 𝒜(x^*)$ , $λ_i^* < 0$ and $W_z^*$ has a positive eigen value or\n",
    "\n",
    "d) $W_z^*$ is indefinite , then $x^*$ is neither a local min nor local max (saddle point)\n",
    "\n",
    "So if $λ_i^* ∀ i ∈ I \\cap 𝒜(x^*)$ is not satisfy the condition i) or ii) , then $x^*$ is a saddle point."
   ]
  },
  {
   "cell_type": "markdown",
   "metadata": {},
   "source": [
    "Example : Min $f(\\overline{x}) = -x_1^2 - (x_2-1)^2 (x_2-3)^2 - \\frac{x_2}{2}$\n",
    "\n",
    "subject to $c_1(\\overline{x}) = x_1^2 - x_2 \\le 0$\n",
    "\n",
    "$c_2(\\overline{x}) = -x_1 + x_2 - 2 \\le 0$\n",
    "\n",
    "$c_3(\\overline{x}) = x_1 + x_2 - 4 \\le 0$\n",
    "\n",
    "Consider the  points $x^*$ = $\\begin{bmatrix} 0 \\\\ 0 \\end{bmatrix}$ , $𝒜(x^*)$ = {1} with $λ_i^* = \\frac{42}{2}$\n",
    "\n",
    "The Hessian of the objective function is \n",
    "\n",
    "$∇^2f(\\overline{x}) = \\begin{bmatrix} -2 & 0  \\\\ 0 & -2{(x_2-3)}^2-8(x_2-1)(x_2-3)-2{(x_2-1)}^2\\end{bmatrix}$ and $∇^2c_1(\\overline{x}) = \\begin{bmatrix} 2 & 0 \\\\ 0 & 0 \\end{bmatrix}$\n",
    "\n",
    "at $x^* = \\begin{bmatrix} 0 \\\\ 0 \\end{bmatrix}$ , the Hessian of the Lagrangian function  is $∇_x^2L(x^*,λ_i^*) = ∇^2f(x^*) + λ_i∇^2c_1(x^*)$ = $\\begin{bmatrix} -2 & 0 \\\\ 0 & -44 \\end{bmatrix}$ + $\\frac{47}{2}\\begin{bmatrix} 2 & 0 \\\\ 0 & 0 \\end{bmatrix}$ = $\\begin{bmatrix} 45 & 0 \\\\ 0 & -44 \\end{bmatrix}$\n",
    "\n",
    "find $Z^* ∈ R^{n(n-k)}$ such that ${Z^*}^T A(x^*) = 0$ , where $A(x^*) = \\begin{bmatrix} ∇c_1 \\end{bmatrix} = \\begin{bmatrix} 2x_1 \\\\ -1 \\end{bmatrix}$ at $x^* =  \\begin{bmatrix} 0 \\\\ 0 \\end{bmatrix} \\Rightarrow A(x^*) =  \\begin{bmatrix} 0 \\\\ -1 \\end{bmatrix}$\n",
    "\n",
    "A suitable basis matrix $Z^*$ is $Z^* =  \\begin{bmatrix} 0 \\\\ 1 \\end{bmatrix}$ , then \n",
    "\n",
    "$W_z^* = {Z^*}^T∇_x^2L(x^*,λ^*)Z^*$  = $\\begin{bmatrix} 1 & 0 \\end{bmatrix}\\begin{bmatrix} 45 & 0 \\\\ 0 & -44 \\end{bmatrix}\\begin{bmatrix} 1 \\\\ 0 \\end{bmatrix} = 45 > 0$\n",
    "\n",
    "As $λ_i^* > 0$ and $W_Z^*(x^* ,λ^*)$ is positive definite , then $x^* = \\begin{bmatrix} 0 \\\\ 0 \\end{bmatrix}$ is a strict local minimizer."
   ]
  },
  {
   "cell_type": "markdown",
   "metadata": {},
   "source": [
    "Example : Min $f(\\overline{x}) = x_1^2 + x_2^2 - 6x_1 - 2x_2 +10 $ with $\\Omega$ = { $\\overline{x} ∈ R^2 | -2 \\le x_1 \\le2 , 0 \\le x_2 \\le 4 $ } \n",
    "\n",
    "All of the constrains are \n",
    "\n",
    "$c_1 = -x_1-2 \\le 0$\n",
    "\n",
    "$c_2 = x_1-2 \\le 0$\n",
    "\n",
    "$c_3 = -x_2 \\le 0$\n",
    "\n",
    "$c_4 = x_2-4 \\le 0$\n",
    "\n",
    "and $∇f(\\overline{x}) = \\begin{bmatrix} 2x_1-6 \\\\ 2x_2-2 \\end{bmatrix}$ ,  $∇^2f(\\overline{x}) = \\begin{bmatrix} 2 & 0 \\\\ 0 & 2\n",
    "\\end{bmatrix}$ and  $∇^2c_i(\\overline{x}) = 0$ then $∇_x^2L(x^*,λ_i^*) = ∇^2f(x^*)$\n",
    "\n",
    "Consider the 2 case which the first order information is not sufficient to determine the nature of the constrained stationary point \n",
    "\n",
    "* For $𝒜(x^*)$ = {1} ,  $x^* = \\begin{bmatrix} -2 \\\\ 1 \\end{bmatrix}$ , $λ_1^* = -10 , f(x^*) = 24$\n",
    "\n",
    "$∇c_1(x^*) = \\begin{bmatrix} -1 \\\\ 0 \\end{bmatrix}$ then $Z^* = \\begin{bmatrix} 0 \\\\ 1 \\end{bmatrix}$ ,  $∇_x^2L(x^*,λ_i^*) = \\begin{bmatrix} 2 & 0 \\\\ 0 & 2 \\end{bmatrix}$\n",
    "\n",
    "$ \\Rightarrow W_z^* = {Z^*}^T∇_x^2L(x^*,λ^*)Z^* =  \\begin{bmatrix} 0 & 1 \\end{bmatrix}\\begin{bmatrix} 2 & 0 \\\\ 0 & 2 \\end{bmatrix}\\begin{bmatrix} 0 \\\\ 1 \\end{bmatrix} = 2 > 0$\n",
    "\n",
    "As $λ_i^* < 0$ and $W_Z^* > 0$ , $x^* = \\begin{bmatrix} -2 \\\\ 1 \\end{bmatrix}$ is a saddle point.\n",
    "\n",
    "* For $𝒜(x^*)$ = {2} , $x^* = \\begin{bmatrix} 2 \\\\ 1 \\end{bmatrix}$ , $λ_2^* = 2 , f(x^*) = 1$\n",
    "\n",
    "$∇c_2(x^*) = \\begin{bmatrix} 1 \\\\ 0 \\end{bmatrix}$ then $Z^* = \\begin{bmatrix} 0 \\\\ 1 \\end{bmatrix}$ ,  $∇_x^2L = \\begin{bmatrix} 2 & 0 \\\\ 0 & 2 \\end{bmatrix}$\n",
    "\n",
    "$ \\Rightarrow W_z^* = {Z^*}^T∇_x^2L(x^*,λ^*)Z^*  = 2 > 0$\n",
    "\n",
    "As $λ_i^* > 0$ and $W_Z^* > 0$ , $x^* = \\begin{bmatrix} 2 \\\\ 1 \\end{bmatrix}$ is a strict local minimizer."
   ]
  },
  {
   "cell_type": "markdown",
   "metadata": {},
   "source": [
    "Example : Consider Min $f(\\overline{x}) =  x_1^2 + x_2^2 + 3x_2$ , $\\overline{x} ∈ R^2$\n",
    "\n",
    "subject to $x_1^2 + {(x_2+1)}^2 - 1 \\ge 0$\n",
    "\n",
    "Consider 2 points of $𝒜(x^*)$ = {1} \n",
    "\n",
    "At $x^* = \\begin{bmatrix} 0 \\\\ 0 \\end{bmatrix} , λ_1^* = \\frac{3}{2} , f(\\overline{x}) = 0$ and\n",
    "\n",
    "At $x^* = \\begin{bmatrix} 0 \\\\ -2 \\end{bmatrix} , λ_1^* = \\frac{1}{2} , f(\\overline{x}) = -2$\n"
   ]
  },
  {
   "cell_type": "markdown",
   "metadata": {},
   "source": [
    "#### Second order conditions"
   ]
  },
  {
   "cell_type": "markdown",
   "metadata": {},
   "source": [
    "$∇f(\\overline{x}) = \\begin{bmatrix} 2x_1 \\\\ 2x_2+3 \\end{bmatrix} , ∇^2f(\\overline{x}) = \\begin{bmatrix} 2 & 0 \\\\ 0 & 2 \\end{bmatrix}$\n",
    "\n",
    "$∇c_1(\\overline{x}) = \\begin{bmatrix} -2x_1 \\\\ -2(x_2+1) \\end{bmatrix} , ∇^2c_1(\\overline{x}) = \\begin{bmatrix} -2 & 0 \\\\ 0 & -2 \\end{bmatrix}$\n",
    "\n",
    "Find $Z^*(x^*) ∈ R^{n(n-k)}$ such that ${Z^*}^T A(x^*) = 0$\n",
    "\n",
    "at $x^* = \\begin{bmatrix} 0 \\\\ 0 \\end{bmatrix} , A(x^*) = \\begin{bmatrix} 0 \\\\ -2 \\end{bmatrix} , let Z^* = \\begin{bmatrix} 1 \\\\ 0 \\end{bmatrix}$ and\n",
    "\n",
    "at $x^* = \\begin{bmatrix} 0 \\\\ -2 \\end{bmatrix} , A(x^*) = \\begin{bmatrix} 0 \\\\ 2 \\end{bmatrix} , let Z^* = \\begin{bmatrix} 1 \\\\ 0 \\end{bmatrix}$\n",
    "\n",
    "More generally any point $x^*$ satisfying $c_i(x^*) = 0$\n",
    "\n",
    "$A(x^*) = \\begin{bmatrix} -2x_1 \\\\ -2(x_2+1) \\end{bmatrix} \\Rightarrow Z(x^*) = \\begin{bmatrix} x_2+1 \\\\ -x_1 \\end{bmatrix}$\n",
    "\n",
    "The Hessian of Lagrangian function is $∇_x^2L(x^*,λ_i^*) = ∇^2f(x^*) + \\sum_{i=1∈𝒜(x^*)} λ_i^*∇^2c_i(x^*)$ \n",
    "\n",
    "$= \\begin{bmatrix} 2 & 0 \\\\ 0 & 2 \\end{bmatrix} + λ_1^*\\begin{bmatrix} -2 & 0 \\\\ 0 & -2 \\end{bmatrix} = \\begin{bmatrix} 2-2λ_1^* & 0 \\\\ 0 & 2-2λ_1^* \\end{bmatrix}$\n",
    "\n",
    "Hence the reduced Hessian is \n",
    "\n",
    "$W_z^* = {Z^*}^T∇_x^2L(x^*,λ^*)Z^* = \\begin{bmatrix} 1 & 0 \\end{bmatrix}\\begin{bmatrix} 2-2λ_1^* & 0 \\\\ 0 & 2-2λ_1^* \\end{bmatrix}\\begin{bmatrix} 1 \\\\ 0 \\end{bmatrix} = 2-2λ_1$\n",
    "\n",
    "At $x^* = \\begin{bmatrix} 0 \\\\ 0 \\end{bmatrix} , λ_1^* = \\frac{3}{2} \\Rightarrow W_Z^* = 2 - 2(\\frac{1}{2}) = 1 > 0$\n",
    "\n",
    "Then $x^* = \\begin{bmatrix} 0 \\\\ -2 \\end{bmatrix}$ is a strict local minimizer."
   ]
  },
  {
   "cell_type": "markdown",
   "metadata": {},
   "source": [
    "#### Sensitivity analysis for inequality constrained problem"
   ]
  },
  {
   "cell_type": "markdown",
   "metadata": {},
   "source": [
    "Let $x^*$ is a minimizer of inquality constrained problem then $x^*$ satisfies the following conditions\n",
    "\n",
    "i) Linear independence : $∇c_i(x^*)$ for the active constraints $i ∈ 𝒜(x^*)$ are linearly independent\n",
    "\n",
    "ii) Strict complementarity : the Lagrange multiplier  $λ_i^* > 0$ for  $i ∈ I \\cap 𝒜(x^*)$\n",
    "\n",
    "iii) Second order sufficiency ${\\overline{d}}^T∇_x^2(x^* ,λ^*)\\overline{d} > 0 , ∀  \\overline{d} \\ne 0$"
   ]
  },
  {
   "cell_type": "markdown",
   "metadata": {},
   "source": [
    "The rate of change of the objective function with respect to change in the $i^{th}$ constraint , such that $c_i(\\overline{x}) \\le 0$ is $\\frac{df(∈_i)}{d∈_i} {\\mid}_{∈ \\rightarrow 0}$ = $λ_i$\n",
    "\n",
    "or the change in  the optimal objective is $\\Delta f(x^*) = λ_i^*∈_i$ and an estimate of the new optimal objective value is \n",
    "\n",
    "$f(∈_i) = f(x^*) + \\Delta f(x^*) = f(x^*) + λ_i^*∈_i$ for $i ∈ I \\cap 𝒜(x^*)$\n",
    "\n",
    "If the $i^th$ inequality constraint is not active at $x^*$ , so $i ∉ 𝒜(x^*)$ , then $λ_i^* = 0$. In the case the constant term $∈_i$ in the $i^{th}$ constraint can be changed a little without affecting the optimal\n",
    "\n",
    "Example : Min $f(\\overline{x}) = {(2x_1-3)}^2 + {(2x_2-3)}^2 , \\overline{x} ∈ R^2$\n",
    "\n",
    "subject to $c_1(\\overline{x}) = x_1^2 + x_2^2 -2 \\le 0$\n",
    "\n",
    "$c_2(\\overline{x}) = -x_1 \\le 0$\n",
    "\n",
    "$c_3(\\overline{x}) = -x_2 \\le 0$\n",
    "\n",
    "<img src = \"images/sketch_97.png\" width = 250 >\n",
    "\n",
    "For $𝒜(x^*)$ = {1} , the Lagrangion function \n",
    "\n",
    "$∇_xL(\\overline{x},\\overline{λ}) = ∇f(\\overline{x}) + λ_1∇c_1(\\overline{x})$\n",
    "\n",
    "$ = \\begin{bmatrix} 4(2x_1-3) \\\\ 4(2x_2-3) \\end{bmatrix} + λ_1\\begin{bmatrix} 2x_1 \\\\ 2x_2 \\end{bmatrix}= \\begin{bmatrix} 0 \\\\ 0 \\end{bmatrix}  \\rightarrow \\begin{bmatrix} (1) \\\\ (2) \\end{bmatrix}$  \n",
    "\n",
    "$∇_λL(\\overline{x},\\overline{λ}) = c_1 = x_1^2 + x_2^2 - 2 = 0  \\rightarrow (3) $\n",
    "\n",
    "Solving (1) = (2) , $x_1 =  x_2$ substitutes in (3) , $2x_1^2 = 2 \\Rightarrow x_1 = \\pm 1$\n",
    "\n",
    "So the stationary point are $x^* = \\begin{bmatrix} 1 \\\\ 1 \\end{bmatrix} , \\begin{bmatrix} -1 \\\\ -1 \\end{bmatrix}$\n",
    "\n",
    "for $λ_1 = 2$ and $λ_1 = -10$ respectively\n",
    "\n",
    "At a point $x^* = \\begin{bmatrix} 1 \\\\ 1 \\end{bmatrix}$ has $C(x^*) = \\begin{bmatrix} 0 \\\\ -1 \\\\ -1 \\end{bmatrix} \\le 0$ so $x^* = \\begin{bmatrix} 1 \\\\ 1 \\end{bmatrix}$ is a feasible point.\n",
    "\n",
    "At a point $x^* = \\begin{bmatrix} -1 \\\\ -1 \\end{bmatrix}$ has $C(x^*) = \\begin{bmatrix} 0 \\\\ 1 \\\\ 1 \\end{bmatrix} \\nleq 0$ so $x^* = \\begin{bmatrix} -1 \\\\ -1 \\end{bmatrix}$ is not a feasible point. (ignore)"
   ]
  },
  {
   "cell_type": "markdown",
   "metadata": {},
   "source": [
    "#### Second order conditions test for a minimizer"
   ]
  },
  {
   "cell_type": "markdown",
   "metadata": {},
   "source": [
    "At $x^* = \\begin{bmatrix} 1 \\\\ 1 \\end{bmatrix}$ , $λ_1^* = 2 , A(x^*) = [∇c_1] = \\begin{bmatrix} 2 \\\\ 2 \\end{bmatrix}$\n",
    "\n",
    "For $Z^* ∈ R^{2*1}$ such that ${Z^*}^T A(x^*) = 0$ , let $z^* = \\begin{bmatrix} 1 \\\\ -1 \\end{bmatrix}$ and $∇^2L(x^* , λ^*) = \\begin{bmatrix} 8+2λ_1 & 0 \\\\ 0 & 8+2λ_1 \\end{bmatrix}$ = $\\begin{bmatrix} 12 & 0 \\\\ 0 & 12 \\end{bmatrix}$ for $λ_1 = 2$\n"
   ]
  },
  {
   "cell_type": "markdown",
   "metadata": {},
   "source": [
    "* The project Hessian\n",
    "\n",
    "${Z^*}^T∇_x^2L(x^*,λ^*)Z^* = \\begin{bmatrix} 1 & -1 \\end{bmatrix}\\begin{bmatrix} 12 & 0 \\\\ 0 & 12 \\end{bmatrix}\\begin{bmatrix} 1 \\\\ -1 \\end{bmatrix} = 24 > 0$ , So $x^* = \\begin{bmatrix} 1 \\\\ 1 \\end{bmatrix}$ is a strict local minimizer.\n",
    "\n",
    "* Let $c_i(\\overline{x})$ change to $x_1^2 + x_2^2 \\le 1.6$ , corresponding to the perturbation ${\\epsilon}_1 = 0.4$ \n",
    "\n",
    "An estimate of the change in the optimal objective value is $\\Delta f(x^*) = λ_i^*{\\epsilon}_i = 2(0.4) = 0.8$\n",
    "\n",
    "The real value of  $\\Delta f(x^*)$ when $c_1 \\le 1$ change to $c_i + {\\epsilon}_i \\le 0$\n",
    "\n",
    "The optimization problem : Min $f(\\overline{x}) = {(2x_1-3)}^2 + {(2x_2-3)}^2 , \\overline{x} ∈ R^2$\n",
    "\n",
    "subject to $c_1(\\overline{x}) = x_1^2 + x_2^2 -2 + \\epsilon  \\le 0$\n",
    "\n",
    "$c_2(\\overline{x}) = -x_1 \\le 0$\n",
    "\n",
    "$c_3(\\overline{x}) = -x_2 \\le 0$\n",
    "\n",
    "with the perturbed constraint $c_i(\\overline{x}) + \\epsilon \\le 0$ active the optimal which is a solution of \n",
    "\n",
    "$∇f(\\overline{x}) + λ_1∇c_1(\\overline{x}) = 0$ and $c_i(\\overline{x}) + {\\epsilon}_1 \\le 0$\n",
    "\n",
    "$= \\begin{bmatrix} 4(2x_1-3) \\\\ 4(2x_2-3) \\end{bmatrix} + λ_1\\begin{bmatrix} 2x_1 \\\\ 2x_2 \\end{bmatrix} = \\begin{bmatrix} 0 \\\\ 0 \\end{bmatrix}$\n",
    "\n",
    "The first 2 equation , get $x_1 = x_2$ and substituting into the last equation we get\n",
    "\n",
    "$x_1^2 + x_1^2 -2 + {\\epsilon}_1 = 0$\n",
    "\n",
    "$2x_1^2 = 2 - {\\epsilon}_1$\n",
    "\n",
    "$x_1 = \\pm  \\sqrt{1 - \\frac{{\\epsilon}_1}{2}} ∈ \\Omega$ , so $x_1 = x_2 = \\sqrt{1 - \\frac{{\\epsilon}_1}{2}}$ \n",
    "\n",
    "Then a stationary point $x^* = \\begin{bmatrix} \\sqrt{1 -\\frac{{\\epsilon}_1}{2}} \\\\ \\sqrt{1 -\\frac{{\\epsilon}_1}{2}}\\end{bmatrix} = \\sqrt{1 -\\frac{{\\epsilon}_1}{2}}\\begin{bmatrix} 1 \\\\ 1 \\end{bmatrix}$ with $λ_1(\\epsilon)_1 = -4 + \\frac{6}{\\sqrt{1 -\\frac{{\\epsilon}_1}{2}}}$ and \n",
    "\n",
    "$f(x^*(\\epsilon)) = 2{(2\\sqrt{1 -\\frac{{\\epsilon}_1}{2}} - 3)}^2 = 26 - 4{\\epsilon}_1 - 12\\sqrt{4 - 2{\\epsilon}_1}$\n",
    "\n",
    "If ${\\epsilon}_1 = 0 , then f(x^*(0)) = 2$ ($1^{st}$ constraint is not perturbed)\n",
    "\n",
    "If ${\\epsilon}_1 = 0.4 then f(x^*(0.4)) = 26 - 4(0.4) -12\\sqrt{4-0.8} = 2.9337472$\n",
    "\n",
    "Therefore $\\Delta f(x^*) = f(x^*(0.4)) - f(x^*(0)) = 0.9337472$\n",
    "\n",
    "Comparing with the estimate value \n",
    "\n",
    "$\\Delta f(x^*) = λ_1{\\epsilon}_1 = 0.8$"
   ]
  },
  {
   "cell_type": "markdown",
   "metadata": {},
   "source": [
    "#### Duality"
   ]
  },
  {
   "cell_type": "markdown",
   "metadata": {},
   "source": [
    "Consider the inequality constrained prroblem for n variables and m constrains\n",
    "\n",
    "The primal problem of NLP\n",
    "\n",
    "Min $f(\\overline{x}) , \\overline{x} ∈ R^n$ \n",
    "\n",
    "subject to $c_i(\\overline{x}) \\le 0 , i ∈ I$ where $|I|$ = m and E = $\\phi$\n",
    "\n",
    "* The dual problem\n",
    "\n",
    "Max $f(\\overline{y}) + \\sum_{i=1}^{m} λ_ic_i(\\overline{x}) , \\overline{y} ∈ R^n , \\overline{λ} ∈ R^m $ \n",
    "\n",
    "subject to $∇f(\\overline{y}) + \\sum_{i=1}^{m} λ_i∇c_i(\\overline{x}) = 0$ , $λ_i \\ge 0$ for i = 1, 2, ... m\n",
    "\n",
    "The dual problem has n+m variables , n equality constraints and m inequality  constraints\n",
    "\n",
    "The objective function of the dual problem is the Lagrangian function of the NLP.\n",
    "\n",
    "3.1 Weak duality theorem\n",
    "\n",
    "If $\\overline{x}$ is a feasible point for NLP and $(\\overline{y} , \\overline{λ})$ is feasible point for Dual problem , then $f(\\overline{x}) \\ge f(\\overline{y}) + \\sum_{i=1}^{m} λ_i∇c_i(\\overline{y})$\n",
    "\n",
    "This problem has weak duality. \n",
    "\n",
    "The particular optimal objective value of NLP is larger than Dual problem or equal to the optimal objective value of Dual problem \n",
    "\n",
    "That is $f(x^*) \\ge f(y^*) + \\sum_{i=1}^{m} λ_i^*c_i(y^*)$ or\n",
    "\n",
    "min (NLP) $\\ge$ max (Dual problem)"
   ]
  },
  {
   "cell_type": "markdown",
   "metadata": {},
   "source": [
    "3.2 Strong Duality theorem\n",
    "\n",
    "Let NLP be a convex programming problem and associated with KKT conditions at $x^*$ then there exists a maximizer $(Y^* , λ^*)$ for the dual problem \n",
    "\n",
    "such that $f(x^*) = f(y^*) + \\sum_{i=1}^{m} λ_i^*c_i(y^*)$\n",
    "\n",
    "That is the optimal objective value of NLP and Dual problem be equal. \n",
    "\n",
    "Example : The nonlinear programming problem \n",
    "\n",
    "Min $f(\\overline{x}) = x_1^2 + x_2^2$\n",
    "\n",
    "subject to $c_1 = 2x_1 + x_2 + 4 \\le 0$\n",
    "\n",
    "This problem is the convex programming problems , since $f(\\overline{x})$ is convex when $∇^2f = \\begin{bmatrix} 2 & 0 \\\\ 0 & 2 \\end{bmatrix}$ is positive and $c_1(\\overline{x})$ is convex set.\n",
    "\n",
    "At  $𝒜(x^*)$ = {1} , the stationary point \n",
    "\n",
    "$∇f + λ_1∇c_1 = 0 , c_1 = 0 \\Rightarrow  \\begin{bmatrix} 2x_1 \\\\ 2x_2 \\end{bmatrix} + λ_1\\begin{bmatrix} 2 \\\\ 1 \\end{bmatrix} = \\begin{bmatrix} 0 \\\\ 0 \\end{bmatrix} \\rightarrow \\begin{bmatrix} (1) \\\\ (2) \\end{bmatrix}$ and $2x_1 + x_2 = -4 \\rightarrow (3)$\n",
    "\n",
    "From (1) , $2x_1 + λ_1 = 0 \\Rightarrow λ_1 = -x_1$\n",
    "\n",
    "From (2) , $2x_2 + λ_1 = 0 \\Rightarrow λ_1 = -2x_2$\n",
    "\n",
    "So $x_1 = 2x_2$\n",
    "\n",
    "Substituting $x_1 = 2x_2$ into (3) , we got $5x_2 = -4 \\Rightarrow x_2 = -\\frac{4}{5}$ and $x_1 = -\\frac{8}{5}$\n",
    "\n",
    "Then a stationary point $x^*$ is $x^* = \\begin{bmatrix} -\\frac{8}{5} \\\\ -\\frac{4}{5} \\end{bmatrix} , λ_1^* = \\frac{8}{5} > 0$ which satisfies KKT condition , so $x^*$ is a global minimizer and $f(x^*) = {(-\\frac{8}{5})}^2 + {(-\\frac{4}{5})}^2 =  \\frac{16}{5}$\n",
    "\n",
    "The Dual problem \n",
    "\n",
    "Max $f(\\overline{y}) = y_1^2 + y_2^2 + λ_1(4 + 2y_1 + 2y_2)$\n",
    "\n",
    "subject to $∇f(\\overline{y}) + λ_i∇c_i(\\overline{y}) = 0 , λ_i \\ge 0$\n",
    "\n",
    "Then the dual nonlinear problem become Max $f(\\overline{y}) = y_1^2 + y_2^2 + λ_1(4 + 2y_1 + y_2)$\n",
    "\n",
    "subject to $2y_1 + 2λ_1 = 0 , 2y_2 + λ_1 = 0 , λ_1 \\ge 0 \\Rightarrow y_1 = 2y_2$\n",
    "\n",
    "Substituting $y_1 = 2y_2$ into $f(\\overline{y})$ , we obtain\n",
    "\n",
    "The derivative of $f(y_2)$ to find the optimal value of $y_2$ \n",
    "\n",
    "$f'(y_2) = -10y_2 -8 = 0 \\Rightarrow y_2 = -\\frac{8}{10} = -\\frac{4}{5}$ and $y_1 = -\\frac{16}{10} = -\\frac{8}{5}$\n",
    "\n",
    "Therefore , the global maximizer $y^* = \\begin{bmatrix} y_1^* \\\\ y_2^* \\end{bmatrix} = \\begin{bmatrix} -\\frac{8}{5} \\\\ -\\frac{4}{5} \\end{bmatrix}$ with $λ^* = \\frac{8}{5} > 0$ and the maximum value of the dual problem is $f(y^*) = \\frac{16}{5} = f(x^*)$\n",
    "\n",
    "So the problem is the strong dual."
   ]
  }
 ],
 "metadata": {
  "kernelspec": {
   "display_name": "Python 3",
   "language": "python",
   "name": "python3"
  },
  "language_info": {
   "codemirror_mode": {
    "name": "ipython",
    "version": 3
   },
   "file_extension": ".py",
   "mimetype": "text/x-python",
   "name": "python",
   "nbconvert_exporter": "python",
   "pygments_lexer": "ipython3",
   "version": "3.7.6"
  }
 },
 "nbformat": 4,
 "nbformat_minor": 2
}
