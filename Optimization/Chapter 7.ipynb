{
 "cells": [
  {
   "cell_type": "markdown",
   "metadata": {},
   "source": [
    "<h1 align=\"center\">Chapter VII<br><br>\n",
    "Methods for nonlinearly constrained problem<br><br>"
   ]
  },
  {
   "cell_type": "markdown",
   "metadata": {},
   "source": [
    "The general nonlinear programming problem<br>\n",
    "$$Min.\\;\\;\\;\\;\\;\\;\\;\\;f(\\bar x)\\;,\\;\\;\\bar x\\in\\mathbb R^{n}\\;\\;\\;\\;$$\n",
    "$$Subj.\\;to\\;\\;\\;\\;c_i(\\bar x)=0\\;,\\;\\;i\\in E$$\n",
    "$$\\;\\;\\;\\;\\;\\;\\;\\;\\;\\;\\;\\;\\;\\;\\;c_i(\\bar x)\\le0\\;,\\;\\;i\\in I$$"
   ]
  },
  {
   "cell_type": "markdown",
   "metadata": {},
   "source": [
    "$\\;\\;\\;\\;\\;$ where some or all of the function $c_i(\\bar x)$ may be nonlinear. Even the presence of a quadratic constraint can make the problem much more difficult than when there are only linear constraints. So, in this chapter we will use Penalty or Merit method solving the constrained nonlinear optimization problem."
   ]
  },
  {
   "cell_type": "markdown",
   "metadata": {},
   "source": [
    "### 7.1 Penalty Method\n",
    "$\\;\\;\\;\\;\\;$ Penalty method is procedure for approximating constrained optimization problem by uncomstrained problem. The basic idea is to place the constraint into the objective function via penalty parameters. The parameter is adjusted to force convergence of the unconstrained minimizer to a constrained stationary point when it is a large number.<br>\n",
    "$\\;\\;\\;\\;\\;$ To motivate penalty function consider the following example."
   ]
  },
  {
   "cell_type": "markdown",
   "metadata": {},
   "source": [
    "$\\begin{align}\n",
    "    \\underline{Ex.}\\qquad &Min.\\hspace{1.2cm}f(\\bar x)=x^2_1+x^2_2\\nonumber\\\\\n",
    "    &Subj.\\;to\\hspace{0.6cm}x_1+2x_2=2\\nonumber\n",
    "\\end{align}$<br><br>\n",
    "\n",
    "$\\hspace{1cm}$Approximate penalty problem is the following constrained problem.<br>\n",
    "$$\\hspace{7.4cm}Min.\\quad f(\\bar x,\\mu)=x^2_1+x^2_2+\\mu(x_1+2x_2-2)^2\\quad,\\;\\; x_1,x_2\\in\\mathbb R \\;\\;\\text{where}\\;\\mu\\;>\\;0\\;\\text{is the large number}$$<br>\n",
    "$\\hspace{1cm} \\underline{Note}$ here that the penalty function is<br>\n",
    "$$P(x_1,x_2)=(x_1+2x_2-2)^2$$<br>\n",
    "\n",
    "$\\hspace{1cm}$If $(x_1,x_2)\\in\\mathbb R^{2}$ is a feasible pt. for the constrained problem then $P(x_1,x_2)=0$ and also note that a minimizer of the penalty<br>\n",
    "$\\hspace{1cm}$problem must have $(x_1+2x_2-2)^2$ close to zero"
   ]
  },
  {
   "cell_type": "markdown",
   "metadata": {},
   "source": [
    "We first solve the penalty problem. To find stationary pt.<br>\n",
    "Solve $\\hspace{1.4cm} \\nabla f(\\bar x)=0$<br>\n",
    "$\\hspace{2.5cm} 2x_1+2\\mu(x_1+2x_2-2)=0\\hspace{30mm}\\;\\;----\\;(5)$<br>\n",
    "$\\hspace{2.5cm} 2x_2+4\\mu(x_1+2x_2-2)=0\\hspace{30mm}\\;\\;----\\;(6)$<br>\n",
    "\n",
    "$$\\left. \\begin{array}{l} \\text{From}\\;(5); \\hspace{7cm} \\mu(x_1+2x_2-2)=-x_1\\\\\n",
    "\\text{From}\\;(6); \\hspace{7cm} \\mu(x_1+2x_2-2)=-\\large\\frac{x_2}{2} \\end{array} \\right\\}\\;x_2=2x_1 \\hspace{8cm}$$<br>\n",
    "Substituting $x_2=2x_1$ into $(5)$<br>\n",
    "\n",
    "$$\\begin{align}\n",
    "    2x_1+2\\mu(x_1+4x_1-2) &= 0\\nonumber\\\\\n",
    "    x_1(1+5\\mu) &= 2\\mu\\nonumber\\\\\n",
    "    x_1 &= \\frac{2\\mu}{1+5\\mu}\\nonumber\\\\\n",
    "    \\text{so}\\hspace{25mm} x_2 &= \\frac{4\\mu}{1+5\\mu}\\nonumber\n",
    "\\end{align}$$<br>\n",
    "\n",
    "For each $\\mu\\;>\\;0$ the stationary pt. is<br>\n",
    "$$\\begin{align}\n",
    "    x^*(\\mu) &= \\big[x_1(\\mu)\\;,\\;x_2(\\mu)\\big]^T\\nonumber\\\\\n",
    "    &= \\bigg[\\frac{2\\mu}{1+5\\mu}\\quad\\frac{4\\mu}{1+5\\mu}\\bigg]^T\\nonumber\\\\\n",
    "\\end{align}$$<br>"
   ]
  },
  {
   "cell_type": "markdown",
   "metadata": {},
   "source": [
    "The Hessian of the penalty problem is<br>\n",
    "$$G(\\mu) = \\bigg[\n",
    "    \\begin{array}{c}\n",
    "        2+2\\mu & 4\\mu\\\\\n",
    "        4\\mu & 2+8\\mu\n",
    "    \\end{array}\\bigg]$$<br>\n",
    "\n",
    "Leading principal minor test for definiteness:<br>\n",
    "$$\\begin{align}\n",
    "    \\hspace{50mm}\\Delta_1 &= 2+2\\mu\\;\\;\\;>\\;0\\nonumber\\\\\n",
    "    \\hspace{50mm}\\Delta_2 &= (2+2\\mu)(2+8\\mu)-16\\mu^2 = 4+20\\mu\\;\\;\\;>\\;0\\;\\;\\text{for}\\;\\mu\\;>\\;0\\nonumber\n",
    "\\end{align}$$<br>\n",
    "$\\quad\\quad\\therefore\\quad G(\\mu)$ is positive definite for $\\mu>0,$ so $x^*(\\mu)$ is a unique global minimizer.<br><br>\n",
    "\n",
    "As $\\;\\mu\\rightarrow\\infty,$<br>\n",
    "$$x^*(\\mu)=\\left[\n",
    "        \\begin{array}{c}\n",
    "            \\large\\frac{2\\mu}{1+5\\mu}\\\\\n",
    "            \\large\\frac{4\\mu}{1+5\\mu}\n",
    "        \\end{array}\\right]=\\left[\\begin{array}{c}\n",
    "                                    \\large\\frac{2}{5}\\\\\n",
    "                                    \\large\\frac{4}{5}\n",
    "                                \\end{array}\\right]$$<br>\n",
    "\n",
    "$\\quad\\;$We obtain that $x^*=\\left[\\begin{array}{c}\n",
    "                                    \\large\\frac{2}{5}\\\\\n",
    "                                    \\large\\frac{4}{5}\n",
    "                                \\end{array}\\right]$ is a feasible solution of the original constrained problem and it is a minimizer of the constrained problem $($eq. $(1)$ & $(2))$."
   ]
  },
  {
   "cell_type": "markdown",
   "metadata": {},
   "source": [
    "$\\quad\\;$In general for the following constrained problem with single constraint $c_i(\\bar x)=0$.<br><br>\n",
    "$$\\begin{align}\n",
    "    Min.\\quad\\quad & f(\\bar x)\\;,\\;\\bar x\\in\\mathbb R^{n}\\nonumber\\\\\n",
    "    Subj.\\;to\\;\\;\\; & c_i(\\bar x)=0\\nonumber\n",
    "\\end{align}$$<br>\n",
    "\n",
    "$\\quad\\;$Approximate penalty problem is the following unconstrained problem.<br><br>\n",
    "$$\\hspace{70mm} Min.\\quad f(\\bar x)+\\mu(h(\\bar x))^2,\\;\\bar x\\in\\mathbb R^{n}\\quad\\quad\\quad \\text{where}\\;\\mu\\;>\\;0\\;\\text{is a large number}$$<br><br>"
   ]
  },
  {
   "cell_type": "markdown",
   "metadata": {},
   "source": [
    "### 7.2 Penalty function for inequality constrained problem<br><br>\n",
    "$$\\begin{align}\n",
    "    Min.\\quad\\quad & f(\\bar x)\\;,\\;\\bar x\\in\\mathbb R^{n}\\nonumber\\\\\n",
    "    Subj.\\;to\\;\\;\\; & c_i(\\bar x)\\le0\\;,\\;\\;i=1,2,...,m\\nonumber\n",
    "\\end{align}$$<br>\n",
    "\n",
    "$\\quad\\;$For $c_i(\\bar x)\\le0,\\;$the constraint violation is the positive part $c^*_1(\\bar x)=max\\{c_i(\\bar x),\\;0\\}.$<br>\n",
    "If $c_i(\\bar x)\\le0,$ then $c^*_i=0,$ which is changing inequality constraints to equality constraints.<br>\n",
    "\n",
    "$\\quad\\;$Approximate penalty problem is<br>\n",
    "$$Min.\\quad f(\\bar x)+\\mu\\sum^m_{i=1}[c^*_i]^2$$<br>\n",
    "\n",
    "$\\quad\\;$If the constraints are of the form<br>\n",
    "$$\\begin{align}\n",
    "    & c_i(\\bar x)=0\\quad\\text{for}\\;\\;i=1,2,...,n\\nonumber\\\\\n",
    "    & c_i(\\bar x)\\le0\\quad\\text{for}\\;\\;i=1,2,...,m\\nonumber\n",
    "\\end{align}$$<br>\n",
    "$\\quad\\;$then a suitable single penalty function is<br>\n",
    "$$P(\\mu)=\\sum^n_{i=1}[c_i(\\bar x)]^2+\\sum^m_{i=1}[c^*_i(\\bar x)]^2$$<br>\n",
    "\n",
    "#### $\\underline{Summarization}$\n",
    "$\\quad\\;$For the problem<br>\n",
    "$$\\begin{align}\n",
    "    Min.\\quad\\quad & f(\\bar x)\\nonumber\\\\\n",
    "    Subj.\\;to\\;\\;\\; & c_i(\\bar x)=0\\;,\\;\\;i=1,2,...,n\\nonumber\\\\\n",
    "    & c_i(\\bar x)\\le0\\;,\\;\\;i=1,2,...,m\\nonumber\n",
    "\\end{align}$$<br>\n",
    "$\\quad\\;$A suitable penalty problem is<br>\n",
    "$$Min.\\quad f(\\bar x,\\;\\mu)=f(\\bar x)+\\mu\\bigg[\\sum^n_{i=1}[c_i(\\bar x)]^2+\\sum^m_{i=1}[c^*_i(\\bar x)]^2\\bigg]$$<br>"
   ]
  },
  {
   "cell_type": "markdown",
   "metadata": {},
   "source": [
    "$\\begin{align}\n",
    "    \\underline{Ex.}\\qquad &Min.\\hspace{1.2cm}f(\\bar x)=x\\nonumber\\\\\n",
    "    &Subj.\\;to\\hspace{0.6cm}x\\ge2\\quad\\Longrightarrow\\quad 2-x\\le0\\nonumber\n",
    "\\end{align}$<br><br>\n",
    "$\\qquad$The penalty function for the problem<br>\n",
    "$$P(\\bar x)=\\big[max\\{2-x,\\;0\\}\\big]^2$$\n",
    "$$\\hspace{15mm}=\\begin{cases}\n",
    "        \\quad 0 &,\\;x\\ge2\\nonumber\\\\\n",
    "        (2-x)^2 &,\\;x\\;<\\;2\\nonumber\n",
    "\\end{cases}$$\n",
    "\n",
    "$\\qquad$The penalty problem is<br>\n",
    "$$\\hspace{6cm}Min.\\quad f(\\bar x,\\;\\mu)=x+\\mu\\big[max\\{2-x,\\;0\\}\\big]^2\\hspace{3cm}----\\;(16)$$<br>\n",
    "\n",
    "$\\qquad$To find stationary pt., solve $\\nabla f(\\bar x,\\;\\mu)=0$<br>\n",
    "$$\\begin{align}\n",
    "    1+2\\mu\\big[max\\{(2-x),\\;0\\}\\big](-1) &= 0\\nonumber\\\\\n",
    "    \\hspace{73mm}1-2\\mu\\big[max\\{(2-x),\\;0\\}\\big] &= 0\\hspace{36.5mm}----\\;(17)\\nonumber\n",
    "\\end{align}$$<br>\n",
    "$$\\text{and}\\qquad max\\{(2-x),\\;0\\} = \\begin{cases}\n",
    "                                            \\quad0 & ,\\;x\\ge2\\nonumber\\\\\n",
    "                                            \\;2-x & ,\\;x\\;<\\;2\\nonumber\n",
    "                                      \\end{cases}$$<br>\n",
    "$\\qquad$Consider for $x\\;<\\;2,\\;\\text{eq.}\\;(17)$ rewritten as<br>\n",
    "$$\\begin{align}\n",
    "    \\hspace{102.5mm} 1-2\\mu(2-x) &= 0\\nonumber\\\\\n",
    "    1-4\\mu+2\\mu x &= 0\\nonumber\\\\\n",
    "    x(\\mu) &= 2-\\frac{1}{2\\mu}\\qquad,\\;\\mu\\;>\\;0\\;\\;\\;,\\text{and is a stationary pt. of eq.}\\;(16)\\nonumber\n",
    "\\end{align}$$<br>\n",
    "\n",
    "$\\qquad$Since the objective function is convex, $x(\\mu)$ is a minimizer for the penalty problem.<br>\n",
    "$\\qquad$As $\\mu\\rightarrow\\infty,\\;x(\\mu)=2-\\frac{1}{2\\mu}=2=x^*,$ then $x^*$ is a minimizer for inequality constrained problem.<br>"
   ]
  },
  {
   "cell_type": "markdown",
   "metadata": {},
   "source": [
    "#### $\\underline{Consider\\;the\\;problem}$\n",
    "$\\hspace{7.8cm} Min.\\qquad\\quad f(\\bar x)$<br>\n",
    "$$\\left.\\begin{array}{l}\n",
    "    \\hspace{6cm} Subj.\\;to\\;\\;\\; & c_i(\\bar x)=0\\;,\\;\\;i=1,2,...,n\\nonumber\\\\\n",
    "                    & c_i(\\bar x)\\le0\\;,\\;\\;i=1,2,...,m\\nonumber                       \n",
    "\\end{array}\\quad\\right.\\hspace{3cm}----\\;(18)$$<br>\n",
    "\n",
    "The corresponnding penalty problem is<br>\n",
    "$$\\begin{align}\n",
    "    \\hspace{4cm} Min.\\; & f(\\bar x,\\;\\mu)=f(\\bar x)+\\mu P(\\mu)\\nonumber\\\\\n",
    "                        & \\bar x\\in\\mathbb R^{n}\\;,\\;P(\\mu)=\\sum^n_{i=1}\\big[c_i(\\bar x)\\big]^2+\\sum^m_{i=1}\\big[c^*_i\\big]^2\\quad\\text{for}\\;\\mu\\;>\\;0\\hspace{17.5mm}----\\;(19)\\nonumber\n",
    "\\end{align}$$<br>\n",
    "\n",
    "$\\quad\\;$Let $\\bar x\\in\\mathbb R^{n}$ be a minimizer of the penalty problem $($eq. $(19)),$<br>\n",
    "then $\\{x_\\mu\\}$ converges to a minimizer $x^*$ for the constrained problem $($eq. $(18))$ as $\\mu\\rightarrow\\infty$.<br>"
   ]
  },
  {
   "cell_type": "markdown",
   "metadata": {},
   "source": [
    "#### $\\underline{Algorithm}\\qquad\\text{(Penalty methods)}$\n",
    "1. Let $\\in_\\mu>\\;0$ be a termination scalar and choosen an initial pt. $x^{(1)},$ a penalty parameter $\\mu_k\\;>\\;0$ and a scalar $\\beta\\;>\\;0$ and set $k=1$<br><br>\n",
    "2. Starting with $x^{(k)}$ solve a minimizer for unconstrained problem<br>\n",
    "$\\qquad Min.\\qquad f(x^{(k)})+\\mu_k P(x^{(k)})$<br><br>\n",
    "$\\;\\;$ Let $x^{(k+1)}$ be a minimizer<br><br>\n",
    "3. If $\\mu_k P(x^{(k+1)})\\le\\in\\;;\\;\\;\\;$Stop<br><br>\n",
    "$\\;\\;$ Otherwise<br><br>\n",
    "4. Calculate $\\mu_{k+1}=\\beta\\mu_k$<br>\n",
    "5. Set $\\;k=k+1\\;$ go to $\\;$ 2."
   ]
  },
  {
   "cell_type": "markdown",
   "metadata": {},
   "source": [
    "#### $\\underline{Ex.}\\quad$ Consider the problem\n",
    "$\\begin{align}\n",
    "    \\qquad\\qquad & Min.\\hspace{1.2cm}f(\\bar x)=-x_1-x_2\\nonumber\\\\\n",
    "                & Subj.\\;to\\hspace{0.6cm}1-x^2_1-x^2_2=0\\nonumber\n",
    "\\end{align}$<br><br>\n",
    "\n",
    "$\\qquad$The minimizer for this problem is<br>\n",
    "$$x^*=\\bigg(\\frac{1}{\\sqrt2}\\;,\\;\\frac{1}{\\sqrt2}\\bigg)\\qquad,\\quad f(x^*)=-\\sqrt2=-1.414$$<br>\n",
    "\n",
    "$\\qquad$The penalty problem is<br>\n",
    "$$Min.\\qquad f(\\bar x,\\;\\mu)=-x_1-x_2+\\mu(1-x^2_1-x^2_2)^2$$<br>\n",
    "\n",
    "$\\qquad$Solution of the penalty methodby the quasi Newton method with BFGS using to solve the unconstrained problem with $x^{(1)}=[0.5\\;,\\;0.5]^T,\\;\\beta=10$<br>\n",
    "\n",
    "|$$\\mu_k$$|$$x^{(k)}_1$$|$$x^{(k)}_2$$|$$\\text{Optimal value of}\\;f(\\bar x)$$|\n",
    "|--|--|--|--|\n",
    "|$$0.5$$|$$0.884646$$|$$0.884646$$|$$-1.609568$$\n",
    "|$$5$$|$$\\;0.7308931\\;$$|$$\\;0.7308931\\;$$|$$-1.438387$$\n",
    "|$$50$$|$$0.7095936$$|$$0.7095936$$|$$-1.416705$$\n",
    "|$$500$$|$$0.7073566$$|$$0.7073566$$|$$-1.414163$$\n",
    "|$$5000$$|$$0.7071381$$|$$0.7071381$$|$$-1.414239$$\n",
    "||$$\\begin{array}{c} .\\\\.\\\\. \\end{array}$$|$$\\begin{array}{c} .\\\\.\\\\. \\end{array}$$||\n",
    "||$$=\\frac{1}{\\sqrt2}$$|$$=\\frac{1}{\\sqrt2}$$|<br>$$=-1.414$$<br>\n",
    "\n",
    "$\\qquad$As $\\;\\mu_k\\rightarrow\\infty\\;,\\;\\{x^k\\}$ conv. to $x^*=\\bigg[\\frac{1}{\\sqrt2}\\;,\\;\\frac{1}{\\sqrt2}\\bigg]^T,\\;$ and the optimal value of $f(x^*)$ conv. to $-\\sqrt2=-1.414$<br>"
   ]
  }
 ],
 "metadata": {
  "kernelspec": {
   "display_name": "Python 3",
   "language": "python",
   "name": "python3"
  },
  "language_info": {
   "codemirror_mode": {
    "name": "ipython",
    "version": 3
   },
   "file_extension": ".py",
   "mimetype": "text/x-python",
   "name": "python",
   "nbconvert_exporter": "python",
   "pygments_lexer": "ipython3",
   "version": "3.8.1"
  }
 },
 "nbformat": 4,
 "nbformat_minor": 2
}
