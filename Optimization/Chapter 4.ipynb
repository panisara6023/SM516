{
 "cells": [
  {
   "cell_type": "markdown",
   "metadata": {},
   "source": [
    "<h1 align=\"center\">Chapter 4 : Multivariable optimization<br><br>"
   ]
  },
  {
   "cell_type": "markdown",
   "metadata": {},
   "source": [
    "Problem : Min  $ f(\\bar x) ; \\bar x \\in \\Omega $  \n",
    " subject to $ \\Omega \\leq\\mathbb R^n$"
   ]
  },
  {
   "cell_type": "markdown",
   "metadata": {
    "slideshow": {
     "slide_type": "slide"
    }
   },
   "source": [
    "In this chapter , we will study about\n",
    "\n",
    "a) Existence of solutions \n",
    "\n",
    "b) Optimality conditions\n",
    "\n",
    "    1) The unconstrained problem ,  "
   ]
  },
  {
   "cell_type": "markdown",
   "metadata": {},
   "source": [
    "$\\Omega = \\mathbb R^n $"
   ]
  },
  {
   "cell_type": "markdown",
   "metadata": {},
   "source": [
    "    2) The equality constrained problem ,  "
   ]
  },
  {
   "cell_type": "markdown",
   "metadata": {},
   "source": [
    "$\\Omega = { \\bar x \\in\\mathbb R^n \\mid c_i(\\bar x) = 0 , i  \\in E }     $"
   ]
  },
  {
   "cell_type": "markdown",
   "metadata": {},
   "source": [
    "    3) The inequality constrained problem :"
   ]
  },
  {
   "cell_type": "markdown",
   "metadata": {},
   "source": [
    "$\\Omega$ = {$ \\bar x \\in\\mathbb R^n \\mid c_i(\\bar x)$ = 0 for i $\\in$ E and $c_i(\\bar x) \\leq 0$ for i $\\in I $}"
   ]
  },
  {
   "cell_type": "markdown",
   "metadata": {},
   "source": [
    "    4) The linearly constrained problem ;"
   ]
  },
  {
   "cell_type": "markdown",
   "metadata": {},
   "source": [
    "$\\Omega$ = { $\\bar x \\in\\mathbb R^n \\mid a_i^T(\\bar x) - \\beta_i  = 0 $  for  i $\\in$ E and $a_i^T(\\bar x) - \\beta_i \\leq 0$ for i $\\in I $}"
   ]
  },
  {
   "cell_type": "markdown",
   "metadata": {},
   "source": [
    "* By using Simplex method , We will not mention here"
   ]
  },
  {
   "cell_type": "markdown",
   "metadata": {},
   "source": [
    "c) Sensidivity analysis and Duality properties of optimal solutions"
   ]
  },
  {
   "cell_type": "markdown",
   "metadata": {},
   "source": [
    "## 4.1  The existence theorem : $\\large\\bar x \\in\\mathbb R^n$"
   ]
  },
  {
   "cell_type": "markdown",
   "metadata": {},
   "source": [
    "$\\qquad$If the function $f(\\bar x)$ is continuous every where on $\\Omega$ and if $\\Omega$ is closed and bounded,\n",
    "then f has a global minimizer and global maximizer."
   ]
  },
  {
   "cell_type": "markdown",
   "metadata": {},
   "source": [
    "$\\qquad$The continuity of $f(\\bar x)$ and closeness and boundedness of $\\Omega$ are sufficient condition buy they are not neccessary for existence of extrema."
   ]
  },
  {
   "cell_type": "markdown",
   "metadata": {},
   "source": [
    "Ex. i) $\\Omega_1$ is closed and bounded"
   ]
  },
  {
   "cell_type": "markdown",
   "metadata": {},
   "source": [
    "$\\Omega_1 = { \\bar x \\in\\mathbb R^2 \\mid x_1^2 + x_2^2 \\leq 1 }$"
   ]
  },
  {
   "cell_type": "markdown",
   "metadata": {},
   "source": [
    "ii) $\\Omega_2$ is bounded but not closed"
   ]
  },
  {
   "cell_type": "markdown",
   "metadata": {},
   "source": [
    "$\\Omega_2$ = { $\\bar x \\in\\mathbb R^2 \\mid x_1^2 + x_2^2 < 1 $}"
   ]
  },
  {
   "cell_type": "markdown",
   "metadata": {},
   "source": [
    "iii) $\\Omega_3$ is closed but not bounded"
   ]
  },
  {
   "cell_type": "markdown",
   "metadata": {},
   "source": [
    "The closeness and boundedness of $\\Omega$ is not neccessery for existence extrema."
   ]
  },
  {
   "cell_type": "markdown",
   "metadata": {},
   "source": [
    "Ex.  i) $f(\\bar x) = \\sin(x) ; \\bar x \\in\\mathbb R $"
   ]
  },
  {
   "cell_type": "markdown",
   "metadata": {},
   "source": [
    "$\\Omega \\in (-\\infty,\\infty)$ is not closed and bounded , but it has a local max (x = $\\frac{\\pi}{2}$) and a local min (x = $\\frac{\\pi}{2}$)"
   ]
  },
  {
   "cell_type": "markdown",
   "metadata": {},
   "source": [
    "ii) The convex function $f(\\bar x)$ on an open interval $\\Omega$"
   ]
  },
  {
   "cell_type": "markdown",
   "metadata": {},
   "source": [
    "$\\Omega$ is not closed but it has a global minimizer.\n",
    "\n",
    "\n"
   ]
  },
  {
   "cell_type": "markdown",
   "metadata": {},
   "source": [
    "## 4.2  Optimality conditions"
   ]
  },
  {
   "cell_type": "markdown",
   "metadata": {},
   "source": [
    "### Case I Unconstrained problems"
   ]
  },
  {
   "cell_type": "markdown",
   "metadata": {},
   "source": [
    "#### Theorem - First order necessary conditions"
   ]
  },
  {
   "cell_type": "markdown",
   "metadata": {},
   "source": [
    "Let $\\Omega = \\mathbb R^n$ and $f \\in C(\\mathbb R^n$) , if $x^*$ is a local minimizer of f then $\\nabla f(x^*$) = 0"
   ]
  },
  {
   "cell_type": "markdown",
   "metadata": {},
   "source": [
    "$x^*$ any point $\\nabla f(x^*$) = 0 ,  $x^*$ is a local min or a local max or saddle"
   ]
  },
  {
   "cell_type": "markdown",
   "metadata": {},
   "source": [
    "* Note A point $x^*$ with $\\nabla f(x^*$) = 0 can correspond to a minimizer,maximizer or saddle pt."
   ]
  },
  {
   "cell_type": "markdown",
   "metadata": {},
   "source": [
    "Definition  (Stationary points of $f(\\bar x), \\bar x \\in\\mathbb R^n)$"
   ]
  },
  {
   "cell_type": "markdown",
   "metadata": {},
   "source": [
    "A point $x^*$ is a stationary point if $\\nabla f(x^*$) = 0 and a stationary point $x^*$ can be either minimizer or maximizer or saddle point. More information on the nature of $x^*$ can be obtained from considering second derivative informations."
   ]
  },
  {
   "cell_type": "markdown",
   "metadata": {},
   "source": [
    "#### Second order conditions"
   ]
  },
  {
   "cell_type": "markdown",
   "metadata": {},
   "source": [
    "#### Theorem(Second order neccesary conditions)"
   ]
  },
  {
   "cell_type": "markdown",
   "metadata": {},
   "source": [
    "Let $\\Omega = \\mathbb R^n$ and $f \\in C^2(\\mathbb R^n$) , if $x^*$ is a local minimizer of f then $\\nabla f(x^*$) = 0 and $\\nabla ^2f(x^*)$ is positive semidefinite"
   ]
  },
  {
   "cell_type": "markdown",
   "metadata": {},
   "source": [
    "Similarly, if $x^*$ is a local maximizer then $\\nabla f(x^*$) = 0 and $\\nabla^2f(x^*)$ is negative semidefinite."
   ]
  },
  {
   "cell_type": "markdown",
   "metadata": {},
   "source": [
    "Ex. $f(\\bar x) = x^3 , \\;\\bar x \\in\\mathbb R $"
   ]
  },
  {
   "cell_type": "markdown",
   "metadata": {},
   "source": [
    "$\\nabla f(\\bar x) = 3x^2$ $\\rightarrow$ $\\nabla f(\\bar x) = 0 , x^* = 0$"
   ]
  },
  {
   "cell_type": "markdown",
   "metadata": {},
   "source": [
    "$\\nabla ^2f(x^*) = 6x$ $\\rightarrow$ $\\nabla ^2f(x^*) = 0$"
   ]
  },
  {
   "cell_type": "markdown",
   "metadata": {},
   "source": [
    "at $x^* = 0$ is a saddle point."
   ]
  },
  {
   "cell_type": "markdown",
   "metadata": {},
   "source": [
    "#### Theorem (Second order sufficient conditions)"
   ]
  },
  {
   "cell_type": "markdown",
   "metadata": {},
   "source": [
    "Let $\\Omega = \\mathbb R^n$ and $f \\in C^2(\\mathbb R^n)$ , if $x^*$ is a stationary point with $\\nabla f(x^*$) = 0 and $\\nabla ^2f(x^*)$  positive definite, then $x^*$ is a strict local minimizer."
   ]
  },
  {
   "cell_type": "markdown",
   "metadata": {},
   "source": [
    "Similarly, if $x^*$ is a stationary point with $\\nabla ^2f(x^*)$  is negative definite then $x^*$ is a strict local maximizer."
   ]
  },
  {
   "cell_type": "markdown",
   "metadata": {},
   "source": [
    "In summary , if $x^*$ is an unconstrained($\\Omega = \\mathbb R^n$) stationary point for $\\nabla f(x^*$) = 0, then if\n",
    "* 1) $\\nabla ^2f(x^*)$ positive definite then $x^*$ is a strict local minimizer.\n",
    "* 2) $\\nabla ^2f(x^*)$ negative definite then $x^*$ is a strict local maximizer.\n",
    "* 3) $\\nabla ^2f(x^*)$ indefinite then $x^*$ is a saddle point.\n",
    "* 4) $\\nabla ^2f(x^*)$ is positive semi-definite , then $x^*$ is either a local minimizer or saddle point.\n",
    "* 5) $\\nabla ^2f(x^*)$ is negative semi-definite , then $x^*$ is either a local maximizer or saddle point."
   ]
  },
  {
   "cell_type": "markdown",
   "metadata": {},
   "source": [
    "$Note:$<br>\n",
    "$\\quad$The convexity of f and the nature of a stationary point $x^*$ is also known:<br>\n",
    "$\\qquad$ 1) If f is convex on $\\mathbb R^n$ , then $x^*$ is a global minimizer.<br>\n",
    "$\\qquad$ 2) If f is strictly convex on $\\mathbb R^n$ , then $x^*$ is an unique global minimizer.<br>\n",
    "$\\qquad$ 3) If f is concave on $\\mathbb R^n$ , then $x^*$ is a global maximizer.<br>\n",
    "$\\qquad$ 4) If f is strictly concave on $\\mathbb R^n$ , then $x^*$ is an unique global maximizer.<br><br>"
   ]
  },
  {
   "cell_type": "markdown",
   "metadata": {},
   "source": [
    "Ex. Consider the function $f(\\bar x) = x_1^2-2x_1^3-x_2^3$"
   ]
  },
  {
   "cell_type": "markdown",
   "metadata": {},
   "source": [
    "a) Show that $x^* = \n",
    "\\left[\n",
    "\\begin{array}{rrr}\n",
    "0  \\\\\n",
    "0 \\\\\n",
    "\\end{array}\n",
    "\\right] $ and $ \\hat{x} = \n",
    "\\left[\n",
    "\\begin{array}{rrr}\n",
    "\\frac{1}{3}  \\\\\n",
    "0 \\\\\n",
    "\\end{array}\n",
    "\\right] $\n",
    "are stationary points of $f(\\bar x)$"
   ]
  },
  {
   "cell_type": "markdown",
   "metadata": {},
   "source": [
    "b) Using second order conditions determine , if possible ; the nature of there stationary points."
   ]
  },
  {
   "cell_type": "markdown",
   "metadata": {},
   "source": [
    "c) Show that $x^*$ satisfies the second order necessary conditions for minimizer.\n",
    "However, by looking of the function value along a lim though $x^*$ , show that $x^*$ is not a local minimizer."
   ]
  },
  {
   "cell_type": "markdown",
   "metadata": {},
   "source": [
    "$Sol^n\\quad$a) at $x^* = \n",
    "\\left[\n",
    "\\begin{array}{rrr}\n",
    "0  \\\\\n",
    "0 \\\\\n",
    "\\end{array}\n",
    "\\right] $ and $\\hat{x} = \n",
    "\\left[\n",
    "\\begin{array}{rrr}\n",
    "\\frac{1}{3}  \\\\\n",
    "0 \\\\\n",
    "\\end{array}\n",
    "\\right] $ :"
   ]
  },
  {
   "cell_type": "markdown",
   "metadata": {},
   "source": [
    "$\\nabla f(x^*) =\n",
    "\\left[\n",
    "\\begin{array}{c}\n",
    "\\frac{\\partial f}{\\partial x_1}  \\\\\n",
    "\\frac{\\partial f}{\\partial x_2} \\\\\n",
    "\\end{array}\n",
    "\\right] = \n",
    "\\left[\n",
    "\\begin{array}{c}\n",
    "2x_1-6x_1^2  \\\\\n",
    "-3x_2^2 \\\\\n",
    "\\end{array}\n",
    "\\right] $"
   ]
  },
  {
   "cell_type": "markdown",
   "metadata": {},
   "source": [
    "$\\rightarrow$ $\\nabla f(x^*) = \n",
    "\\left[\n",
    "\\begin{array}{c}\n",
    "0  \\\\\n",
    "0 \\\\\n",
    "\\end{array}\n",
    "\\right] $ , so\n",
    "$x^* = \n",
    "\\left[\n",
    "\\begin{array}{c}\n",
    "0  \\\\\n",
    "0 \\\\\n",
    "\\end{array}\n",
    "\\right]\\;$ is stationary point."
   ]
  },
  {
   "cell_type": "markdown",
   "metadata": {},
   "source": [
    "and $\\nabla f(\\bar x) =\n",
    "\\left[\n",
    "\\begin{array}{c}\n",
    "2(\\frac{1}{3})-6(\\frac{1}{3})^2  \\\\\n",
    "-3(0) \\\\\n",
    "\\end{array}\n",
    "\\right] =\n",
    "\\left[\n",
    "\\begin{array}{c}\n",
    "\\frac{2}{3}-\\frac{2}{3}  \\\\\n",
    "0 \\\\\n",
    "\\end{array}\n",
    "\\right] =\n",
    "\\left[\n",
    "\\begin{array}{c}\n",
    "0  \\\\\n",
    "0 \\\\\n",
    "\\end{array}\n",
    "\\right] $ \n",
    ", $\\hat{x} = \n",
    "\\left[\n",
    "\\begin{array}{c}\n",
    "\\frac{1}{3}  \\\\\n",
    "0 \\\\\n",
    "\\end{array}\n",
    "\\right] $ is stationary point."
   ]
  },
  {
   "cell_type": "markdown",
   "metadata": {},
   "source": [
    "b) Hessian matrix: $\\;\\nabla^2f(\\bar x) =\n",
    "\\left[\n",
    "\\begin{array}{c}\n",
    "\\frac{\\partial^2  f}{\\partial x_1^2} & \\frac{\\partial^2  f}{{\\partial x_1}{\\partial x_2}}\\\\\n",
    "\\frac{\\partial^2  f}{{\\partial x_2}{\\partial x_1}} & \\frac{\\partial^2  f}{\\partial x_2^2} \\\\\n",
    "\\end{array}\n",
    "\\right] =\n",
    "\\left[\n",
    "\\begin{array}{c}\n",
    "2-12x_1 & 0  \\\\\n",
    "0 & -6x_2 \\\\\n",
    "\\end{array}\n",
    "\\right] $"
   ]
  },
  {
   "cell_type": "markdown",
   "metadata": {},
   "source": [
    "At $\\;x^* =\n",
    "\\left[\n",
    "\\begin{array}{rrr}\n",
    "0  \\\\\n",
    "0 \\\\\n",
    "\\end{array}\n",
    "\\right] , \\nabla ^2f(x^*) =\n",
    "\\left[\n",
    "\\begin{array}{rrr}\n",
    "2 & 0  \\\\\n",
    "0 & 0 \\\\\n",
    "\\end{array}\n",
    "\\right] $ \n",
    "is  positive semidefinite with eigen values $\\lambda_1 = 2 , \\lambda_2 = 0$"
   ]
  },
  {
   "cell_type": "markdown",
   "metadata": {},
   "source": [
    "At $\\;\\hat{x} =\n",
    "\\left[\n",
    "\\begin{array}{rrr}\n",
    "\\frac{1}{3}  \\\\\n",
    "0 \\\\\n",
    "\\end{array}\n",
    "\\right] , \\nabla ^2f(\\hat{x}) =\n",
    "\\left[\n",
    "\\begin{array}{rrr}\n",
    "-2 & 0  \\\\\n",
    "0 & 0 \\\\\n",
    "\\end{array}\n",
    "\\right] $ \n",
    "is  positive semidefinite with eigen values $\\lambda_1 = -2 , \\lambda_2 = 0$"
   ]
  },
  {
   "cell_type": "markdown",
   "metadata": {},
   "source": [
    "c) $x^* =\n",
    "\\left[\n",
    "\\begin{array}{rrr}\n",
    "0  \\\\\n",
    "0 \\\\\n",
    "\\end{array}\n",
    "\\right]$\n",
    "satisfies the second order necessary condition for minimizer but not the sufficient condition"
   ]
  },
  {
   "cell_type": "markdown",
   "metadata": {},
   "source": [
    "From the Hessian matrix, it is only possible to say that $x^*$ is not a local maximizer (a minimizer or saddle point)"
   ]
  },
  {
   "cell_type": "markdown",
   "metadata": {},
   "source": [
    "Looking the function value along the line passing though $x^* =\n",
    "\\left[\n",
    "\\begin{array}{rrr}\n",
    "0  \\\\\n",
    "0 \\\\\n",
    "\\end{array}\n",
    "\\right]$ "
   ]
  },
  {
   "cell_type": "markdown",
   "metadata": {},
   "source": [
    "If i) $d =\n",
    "\\left[\n",
    "\\begin{array}{rrr}\n",
    "0  \\\\\n",
    "1 \\\\\n",
    "\\end{array}\n",
    "\\right] , \\;\\bar x(\\alpha) = x^* + \\alpha d = \\left[\n",
    "\\begin{array}{rrr}\n",
    "0  \\\\\n",
    "0 \\\\\n",
    "\\end{array}\n",
    "\\right] + \\alpha\n",
    "\\left[\n",
    "\\begin{array}{rrr}\n",
    "0  \\\\\n",
    "1 \\\\\n",
    "\\end{array}\n",
    "\\right] = \n",
    "\\left[\n",
    "\\begin{array}{rrr}\n",
    "0  \\\\\n",
    "\\alpha \\\\\n",
    "\\end{array}\n",
    "\\right]$"
   ]
  },
  {
   "cell_type": "markdown",
   "metadata": {},
   "source": [
    "Substitating $\\bar x(\\alpha)$ into $f(\\bar x)$ , we obtain $\\ell(\\alpha)$"
   ]
  },
  {
   "cell_type": "markdown",
   "metadata": {},
   "source": [
    "$\\ell (\\alpha) = f(x^*+\\alpha d) =f\n",
    "\\left[\n",
    "\\begin{array}{rrr}\n",
    "0  \\\\\n",
    "\\alpha \\\\\n",
    "\\end{array}\n",
    "\\right]\n",
    "= -\\alpha^3$"
   ]
  },
  {
   "cell_type": "markdown",
   "metadata": {},
   "source": [
    "$x^*$ is a saddle point."
   ]
  },
  {
   "cell_type": "markdown",
   "metadata": {},
   "source": [
    "If ii) $d =\n",
    "\\left[\n",
    "\\begin{array}{rrr}\n",
    "1  \\\\\n",
    "0 \\\\\n",
    "\\end{array}\n",
    "\\right] , \\bar x(\\alpha) = x^* + \\alpha d = \\left[\n",
    "\\begin{array}{rrr}\n",
    "0  \\\\\n",
    "0 \\\\\n",
    "\\end{array}\n",
    "\\right] + \\alpha\n",
    "\\left[\n",
    "\\begin{array}{rrr}\n",
    "1  \\\\\n",
    "0 \\\\\n",
    "\\end{array}\n",
    "\\right] = \n",
    "\\left[\n",
    "\\begin{array}{rrr}\n",
    "\\alpha  \\\\\n",
    "0 \\\\\n",
    "\\end{array}\n",
    "\\right]$"
   ]
  },
  {
   "cell_type": "markdown",
   "metadata": {},
   "source": [
    "Substitating $\\bar x(\\alpha)$ into $f(\\bar x)$ , we obtain"
   ]
  },
  {
   "cell_type": "markdown",
   "metadata": {},
   "source": [
    "$\\ell (\\alpha) = \\alpha^2 - 2\\alpha^3$"
   ]
  },
  {
   "cell_type": "markdown",
   "metadata": {},
   "source": [
    "$\\ell' (\\alpha) = 2\\alpha - 6\\alpha^2 = 0 \\;\\rightarrow\\; 2\\alpha(1-3\\alpha) = 0$"
   ]
  },
  {
   "cell_type": "markdown",
   "metadata": {},
   "source": [
    "$\\alpha = 0 , \\alpha = \\frac{1}{3}$"
   ]
  },
  {
   "cell_type": "markdown",
   "metadata": {},
   "source": [
    "$\\ell ''(\\alpha) = 2-12\\alpha$"
   ]
  },
  {
   "cell_type": "markdown",
   "metadata": {},
   "source": [
    "$\\ell ''(\\alpha = 0) = 2>0$"
   ]
  },
  {
   "cell_type": "markdown",
   "metadata": {},
   "source": [
    "$\\ell''(\\alpha=\\frac{1}{3})=-2<0$"
   ]
  },
  {
   "cell_type": "markdown",
   "metadata": {},
   "source": [
    "Therefore , $x^* = \n",
    "\\left[\n",
    "\\begin{array}{rrr}\n",
    "0  \\\\\n",
    "0 \\\\\n",
    "\\end{array}\n",
    "\\right]$\n",
    "is a saddle point.<br><br>"
   ]
  },
  {
   "cell_type": "markdown",
   "metadata": {},
   "source": [
    "Ex. Consider $f(\\bar x) = x_1^4-3x_1^3+4x_1^2-6x_1x_2+3x_2^2$"
   ]
  },
  {
   "cell_type": "markdown",
   "metadata": {},
   "source": [
    "a) Is the point $x^* = \n",
    "\\left[\n",
    "\\begin{array}{rrr}\n",
    "1  \\\\\n",
    "1 \\\\\n",
    "\\end{array}\n",
    "\\right]$\n",
    "a stationary point of f?"
   ]
  },
  {
   "cell_type": "markdown",
   "metadata": {},
   "source": [
    "b) Find all stationary points pf f"
   ]
  },
  {
   "cell_type": "markdown",
   "metadata": {},
   "source": [
    "c) Identify the nature of all stationary points by using second order conditions."
   ]
  },
  {
   "cell_type": "markdown",
   "metadata": {},
   "source": [
    "$Sol^n\\quad$ Let $f(\\bar x) = x_1^4-3x_1^3+4x_1^2-6x_1x_2+3x_2^2$"
   ]
  },
  {
   "cell_type": "markdown",
   "metadata": {},
   "source": [
    "then $\\nabla f(\\bar x) =\n",
    "\\left[\n",
    "\\begin{array}{c}\n",
    "\\frac{\\partial f}{\\partial x_1}  \\\\\n",
    "\\frac{\\partial f}{\\partial x_2}   \\\\\n",
    "\\end{array}\n",
    "\\right] = \n",
    "\\left[\n",
    "\\begin{array}{c}\n",
    "4x_1^3-9x_1^2+8x_1-6x_2  \\\\\n",
    "-6x_1+6x_2 \\\\\n",
    "\\end{array}\n",
    "\\right] $"
   ]
  },
  {
   "cell_type": "markdown",
   "metadata": {},
   "source": [
    "and $\\nabla ^2f(\\bar x) =\n",
    "\\left[\n",
    "\\begin{array}{c}\n",
    "12x_1^2-18x_1+8 & -6  \\\\\n",
    "-6 & 6 \\\\\n",
    "\\end{array}\n",
    "\\right] $ "
   ]
  },
  {
   "cell_type": "markdown",
   "metadata": {},
   "source": [
    "a) At  $x^* =\n",
    "\\left[\n",
    "\\begin{array}{c}\n",
    "1 \\\\\n",
    "1 \\\\\n",
    "\\end{array}\n",
    "\\right] ,\\nabla f(x^*) = \n",
    "\\left[\n",
    "\\begin{array}{c}\n",
    "4-9+8-6  \\\\\n",
    "-6+6 \\\\\n",
    "\\end{array}\n",
    "\\right] =\n",
    "\\left[\n",
    "\\begin{array}{c}\n",
    "-3 \\\\\n",
    "0 \\\\\n",
    "\\end{array}\n",
    "\\right]  \\neq\n",
    "\\left[\n",
    "\\begin{array}{c}\n",
    "0 \\\\\n",
    "0 \\\\\n",
    "\\end{array}\n",
    "\\right] $"
   ]
  },
  {
   "cell_type": "markdown",
   "metadata": {},
   "source": [
    "So $x^* =\n",
    "\\left[\n",
    "\\begin{array}{rrr}\n",
    "1 \\\\\n",
    "1 \\\\\n",
    "\\end{array}\n",
    "\\right] $\n",
    "is not stationary point"
   ]
  },
  {
   "cell_type": "markdown",
   "metadata": {},
   "source": [
    "b) From $\\nabla f(\\bar x) =\n",
    "\\left[\n",
    "\\begin{array}{c}\n",
    "4x_1^3-9x_1^2+8x_1-6x_2  \\\\\n",
    "-6x_1+6x_2 \\\\\n",
    "\\end{array}\n",
    "\\right] $ , $\\;$Let $\\nabla f(\\bar x) = 0$"
   ]
  },
  {
   "cell_type": "markdown",
   "metadata": {},
   "source": [
    "$ \\left[\n",
    "\\begin{array}{c}\n",
    "4x_1^3-9x_1^2+8x_1-6x_2  \\\\\n",
    "-6x_1+6x_2 \\\\\n",
    "\\end{array}\n",
    "\\right] =\n",
    "\\left[\n",
    "\\begin{array}{c}\n",
    "0 \\\\\n",
    "0 \\\\\n",
    "\\end{array}\n",
    "\\right] $"
   ]
  },
  {
   "cell_type": "markdown",
   "metadata": {},
   "source": [
    "$4x_1^3-9x_1^2+8x_1-6x_2 = 0 $  $\\longrightarrow$ 1."
   ]
  },
  {
   "cell_type": "markdown",
   "metadata": {},
   "source": [
    "$-6x_1+6x_2 = 0$ $ \\longrightarrow$ 2."
   ]
  },
  {
   "cell_type": "markdown",
   "metadata": {},
   "source": [
    "From 2. ; $x_1 = x_2$ , substitating into 1. ,"
   ]
  },
  {
   "cell_type": "markdown",
   "metadata": {},
   "source": [
    "$4x_1^3-9x_1^2+8x_1-6x_1 = 0 $"
   ]
  },
  {
   "cell_type": "markdown",
   "metadata": {},
   "source": [
    "$4x_1^3-9x_1^2+2x_1 = 0 $"
   ]
  },
  {
   "cell_type": "markdown",
   "metadata": {},
   "source": [
    "$x_1(4x_1^2-9x_1+2) = 0$"
   ]
  },
  {
   "cell_type": "markdown",
   "metadata": {},
   "source": [
    "$x_1(4x_1-1)(x_1-2) = 0$"
   ]
  },
  {
   "cell_type": "markdown",
   "metadata": {},
   "source": [
    "$x_1$ = 0 , $\\frac{1}{4}$ , 2  $(x_1=x_2)$"
   ]
  },
  {
   "cell_type": "markdown",
   "metadata": {},
   "source": [
    "So all stationary pts are $x^* =\n",
    "\\left[\n",
    "\\begin{array}{rrr}\n",
    "0 \\\\\n",
    "0 \\\\\n",
    "\\end{array}\n",
    "\\right] ,\n",
    "\\left[\n",
    "\\begin{array}{rrr}\n",
    "\\frac{1}{4} \\\\\n",
    "\\frac{1}{4} \\\\\n",
    "\\end{array}\n",
    "\\right] ,\n",
    "\\left[\n",
    "\\begin{array}{rrr}\n",
    "2 \\\\\n",
    "2 \\\\\n",
    "\\end{array}\n",
    "\\right] $"
   ]
  },
  {
   "cell_type": "markdown",
   "metadata": {},
   "source": [
    "c) Test the second order conditions"
   ]
  },
  {
   "cell_type": "markdown",
   "metadata": {},
   "source": [
    "* At $x^* =\n",
    "\\left[\n",
    "\\begin{array}{c}\n",
    "0 \\\\\n",
    "0 \\\\\n",
    "\\end{array}\n",
    "\\right] , \\nabla^2f\n",
    "\\left[\n",
    "\\begin{array}{c}\n",
    "0 \\\\\n",
    "0 \\\\\n",
    "\\end{array}\n",
    "\\right] =\n",
    "\\left[\n",
    "\\begin{array}{c}\n",
    "8 & -6  \\\\\n",
    "-6 & 6 \\\\\n",
    "\\end{array}\n",
    "\\right] $\n"
   ]
  },
  {
   "cell_type": "markdown",
   "metadata": {},
   "source": [
    "Leading principle minor : $\\Delta_1=|8| = 8>0$"
   ]
  },
  {
   "cell_type": "markdown",
   "metadata": {},
   "source": [
    "$\\Delta_2=|\\nabla^2f| = 48-36 = 12 > 0$"
   ]
  },
  {
   "cell_type": "markdown",
   "metadata": {},
   "source": [
    "$\\rightarrow \\nabla^2f(x^*)$ is positive definite , then $x^* =\n",
    "\\left[\n",
    "\\begin{array}{rrr}\n",
    "0 \\\\\n",
    "0 \\\\\n",
    "\\end{array}\n",
    "\\right] $\n",
    "is strictly local minimizer and $f(x^*)=0$"
   ]
  },
  {
   "cell_type": "markdown",
   "metadata": {},
   "source": [
    "* At $x^* =\n",
    "\\left[\n",
    "\\begin{array}{c}\n",
    "\\frac{1}{4} \\\\\n",
    "\\frac{1}{4}\\\\\n",
    "\\end{array}\n",
    "\\right] , \\;\\nabla^2f(x^*)=\n",
    "\\left[\n",
    "\\begin{array}{c}\n",
    "\\frac{17}{4} & -4 \\\\\n",
    "-4 & 6 \\\\\n",
    "\\end{array}\n",
    "\\right] \\sim\n",
    "\\left[\n",
    "\\begin{array}{c}\n",
    "\\lambda_1 & 0 \\\\\n",
    "0 & \\lambda_2 \\\\\n",
    "\\end{array}\n",
    "\\right]$"
   ]
  },
  {
   "cell_type": "markdown",
   "metadata": {},
   "source": [
    "Leading principle minor : $\\Delta_1=\\left|\\frac{17}{4}\\right|\\;>\\;0$"
   ]
  },
  {
   "cell_type": "markdown",
   "metadata": {},
   "source": [
    "$\\Delta_2=|\\nabla^2f| \\;<\\; 0 $"
   ]
  },
  {
   "cell_type": "markdown",
   "metadata": {},
   "source": [
    "$x^* =\n",
    "\\left[\n",
    "\\begin{array}{rrr}\n",
    "\\frac{1}{4} \\\\\n",
    "\\frac{1}{4} \\\\\n",
    "\\end{array}\n",
    "\\right]$ is a saddle point."
   ]
  },
  {
   "cell_type": "markdown",
   "metadata": {},
   "source": [
    "or consider trace $\\nabla^2f(x^*) = \\frac{41}{4} > 0\\;$ and $\\;det(\\nabla^2f) = \\frac{-21}{2} < 0$"
   ]
  },
  {
   "cell_type": "markdown",
   "metadata": {},
   "source": [
    "Hence $x^* =\n",
    "\\left[\n",
    "\\begin{array}{rrr}\n",
    "\\frac{1}{4} \\\\\n",
    "\\frac{1}{4} \\\\\n",
    "\\end{array}\n",
    "\\right]$ \n",
    "is a saddle pt with $f(x^*)= \\frac{5}{256}$"
   ]
  },
  {
   "cell_type": "markdown",
   "metadata": {},
   "source": [
    "* At $x^* =\n",
    "\\left[\n",
    "\\begin{array}{rrr}\n",
    "2 \\\\\n",
    "2 \\\\\n",
    "\\end{array}\n",
    "\\right] , \\nabla^2f(x^*)\n",
    "\\left[\n",
    "\\begin{array}{rrr}\n",
    "20 & -6 \\\\\n",
    "-6 & 6 \\\\\n",
    "\\end{array}\n",
    "\\right]$"
   ]
  },
  {
   "cell_type": "markdown",
   "metadata": {},
   "source": [
    "Leading principle minor : $\\Delta_1= 20 >0$"
   ]
  },
  {
   "cell_type": "markdown",
   "metadata": {},
   "source": [
    " $\\Delta_2= 120-36 >0$"
   ]
  },
  {
   "cell_type": "markdown",
   "metadata": {},
   "source": [
    "$\\rightarrow \\nabla^2f$ is positive definite , then $x^* =\n",
    "\\left[\n",
    "\\begin{array}{rrr}\n",
    "2 \\\\\n",
    "2 \\\\\n",
    "\\end{array}\n",
    "\\right] $\n",
    "is strictly local minimizer with $f(x^*)=-4$"
   ]
  },
  {
   "cell_type": "markdown",
   "metadata": {},
   "source": [
    "### Case II Equality constraints"
   ]
  },
  {
   "cell_type": "markdown",
   "metadata": {},
   "source": [
    "Min $f(\\bar x) , \\bar x \\in\\mathbb R^n$"
   ]
  },
  {
   "cell_type": "markdown",
   "metadata": {},
   "source": [
    "subject to $c_i(\\bar x) = 0 , \\;i \\in E$"
   ]
  },
  {
   "cell_type": "markdown",
   "metadata": {},
   "source": [
    "Let $n = |E|$ be the number of equality constraints and $E = {1,2, ... ,m}$"
   ]
  },
  {
   "cell_type": "markdown",
   "metadata": {},
   "source": [
    "Ex. Min $f(\\bar x) = (x_1-1)^2 + x_2 -2$ ,  $\\bar x \\in\\mathbb  R^2$"
   ]
  },
  {
   "cell_type": "markdown",
   "metadata": {},
   "source": [
    "subject to $x_2-x_1 = 1 , x_1+x_2 \\leq 2$"
   ]
  },
  {
   "cell_type": "markdown",
   "metadata": {},
   "source": [
    "$\\rightarrow c_1 : x_2-x_1-1 = 0$"
   ]
  },
  {
   "cell_type": "markdown",
   "metadata": {},
   "source": [
    "$\\rightarrow c_2 : x_1+x_2-2 \\leq 0$"
   ]
  },
  {
   "cell_type": "markdown",
   "metadata": {},
   "source": [
    "Solve by substituting $x_2 = 1+x_1$ into $f(\\bar x) , \\bar x \\in\\mathbb R^2$"
   ]
  },
  {
   "cell_type": "markdown",
   "metadata": {},
   "source": [
    "$f(x_1) = (x_1-1)^2+(1+x_1)-2$"
   ]
  },
  {
   "cell_type": "markdown",
   "metadata": {},
   "source": [
    "$f(x_1) = x_1^2-2x_1+1+1+x_1-2$"
   ]
  },
  {
   "cell_type": "markdown",
   "metadata": {},
   "source": [
    "$f(x_1) = x_1^2 - x_1 $"
   ]
  },
  {
   "cell_type": "markdown",
   "metadata": {},
   "source": [
    "1st derivative , $\\;f'(x_1) = 2x_1-1$"
   ]
  },
  {
   "cell_type": "markdown",
   "metadata": {},
   "source": [
    "Let $f'(x_1) = 0 $"
   ]
  },
  {
   "cell_type": "markdown",
   "metadata": {},
   "source": [
    "$2x_1-1 = 0 \\rightarrow x_1 = \\frac{1}{2} $"
   ]
  },
  {
   "cell_type": "markdown",
   "metadata": {},
   "source": [
    "and $x_2 = 1+\\frac{1}{2} = \\frac{3}{2}$"
   ]
  },
  {
   "cell_type": "markdown",
   "metadata": {},
   "source": [
    "Then the stationary pt(or critical pt.) is $x^* =\n",
    "\\left[\n",
    "\\begin{array}{rrr}\n",
    "\\frac{1}{2} \\\\\n",
    "\\frac{3}{2} \\\\\n",
    "\\end{array}\n",
    "\\right]$ , $\\;$ 2nd derivative ; $f''(x_1) = 2 > 0 $"
   ]
  },
  {
   "cell_type": "markdown",
   "metadata": {},
   "source": [
    "So $x^* =\n",
    "\\left[\n",
    "\\begin{array}{rrr}\n",
    "\\frac{1}{2} \\\\\n",
    "\\frac{3}{2} \\\\\n",
    "\\end{array}\n",
    "\\right]$ is minimizer of $f(\\bar x)$"
   ]
  },
  {
   "cell_type": "markdown",
   "metadata": {},
   "source": [
    "$f(\\bar x) = (\\frac{1}{2}-1)^2+\\frac{3}{2}-2 = \\frac{1}{4}+\\frac{3}{2}-2 = \\frac{1}{4} $<br><br>"
   ]
  },
  {
   "cell_type": "markdown",
   "metadata": {},
   "source": [
    "Ex. $\\quad$Let $\\;f(\\bar x) = x_1^2+6x_1x_2+x_2^2-12x_1-4x_2 $"
   ]
  },
  {
   "cell_type": "markdown",
   "metadata": {},
   "source": [
    "subject to $c_1 : x_1-x_2-1 = 0$"
   ]
  },
  {
   "cell_type": "markdown",
   "metadata": {},
   "source": [
    "$x^* =\n",
    "\\left[\n",
    "\\begin{array}{rrr}\n",
    "\\frac{1}{2} \\\\\n",
    "\\frac{3}{2} \\\\\n",
    "\\end{array}\n",
    "\\right] $ is stationary pt. and a minimizer of $f(\\bar x )$"
   ]
  },
  {
   "cell_type": "markdown",
   "metadata": {},
   "source": [
    "The equality constrained problem is associated with the Lagrangion function"
   ]
  },
  {
   "cell_type": "markdown",
   "metadata": {},
   "source": [
    "$L(\\bar x,\\lambda) = f(\\bar x) + \\sum_{i = 1}^{m} \\lambda_ic_i(\\bar x)$ "
   ]
  },
  {
   "cell_type": "markdown",
   "metadata": {},
   "source": [
    "when there is a Lagrange multiplier $\\lambda_i$ , corresopording to each constraint $c_i(\\bar x)\\;$ for $\\;i = 1,2,...,m$<br>"
   ]
  },
  {
   "cell_type": "markdown",
   "metadata": {},
   "source": [
    "#### Lagrangion Methods"
   ]
  },
  {
   "cell_type": "markdown",
   "metadata": {},
   "source": [
    "$ \\nabla_xL(\\bar x,\\lambda) = \\nabla f(\\bar x) +\\sum \\lambda_ic_i(\\bar x)$  = 0 , i= 1 "
   ]
  },
  {
   "cell_type": "markdown",
   "metadata": {},
   "source": [
    "$ \\nabla f(\\bar x) + \\lambda_1\\nabla c_1(\\bar x) = 0 $"
   ]
  },
  {
   "cell_type": "markdown",
   "metadata": {},
   "source": [
    "$ \\nabla f(\\bar x) = -\\lambda_1\\nabla c_1(\\bar x) $"
   ]
  },
  {
   "cell_type": "markdown",
   "metadata": {},
   "source": [
    "$ \\nabla f(\\bar x),\\nabla c_1(\\bar x)$ are vectors and $\\nabla f(\\bar x)//\\nabla c_1(\\bar x)$"
   ]
  },
  {
   "cell_type": "markdown",
   "metadata": {},
   "source": [
    "#### First order necessary conditions"
   ]
  },
  {
   "cell_type": "markdown",
   "metadata": {},
   "source": [
    "Necessary conditions for constrained optimization require a regularity condition on the geometry of the feasible region."
   ]
  },
  {
   "cell_type": "markdown",
   "metadata": {},
   "source": [
    "Definition - A feasible point $x^*$ is a regular point iff. the gradients $\\nabla c_i(\\bar x)$ for $i \\in E$  are linearly independent"
   ]
  },
  {
   "cell_type": "markdown",
   "metadata": {},
   "source": [
    "As a feasible point satisfies the m equality constraints $c_i(\\bar x) = 0\\;$ for $\\;i = 1,2,...,m$ , it follows that $m\\;\\leq n\\;$ at a regular point."
   ]
  },
  {
   "cell_type": "markdown",
   "metadata": {},
   "source": [
    "Let $A(\\bar x) = \n",
    "\\left[\n",
    "\\begin{array}{rrr}\n",
    "\\nabla c_1(\\bar x)  & \\nabla c_2(\\bar x) & \\dots & \\nabla c_m(\\bar x) \\\\ \n",
    "\\end{array}\n",
    "\\right]$ and $A(\\bar x)$ is the transpose of the Jacobian matrix"
   ]
  },
  {
   "cell_type": "markdown",
   "metadata": {},
   "source": [
    "$ J(\\bar x) = \n",
    "\\left[\n",
    "\\begin{array}{c}\n",
    "\\nabla c_1^T(\\bar x )  \\\\\n",
    "\\nabla c_2^T(\\bar x) \\\\\n",
    ".\\\\\n",
    ".\\\\\n",
    ".\\\\\n",
    "\\nabla c_m^T(\\bar x) \\\\\n",
    "\\end{array}\n",
    "\\right] = A^T(\\bar x) $"
   ]
  },
  {
   "cell_type": "markdown",
   "metadata": {},
   "source": [
    "$\\nabla c_1 =\n",
    "\\left[\n",
    "\\begin{array}{rrr}\n",
    "1 \\\\\n",
    "2 \\\\\n",
    "\\end{array}\n",
    "\\right],\\;\\; \\nabla c_2 =\n",
    "\\left[\n",
    "\\begin{array}{rrr}\n",
    "3 \\\\\n",
    "4 \\\\\n",
    "\\end{array}\n",
    "\\right] $"
   ]
  },
  {
   "cell_type": "markdown",
   "metadata": {},
   "source": [
    "Let $A = \n",
    "\\left[\n",
    "\\begin{array}{rrr}\n",
    "\\nabla c_1  & \\nabla c_2 \\\\ \n",
    "\\end{array}\n",
    "\\right]$"
   ]
  },
  {
   "cell_type": "markdown",
   "metadata": {},
   "source": [
    "$ = \n",
    "\\left[\n",
    "\\begin{array}{rrr}\n",
    "1&3 \\\\\n",
    "2&4 \\\\\n",
    "\\end{array}\n",
    "\\right] ;\\;$ Rank$(A) = 2$"
   ]
  },
  {
   "cell_type": "markdown",
   "metadata": {},
   "source": [
    "A feasible point $x^*$ is a regular point iff the n by m matrix $A(\\bar x)$ has full column rank, rank$(A(\\bar x)) = m$"
   ]
  },
  {
   "cell_type": "markdown",
   "metadata": {},
   "source": [
    "Ex. $\\quad c_1(\\bar x) = x_1 , c_2(\\bar x) = x_2-x_3^2 $ and $x^* =\n",
    "\\left[\n",
    "\\begin{array}{rrr}\n",
    "0 \\\\\n",
    "0 \\\\\n",
    "0 \\\\\n",
    "\\end{array}\n",
    "\\right] , \\;\\bar x \\in\\mathbb R^3 $"
   ]
  },
  {
   "cell_type": "markdown",
   "metadata": {},
   "source": [
    "The $\\;\\;\\nabla c_1 = \n",
    "\\left[\n",
    "\\begin{array}{c}\n",
    "\\frac{\\partial c_1}{\\partial x_1}  \\\\\n",
    "\\frac{\\partial c_1}{\\partial x_2}  \\\\\n",
    "\\frac{\\partial c_1}{\\partial x_3}  \\\\\n",
    "\\end{array}\n",
    "\\right] = \n",
    "\\left[\n",
    "\\begin{array}{c}\n",
    "1  \\\\\n",
    "0 \\\\\n",
    "0 \\\\\n",
    "\\end{array}\n",
    "\\right] \\;\\rightarrow\\; \\nabla c_1(x^*) =\n",
    "\\left[\n",
    "\\begin{array}{c}\n",
    "1  \\\\\n",
    "0 \\\\\n",
    "0 \\\\\n",
    "\\end{array}\n",
    "\\right] $"
   ]
  },
  {
   "cell_type": "markdown",
   "metadata": {},
   "source": [
    "$\\nabla c_2 = \n",
    "\\left[\n",
    "\\begin{array}{c}\n",
    "\\frac{\\partial c_2}{\\partial x_1}  \\\\\n",
    "\\frac{\\partial c_2}{\\partial x_2}  \\\\\n",
    "\\frac{\\partial c_2}{\\partial x_3}  \\\\\n",
    "\\end{array}\n",
    "\\right] = \n",
    "\\left[\n",
    "\\begin{array}{c}\n",
    "0  \\\\\n",
    "1 \\\\\n",
    "-2x_3 \\\\\n",
    "\\end{array}\n",
    "\\right] \\;\\rightarrow\\; \\nabla c_2(x^*) =\n",
    "\\left[\n",
    "\\begin{array}{c}\n",
    "0  \\\\\n",
    "1 \\\\\n",
    "0 \\\\\n",
    "\\end{array}\n",
    "\\right] $"
   ]
  },
  {
   "cell_type": "markdown",
   "metadata": {},
   "source": [
    "Let $\\;\\;A = \n",
    "\\left[\n",
    "\\begin{array}{rrr}\n",
    "\\nabla c_1(x^*)  & \\nabla c_2(x^*)  \\\\ \n",
    "\\end{array}\n",
    "\\right] =\n",
    "\\left[\n",
    "\\begin{array}{rrr}\n",
    "1 & 0  \\\\\n",
    "0 & 1 \\\\\n",
    "0 & 0 \\\\\n",
    "\\end{array}\n",
    "\\right]  $"
   ]
  },
  {
   "cell_type": "markdown",
   "metadata": {},
   "source": [
    "$ \\nabla c_1(x^*)$ and $\\nabla c_2(x^*)$ are linearly independent"
   ]
  },
  {
   "cell_type": "markdown",
   "metadata": {},
   "source": [
    "$x^*$ is a regular point"
   ]
  },
  {
   "cell_type": "markdown",
   "metadata": {},
   "source": [
    "#### Theorem (Second order sufficient condition)"
   ]
  },
  {
   "cell_type": "markdown",
   "metadata": {},
   "source": [
    "Let $\\;\\;\\Omega$ = { $\\bar x \\in\\mathbb R^n | c_i(\\bar x) = 0\\;$  for  $\\;i = 1,2,..,m$ } and $f \\in c(\\Omega)$ If $x^*$ is a local minimizer of $f(\\bar x$) on $\\Omega$ and if $x^*$ is a regular pt. then there exists Lagrange multiplier $\\lambda_i\\;,\\;i = 1,2,..,m\\;$ such that "
   ]
  },
  {
   "cell_type": "markdown",
   "metadata": {},
   "source": [
    "$ \\nabla_xL(x^*,\\lambda^*) = 0 $ and $ \\nabla_\\lambda L(x^*,\\lambda^*) = 0 $"
   ]
  },
  {
   "cell_type": "markdown",
   "metadata": {},
   "source": [
    "If a local minimizer $x^*$ is not a regular pt. , that is the constraint gradients $\\nabla c_1(\\bar x)$ are not linearly independent, there are 2 possibilities"
   ]
  },
  {
   "cell_type": "markdown",
   "metadata": {},
   "source": [
    "1) There are not exist multipliers $\\lambda^*\\in\\mathbb R^m$"
   ]
  },
  {
   "cell_type": "markdown",
   "metadata": {},
   "source": [
    "satisfying $\\nabla f(x^*) + A(x^*,\\lambda^*) = 0$"
   ]
  },
  {
   "cell_type": "markdown",
   "metadata": {},
   "source": [
    "2) There are infinite number of multipliers $\\lambda^*\\in\\mathbb R^m$"
   ]
  },
  {
   "cell_type": "markdown",
   "metadata": {},
   "source": [
    "satisfying $\\nabla f(x^*) + A(x^*)\\lambda^* = 0$"
   ]
  },
  {
   "cell_type": "markdown",
   "metadata": {},
   "source": [
    "$Note:$<br>\n",
    "* A regular pt. guarantees the existance and uniqueness of multipliers$\\nabla f(x^*) + A(x^*)\\lambda^* = 0$"
   ]
  },
  {
   "cell_type": "markdown",
   "metadata": {},
   "source": [
    "* Any regular local minimizer must satisfy the first order necessary conditions. However points which satisfy $ \\nabla_xL(x^*,\\lambda^*) = 0 $ and $ \\nabla_\\lambda L(x^*,\\lambda^*) = 0 $ in the first order condition may correspond to either a local minimizer or a local maximizer or a saddle point."
   ]
  },
  {
   "cell_type": "markdown",
   "metadata": {},
   "source": [
    "Definition Any point $x^*$ for which there exists Lagrange multiplier $\\lambda^*\\in\\mathbb R^m$ such that $ \\nabla_xL(x^*,\\lambda^*) = 0 $ and $ \\nabla_\\lambda L(x^*,\\lambda^*) = 0 $ is a constrained stationary point of the equality constrained problem."
   ]
  },
  {
   "cell_type": "markdown",
   "metadata": {},
   "source": [
    "A constrained stationary point may be either a local min or local max or saddle pt."
   ]
  },
  {
   "cell_type": "markdown",
   "metadata": {},
   "source": [
    "Ex. Find all constrained stationary points of"
   ]
  },
  {
   "cell_type": "markdown",
   "metadata": {},
   "source": [
    "Min $f(\\bar x) = x_1x_2^2$ , $ \\bar x \\in\\mathbb R^2$"
   ]
  },
  {
   "cell_type": "markdown",
   "metadata": {},
   "source": [
    "subject to $x_1^2+x_2^2 = 1 \\rightarrow c_1 : x_1^2+x_2^2-1 = 0$ "
   ]
  },
  {
   "cell_type": "markdown",
   "metadata": {},
   "source": [
    "step 1 : Standard form of optimization problem"
   ]
  },
  {
   "cell_type": "markdown",
   "metadata": {},
   "source": [
    "Min $f(\\bar x) = x_1x_2^2$ , $ \\bar x \\in\\mathbb R^2$"
   ]
  },
  {
   "cell_type": "markdown",
   "metadata": {},
   "source": [
    "subject to $x_1^2+x_2^2-1 = 0$ , n = 2 , m = 1"
   ]
  },
  {
   "cell_type": "markdown",
   "metadata": {},
   "source": [
    "step 2 : Lagrangion function"
   ]
  },
  {
   "cell_type": "markdown",
   "metadata": {},
   "source": [
    "$ \\nabla_xL(\\bar x,\\lambda) = \\nabla f(\\bar x) + \\lambda \\nabla c_1(\\bar x) $"
   ]
  },
  {
   "cell_type": "markdown",
   "metadata": {},
   "source": [
    "$ = x_1x_2^2 + \\lambda(x_1^2+x_2^2-1) $"
   ]
  },
  {
   "cell_type": "markdown",
   "metadata": {},
   "source": [
    "step 3 : First order condition"
   ]
  },
  {
   "cell_type": "markdown",
   "metadata": {},
   "source": [
    "$ \\nabla_xL(x^*,\\lambda^*) = 0 $ $\\longrightarrow$ 1."
   ]
  },
  {
   "cell_type": "markdown",
   "metadata": {},
   "source": [
    " $ \\nabla_\\lambda L(x^*,\\lambda^*) = 0$ $\\longrightarrow$ 2."
   ]
  },
  {
   "cell_type": "markdown",
   "metadata": {},
   "source": [
    "So  $ \\;\\frac{\\partial L}{\\partial x_1} = 0   $ $\\longrightarrow$  (1.1)"
   ]
  },
  {
   "cell_type": "markdown",
   "metadata": {},
   "source": [
    "$\\frac{\\partial L}{\\partial x_2} = 0$ $\\longrightarrow$ (1.2)"
   ]
  },
  {
   "cell_type": "markdown",
   "metadata": {},
   "source": [
    "$x_2^2+2\\lambda x_1 = 0$ $\\longrightarrow$ (1.1)"
   ]
  },
  {
   "cell_type": "markdown",
   "metadata": {},
   "source": [
    "$2x_1x_2+2 \\lambda x_2 = 0$  $\\longrightarrow$ (1.2)"
   ]
  },
  {
   "cell_type": "markdown",
   "metadata": {},
   "source": [
    "$\\frac{\\partial L}{\\partial \\lambda} = 0$ $\\longrightarrow$ 2. $\\rightarrow x_1^2+x_2^2-1 = 0$ $\\longrightarrow$ 2."
   ]
  },
  {
   "cell_type": "markdown",
   "metadata": {},
   "source": [
    "From (1.2) , we obtains $2x_2(x_1+\\lambda) = 0$"
   ]
  },
  {
   "cell_type": "markdown",
   "metadata": {},
   "source": [
    "$x_2 = 0$ or $x_1 = -\\lambda$"
   ]
  },
  {
   "cell_type": "markdown",
   "metadata": {},
   "source": [
    "Consider case $x_2 =0$ , substitating into 2. , we get $x_1 = \\pm1$"
   ]
  },
  {
   "cell_type": "markdown",
   "metadata": {},
   "source": [
    "From (1.1) , for $x_2 = 0$ and $x_1 = \\pm1$ , then we get $\\lambda = 0$"
   ]
  },
  {
   "cell_type": "markdown",
   "metadata": {},
   "source": [
    "Therefore , 2 stationary pts. are $x^* =\n",
    "\\left[\n",
    "\\begin{array}{rrr}\n",
    "1 \\\\\n",
    "0 \\\\\n",
    "\\end{array}\n",
    "\\right] , =\n",
    "\\left[\n",
    "\\begin{array}{rrr}\n",
    "-1 \\\\\n",
    "0 \\\\\n",
    "\\end{array}\n",
    "\\right] $ with $\\lambda = 0$"
   ]
  },
  {
   "cell_type": "markdown",
   "metadata": {},
   "source": [
    "Consider in case $x_1 = -\\lambda$ , substitating into (1.2) , we get $-2\\lambda x_2+2\\lambda x_2 = 0$"
   ]
  },
  {
   "cell_type": "markdown",
   "metadata": {},
   "source": [
    "and substituting into (1.1) and 2. , we obtain"
   ]
  },
  {
   "cell_type": "markdown",
   "metadata": {},
   "source": [
    "$x_2^2-2\\lambda^2 = 0$ $\\longrightarrow\\;(3)$"
   ]
  },
  {
   "cell_type": "markdown",
   "metadata": {},
   "source": [
    "$\\lambda_1^2+x_2^2 = 1$ $\\longrightarrow\\;(4)$"
   ]
  },
  {
   "cell_type": "markdown",
   "metadata": {},
   "source": [
    "$(4)-(3)$ ; $\\;\\;3\\lambda^2 = 1$"
   ]
  },
  {
   "cell_type": "markdown",
   "metadata": {},
   "source": [
    "$\\lambda = \\pm\\frac{1}{\\sqrt{3}} $"
   ]
  },
  {
   "cell_type": "markdown",
   "metadata": {},
   "source": [
    "For $\\lambda = \\pm\\frac{1}{\\sqrt{3}} $ , then $x_1 = -\\lambda = \\pm\\frac{1}{\\sqrt{3}} $"
   ]
  },
  {
   "cell_type": "markdown",
   "metadata": {},
   "source": [
    "From (4) ; $x_2^2 = 1-\\lambda^2 = 1-\\frac{1}{3} = \\frac{2}{3} $"
   ]
  },
  {
   "cell_type": "markdown",
   "metadata": {},
   "source": [
    "$x_2 = \\pm \\sqrt{\\frac{2}{3}}$"
   ]
  },
  {
   "cell_type": "markdown",
   "metadata": {},
   "source": [
    "Therefore , 2 stationary points are $ x^* =\n",
    "\\left[\n",
    "\\begin{array}{c}\n",
    "-\\frac{1}{\\sqrt{3}} \\\\\n",
    "\\sqrt{\\frac{2}{3}} \\\\\n",
    "\\end{array}\n",
    "\\right] , \n",
    "\\left[\n",
    "\\begin{array}{c}\n",
    "-\\frac{1}{\\sqrt{3}} \\\\\n",
    "-\\sqrt{\\frac{2}{3}} \\\\\n",
    "\\end{array}\n",
    "\\right] $ for $\\lambda  = \\frac{1}{3}$ , $\\;\\;\n",
    "\\left[\n",
    "\\begin{array}{c}\n",
    "\\frac{1}{\\sqrt{3}} \\\\\n",
    "\\sqrt{\\frac{2}{3}} \\\\\n",
    "\\end{array}\n",
    "\\right] , \n",
    "\\left[\n",
    "\\begin{array}{c}\n",
    "\\frac{1}{\\sqrt{3}} \\\\\n",
    "-\\sqrt{\\frac{2}{3}} \\\\\n",
    "\\end{array}\n",
    "\\right] $ for $\\lambda = -\\frac{1}{3}$"
   ]
  },
  {
   "cell_type": "markdown",
   "metadata": {},
   "source": [
    "#### Second order conditions for constrained stationary points"
   ]
  },
  {
   "cell_type": "markdown",
   "metadata": {},
   "source": [
    "$\\qquad$Second order information may help to determine the nature of a constrained  stationary pt."
   ]
  },
  {
   "cell_type": "markdown",
   "metadata": {},
   "source": [
    "#### Theorem (Second order necessary conditions)"
   ]
  },
  {
   "cell_type": "markdown",
   "metadata": {},
   "source": [
    "Let $\\;\\;f \\in C^2(\\Omega)$ , $x^*$ be a local minimizer and a regular pt. of the equality constrained problem(EP), then there exists multipliers $\\lambda^*\\in\\mathbb R^m $ such that"
   ]
  },
  {
   "cell_type": "markdown",
   "metadata": {},
   "source": [
    "$ \\nabla_xL(x^*,\\lambda^*) = \\nabla f(x^*)+A(x^*)\\lambda^* = 0 $ ,"
   ]
  },
  {
   "cell_type": "markdown",
   "metadata": {},
   "source": [
    "$ \\nabla_ \\lambda L(x^*,\\lambda^*) = C(x^*) = 0 $"
   ]
  },
  {
   "cell_type": "markdown",
   "metadata": {},
   "source": [
    "and $d^T\\nabla_x^2L(x^*,\\lambda^*)d \\geq 0\\;\\;\\forall d\\;$ such that $d^TA(x^*) = 0$"
   ]
  },
  {
   "cell_type": "markdown",
   "metadata": {},
   "source": [
    "#### Theorem (Second order sufficient conditions)"
   ]
  },
  {
   "cell_type": "markdown",
   "metadata": {},
   "source": [
    "Let $f \\in C^2(\\Omega)$. Let $x^*$ be a constrained stationary pt, so there exists multipliers $\\lambda^*\\in\\mathbb R^m$ such that"
   ]
  },
  {
   "cell_type": "markdown",
   "metadata": {},
   "source": [
    "$ \\nabla_xL(x^*,\\lambda^*) = \\nabla f(x^*)+A(x^*)\\lambda^* = 0 $  and"
   ]
  },
  {
   "cell_type": "markdown",
   "metadata": {},
   "source": [
    "$ \\nabla_ \\lambda L(x^*,\\lambda^*) = C(x^*) = 0 $"
   ]
  },
  {
   "cell_type": "markdown",
   "metadata": {},
   "source": [
    "If $d^T\\nabla_x^2L(x^*,\\lambda^*)d > 0$ $\\geq d  \\neq 0$ such that $d^TA(x^*) = 0$ then $x^*$ is a strict local minimizer of EP."
   ]
  },
  {
   "cell_type": "markdown",
   "metadata": {},
   "source": [
    "Theorem"
   ]
  },
  {
   "cell_type": "markdown",
   "metadata": {},
   "source": [
    "1) The Hessian of the Lagrangion function at$\\;(x^*,\\lambda^*)$ is $w^2 = \\nabla_x^2L(x^*,\\lambda^*) = \\nabla^2f(x^*)  +\\sum_{i = 1}^{m} \\lambda_i^*\\nabla^2c_i(x^*)$"
   ]
  },
  {
   "cell_type": "markdown",
   "metadata": {},
   "source": [
    "2) Geometrical representation of  $d^TA(x^*) = 0$ such that the direction d is tangential to the constraint surface at $x^*$"
   ]
  },
  {
   "cell_type": "markdown",
   "metadata": {},
   "source": [
    "For any nxm matrix A , m$\\le$n . If rank $A(x^*) = n\\;\\;(m=n)\\;$ then the only solution to $d^TA(x^*) = 0$ is $d = 0$. This implies that the feasible region consists of a single point."
   ]
  },
  {
   "cell_type": "markdown",
   "metadata": {},
   "source": [
    "If rank $A(x^*) = m<n$ then there exists a nx(n-m) matrix $z^*$ such that $z^*z^TA(x^*) = 0$ and rank $(z^*) = n-m$"
   ]
  },
  {
   "cell_type": "markdown",
   "metadata": {},
   "source": [
    "For any vector d such that $d^TA(x^*) = 0$ there exists a vector $\\overline{v} \\in\\mathbb R$ such that $d = z^*\\overline{v} , \\overline{v} \\neq 0$"
   ]
  },
  {
   "cell_type": "markdown",
   "metadata": {},
   "source": [
    "So $d^T\\nabla_x^2L(x^*,\\lambda^*)d = \\overline{v}^Tz^*z^T\\nabla_x^2L(x^*,\\lambda^*)z^*\\overline{v} $"
   ]
  },
  {
   "cell_type": "markdown",
   "metadata": {},
   "source": [
    "and $z^*z^T\\nabla_x^2L(x^*,\\lambda^*)z^* = w_\\mathbb R^* $ is called the reduced Hessian or projected Hessian.<br><br>"
   ]
  },
  {
   "cell_type": "markdown",
   "metadata": {},
   "source": [
    "Let $x^*$ be a constrained stationary pt. of EP. "
   ]
  },
  {
   "cell_type": "markdown",
   "metadata": {},
   "source": [
    "correspond to $ \\nabla_xL(x^*,\\lambda^*) = 0 $ and $ \\nabla_\\lambda L(x^*,\\lambda^*) = 0$ , then"
   ]
  },
  {
   "cell_type": "markdown",
   "metadata": {},
   "source": [
    "1) if $z^*z^T\\nabla_x^2L(x^*,\\lambda^*)z^*$ is positive definite then $x^*$ is a strict local minimizer of f on $\\Omega$"
   ]
  },
  {
   "cell_type": "markdown",
   "metadata": {},
   "source": [
    "2) if $z^*z^T\\nabla_x^2L(x^*,\\lambda^*)z^*$ is negative definite then $x^*$ is a strict local maximizer of f on $\\Omega$"
   ]
  },
  {
   "cell_type": "markdown",
   "metadata": {},
   "source": [
    "3) if $z^*z^T\\nabla_x^2L(x^*,\\lambda^*)z^*$ is indefinite then $x^*$ is a constrained saddle pt.<br><br>"
   ]
  },
  {
   "cell_type": "markdown",
   "metadata": {},
   "source": [
    "Ex. $\\quad Min\\;\\;f(\\bar x) = x_1x_2^2 , \\;\\bar x \\in\\mathbb R^2 $"
   ]
  },
  {
   "cell_type": "markdown",
   "metadata": {},
   "source": [
    "subject to $x_1^2+x_2^2-1 =0$ , n=2 , m=1"
   ]
  },
  {
   "cell_type": "markdown",
   "metadata": {},
   "source": [
    "The constrained stationary pts. are:<br>\n",
    "$\\left[\n",
    "\\begin{array}{c}\n",
    "1 \\\\\n",
    "0 \\\\\n",
    "\\end{array}\n",
    "\\right] ,\n",
    "\\left[\n",
    "\\begin{array}{c}\n",
    "-1 \\\\\n",
    "0 \\\\\n",
    "\\end{array}\n",
    "\\right]  \\;\\text{at}\\; \\lambda_1 = 0$ ,<br>\n",
    "$\\left[\n",
    "\\begin{array}{c}\n",
    "-\\frac{1}{\\sqrt{3}} \\\\\n",
    "\\sqrt{\\frac{2}{3}} \\\\\n",
    "\\end{array}\n",
    "\\right] , \n",
    "\\left[\n",
    "\\begin{array}{c}\n",
    "-\\frac{1}{\\sqrt{3}} \\\\\n",
    "-\\sqrt{\\frac{2}{3}} \\\\\n",
    "\\end{array}\n",
    "\\right]  \\;\\text{at}\\; \\lambda_1 = \\frac{1}{3}$ ,<br>\n",
    "$\\left[\n",
    "\\begin{array}{c}\n",
    "\\frac{1}{\\sqrt{3}} \\\\\n",
    "\\sqrt{\\frac{2}{3}}\\\\\n",
    "\\end{array}\n",
    "\\right] , \n",
    "\\left[\n",
    "\\begin{array}{c}\n",
    "\\frac{1}{\\sqrt{3}}\\\\\n",
    "-\\sqrt{\\frac{2}{3}} \\\\\n",
    "\\end{array}\n",
    "\\right]  \\;\\text{at}\\; \\lambda_1 = -\\frac{1}{3}$"
   ]
  },
  {
   "cell_type": "markdown",
   "metadata": {},
   "source": [
    "The Lagrangion function"
   ]
  },
  {
   "cell_type": "markdown",
   "metadata": {},
   "source": [
    "$ \\nabla_xL(\\bar x,\\lambda) = \n",
    "\\left[\n",
    "\\begin{array}{c}\n",
    "\\frac{\\partial L}{\\partial x_1}  \\\\\n",
    "\\frac{\\partial L}{\\partial x_2} \\\\\n",
    "\\end{array}\n",
    "\\right] =\n",
    "\\left[\n",
    "\\begin{array}{c}\n",
    "x_2^2+2\\lambda_1x_1  \\\\\n",
    "2x_1x_2+2\\lambda_1x_2 \\\\\n",
    "\\end{array}\n",
    "\\right]$  and"
   ]
  },
  {
   "cell_type": "markdown",
   "metadata": {},
   "source": [
    "$ \\nabla_x^2L(\\bar x,\\lambda) = \n",
    "\\left[\n",
    "\\begin{array}{c}\n",
    "2\\lambda_1&2x_2  \\\\\n",
    "2x_2&2x_1+2\\lambda_1 \\\\\n",
    "\\end{array}\n",
    "\\right] $ , $\\;A(\\bar x) =\n",
    "\\left[\n",
    "\\begin{array}{c}\n",
    "\\nabla c_1  \\\\ \n",
    "\\end{array}\n",
    "\\right] =\n",
    "\\left[\n",
    "\\begin{array}{c}\n",
    "2x_1  \\\\\n",
    "2x_2 \\\\\n",
    "\\end{array}\n",
    "\\right] $"
   ]
  },
  {
   "cell_type": "markdown",
   "metadata": {},
   "source": [
    "At $x^* = \n",
    "\\left[\n",
    "\\begin{array}{rrr}\n",
    "1  \\\\\n",
    "0 \\\\\n",
    "\\end{array}\n",
    "\\right] , \\lambda^*=0 $ ;"
   ]
  },
  {
   "cell_type": "markdown",
   "metadata": {},
   "source": [
    "$A(\\bar x) =\n",
    "\\left[\n",
    "\\begin{array}{rrr}\n",
    "2x_1  \\\\\n",
    "2x_2 \\\\\n",
    "\\end{array}\n",
    "\\right] =\n",
    "\\left[\n",
    "\\begin{array}{rrr}\n",
    "2  \\\\\n",
    "0 \\\\\n",
    "\\end{array}\n",
    "\\right] $"
   ]
  },
  {
   "cell_type": "markdown",
   "metadata": {},
   "source": [
    "Find $z^*\\in\\mathbb R^{nx(n-m)} $ such that $z^*z^TA(x^*) = 0$"
   ]
  },
  {
   "cell_type": "markdown",
   "metadata": {},
   "source": [
    "$z^*z^TA(x^*) = \n",
    "\\left[\n",
    "\\begin{array}{c}\n",
    "...&...  \\\\ \n",
    "\\end{array}\n",
    "\\right]\n",
    "\\left[\n",
    "\\begin{array}{c}\n",
    "2  \\\\\n",
    "0 \\\\\n",
    "\\end{array}\n",
    "\\right] = 0 $ for $z^* \\neq 0$"
   ]
  },
  {
   "cell_type": "markdown",
   "metadata": {},
   "source": [
    "Let $z^* =\n",
    "\\left[\n",
    "\\begin{array}{rrr}\n",
    "0  \\\\\n",
    "1 \\\\\n",
    "\\end{array}\n",
    "\\right]$ or $z^* =\n",
    "\\left[\n",
    "\\begin{array}{rrr}\n",
    "0  \\\\\n",
    "a \\\\\n",
    "\\end{array}\n",
    "\\right]$ for $a \\neq 0$"
   ]
  },
  {
   "cell_type": "markdown",
   "metadata": {},
   "source": [
    "The projected Hessian matrix is"
   ]
  },
  {
   "cell_type": "markdown",
   "metadata": {},
   "source": [
    "$z^*z^T\\nabla_x^2L(x^*,\\lambda^*)z^*$ where $z^* =\n",
    "\\left[\n",
    "\\begin{array}{rrr}\n",
    "0  \\\\\n",
    "1 \\\\\n",
    "\\end{array}\n",
    "\\right] $ and\n",
    "$ \\nabla_x^2L(x^*,\\lambda^*) = \n",
    "\\left[\n",
    "\\begin{array}{rrr}\n",
    "0&0  \\\\\n",
    "0&2 \\\\\n",
    "\\end{array}\n",
    "\\right] $ , there<br>\n",
    "$z^*z^T\\nabla_x^2L(x^*,\\lambda^*)z^* =\n",
    "\\left[\n",
    "\\begin{array}{rrr}\n",
    "0&1  \\\\ \n",
    "\\end{array}\n",
    "\\right] \n",
    "\\left[\n",
    "\\begin{array}{rrr}\n",
    "0&0  \\\\\n",
    "0&2 \\\\\n",
    "\\end{array}\n",
    "\\right]\n",
    "\\left[\n",
    "\\begin{array}{rrr}\n",
    "0  \\\\\n",
    "1 \\\\\n",
    "\\end{array}\n",
    "\\right] = 2 > 0$"
   ]
  },
  {
   "cell_type": "markdown",
   "metadata": {},
   "source": [
    "Hence the projected Hessian is positive ; so $x^*=\n",
    "\\left[\n",
    "\\begin{array}{rrr}\n",
    "1  \\\\\n",
    "0 \\\\\n",
    "\\end{array}\n",
    "\\right] $ is a strict local minimizer."
   ]
  },
  {
   "cell_type": "markdown",
   "metadata": {},
   "source": [
    "Consider at  $x^*  = \n",
    "\\left[\n",
    "\\begin{array}{rrr}\n",
    "-\\frac{1}{\\sqrt{3}} \\\\\n",
    "\\sqrt{\\frac{2}{3}} \\\\\n",
    "\\end{array}\n",
    "\\right]$ for $\\lambda^* =\\frac{1}{\\sqrt{3}}$ , we got"
   ]
  },
  {
   "cell_type": "markdown",
   "metadata": {},
   "source": [
    "$A(x^*) = \n",
    "\\left[\n",
    "\\begin{array}{c}\n",
    "-\\frac{2}{\\sqrt{3}} \\\\\n",
    "2\\sqrt{\\frac{2}{3}} \\\\\n",
    "\\end{array}\n",
    "\\right] = \\frac{2}{\\sqrt{3}}\n",
    "\\left[\n",
    "\\begin{array}{c}\n",
    "-1 \\\\\n",
    "\\sqrt{2} \\\\\n",
    "\\end{array}\n",
    "\\right]$ , then"
   ]
  },
  {
   "cell_type": "markdown",
   "metadata": {},
   "source": [
    "$z^* \\in\\mathbb R^{nx(n-m)} $ such that $z^*z^TA(x^*) = 0$ is"
   ]
  },
  {
   "cell_type": "markdown",
   "metadata": {},
   "source": [
    "$ \\left[\n",
    "\\begin{array}{c}\n",
    "...&...  \\\\ \n",
    "\\end{array}\n",
    "\\right] \\frac{2}{\\sqrt{3}}\n",
    "\\left[\n",
    "\\begin{array}{c}\n",
    "2  \\\\\n",
    "0 \\\\\n",
    "\\end{array}\n",
    "\\right] = 0 $"
   ]
  },
  {
   "cell_type": "markdown",
   "metadata": {},
   "source": [
    "Let $z^* = \n",
    "\\left[\n",
    "\\begin{array}{c}\n",
    "\\sqrt{2} \\\\\n",
    "1 \\\\\n",
    "\\end{array}\n",
    "\\right] $ , so the projected Hessian is<br>\n",
    "$w^* =z^*z^T\\nabla_x^2L(x^*,\\lambda^*)z^* = \n",
    "\\left[\n",
    "\\begin{array}{c}\n",
    "\\sqrt{2}&1  \\\\ \n",
    "\\end{array}\n",
    "\\right]\n",
    "\\left[\n",
    "\\begin{array}{c}\n",
    "2 -\\frac{1}{\\sqrt{3}}-\\frac{1}{\\sqrt{3}}&2\\sqrt{\\frac{2}{3}}  \\\\\n",
    "2\\sqrt{\\frac{2}{3}}&2-\\frac{1}{\\sqrt{3}}+2\\frac{1}{\\sqrt{3}} \\\\\n",
    "\\end{array}\n",
    "\\right]\n",
    "\\left[\n",
    "\\begin{array}{c}\n",
    "\\sqrt{2} \\\\\n",
    "1 \\\\\n",
    "\\end{array}\n",
    "\\right] = \\frac{4}{3} > 0 $"
   ]
  },
  {
   "cell_type": "markdown",
   "metadata": {},
   "source": [
    "The projected Hessian is positive so $x^* =\n",
    "\\left[\n",
    "\\begin{array}{rrr}\n",
    "-\\frac{1}{\\sqrt{3}}\\\\\n",
    "\\sqrt{\\frac{2}{3}} \\\\\n",
    "\\end{array}\n",
    "\\right] $ is a strict local minimizer, and the other stationary points can classify mentioned above.<br><br>"
   ]
  },
  {
   "cell_type": "markdown",
   "metadata": {},
   "source": [
    "Ex. (Post office parcel problem)"
   ]
  },
  {
   "cell_type": "markdown",
   "metadata": {},
   "source": [
    "Max $\\;f(\\bar x) = x_1x_2x_3 , \\bar x \\in\\mathbb R^3$"
   ]
  },
  {
   "cell_type": "markdown",
   "metadata": {},
   "source": [
    "subject to $x_1+2x_2+2x_3-72 = 0$"
   ]
  },
  {
   "cell_type": "markdown",
   "metadata": {},
   "source": [
    "step 1 : convert the problem to a standard form"
   ]
  },
  {
   "cell_type": "markdown",
   "metadata": {},
   "source": [
    "Min $\\;f(\\bar x) = -x_1x_2x_3 , \\bar x \\in\\mathbb R^3$"
   ]
  },
  {
   "cell_type": "markdown",
   "metadata": {},
   "source": [
    "subject to $c_1 =x_1+2x_2+2x_3-72 = 0$ , n=3,m=1"
   ]
  },
  {
   "cell_type": "markdown",
   "metadata": {},
   "source": [
    "step 2 : the Lagrangion function"
   ]
  },
  {
   "cell_type": "markdown",
   "metadata": {},
   "source": [
    "$L(\\bar x,\\lambda) = -x_1x_2x_3+\\lambda(x_1+2x_2+2x_3-72) $"
   ]
  },
  {
   "cell_type": "markdown",
   "metadata": {},
   "source": [
    "step 3 : First order conditions"
   ]
  },
  {
   "cell_type": "markdown",
   "metadata": {},
   "source": [
    "$ \\nabla_xL(\\bar x,\\lambda) = 0 $"
   ]
  },
  {
   "cell_type": "markdown",
   "metadata": {},
   "source": [
    "$ \\nabla_\\lambda L(\\bar x,\\lambda) = 0 $"
   ]
  },
  {
   "cell_type": "markdown",
   "metadata": {},
   "source": [
    "$\\frac{\\partial L}{\\partial x_1} = -x_2x_3+\\lambda_1 = 0$ $\\longrightarrow$ 1."
   ]
  },
  {
   "cell_type": "markdown",
   "metadata": {},
   "source": [
    "$\\frac{\\partial L}{\\partial x_2} = -x_1x_3+2\\lambda_1 = 0$ $\\longrightarrow$ 2."
   ]
  },
  {
   "cell_type": "markdown",
   "metadata": {},
   "source": [
    "$\\frac{\\partial L}{\\partial x_3} = -x_1x_2+2\\lambda_1 = 0$ $\\longrightarrow$ 3."
   ]
  },
  {
   "cell_type": "markdown",
   "metadata": {},
   "source": [
    "$\\frac{\\partial L}{\\partial \\lambda} = x_1+2x_2+2x_3-7250 $ $\\longrightarrow$ 4."
   ]
  },
  {
   "cell_type": "markdown",
   "metadata": {},
   "source": [
    "We obtaines all stationary pts. are"
   ]
  },
  {
   "cell_type": "markdown",
   "metadata": {},
   "source": [
    "$x^* = \n",
    "\\left[\n",
    "\\begin{array}{c}\n",
    "24  \\\\\n",
    "12 \\\\\n",
    "12 \\\\\n",
    "\\end{array}\n",
    "\\right]$ , for $\\lambda_1^* = 144\n",
    "\\left[\n",
    "\\begin{array}{c}\n",
    "72  \\\\\n",
    "0 \\\\\n",
    "0 \\\\\n",
    "\\end{array}\n",
    "\\right]$ , for $\\lambda_1^* = 0\n",
    "\\left[\n",
    "\\begin{array}{c}\n",
    "0  \\\\\n",
    "32 \\\\\n",
    "12 \\\\\n",
    "\\end{array}\n",
    "\\right]$ , for $\\lambda_1^* = 0\n",
    "\\left[\n",
    "\\begin{array}{c}\n",
    "0  \\\\\n",
    "0 \\\\\n",
    "36 \\\\\n",
    "\\end{array}\n",
    "\\right] $ , for $\\lambda_1^* = 0$"
   ]
  },
  {
   "cell_type": "markdown",
   "metadata": {},
   "source": [
    "and $f_a(x^*) = -3456 , f_b(x^*) = 0 , f_c(x^*) = 0 , f_d(x^*) = 0 $"
   ]
  },
  {
   "cell_type": "markdown",
   "metadata": {},
   "source": [
    "step 4 : Test the projected Hessian"
   ]
  },
  {
   "cell_type": "markdown",
   "metadata": {},
   "source": [
    "The gradient of $f(\\bar x)$ and constraint $c_1(\\bar x)$ are"
   ]
  },
  {
   "cell_type": "markdown",
   "metadata": {},
   "source": [
    "$\\nabla f(\\bar x) = \n",
    "\\left[\n",
    "\\begin{array}{rrr}\n",
    "-x_2x_3  \\\\\n",
    "-x_1x_3 \\\\\n",
    "-x_1x_2 \\\\\n",
    "\\end{array}\n",
    "\\right] , \\nabla c_1 =\n",
    "\\left[\n",
    "\\begin{array}{rrr}\n",
    "1  \\\\\n",
    "2 \\\\\n",
    "2 \\\\\n",
    "\\end{array}\n",
    "\\right] = A(x^*) $"
   ]
  },
  {
   "cell_type": "markdown",
   "metadata": {},
   "source": [
    "when $c_1(\\bar x)  = x_1+2x_2+2x_3-72$ and $\\nabla^2c_1(\\bar x) = 0 $"
   ]
  },
  {
   "cell_type": "markdown",
   "metadata": {},
   "source": [
    "So $ \\nabla_x^2L(x,\\lambda) = \\nabla^2f(\\bar x)+\\lambda_1\\nabla^2c_1(\\bar x) $"
   ]
  },
  {
   "cell_type": "markdown",
   "metadata": {},
   "source": [
    "$ =\n",
    "\\left[\n",
    "\\begin{array}{c}\n",
    "0&-x_3&-x_2 \\\\\n",
    "-x_3&0&-x_1 \\\\\n",
    "-x_2&-x_1&0 \\\\\n",
    "\\end{array}\n",
    "\\right] + 0 $"
   ]
  },
  {
   "cell_type": "markdown",
   "metadata": {},
   "source": [
    "Find $z^* \\in\\mathbb R^{nx(n-m)} , \\;z^* \\in\\mathbb R^{3x2}$ such that $z^*z^TA(x^*) = 0$ "
   ]
  },
  {
   "cell_type": "markdown",
   "metadata": {},
   "source": [
    "$ \\left[\n",
    "\\begin{array}{rrr}\n",
    "...&...&... \\\\\n",
    "...&...&... \\\\\n",
    "\\end{array}\n",
    "\\right]\n",
    "\\left[\n",
    "\\begin{array}{rrr}\n",
    "1 \\\\\n",
    "2 \\\\\n",
    "2 \\\\    \n",
    "\\end{array}\n",
    "\\right] = 0 $"
   ]
  },
  {
   "cell_type": "markdown",
   "metadata": {},
   "source": [
    "Let $\\;z^* =\n",
    "\\left[\n",
    "\\begin{array}{c}\n",
    "0&2 \\\\\n",
    "1&-1 \\\\\n",
    "-1&0 \\\\    \n",
    "\\end{array}\n",
    "\\right] $ and rank$(z^*)=2$ , a full column rank and be linearly independent."
   ]
  },
  {
   "cell_type": "markdown",
   "metadata": {},
   "source": [
    "The reduced Hessian of the Lagrangion function at $x^* = \n",
    "\\left[\n",
    "\\begin{array}{c}\n",
    "24  \\\\\n",
    "12 \\\\\n",
    "12 \\\\\n",
    "\\end{array}\n",
    "\\right]$ , with $\\lambda_1^* = 144$ , is<br>\n",
    "$z^*z^T\\nabla_x^2L(x^*,\\lambda^*)z^* =\n",
    "\\left[\n",
    "\\begin{array}{c}\n",
    "0 & 1 & -1  \\\\\n",
    "2 & -1 & 0 \\\\\n",
    "\\end{array}\n",
    "\\right]\n",
    "\\left[\n",
    "\\begin{array}{c}\n",
    "0 & -12 & -12 \\\\\n",
    "-12 & 0 & -24 \\\\\n",
    "-12 & -24 &0 \\\\\n",
    "\\end{array}\n",
    "\\right]\n",
    "\\left[\n",
    "\\begin{array}{c}\n",
    "0 & 2  \\\\\n",
    "1 & -1 \\\\\n",
    "-1 & 0 \\\\\n",
    "\\end{array}\n",
    "\\right] = \n",
    "\\left[\n",
    "\\begin{array}{c}\n",
    "48 & -24  \\\\\n",
    "-24 & 48 \\\\\n",
    "\\end{array}\n",
    "\\right] $"
   ]
  },
  {
   "cell_type": "markdown",
   "metadata": {},
   "source": [
    "Leading principle minor for definiteness"
   ]
  },
  {
   "cell_type": "markdown",
   "metadata": {},
   "source": [
    "$\\Delta_1 = 48>0 , \\;\\Delta_2 = 1728 > 0$ , so it is positive."
   ]
  },
  {
   "cell_type": "markdown",
   "metadata": {},
   "source": [
    "Therefore , $x^* = \n",
    "\\left[\n",
    "\\begin{array}{rrr}\n",
    "24  \\\\\n",
    "12 \\\\\n",
    "12 \\\\\n",
    "\\end{array}\n",
    "\\right]$ is a strict local minimizer and the value off the objective function at $x^*,f(x^*)=-3456$"
   ]
  },
  {
   "cell_type": "markdown",
   "metadata": {},
   "source": [
    "Convert to the real problem. Max $f(\\bar x) = x_1x_2x_3 = 3456$<br><br>"
   ]
  },
  {
   "cell_type": "markdown",
   "metadata": {},
   "source": [
    "$Sensitivity\\;analysis$"
   ]
  },
  {
   "cell_type": "markdown",
   "metadata": {},
   "source": [
    "$\\qquad$Sensitivity analysis looks at how the solution value $f(x^*)$ and solution point $x^*$ change when the problem data changes."
   ]
  },
  {
   "cell_type": "markdown",
   "metadata": {},
   "source": [
    "Suppose the j equality constraint changes from $c_j(\\bar x) = 0$ to $c_j(\\bar x)+\\epsilon = 0$"
   ]
  },
  {
   "cell_type": "markdown",
   "metadata": {},
   "source": [
    "Let $\\;x^*(\\epsilon),\\lambda^*(\\epsilon)$ denoted a solution to the first order necessary condition with the perturbed constraint so $ \\sum_{i=1}^{m}\\lambda_i^*(\\epsilon)\\nabla^2c_i(x^*(\\epsilon)) =0 $ and $c_i(x^*(\\epsilon))+\\epsilon c_j = 0 $ where $c_j \\in\\mathbb R^m\\;$ is the j unite vector."
   ]
  },
  {
   "cell_type": "markdown",
   "metadata": {},
   "source": [
    "The original sulution corresponds to $\\epsilon = 0$ and $x^* = x^*(\\epsilon = 0) $ ,"
   ]
  },
  {
   "cell_type": "markdown",
   "metadata": {},
   "source": [
    "The change in the objective value $f(x^*)$ due to small change ∈ in the j equality constraint is "
   ]
  },
  {
   "cell_type": "markdown",
   "metadata": {},
   "source": [
    "$\\Delta f(x^*) = f(x^*(\\epsilon)) - f(x^*)$"
   ]
  },
  {
   "cell_type": "markdown",
   "metadata": {},
   "source": [
    "$ = L(x^*(\\epsilon)), (\\lambda^*(\\epsilon)) - L(x^*,\\lambda^*) $"
   ]
  },
  {
   "cell_type": "markdown",
   "metadata": {},
   "source": [
    "$\\frac{\\partial L}{\\partial c_j} \\Delta c_j = \\lambda_j^*\\epsilon , \\Delta c_j = \\epsilon $"
   ]
  },
  {
   "cell_type": "markdown",
   "metadata": {},
   "source": [
    "Thus $a_j^*$ gives a first order estimate of the rate of change of $f(x^*)$ with respect to change in the j constraint3"
   ]
  },
  {
   "cell_type": "markdown",
   "metadata": {},
   "source": [
    "Interpretation of Lagrangion multiplier $\\lambda_j$ ;"
   ]
  },
  {
   "cell_type": "markdown",
   "metadata": {},
   "source": [
    "$ \\lambda_j^* = \\frac{\\partial f}{\\partial \\epsilon_j}(x^*(\\epsilon))\\bigg|_{\\epsilon=0} $"
   ]
  },
  {
   "cell_type": "markdown",
   "metadata": {},
   "source": [
    "=$\\;\\lim_{\\epsilon \\to 0} \\frac{\\Delta f(x^*(\\epsilon))}{\\partial x_1} $"
   ]
  },
  {
   "cell_type": "markdown",
   "metadata": {},
   "source": [
    "= The rate of change of optimal value with respect to increase in the right hand side of j constraint $(c_j(\\bar x) = 0 \\rightarrow c_j(\\bar x)+\\epsilon = 0) $<br><br>"
   ]
  },
  {
   "cell_type": "markdown",
   "metadata": {},
   "source": [
    "Ex. $\\quad \\text{Min}\\;\\;f(\\bar x) = -x_1x_2x_3 $"
   ]
  },
  {
   "cell_type": "markdown",
   "metadata": {},
   "source": [
    "subject to $x_1+2x_2+2x_3-72 = 0$"
   ]
  },
  {
   "cell_type": "markdown",
   "metadata": {},
   "source": [
    "We have $x^* = \n",
    "\\left[\n",
    "\\begin{array}{rrr}\n",
    "24  \\\\\n",
    "12 \\\\\n",
    "12 \\\\\n",
    "\\end{array}\n",
    "\\right]$ with $\\lambda^* = 144$ is a stict local minimizer and $f(x^*) = -x_1x_2x_3 = -3456$"
   ]
  },
  {
   "cell_type": "markdown",
   "metadata": {},
   "source": [
    "Let $\\;c_1(x^a) = x_1+2x_2+2x_3-72 = 0$ changes to $c_1(x^*a)+\\epsilon = 0$ such that $\\epsilon = -2$"
   ]
  },
  {
   "cell_type": "markdown",
   "metadata": {},
   "source": [
    "Then the estimate of change in objective value is $\\Delta f(x^*) = \\lambda^*\\epsilon = 144(-2) = -288 $"
   ]
  },
  {
   "cell_type": "markdown",
   "metadata": {},
   "source": [
    "To check the accuracy of this estimate by resolution the problem with the constraint"
   ]
  },
  {
   "cell_type": "markdown",
   "metadata": {},
   "source": [
    "$c_1(\\bar x) = x_1+2x_2+2x_3-72+\\epsilon = 0 $"
   ]
  },
  {
   "cell_type": "markdown",
   "metadata": {},
   "source": [
    "The first order neccesary condition give $\\nabla_xf(x^*(\\epsilon)) + \\nabla_xc_1(x^*(\\epsilon)) \\lambda(\\epsilon) = 0$ for $\\epsilon = -2 $"
   ]
  },
  {
   "cell_type": "markdown",
   "metadata": {},
   "source": [
    "$ \\left[\n",
    "\\begin{array}{rrr}\n",
    "-x_2x_3  \\\\\n",
    "-x_1x_3 \\\\\n",
    "-x_1x_2 \\\\\n",
    "\\end{array}\n",
    "\\right] + \\lambda_1\n",
    "\\left[\n",
    "\\begin{array}{rrr}\n",
    "1  \\\\\n",
    "2 \\\\\n",
    "2 \\\\\n",
    "\\end{array}\n",
    "\\right] =\n",
    "\\left[\n",
    "\\begin{array}{rrr}\n",
    "0  \\\\\n",
    "0 \\\\\n",
    "0 \\\\\n",
    "\\end{array}\n",
    "\\right] $ $\\longrightarrow$ 1. and"
   ]
  },
  {
   "cell_type": "markdown",
   "metadata": {},
   "source": [
    "$x_1+2x_2+2x_3-74 = 0 $ $\\longrightarrow$ 2."
   ]
  },
  {
   "cell_type": "markdown",
   "metadata": {},
   "source": [
    "From 1. , $\\lambda_1 = \\frac{x_1x_3}{2} = \\frac{x_1x_2}{2} = x_2x_3$ for $x_1,x_2,x_3  \\neq 0 $"
   ]
  },
  {
   "cell_type": "markdown",
   "metadata": {},
   "source": [
    "we get $x_1 = 2x_2 = 2x_3$ and substituting into 2."
   ]
  },
  {
   "cell_type": "markdown",
   "metadata": {},
   "source": [
    "From 2. , $2x_2+2x_2+2x_2-74 = 0 $"
   ]
  },
  {
   "cell_type": "markdown",
   "metadata": {},
   "source": [
    "$6x_2 = 74$"
   ]
  },
  {
   "cell_type": "markdown",
   "metadata": {},
   "source": [
    "$x_2 = \\frac{74}{6} = \\frac{37}{3}$"
   ]
  },
  {
   "cell_type": "markdown",
   "metadata": {},
   "source": [
    "So a stationary pt. is $x^*(\\epsilon) = x_2x_3 = (\\frac{37}{3})(\\frac{37}{3}) = 152$ for $\\epsilon = -2$ and $f(x^*(\\epsilon)) = (\\frac{74}{3})(\\frac{37}{3})(\\frac{37}{3}) = -3752.07$"
   ]
  },
  {
   "cell_type": "markdown",
   "metadata": {},
   "source": [
    "Then $\\Delta f(x^*(\\epsilon)) = f(x^*(\\epsilon))-f(x^*)$"
   ]
  },
  {
   "cell_type": "markdown",
   "metadata": {},
   "source": [
    "$= -3752.07 - (-3456)$"
   ]
  },
  {
   "cell_type": "markdown",
   "metadata": {},
   "source": [
    "$= -296.07 $"
   ]
  },
  {
   "cell_type": "markdown",
   "metadata": {},
   "source": [
    "Compare with approximate value $\\Delta f = \\lambda^*\\epsilon = 144(-2) = -288 $ ,"
   ]
  },
  {
   "cell_type": "markdown",
   "metadata": {},
   "source": [
    "We obtain the objective value decrease by $288$ unit.<br><br>"
   ]
  },
  {
   "cell_type": "markdown",
   "metadata": {},
   "source": [
    "$Considering\\;for\\;any\\;\\epsilon$"
   ]
  },
  {
   "cell_type": "markdown",
   "metadata": {},
   "source": [
    "constraint : $c_1 = x_1+2x_2+2x_3-72+\\epsilon = 0 $ and $\\Delta f\\bar x(\\epsilon))-A(\\bar x(\\epsilon))\\lambda(\\epsilon) = 0 $"
   ]
  },
  {
   "cell_type": "markdown",
   "metadata": {},
   "source": [
    "$ \\left[\n",
    "\\begin{array}{rrr}\n",
    "-x_2x_3  \\\\\n",
    "-x_1x_3 \\\\\n",
    "-x_1x_2 \\\\\n",
    "\\end{array}\n",
    "\\right] + \\lambda_1\n",
    "\\left[\n",
    "\\begin{array}{rrr}\n",
    "1  \\\\\n",
    "2 \\\\\n",
    "2 \\\\\n",
    "\\end{array}\n",
    "\\right] =\n",
    "\\left[\n",
    "\\begin{array}{rrr}\n",
    "0  \\\\\n",
    "0 \\\\\n",
    "0 \\\\\n",
    "\\end{array}\n",
    "\\right] $"
   ]
  },
  {
   "cell_type": "markdown",
   "metadata": {},
   "source": [
    "$\\rightarrow \\lambda = x_2x_3 $ and $ x_1 = 2x_2 = 2x_3 $"
   ]
  },
  {
   "cell_type": "markdown",
   "metadata": {},
   "source": [
    "Substituting in $c_1 = x_1+2x_2+2x_3-72+\\epsilon = 0 $ ,"
   ]
  },
  {
   "cell_type": "markdown",
   "metadata": {},
   "source": [
    "$3x_1-72+\\epsilon = 0$"
   ]
  },
  {
   "cell_type": "markdown",
   "metadata": {},
   "source": [
    "$x_1 = \\frac{72}{3}-\\frac{\\epsilon}{3}$"
   ]
  },
  {
   "cell_type": "markdown",
   "metadata": {},
   "source": [
    "and $x^* =\n",
    "\\left[\n",
    "\\begin{array}{rrr}\n",
    "24-\\frac{\\epsilon}{3} \\\\\n",
    "12-\\frac{\\epsilon}{6} \\\\\n",
    "12-\\frac{\\epsilon}{6} \\\\\n",
    "\\end{array}\n",
    "\\right] $ with $ \\lambda^*(\\epsilon) = (12-\\frac{\\epsilon}{6})^2 $"
   ]
  },
  {
   "cell_type": "markdown",
   "metadata": {},
   "source": [
    "and $f(x^*(\\epsilon)) = -(24-\\frac{\\epsilon}{3})(12-\\frac{\\epsilon}{6})^2 $"
   ]
  },
  {
   "cell_type": "markdown",
   "metadata": {},
   "source": [
    "The actual change in the function value is"
   ]
  },
  {
   "cell_type": "markdown",
   "metadata": {},
   "source": [
    "$\\Delta f = f(x^*(\\epsilon))-f(x^*)$"
   ]
  },
  {
   "cell_type": "markdown",
   "metadata": {},
   "source": [
    "$ = -(24-\\frac{\\epsilon}{3})(12-\\frac{\\epsilon}{6})^2 + 3456 $"
   ]
  },
  {
   "cell_type": "markdown",
   "metadata": {},
   "source": [
    "$ = 144\\epsilon-2\\epsilon^2+ \\frac{1}{108\\epsilon^3}$"
   ]
  },
  {
   "cell_type": "markdown",
   "metadata": {},
   "source": [
    "The first order estimate of this change is"
   ]
  },
  {
   "cell_type": "markdown",
   "metadata": {},
   "source": [
    "=$\\lim_{\\epsilon \\to 0}\\frac{\\Delta f(x^*(\\epsilon))}{\\Delta\\epsilon} = \\frac{d f}{d \\epsilon}(x^*(\\epsilon)) \\bigg|_{\\epsilon=0} $"
   ]
  },
  {
   "cell_type": "markdown",
   "metadata": {},
   "source": [
    "$ = 144-4\\epsilon+\\frac{1}{36}\\epsilon^2\\bigg|_{\\epsilon=0} = 144 = \\lambda^* $"
   ]
  },
  {
   "cell_type": "markdown",
   "metadata": {},
   "source": [
    "This provides a good estimate for small values of $\\epsilon$"
   ]
  },
  {
   "cell_type": "markdown",
   "metadata": {},
   "source": [
    "For example $\\epsilon = -0.1$ gives a predicted change of $\\lambda^*\\epsilon = -14.4$ , compared to the actual change in objective function of $-14.420012$"
   ]
  },
  {
   "cell_type": "markdown",
   "metadata": {},
   "source": [
    "For $\\epsilon = -2$ , the predicted change in the objective function of $-288$ does not compare so well with the actual change of $-297.07$"
   ]
  },
  {
   "cell_type": "markdown",
   "metadata": {},
   "source": [
    "Increasing the maximum for the length plus the girth of $72$ inches to $74$ inches make the value of the largest parcel to increase. The predicted increase is 288 inches from a volume of $3456\\;inch^3$"
   ]
  },
  {
   "cell_type": "markdown",
   "metadata": {},
   "source": [
    "The actual increase is $296.07\\;inch^3$"
   ]
  },
  {
   "cell_type": "markdown",
   "metadata": {},
   "source": [
    "### Case III Inequality constraints"
   ]
  },
  {
   "cell_type": "markdown",
   "metadata": {},
   "source": [
    "The standard form of inequality constrained problem is"
   ]
  },
  {
   "cell_type": "markdown",
   "metadata": {},
   "source": [
    "Min 𝑓(𝑥̄) , 𝑥̄ ∈ $\\mathbb R^n$"
   ]
  },
  {
   "cell_type": "markdown",
   "metadata": {},
   "source": [
    "subject to $c_i(\\overline{x})$ = 0 , i ∈ E\n",
    "\n",
    "$c_i(\\overline{x}) \\le 0$ , i ∈ I"
   ]
  },
  {
   "cell_type": "markdown",
   "metadata": {},
   "source": [
    "The feasible region is"
   ]
  },
  {
   "cell_type": "markdown",
   "metadata": {},
   "source": [
    "$\\Omega$ = {$\\overline{x}\\in\\mathbb R^n$ | $c_i(\\overline{x}) = 0 , i \\in E$ and $c_i(\\overline{x}) \\le 0 , i \\in I$ }"
   ]
  },
  {
   "cell_type": "markdown",
   "metadata": {},
   "source": [
    "for $\\;E = \\{1,...,m\\} , \\;I = \\{m_{E+1},...,m\\}$"
   ]
  },
  {
   "cell_type": "markdown",
   "metadata": {},
   "source": [
    "where $\\;m= |E| + |I|\\;$ is the total number of constaints and $\\Omega$ is the set of point satisfying all the constraint"
   ]
  },
  {
   "cell_type": "markdown",
   "metadata": {},
   "source": [
    "The Lagrangian function is"
   ]
  },
  {
   "cell_type": "markdown",
   "metadata": {},
   "source": [
    "L($\\overline{x}$,$\\overline{\\lambda}$) = f($\\overline{x}$) + $\\sum_{i=1}^{m}\\lambda_ic_i$($\\overline{x}$) or"
   ]
  },
  {
   "cell_type": "markdown",
   "metadata": {},
   "source": [
    "L($\\overline{x}$,$\\overline{\\lambda}$) = f($\\overline{x}$) + $\\overline{\\lambda}^T$C($\\overline{x}$) "
   ]
  },
  {
   "cell_type": "markdown",
   "metadata": {},
   "source": [
    "where  $\\overline{\\lambda}$ ∈ $\\mathbb R^m$ is a Lagrange multiplier and C($\\overline{x}$) : ${\\mathbb R^n \\to\\mathbb R^m}$"
   ]
  },
  {
   "cell_type": "markdown",
   "metadata": {},
   "source": [
    "Constraints which are satisfied as equalities at a point $x^*$ are active at $x^*$ . Only active constraint are binding at a solution $x^*$"
   ]
  },
  {
   "cell_type": "markdown",
   "metadata": {},
   "source": [
    "* Definition (An active constraint)"
   ]
  },
  {
   "cell_type": "markdown",
   "metadata": {},
   "source": [
    "Let $x^*$ ∈ $\\mathbb R^n$ and $c_i(x^*)$ = 0 , so $c_i(x^*)$ = 0 is an active constraint"
   ]
  },
  {
   "cell_type": "markdown",
   "metadata": {},
   "source": [
    "* Definition the set of active constraint at a point $x^*$ is denoted by 𝒜$(x^*)$ = { i ∈ {1,2,...,m} | $c_i(x^*)$ = 0 }"
   ]
  },
  {
   "cell_type": "markdown",
   "metadata": {},
   "source": [
    "* Definition A feasible point $x^*$ is a regular point if the gradients of active constraints , $\\nabla c_i(x^*)$ , i = 1,...,m = 𝒜 are linearly independent.<br><br>"
   ]
  },
  {
   "cell_type": "markdown",
   "metadata": {},
   "source": [
    "Example : Consider the problem "
   ]
  },
  {
   "cell_type": "markdown",
   "metadata": {},
   "source": [
    "Min $f(\\overline{x}) = -x_1^2 - (x_2-1)^2 (x_2-3)^2 - \\frac{x_2}{2}$"
   ]
  },
  {
   "cell_type": "markdown",
   "metadata": {},
   "source": [
    "subject to $c_1(\\overline{x}) = x_1^2 - x_2 \\le 0$\n",
    "\n",
    "$c_2(\\overline{x}) = -x_1 + x_2 - 2 \\le 0$\n",
    "\n",
    "$c_3(\\overline{x}) = x_1 + x_2 - 4 \\le 0$\n",
    "\n",
    "n=2 , m=3 , E=$\\phi$ and I = {1,2,3}"
   ]
  },
  {
   "cell_type": "markdown",
   "metadata": {},
   "source": [
    "Let $x^{(a)}$ = $\\begin{bmatrix} 0 \\\\ 2 \\end{bmatrix}$ , $x^{(b)}$ = $\\begin{bmatrix} 0 \\\\ 0 \\end{bmatrix}$ , $x^{(c)}$ = $\\begin{bmatrix} 1 \\\\ 3 \\end{bmatrix}$"
   ]
  },
  {
   "cell_type": "markdown",
   "metadata": {},
   "source": [
    "Evaluating the constraint functions at there points give"
   ]
  },
  {
   "cell_type": "markdown",
   "metadata": {},
   "source": [
    "$C(\\overline{x})$ = $\\begin{bmatrix} c_1(\\overline{x}) \\\\ c_2(\\overline{x}) \\\\ c_3(\\overline{x}) \\end{bmatrix}$ for $x^{(a)} , x^{(b)}$ and  $x^{(c)}$ then"
   ]
  },
  {
   "cell_type": "markdown",
   "metadata": {},
   "source": [
    "$C(x^{(a)})$ = $\\begin{bmatrix} c_1(x^{(a)}) \\\\ c_2(x^{(a)}) \\\\ c_3(x^{(a)}) \\end{bmatrix}$ = $\\begin{bmatrix} -2 \\\\ 0 \\\\ -2 \\end{bmatrix}$  ∈  $\\Omega$ So $c_2$ is active constraint for $x^{(a)}$"
   ]
  },
  {
   "cell_type": "markdown",
   "metadata": {},
   "source": [
    "$C(x^{(b)})$ = $\\begin{bmatrix} c_1(x^{(b)}) \\\\ c_2(x^{(b)}) \\\\ c_3(x^{(b)}) \\end{bmatrix}$ = $\\begin{bmatrix} 0 \\\\ -2 \\\\ 4 \\end{bmatrix}$  ∈  $\\Omega$ So $c_1$ is active constraint for $x^{(b)}$"
   ]
  },
  {
   "cell_type": "markdown",
   "metadata": {},
   "source": [
    "$C(x^{(c)})$ = $\\begin{bmatrix} c_1(x^{(c)}) \\\\ c_2(x^{(c)}) \\\\ c_3(x^{(c)}) \\end{bmatrix}$ = $\\begin{bmatrix} -2 \\\\ 0 \\\\ 0 \\end{bmatrix}$  ∈  $\\Omega$ So $c_2 , c_3$ are active constraints for $x^{(c)}$"
   ]
  },
  {
   "cell_type": "markdown",
   "metadata": {},
   "source": [
    "So $x^{(a)}$ , $x^{(b)}$ and $x^{(c)}$ are feasible points"
   ]
  },
  {
   "cell_type": "markdown",
   "metadata": {},
   "source": [
    "The set of active constraints are  𝒜$(x^{(a)})$ = { 2 } , 𝒜$(x^{(b)})$ = { 1 } and 𝒜$(x^{(c)})$ = { 2 , 3 }"
   ]
  },
  {
   "cell_type": "markdown",
   "metadata": {},
   "source": [
    "The constraints $c_1(x^{(a)})$ and $c_3(x^{(a)})$ which are not active at $x^{(a)}$ can be change a little without affecting the nature of $x^{(a)}$ . Similarly the constraint $c_1(x^{(c)})$ can be changed slightly without affecting $x^{(c)}$ ."
   ]
  },
  {
   "cell_type": "markdown",
   "metadata": {},
   "source": [
    "There is only the constraints that are active at $x^*$ that help to determine the nature of the point $x^*$.<br><br>"
   ]
  },
  {
   "cell_type": "markdown",
   "metadata": {},
   "source": [
    "#### First order necessary conditions"
   ]
  },
  {
   "cell_type": "markdown",
   "metadata": {},
   "source": [
    "##### Theorem Karush - kuhn - Tuchen (KKT) conditions"
   ]
  },
  {
   "cell_type": "markdown",
   "metadata": {},
   "source": [
    "Let $x^*$ be a local minimizer of inequality constrained problem and $x^*$ be a regular point. Then there exists multipliers ${\\lambda}_i^*$  , i = 1 , ... , m such that \n",
    "\n",
    "i) $\\nabla_x L(x^*,{\\lambda}^*)$ = $\\nabla f(x^*) + \\sum_{i=1}^{m} {\\lambda}_i^* \\nabla c_i(x^*)$ = 0\n",
    "\n",
    "ii) $c_i(x^*)$ = 0 for i ∈ E ( i=1 ,...,$m_E$)\n",
    "\n",
    "iii) $c_i(x^*) \\le 0$ for i ∈ I ( i = $m_{E+1}$,...,m)\n",
    "\n",
    "iv) ${\\lambda}_i^* \\ge 0$ for i ∈ I\n",
    "\n",
    "v) ${\\lambda}_i^* c_i(x^*)$ = 0 for i = 1,2, ... ,m $( I\\cup E )$"
   ]
  },
  {
   "cell_type": "markdown",
   "metadata": {},
   "source": [
    "The KKT conditions must be satisfied at any local minimizer which is a regular point.\n",
    "\n",
    "ii) and iii) respresent the feasibility of $x^*$ \n",
    "\n",
    "iv) respresent the non-negative condition ${\\lambda}_i^* \\ge 0$ for inequality constraint, which is different from equality constrained problem. There are no sign restriction on ${\\lambda}_i^*$ corresponding to equality constraints\n",
    "\n",
    "v) be the complementary condition  ${\\lambda}_i^* c_i(x^*)$ = 0 for $\\;i\\in E\\cup I$. It impllies that the corresponding multiplier ${\\lambda}_i^*$ = 0 for i ∉ 𝒜.\n",
    "\n",
    "Inactive constraints have  zero multiplier."
   ]
  },
  {
   "cell_type": "markdown",
   "metadata": {},
   "source": [
    "Now, the KKT conditions rewritten so\n",
    "\n",
    "i) $\\nabla f(x^*) + \\sum_{i\\in A(x^*)} {\\lambda}_i^* \\nabla c_i(x^*)$ = 0\n",
    "\n",
    "ii) $c_i(x^*)$ = 0 , i = 1 ,...,$m_E$\n",
    "\n",
    "iii) $c_i(x^*) \\le 0$ , i = $m_{E+1}$,...,m\n",
    "\n",
    "iv) ${\\lambda}_i^* \\ge 0$ , i = $m_{E+1}$,...,m\n",
    "\n",
    "v) ${\\lambda}_i^*$ = 0 , i ∉ 𝒜$(x^*)$<br><Br>"
   ]
  },
  {
   "cell_type": "markdown",
   "metadata": {},
   "source": [
    "Example : Consider KKT conditions for 3 given points\n",
    "\n",
    "Min $f(\\overline{x}) = -x_1^2 - (x_2-1)^2 (x_2-3)^2 - \\frac{x_2}{2}$\n",
    "\n",
    "subject to $c_1(\\overline{x}) = x_1^2 - x_2 \\le 0$\n",
    "\n",
    "$c_2(\\overline{x}) = -x_1 + x_2 - 2 \\le 0$\n",
    "\n",
    "$c_3(\\overline{x}) = x_1 + x_2 - 4 \\le 0$\n",
    "\n",
    "Given points $x^{(a)}$ = $\\begin{bmatrix} 0 \\\\ 2 \\end{bmatrix}$ , $x^{(b)}$ = $\\begin{bmatrix} 0 \\\\ 0 \\end{bmatrix}$ , $x^{(c)}$ = $\\begin{bmatrix} 1 \\\\ 3 \\end{bmatrix}$\n",
    "\n",
    "𝒜$(x^{(a)})$ = { 2 } , 𝒜$(x^{(b)})$ = { 1 } and 𝒜$(x^{(c)})$ = { 2 , 3 }\n"
   ]
  },
  {
   "cell_type": "markdown",
   "metadata": {},
   "source": [
    "The gredient of objective function and constraint function ,\n",
    "\n",
    "$\\nabla f(x^*)$ = $\\begin{bmatrix} 2x_1 \\\\ -2(x_2-1)(x_2-3)^2 -2(x_2-1)^2 (x_2-3)-\\frac{1}{2} \\end{bmatrix}$ "
   ]
  },
  {
   "cell_type": "markdown",
   "metadata": {},
   "source": [
    "and $\\nabla c_1(\\overline{x})$ = $\\begin{bmatrix} 2x_1 \\\\ -1 \\end{bmatrix}$ , $\\nabla c_2(\\overline{x})$ = $\\begin{bmatrix} -1 \\\\ 1 \\end{bmatrix}$ , $\\nabla c_3(\\overline{x})$ = $\\begin{bmatrix} 1 \\\\ 1 \\end{bmatrix}$\n",
    "\n",
    "* At $x^{(a)}$ = $\\begin{bmatrix} 0 \\\\ 2 \\end{bmatrix}$ , 𝒜$(x^{(a)})$ = {2} , so (i) of KKT is "
   ]
  },
  {
   "cell_type": "markdown",
   "metadata": {},
   "source": [
    "$\\nabla f(x^{(a)}) + {\\lambda}_2\\nabla c_2(x^{(a)})$ = 0\n",
    "\n",
    "$\\begin{bmatrix} 0 \\\\ -\\frac{1}{2} \\end{bmatrix} + {\\lambda}_2\n",
    "    \\begin{bmatrix} -1 \\\\ 1 \\end{bmatrix}$ = $\n",
    "    \\begin{bmatrix} 0 \\\\ 0 \\end{bmatrix}$ , which cannot find any value of ${\\lambda}_2$\n",
    "\n",
    "Therefore, $x^{(a)}$ = $\\begin{bmatrix} 0 \\\\ 2 \\end{bmatrix}$ doesn't satisfy the KKT condition \n",
    "\n",
    "* At $x^{(b)}$ = $\\begin{bmatrix} 0 \\\\ 0 \\end{bmatrix}$ , 𝒜$(x^{(b)})$ = { 1 } , then \n",
    "\n",
    "$\\nabla f(x^{(b)}) + {\\lambda}_1\\nabla c_1(x^{(b)})$ = 0\n",
    "\n",
    "$\\begin{bmatrix} 0 \\\\ \\frac{47}{2} \\end{bmatrix} + \n",
    "    {\\lambda}_1\\begin{bmatrix} 0 \\\\ -1 \\end{bmatrix}$ = $\\begin{bmatrix} 0 \\\\ 0 \\end{bmatrix}$ so ${\\lambda}_1$ = $\\frac{47}{2} > 0$\n",
    "\n",
    "with $f(x^{(b)})$ = -9 , satisfies the first order necessary condition (KKT) for a minimizer.\n",
    "\n",
    "As the constraint $c_2(x^{(b)}) < 0$ and $c_3(x^{(b)}) < 0$ are not active, the corresponding Lagrange multipliers are ${\\lambda}_2 , {\\lambda}_3$ = 0\n",
    "\n",
    "* At $x^{(c)}$ = $\\begin{bmatrix} 1 \\\\ 3 \\end{bmatrix}$ , 𝒜$(x^{(c)})$ = { 2 , 3 }\n",
    "\n",
    "$\\nabla f(x^{(c)}) + {\\lambda}_2\\nabla c_2(x^{(c)}) + {\\lambda}_3\\nabla c_3(x^{(c)})$ = 0\n",
    "\n",
    "$\\begin{bmatrix} -2 \\\\ -\\frac{1}{2} \\end{bmatrix} + \n",
    "    {\\lambda}_2\\begin{bmatrix} -1 \\\\ 1 \\end{bmatrix} + \n",
    "    {\\lambda}_3\\begin{bmatrix} 1 \\\\ 1 \\end{bmatrix}$ = $\\begin{bmatrix} 0 \\\\ 0 \\end{bmatrix}$ , giving \n",
    "\n",
    "${\\lambda}_2 = -\\frac{3}{4}$ , ${\\lambda}_3 = \\frac{5}{4}$ and $f(x^{(c)}) = -\\frac{5}{2}$ , so\n",
    "\n",
    "$x^{(c)}$ = $\\begin{bmatrix} 1 \\\\ 3 \\end{bmatrix}$ is neither a local minimizer nor a local maximizer."
   ]
  },
  {
   "cell_type": "markdown",
   "metadata": {},
   "source": [
    "Theorem : A constrained stationary point. $x^*$ is a feasible point at which there exists multipliers ${\\lambda}_i^* , i{\\in}$𝒜$(x^*)$ \n",
    "\n",
    "satisfying ${\\nabla}f(x^*) + \\sum_{i=1{\\in}A(x^*)} {\\lambda}_i {\\nabla}c_i(x^*)$ = 0\n",
    "\n",
    "i) If ${\\lambda}_i(x^*) \\ge 0$ ∀ i ∈  𝒜$(x^*) \\cap I $ then $x^*$ satisfies KKT for a minimizer.\n",
    "\n",
    "\n",
    "Thus if ${\\lambda}_i^* < 0$ for i ∈  𝒜$(x^*) \\cap I $ then $x^*$ is not a local minimizer.\n",
    "\n",
    "ii) If ${\\lambda}_i(x^*) \\le 0$ for i ∈  𝒜$(x^*) \\cap I $ then $x^*$ satisfies KKT for a maximizer.\n",
    "\n",
    "This implies that if ${\\lambda}_i > 0$ for an active inequaly constraint i ∈  𝒜$(x^*) \\cap I $ then $x^*$ is not a local max \n",
    "\n",
    "The second order information is used to determine if a constrained stationary point is a local min or local max, However if $x^*$ is a vertex of the feasible region then there are the first order sufficient conditions.\n",
    "\n",
    "If $x^*$ is a vertex of the feasible region then there are the following first order sufficient condition."
   ]
  },
  {
   "cell_type": "markdown",
   "metadata": {},
   "source": [
    "Let $x^*$ be a regular constrained stationary point with |𝒜$(x^*)$| = n\n",
    "\n",
    "1) If ${\\lambda}_i^* > 0$ ∀ i ∈  𝒜$(x^*) \\cap I $ then $x^*$ is a strict local minimizer.\n",
    "\n",
    "2) If ${\\lambda}_i^* < 0$ ∀ i ∈  𝒜$(x^*) \\cap I $ then $x^*$ is a strict local maximizer.\n",
    "\n",
    "3) If there exists i,j ∈  𝒜$(x^*) \\cap I $  such that ${\\lambda}_i^* > 0$ and ${\\lambda}_i^* < 0$, then $x^*$ is a constrained saddle point.<br><br>\n",
    "\n",
    "Example : Find all constrained stationary points for the objective function $f(\\overline{x})$ = $x_1^2 + x_2^2 - 6x_1 - 2x_2 + 10$ and the feasible region \n",
    "\n",
    "$\\Omega$ = {$\\overline{x} \\in\\mathbb R^2 | -2 \\le x_1 \\le 2 , 0 \\le x_2 \\le 4$} . Identify them as local (global) minimizer or constrained saddle point \n",
    "\n",
    "$\\Rightarrow$ A constrained stationary points satisfies ${\\nabla}f(x^*) + \\sum_{i=1{\\in}A(x^*)} {\\lambda}_i {\\nabla}c_i(x^*)$ = 0 where 𝒜$(x^*)$ = {i=1,...,m for $c_i(x^*)$ = 0}\n",
    "\n",
    "For m=4, and I={1,2,3,4}, and $c_i(\\overline{x}) \\le 0$ , \n",
    "\n",
    "$c_1 = -x_1-2 \\le 0$\n",
    "\n",
    "$c_2 = x_1-2 \\le 0$\n",
    "\n",
    "$c_3 = -x_2 \\le 0$\n",
    "\n",
    "$c_4 = x_2-4 \\le 0$\n"
   ]
  },
  {
   "cell_type": "markdown",
   "metadata": {},
   "source": [
    "The gradient of objective function and constraints \n",
    "\n",
    "${\\nabla}f(\\overline{x})$ = $\\begin{bmatrix} 2x_1-6 \\\\ 2x_2-2 \\end{bmatrix}$ and \n",
    "\n",
    "${\\nabla}c_1(\\overline{x})$ = $\\begin{bmatrix} -1 \\\\ 0 \\end{bmatrix}$ , ${\\nabla}c_2(\\overline{x})$ = $\\begin{bmatrix} 1 \\\\ 0 \\end{bmatrix}$ , ${\\nabla}c_3(\\overline{x})$ = $\\begin{bmatrix} 0 \\\\ -1 \\end{bmatrix}$ , ${\\nabla}c_4(\\overline{x})$ = $\\begin{bmatrix} 0 \\\\ 1 \\end{bmatrix}$\n",
    "\n",
    "The Hessian of  $f(\\overline{x})$ : ${\\nabla}^2f(\\overline{x})$ = $\\begin{bmatrix} 2 & 0 \\\\ 0 & 2 \\end{bmatrix}$\n",
    "\n",
    "Sketch the feasible region :"
   ]
  },
  {
   "cell_type": "markdown",
   "metadata": {},
   "source": [
    "𝒜$(x^*) = \\phi$ , {1} , {2} , {3} , {4} , {1,3} , {1,4} , {2,3} , {2,4}\n",
    "\n",
    "* For 𝒜$(x^*) = \\phi$ \n",
    "\n",
    "Let ${\\nabla}f(x^*)$ = 0 \n",
    "\n",
    "$\\begin{bmatrix} 2x_1-6 \\\\ 2x_2-2 \\end{bmatrix}$ = $\\begin{bmatrix} 0 \\\\ 0 \\end{bmatrix}$ $\\Rightarrow$ $\\begin{bmatrix} x_1 \\\\ x_2 \\end{bmatrix}$  = $\\begin{bmatrix} 3 \\\\ 1 \\end{bmatrix}$ ∉ $\\Omega$\n",
    "\n",
    "So we ignore $x^*$ = $\\begin{bmatrix} 3 \\\\ 1 \\end{bmatrix}$"
   ]
  },
  {
   "cell_type": "markdown",
   "metadata": {},
   "source": [
    "* For 𝒜$(x^*)$ = {1} , then \n",
    "\n",
    "${\\nabla}f(x^*) + {\\lambda}_1{\\nabla}c_1(x^*)$= 0 and $c_1(x^*)$ = 0\n",
    "\n",
    "$\\begin{bmatrix} 2x_1-6 \\\\ 2x_2-2 \\end{bmatrix}$ + ${\\lambda}_1$ $\\begin{bmatrix} -1\\\\ 0 \\end{bmatrix}$ = $\\begin{bmatrix} 0 \\\\ 0 \\end{bmatrix}$ and $c_1$ = $-x_1-2$ = 0 $\\Rightarrow$ $x^* = \\begin{bmatrix} x_1 \\\\ x_2 \\end{bmatrix}$ = $\\begin{bmatrix} -2\\\\ 1 \\end{bmatrix}$ , ${\\lambda}_1$ = -10 with $f(x^*)$ = 25\n",
    "\n",
    "$x^* = \\begin{bmatrix} -2\\\\ 1 \\end{bmatrix}$ ∈ $\\Omega$ because $c(x^*)$ = $\\begin{bmatrix} 0 & -4 & -1 & -3 \\end{bmatrix}^T \\le 0$\n",
    "\n",
    "So $x^* = \\begin{bmatrix} -2\\\\ 1 \\end{bmatrix}$ is a feasible constrained stationary point but ${\\lambda}_1 = -10 < 0$ , therefore this point is not a local minimizer"
   ]
  },
  {
   "cell_type": "markdown",
   "metadata": {},
   "source": [
    "* For 𝒜$(x^*)$ = {2} , then \n",
    "\n",
    "${\\nabla}f(x^*) + {\\lambda}_2{\\nabla}c_2(x^*)$= 0 and $c_2(x^*)$ = 0\n",
    "\n",
    "$\\begin{bmatrix} 2x_1^*-6 \\\\ 2x_2^*-2 \\end{bmatrix}$ + ${\\lambda}_2$ $\\begin{bmatrix} 1 \\\\ 0 \\end{bmatrix}$ = $\\begin{bmatrix} 0 \\\\ 0 \\end{bmatrix}$  $\\Rightarrow$ $X^* = \\begin{bmatrix} 2\\\\ 1 \\end{bmatrix}$ , ${\\lambda}_2^*$ = 2 with $f(x^*)$ = 1\n",
    "\n",
    "and $c(x^*)$ = $\\begin{bmatrix} -4 & 0 & -1 & -3 \\end{bmatrix}^T \\le 0$\n",
    "\n",
    "So $x^* = \\begin{bmatrix} 2\\\\ 1 \\end{bmatrix}$ is a feasible constrained stationary point. As ${\\lambda}_2^* > 0$ , this point is not a local max\n"
   ]
  },
  {
   "cell_type": "markdown",
   "metadata": {},
   "source": [
    "* For 𝒜$(x^*)$ = {3} , then \n",
    "\n",
    "${\\nabla}f(x^*) + {\\lambda}_3{\\nabla}c_3(x^*)$= 0 and $c_3(x^*)$ = 0 $\\Rightarrow$ $x^* = \\begin{bmatrix} 3 \\\\ 0 \\end{bmatrix}$ , ${\\lambda}_3^* = -2$ but $C(x^*) = \\begin{bmatrix} -5 & 1 & 0 & -4 \\end{bmatrix}^T \\nleq $ 0 \n",
    "\n",
    "So $x^* = \\begin{bmatrix} 3 \\\\ 0 \\end{bmatrix}$ is not a feasible point \n",
    "$\\left(\\text{ignore}\\;x^* = \\begin{bmatrix} 3 \\\\ 0 \\end{bmatrix}\\right)$"
   ]
  },
  {
   "cell_type": "markdown",
   "metadata": {},
   "source": [
    "* For 𝒜$(x^*)$ = {4} , then \n",
    "\n",
    "${\\nabla}f(x^*) + {\\lambda}_4{\\nabla}c_4(x^*)$= 0 and $c_4(x^*)$ = 0 $\\Rightarrow$ $x^* = \\begin{bmatrix} 3 \\\\ 4 \\end{bmatrix}$ , ${\\lambda}_4^* = -6$ but $C(x^*) = \\begin{bmatrix} -5 & 1 & -4 & 0 \\end{bmatrix}^T \\nleq$ 0 \n",
    "\n",
    "So $x^* = \\begin{bmatrix} 3 \\\\ 4 \\end{bmatrix}$ is not a feasible point."
   ]
  },
  {
   "cell_type": "markdown",
   "metadata": {},
   "source": [
    "* For 𝒜$(x^*)$ = {1,3} , $c_1 = 0$ , $c_3 = 0$ , \n",
    "\n",
    "${\\nabla}f(x^*) + {\\lambda}_1{\\nabla}c_1 + {\\lambda}_3{\\nabla}c_3$ = 0 $\\Rightarrow$ $x^* = \\begin{bmatrix} -2 \\\\ 0 \\end{bmatrix}$ , $f(x^*)$ = 26 ,${\\lambda}_1^*$ = -10 , ${\\lambda}_3^*$ = -2 and $C(x^*) = \\begin{bmatrix} 0 & -4 & 0 & -4 \\end{bmatrix}^T$ $\\le$ 0 , So\n",
    "\n",
    " $x^* = \\begin{bmatrix} -2 \\\\ 0 \\end{bmatrix}$ is a feasible constrained stationary point and a regular point with |𝒜$(x^*)$| = n and ${\\lambda}_i^* < 0$ for i ∈ $I$ , then $x^*$ is a strict local minimizer."
   ]
  },
  {
   "cell_type": "markdown",
   "metadata": {},
   "source": [
    "* For 𝒜$(x^*)$ = {1,4} \n",
    "\n",
    "${\\nabla}f(x^*) + {\\lambda}_1{\\nabla}c_1(x^*) + {\\lambda}_4{\\nabla}c_4(x^*)$ = 0 , $c_1 = 0$ , $c_4 = 0$ $\\Rightarrow$ $x^* = \\begin{bmatrix} -2 \\\\ 4 \\end{bmatrix}$ , $f(x^*)$ = 34 ,${\\lambda}_1^*$ = -10 , ${\\lambda}_4^*$ = -6 and $C(x^*) = \\begin{bmatrix} 0 & -4 & -4 & 0 \\end{bmatrix}^T$ $\\le$ 0 , So\n",
    "\n",
    " $x^* = \\begin{bmatrix} -2 \\\\ 4 \\end{bmatrix}$ is a feasible constrained stationary point \n",
    " \n",
    " As $x^*$ is a regular point with |𝒜$(x^*)$| = n and ${\\lambda}_i^* < 0$ ,  $\\forall$ i=1,4 \n",
    " \n",
    " $x^*$ is a strict local maximizer."
   ]
  },
  {
   "cell_type": "markdown",
   "metadata": {},
   "source": [
    "* For 𝒜$(x^*)$ = {2,3} ,\n",
    "\n",
    "${\\nabla}f(x^*) + {\\lambda}_2{\\nabla}c_2(x^*) + {\\lambda}_3{\\nabla}c_3(x^*)$ = 0 , $c_2 = 0$ , $c_3 = 0$ $\\Rightarrow$ $x^* = \\begin{bmatrix} 2 \\\\ 0 \\end{bmatrix}$ , $f(x^*)$ = 26 ,${\\lambda}_2^*$ = 2 , ${\\lambda}_3^*$ = -2 and $C(x^*) = \\begin{bmatrix} -4 & 0 & 0 & -4 \\end{bmatrix}^T$ $\\le$ 0 , So\n",
    "\n",
    " $x^*$ is a feasible constrained stationary point with ${\\lambda}_2 > 0$ and ${\\lambda}_3 < 0$ , \n",
    " \n",
    " So $x^*$ is neither a maximizer or a minimizer (is a saddle point)\n",
    " "
   ]
  },
  {
   "cell_type": "markdown",
   "metadata": {},
   "source": [
    "* For 𝒜$(x^*)$ = {2,4} , $c_2 = 0$ , $c_4 = 0$ and \n",
    "\n",
    "${\\nabla}f(x^*) + {\\lambda}_2{\\nabla}c_2(x^*) + {\\lambda}_4{\\nabla}c_4(x^*)$ = 0 , then $x^* = \\begin{bmatrix} 2 \\\\ 4 \\end{bmatrix}$ , $f(x^*)$ = 10 ,${\\lambda}_2^*$ = 2 , ${\\lambda}_4^*$ = -6 \n",
    "\n",
    "$\\Rightarrow x^*$ is neither a maximizer nor minimizer (is a saddle point)"
   ]
  },
  {
   "cell_type": "markdown",
   "metadata": {},
   "source": [
    "All cinstrained stationary points \n",
    "\n",
    "$x^* = \\begin{bmatrix} -2 \\\\ 1 \\end{bmatrix} , \n",
    "    \\begin{bmatrix} 2 \\\\ 1 \\end{bmatrix} , \n",
    "    \\begin{bmatrix} -2 \\\\ 0 \\end{bmatrix} , \n",
    "    \\begin{bmatrix} -2 \\\\ 4 \\end{bmatrix} , \n",
    "    \\begin{bmatrix} 2 \\\\ 0 \\end{bmatrix} , \n",
    "    \\begin{bmatrix} 2 \\\\ 4 \\end{bmatrix}$\n",
    "\n",
    "$f\\left(\\begin{bmatrix} -2 \\\\ 1 \\end{bmatrix}\\right)$ = 25 $\\Rightarrow$ not local min\n",
    "\n",
    "$f\\left(\\begin{bmatrix} 2 \\\\ 1 \\end{bmatrix}\\right)$ = 1 $\\Rightarrow$ not local max\n",
    "\n",
    "$f\\left(\\begin{bmatrix} -2 \\\\ 0 \\end{bmatrix}\\right)$ = 26 $\\Rightarrow$ local max\n",
    "\n",
    "$f\\left(\\begin{bmatrix} -2 \\\\ 4 \\end{bmatrix}\\right)$ = 34 $\\Rightarrow$ local max and global max\n",
    "\n",
    "$f\\left(\\begin{bmatrix} 2 \\\\ 0 \\end{bmatrix}\\right)$ = 26 $\\Rightarrow$ saddle point\n",
    "\n",
    "$f\\left(\\begin{bmatrix} 2 \\\\ 4 \\end{bmatrix}\\right)$ = 10 $\\Rightarrow$ saddle point"
   ]
  },
  {
   "cell_type": "markdown",
   "metadata": {},
   "source": [
    "This ploblem is a convex programming problem. There exist the unique global minimizer and local max occurs at an extreme point of $\\Omega$\n",
    "\n",
    "Then $x^* =  \\begin{bmatrix} 2 \\\\ 1 \\end{bmatrix}$ is the unique global minimizer with ${\\lambda}_2^*$ = 2 > 0 and $f(x^*)$ = 1 and $x^* =  \\begin{bmatrix} -2 \\\\ 4 \\end{bmatrix}$ with  $f(x^*)$ = 34 is global minimizer<br><br>"
   ]
  },
  {
   "cell_type": "markdown",
   "metadata": {},
   "source": [
    "Example : Consider Min $f(\\overline{x}) =  x_1^2 + x_2^2 + 3x_2$ , $\\overline{x}$ ∈ $\\mathbb R^2$\n",
    "\n",
    "subject to $x_1^2 + {(x_2+1)}^2 - 1 \\ge 0$\n",
    "\n",
    "The feasible region $\\Omega$ = { $\\overline{x}$ ∈ $\\mathbb R^2 | x_1^2 + {(x_2+1)}^2 -1 \\ge 0$ }\n",
    "\n",
    "\n",
    "$\\Omega$ is unbounded, so there is no guarantee that the global extreme exists\n",
    "\n",
    "All constrained stationary points \n",
    "\n",
    "${\\nabla}f(x^*) + \\sum_{i\\in A(x^*)} {\\lambda}_i {\\nabla}c_i(x^*)$ = 0 and $c_i(x^*)$ = 0 for i ∈  𝒜$(x^*)$ \n",
    "\n",
    "For 𝒜$(x^*)$  = {1} , $\\phi$ :\n",
    "\n",
    "* At 𝒜$(x^*) = \\phi$\n",
    "\n",
    "${\\nabla}f(x^*) = 0 \\Rightarrow \\begin{bmatrix} 2x_1 \\\\ 2x_2+3 \\end{bmatrix} = \n",
    "    \\begin{bmatrix} 0 \\\\ 0 \\end{bmatrix} \\Rightarrow x^* = \n",
    "    \\begin{bmatrix} 0 \\\\ -\\frac{3}{2}\\end{bmatrix} {\\notin} \\Omega$\n",
    "\n",
    "Since $c_1x^* = 0 + {(-\\frac{3}{2} + 1)}^2 -1 = -\\frac{3}{4} < 0$ ($c_1(x^*) \\ge 0$)\n",
    "\n",
    "Then $x^*$ is not a feasible point "
   ]
  },
  {
   "cell_type": "markdown",
   "metadata": {},
   "source": [
    "* For 𝒜$(x^*)$ = {1} , \n",
    "\n",
    "${\\nabla}f(x^*) + {\\lambda}_1{\\nabla}c_1(x^*)$= 0 and $c_1(x^*)$ = 0 $\\Rightarrow$ \n",
    "$\\begin{bmatrix} 2x_1 \\\\ 2x_2+3 \\end{bmatrix}$ + ${\\lambda}_1$ $\\begin{bmatrix} -2x_1 \\\\ -2(x_2+1) \\end{bmatrix}$ = \n",
    "$\\begin{bmatrix} 0 \\\\ 0 \\end{bmatrix}$  and $-x_1^2 - {(x_2+1)}^2 + 1 = 0$\n",
    "\n",
    "or $2x_1(1-{\\lambda}_1) = 0 \\longrightarrow (1)$\n",
    "\n",
    "$2x_2+3-2{\\lambda}_1(x_2+1) = 0 \\longrightarrow (2)$\n",
    "\n",
    "$x_1^2+{(x_2+1)}^2 - 1 = 0 \\longrightarrow (3)$\n",
    "\n",
    "From (1) , $x_1 = 0$ or ${\\lambda}_1 = 1$ (it is not correct or false by substituting in (2))\n",
    "\n",
    "Consider $x_1$ = 0 by substituting into (3) , we obtain $x_2 = 0 , -2$ , so all staionary points are $x^* = \\begin{bmatrix} 0 \\\\ 0 \\end{bmatrix}$ for ${\\lambda}_1 = \\frac{3}{2}$ and $\\begin{bmatrix} 0 \\\\ -2 \\end{bmatrix}$ for ${\\lambda}_1 = \\frac{1}{2}$\n",
    "\n",
    "Therefore, both of them are possible local minimizer. We can use the second order condition to verify about a local maximizer or local minimizer."
   ]
  },
  {
   "cell_type": "markdown",
   "metadata": {},
   "source": [
    "#### Second order conditions for inequality constraints\n",
    "\n",
    "Theorem : (second order sufficient condition)\n",
    "\n",
    "Let $x^*$ be a regular point and a constrained stationary point with |𝒜$(x^*)$| = k < n. Let $\\;Z^*$ ∈ $\\mathbb R^{n(n-k)}$ be a full column  rank matrix satisfying ${Z^*}^T {\\nabla}c_i(x^*) = 0$ , so the column of $Z^*$ form a basis for the tangent space to the active constraints at $x^*$ and<br>\n",
    "rank$(Z^*) = n-k$"
   ]
  },
  {
   "cell_type": "markdown",
   "metadata": {},
   "source": [
    "The reduced Hessian of Lagrangian is $W_z^* = {Z^*}^T{\\nabla}_x^2L(x^*,{\\lambda}^*)Z^*$ \n",
    "\n",
    "Let ${\\lambda}^* , x^*$ be a regular constrained stationary point \n",
    "\n",
    "i) If ${\\lambda}_i^* > 0$  ∀ i ∈ $I \\cap $𝒜$(x^*)$ and $W_z^*$ is positive definite then $x^*$ is a strict local minimizer.\n",
    "\n",
    "ii) If ${\\lambda}_i^* < 0$ ∀ i ∈ $I \\cap $𝒜$(x^*)$ and $W_z^*$ is negative definite then $x^*$ is a strict local maximizer.\n",
    "\n",
    "iii) a) If there are i,j ∈ $I \\cap $𝒜$(x^*)$ such that  ${\\lambda}_i^* > 0$ and ${\\lambda}_i^* < 0$ or\n",
    "\n",
    "b) If i ∈ $I \\cap $𝒜$(x^*)$ , ${\\lambda}_i^* > 0$ and $W_z^*$ has a negative eigen value or\n",
    "\n",
    "c) If i ∈ $I \\cap $𝒜$(x^*)$ , ${\\lambda}_i^* < 0$ and $W_z^*$ has a positive eigen value or\n",
    "\n",
    "d) $W_z^*$ is indefinite , then $x^*$ is neither a local min nor local max (saddle point)\n",
    "\n",
    "So if ${\\lambda}_i^* \\forall i \\in I \\cap $𝒜$(x^*)$ is not satisfy the condition i) or ii) , then $x^*$ is a saddle point.<br><br>"
   ]
  },
  {
   "cell_type": "markdown",
   "metadata": {},
   "source": [
    "Example : Min $f(\\overline{x}) = -x_1^2 - (x_2-1)^2 (x_2-3)^2 - \\frac{x_2}{2}$\n",
    "\n",
    "subject to $c_1(\\overline{x}) = x_1^2 - x_2 \\le 0$\n",
    "\n",
    "$c_2(\\overline{x}) = -x_1 + x_2 - 2 \\le 0$\n",
    "\n",
    "$c_3(\\overline{x}) = x_1 + x_2 - 4 \\le 0$\n",
    "\n",
    "Consider the  points $x^*$ = $\\begin{bmatrix} 0 \\\\ 0 \\end{bmatrix}$ , 𝒜$(x^*)$ = {1} with ${\\lambda}_i^* = \\frac{42}{2}$\n",
    "\n",
    "The Hessian of the objective function is\n",
    "\n",
    "${\\nabla}^2f(\\overline{x}) = \\begin{bmatrix} -2 & 0  \\\\ 0 & -2{(x_2-3)}^2-8(x_2-1)(x_2-3)-2{(x_2-1)}^2\\end{bmatrix}$ and ${\\nabla}^2c_1(\\overline{x}) = \\begin{bmatrix} 2 & 0 \\\\ 0 & 0 \\end{bmatrix}$\n",
    "\n",
    "at $x^* = \\begin{bmatrix} 0 \\\\ 0 \\end{bmatrix}$ , the Hessian of the Lagrangian function  is<br>\n",
    "${\\nabla}_x^2L(x^*,{\\lambda}_i^*) = {\\nabla}^2f(x^*) + {\\lambda}_i{\\nabla}^2c_1(x^*)$ = $\\begin{bmatrix} -2 & 0 \\\\ 0 & -44 \\end{bmatrix}$ + \n",
    "$\\frac{47}{2}\\begin{bmatrix} 2 & 0 \\\\ 0 & 0 \\end{bmatrix}$ = \n",
    "$\\begin{bmatrix} 45 & 0 \\\\ 0 & -44 \\end{bmatrix}$\n",
    "\n",
    "find $Z^* \\in\\mathbb R^{n(n-k)}$ such that ${Z^*}^T A(x^*) = 0$ , where $A(x^*) = \\begin{bmatrix} {\\nabla}c_1 \\end{bmatrix} = \n",
    "    \\begin{bmatrix} 2x_1 \\\\ -1 \\end{bmatrix}$ at $x^* =\n",
    "    \\begin{bmatrix} 0 \\\\ 0 \\end{bmatrix} \\Rightarrow A(x^*) =\n",
    "    \\begin{bmatrix} 0 \\\\ -1 \\end{bmatrix}$\n",
    "\n",
    "A suitable basis matrix $Z^*$ is $Z^* =  \\begin{bmatrix} 0 \\\\ 1 \\end{bmatrix}$ , then \n",
    "\n",
    "$W_z^* = {Z^*}^T{\\nabla}_x^2L(x^*,{\\lambda}^*)Z^*$  = $\\begin{bmatrix} 1 & 0 \\end{bmatrix}\n",
    "    \\begin{bmatrix} 45 & 0 \\\\ 0 & -44 \\end{bmatrix}\n",
    "    \\begin{bmatrix} 1 \\\\ 0 \\end{bmatrix} = 45 > 0$\n",
    "\n",
    "As ${\\lambda}_i^* > 0$ and $W_Z^*(x^* ,{\\lambda}^*)$ is positive definite , then $x^* = \\begin{bmatrix} 0 \\\\ 0 \\end{bmatrix}$ is a strict local minimizer.<br><br>"
   ]
  },
  {
   "cell_type": "markdown",
   "metadata": {},
   "source": [
    "Example : Min $f(\\overline{x}) = x_1^2 + x_2^2 - 6x_1 - 2x_2 +10 $ with $\\Omega$ = { $\\overline{x} \\in\\mathbb R^2 | -2 \\le x_1 \\le2 , 0 \\le x_2 \\le 4 $ } \n",
    "\n",
    "All of the constrains are \n",
    "\n",
    "$c_1 = -x_1-2 \\le 0$\n",
    "\n",
    "$c_2 = x_1-2 \\le 0$\n",
    "\n",
    "$c_3 = -x_2 \\le 0$\n",
    "\n",
    "$c_4 = x_2-4 \\le 0$\n",
    "\n",
    "and ${\\nabla}f(\\overline{x}) = \\begin{bmatrix} 2x_1-6 \\\\ 2x_2-2 \\end{bmatrix}$ ,  ${\\nabla}^2f(\\overline{x}) = \\begin{bmatrix} 2 & 0 \\\\ 0 & 2\n",
    "\\end{bmatrix}$ and  ${\\nabla}^2c_i(\\overline{x}) = 0$ then ${\\nabla}_x^2L(x^*,{\\lambda}_i^*) = {\\nabla}^2f(x^*)$\n",
    "\n",
    "Consider the 2 case which the first order information is not sufficient to determine the nature of the constrained stationary point \n",
    "\n",
    "* For 𝒜$(x^*)$ = {1} ,  $x^* = \\begin{bmatrix} -2 \\\\ 1 \\end{bmatrix}$ , ${\\lambda}_1^* = -10 , f(x^*) = 24$\n",
    "\n",
    "${\\nabla}c_1(x^*) = \\begin{bmatrix} -1 \\\\ 0 \\end{bmatrix}$ then $Z^* = \\begin{bmatrix} 0 \\\\ 1 \\end{bmatrix}$ ,  ${\\nabla}_x^2L(x^*,{\\lambda}_i^*) = \\begin{bmatrix} 2 & 0 \\\\ 0 & 2 \\end{bmatrix}$\n",
    "\n",
    "$ \\Rightarrow W_z^* = {Z^*}^T{\\nabla}_x^2L(x^*,{\\lambda}^*)Z^* =  \\begin{bmatrix} 0 & 1 \\end{bmatrix}\n",
    "    \\begin{bmatrix} 2 & 0 \\\\ 0 & 2 \\end{bmatrix}\n",
    "    \\begin{bmatrix} 0 \\\\ 1 \\end{bmatrix} = 2 > 0$\n",
    "\n",
    "As ${\\lambda}_i^* < 0$ and $W_Z^* > 0$ , $x^* = \\begin{bmatrix} -2 \\\\ 1 \\end{bmatrix}$ is a saddle point.\n",
    "\n",
    "* For 𝒜$(x^*)$ = {2} , $x^* = \\begin{bmatrix} 2 \\\\ 1 \\end{bmatrix}$ , ${\\lambda}_2^* = 2 , f(x^*) = 1$\n",
    "\n",
    "${\\nabla}c_2(x^*) = \\begin{bmatrix} 1 \\\\ 0 \\end{bmatrix}$ then $Z^* = \\begin{bmatrix} 0 \\\\ 1 \\end{bmatrix}$ ,  ${\\nabla}_x^2L = \\begin{bmatrix} 2 & 0 \\\\ 0 & 2 \\end{bmatrix}$\n",
    "\n",
    "$ \\Rightarrow W_z^* = {Z^*}^T{\\nabla}_x^2L(x^*,{\\lambda}^*)Z^*  = 2 > 0$\n",
    "\n",
    "As ${\\lambda}_i^* > 0$ and $W_Z^* > 0$ , $x^* = \\begin{bmatrix} 2 \\\\ 1 \\end{bmatrix}$ is a strict local minimizer.<br><br>"
   ]
  },
  {
   "cell_type": "markdown",
   "metadata": {},
   "source": [
    "Example : Consider Min $f(\\overline{x}) =  x_1^2 + x_2^2 + 3x_2$ , $\\overline{x} \\in\\mathbb R^2$\n",
    "\n",
    "subject to $x_1^2 + {(x_2+1)}^2 - 1 \\ge 0$\n",
    "\n",
    "Consider 2 points of 𝒜$(x^*)$ = {1} \n",
    "\n",
    "At $x^* = \\begin{bmatrix} 0 \\\\ 0 \\end{bmatrix} , {\\lambda}_1^* = \\frac{3}{2} , f(\\overline{x}) = 0$ and\n",
    "\n",
    "At $x^* = \\begin{bmatrix} 0 \\\\ -2 \\end{bmatrix} , {\\lambda}_1^* = \\frac{1}{2} , f(\\overline{x}) = -2$\n"
   ]
  },
  {
   "cell_type": "markdown",
   "metadata": {},
   "source": [
    "#### Second order conditions"
   ]
  },
  {
   "cell_type": "markdown",
   "metadata": {},
   "source": [
    "${\\nabla}f(\\overline{x}) = \\begin{bmatrix} 2x_1 \\\\ 2x_2+3 \\end{bmatrix} , {\\nabla}^2f(\\overline{x}) = \n",
    "    \\begin{bmatrix} 2 & 0 \\\\ 0 & 2 \\end{bmatrix}$\n",
    "\n",
    "${\\nabla}c_1(\\overline{x}) = \\begin{bmatrix} -2x_1 \\\\ -2(x_2+1) \\end{bmatrix} , {\\nabla}^2c_1(\\overline{x}) = \n",
    "    \\begin{bmatrix} -2 & 0 \\\\ 0 & -2 \\end{bmatrix}$\n",
    "\n",
    "Find $Z^*(x^*) \\in\\mathbb R^{n(n-k)}$ such that ${Z^*}^T A(x^*) = 0$\n",
    "\n",
    "at $x^* = \\begin{bmatrix} 0 \\\\ 0 \\end{bmatrix} , A(x^*) = \n",
    "    \\begin{bmatrix} 0 \\\\ -2 \\end{bmatrix} , \\;\\text{let} \\;Z^* =\n",
    "    \\begin{bmatrix} 1 \\\\ 0 \\end{bmatrix}$ and\n",
    "\n",
    "at $x^* = \\begin{bmatrix} 0 \\\\ -2 \\end{bmatrix} , A(x^*) = \n",
    "    \\begin{bmatrix} 0 \\\\ 2 \\end{bmatrix} , \\;\\text{let} \\;Z^* = \n",
    "    \\begin{bmatrix} 1 \\\\ 0 \\end{bmatrix}$\n",
    "\n",
    "More generally any point $x^*$ satisfying $c_i(x^*) = 0$\n",
    "\n",
    "$A(x^*) = \\begin{bmatrix} -2x_1 \\\\ -2(x_2+1) \\end{bmatrix} \\Rightarrow Z(x^*) = \n",
    "    \\begin{bmatrix} x_2+1 \\\\ -x_1 \\end{bmatrix}$\n",
    "\n",
    "The Hessian of Lagrangian function is ${\\nabla}_x^2L(x^*,{\\lambda}_i^*) = {\\nabla}^2f(x^*) + \\sum_{i=1{\\in}A(x^*)} {\\lambda}_i^*{\\nabla}^2c_i(x^*)$ \n",
    "\n",
    "$= \\begin{bmatrix} 2 & 0 \\\\ 0 & 2 \\end{bmatrix} + \n",
    "    {\\lambda}_1^*\\begin{bmatrix} -2 & 0 \\\\ 0 & -2 \\end{bmatrix} = \n",
    "    \\begin{bmatrix} 2-2{\\lambda}_1^* & 0 \\\\ 0 & 2-2{\\lambda}_1^* \\end{bmatrix}$\n",
    "\n",
    "Hence the reduced Hessian is \n",
    "\n",
    "$W_z^* = {Z^*}^T{\\nabla}_x^2L(x^*,{\\lambda}^*)Z^* = \\begin{bmatrix} 1 & 0 \\end{bmatrix}\n",
    "    \\begin{bmatrix} 2-2{\\lambda}_1^* & 0 \\\\ 0 & 2-2{\\lambda}_1^* \\end{bmatrix}\n",
    "    \\begin{bmatrix} 1 \\\\ 0 \\end{bmatrix} = 2-2{\\lambda}_1$\n",
    "\n",
    "At $x^* = \\begin{bmatrix} 0 \\\\ 0 \\end{bmatrix} , {\\lambda}_1^* = \\frac{3}{2} \\Rightarrow W_Z^* = 2 - 2(\\frac{1}{2}) = 1 > 0$\n",
    "\n",
    "Then $x^* = \\begin{bmatrix} 0 \\\\ -2 \\end{bmatrix}$ is a strict local minimizer."
   ]
  },
  {
   "cell_type": "markdown",
   "metadata": {},
   "source": [
    "#### Sensitivity analysis for inequality constrained problem"
   ]
  },
  {
   "cell_type": "markdown",
   "metadata": {},
   "source": [
    "Let $x^*$ is a minimizer of inquality constrained problem then $x^*$ satisfies the following conditions\n",
    "\n",
    "i) Linear independence : ${\\nabla}c_i(x^*)$ for the active constraints $i \\in$𝒜$(x^*)$ are linearly independent\n",
    "\n",
    "ii) Strict complementarity : the Lagrange multiplier  ${\\lambda}_i^* > 0$ for  $i {\\in} I \\cap $𝒜$(x^*)$\n",
    "\n",
    "iii) Second order sufficiency ${\\overline{d}}^T{\\nabla}_x^2(x^* ,{\\lambda}^*)\\overline{d} > 0 , \\forall  \\overline{d} \\ne 0$"
   ]
  },
  {
   "cell_type": "markdown",
   "metadata": {},
   "source": [
    "The rate of change of the objective function with respect to change in the $i^{th}$ constraint , such that $c_i(\\overline{x}) \\le 0$ is $\\frac{df({\\epsilon}_i)}{d{\\epsilon}_i} {\\bigg|}_{{\\epsilon} \\rightarrow 0}$ = $\\;{\\lambda}_i$\n",
    "\n",
    "or the change in  the optimal objective is $\\Delta f(x^*) = {\\lambda}_i^*{\\epsilon}_i$ and an estimate of the new optimal objective value is \n",
    "\n",
    "$f({\\epsilon}_i) = f(x^*) + \\Delta f(x^*) = f(x^*) + {\\lambda}_i^*{\\epsilon}_i$ for $i {\\epsilon} I \\cap $𝒜$(x^*)$\n",
    "\n",
    "If the $i^{th}$ inequality constraint is not active at $x^*$ , so $i$ ∉ 𝒜$(x^*)$ , then ${\\lambda}_i^* = 0$. In the case the constant term ${\\epsilon}_i$ in the $i^{th}$ constraint can be changed a little without affecting the optimal<br><br>\n",
    "\n",
    "Example : Min $f(\\overline{x}) = {(2x_1-3)}^2 + {(2x_2-3)}^2 , \\overline{x} \\in\\mathbb R^2$\n",
    "\n",
    "subject to $c_1(\\overline{x}) = x_1^2 + x_2^2 -2 \\le 0$\n",
    "\n",
    "$c_2(\\overline{x}) = -x_1 \\le 0$\n",
    "\n",
    "$c_3(\\overline{x}) = -x_2 \\le 0$\n",
    "\n",
    "\n",
    "For 𝒜$(x^*)$ = {1} , the Lagrangion function \n",
    "\n",
    "${\\nabla}_xL(\\overline{x},\\overline{{\\lambda}}) = {\\nabla}f(\\overline{x}) + {\\lambda}_1{\\nabla}c_1(\\overline{x})$\n",
    "\n",
    "$ = \\begin{bmatrix} 4(2x_1-3) \\\\ 4(2x_2-3) \\end{bmatrix} + \n",
    "    {\\lambda}_1\\begin{bmatrix} 2x_1 \\\\ 2x_2 \\end{bmatrix}= \n",
    "    \\begin{bmatrix} 0 \\\\ 0 \\end{bmatrix}\\;\\; \n",
    "    \\left.\\begin{array}{c} \\rightarrow\\;(1) \\\\ \\rightarrow\\;(2) \\end{array}\\right.$  \n",
    "\n",
    "${\\nabla}_{\\lambda}L(\\overline{x},\\overline{{\\lambda}}) = c_1 = x_1^2 + x_2^2 - 2 = 0  \\rightarrow (3) $\n",
    "\n",
    "Solving (1) = (2) , $x_1 =  x_2$ substitutes in (3) , $2x_1^2 = 2 \\Rightarrow x_1 = \\pm 1$\n",
    "\n",
    "So the stationary point are $x^* = \\begin{bmatrix} 1 \\\\ 1 \\end{bmatrix} , \n",
    "    \\begin{bmatrix} -1 \\\\ -1 \\end{bmatrix}$\n",
    "\n",
    "for ${\\lambda}_1 = 2$ and ${\\lambda}_1 = -10$ respectively\n",
    "\n",
    "At a point $x^* = \\begin{bmatrix} 1 \\\\ 1 \\end{bmatrix}$ has $C(x^*) = \\begin{bmatrix} 0 \\\\ -1 \\\\ -1 \\end{bmatrix} \\le 0$ so $x^* = \\begin{bmatrix} 1 \\\\ 1 \\end{bmatrix}$ is a feasible point.\n",
    "\n",
    "At a point $x^* = \\begin{bmatrix} -1 \\\\ -1 \\end{bmatrix}$ has $C(x^*) = \\begin{bmatrix} 0 \\\\ 1 \\\\ 1 \\end{bmatrix} \\nleq 0$ so $x^* = \\begin{bmatrix} -1 \\\\ -1 \\end{bmatrix}$ is not a feasible point. (ignore)"
   ]
  },
  {
   "cell_type": "markdown",
   "metadata": {},
   "source": [
    "#### Second order conditions test for a minimizer"
   ]
  },
  {
   "cell_type": "markdown",
   "metadata": {},
   "source": [
    "At $x^* = \\begin{bmatrix} 1 \\\\ 1 \\end{bmatrix}$ , ${\\lambda}_1^* = 2 , A(x^*) = [{\\nabla}c_1] = \\begin{bmatrix} 2 \\\\ 2 \\end{bmatrix}$\n",
    "\n",
    "For $Z^* \\in\\mathbb R^{2*1}$ such that ${Z^*}^T A(x^*) = 0$ , let $z^* = \\begin{bmatrix} 1 \\\\ -1 \\end{bmatrix}$ and ${\\nabla}^2L(x^* , {\\lambda}^*) = \\begin{bmatrix} 8+2{\\lambda}_1 & 0 \\\\ 0 & 8+2{\\lambda}_1 \\end{bmatrix}$ = $\\begin{bmatrix} 12 & 0 \\\\ 0 & 12 \\end{bmatrix}$ for ${\\lambda}_1 = 2$\n"
   ]
  },
  {
   "cell_type": "markdown",
   "metadata": {},
   "source": [
    "* The project Hessian\n",
    "\n",
    "${Z^*}^T{\\nabla}_x^2L(x^*,{\\lambda}^*)Z^* = \\begin{bmatrix} 1 & -1 \\end{bmatrix}\n",
    "    \\begin{bmatrix} 12 & 0 \\\\ 0 & 12 \\end{bmatrix}\n",
    "    \\begin{bmatrix} 1 \\\\ -1 \\end{bmatrix} = 24 > 0$ , So $x^* = \n",
    "    \\begin{bmatrix} 1 \\\\ 1 \\end{bmatrix}$ is a strict local minimizer.\n",
    "\n",
    "* Let $c_i(\\overline{x})$ change to $x_1^2 + x_2^2 \\le 1.6$ , corresponding to the perturbation ${\\epsilon}_1 = 0.4$ \n",
    "\n",
    "An estimate of the change in the optimal objective value is $\\Delta f(x^*) = {\\lambda}_i^*{\\epsilon}_i = 2(0.4) = 0.8$\n",
    "\n",
    "The real value of  $\\Delta f(x^*)$ when $c_1 \\le 1$ change to $c_i + {\\epsilon}_i \\le 0$\n",
    "\n",
    "The optimization problem : Min $f(\\overline{x}) = {(2x_1-3)}^2 + {(2x_2-3)}^2 , \\overline{x} \\in R^2$\n",
    "\n",
    "subject to $c_1(\\overline{x}) = x_1^2 + x_2^2 -2 + \\epsilon  \\le 0$\n",
    "\n",
    "$c_2(\\overline{x}) = -x_1 \\le 0$\n",
    "\n",
    "$c_3(\\overline{x}) = -x_2 \\le 0$\n",
    "\n",
    "with the perturbed constraint $c_i(\\overline{x}) + \\epsilon \\le 0$ active the optimal which is a solution of \n",
    "\n",
    "${\\nabla}f(\\overline{x}) + {\\lambda}_1{\\nabla}c_1(\\overline{x}) = 0$ and $c_i(\\overline{x}) + {\\epsilon}_1 \\le 0$\n",
    "\n",
    "$= \\begin{bmatrix} 4(2x_1-3) \\\\ 4(2x_2-3) \\end{bmatrix} + \n",
    "    {\\lambda}_1\\begin{bmatrix} 2x_1 \\\\ 2x_2 \\end{bmatrix} = \n",
    "    \\begin{bmatrix} 0 \\\\ 0 \\end{bmatrix}$\n",
    "\n",
    "The first 2 equation , get $x_1 = x_2$ and substituting into the last equation we get\n",
    "\n",
    "$x_1^2 + x_1^2 -2 + {\\epsilon}_1 = 0$\n",
    "\n",
    "$2x_1^2 = 2 - {\\epsilon}_1$\n",
    "\n",
    "$x_1 = \\pm  \\sqrt{1 - \\frac{{\\epsilon}_1}{2}} \\in \\Omega$ , so $x_1 = x_2 = \\sqrt{1 - \\frac{{\\epsilon}_1}{2}}$ \n",
    "\n",
    "Then a stationary point $x^* = \\begin{bmatrix} \\sqrt{1 -\\frac{{\\epsilon}_1}{2}} \\\\ \\sqrt{1 -\\frac{{\\epsilon}_1}{2}}\\end{bmatrix} = \n",
    "    \\sqrt{1 -\\frac{{\\epsilon}_1}{2}}\\begin{bmatrix} 1 \\\\ 1 \\end{bmatrix}$ with ${\\lambda}_1(\\epsilon)_1 = -4 + \\frac{6}{\\sqrt{1 -\\frac{{\\epsilon}_1}{2}}}$ and \n",
    "\n",
    "$f(x^*(\\epsilon)) = 2\\left(2\\sqrt{1 -\\frac{{\\epsilon}_1}{2}} - 3\\right)^2 = 26 - 4{\\epsilon}_1 - 12\\sqrt{4 - 2{\\epsilon}_1}$\n",
    "\n",
    "If ${\\epsilon}_1 = 0 , \\;\\text{then}\\; f(x^*(0)) = 2$ ($1^{st}$ constraint is not perturbed)\n",
    "\n",
    "If ${\\epsilon}_1 = 0.4 \\;\\text{then}\\; f(x^*(0.4)) = 26 - 4(0.4) -12\\sqrt{4-0.8} = 2.9337472$\n",
    "\n",
    "Therefore, $\\;\\Delta f(x^*) = f(x^*(0.4)) - f(x^*(0)) = 0.9337472$\n",
    "\n",
    "Comparing with the estimate value \n",
    "\n",
    "$\\Delta f(x^*) = {\\lambda}_1{\\epsilon}_1 = 0.8$"
   ]
  },
  {
   "cell_type": "markdown",
   "metadata": {},
   "source": [
    "#### Duality"
   ]
  },
  {
   "cell_type": "markdown",
   "metadata": {},
   "source": [
    "Consider the inequality constrained prroblem for n variables and m constrains\n",
    "\n",
    "The primal problem of NLP\n",
    "\n",
    "Min $f(\\overline{x}) , \\overline{x} \\in\\mathbb R^n$ \n",
    "\n",
    "subject to $c_i(\\overline{x}) \\le 0 , i \\in I$ where $|I|$ = m and E = $\\phi$\n",
    "\n",
    "* The dual problem\n",
    "\n",
    "Max $f(\\overline{y}) + \\sum_{i=1}^{m} {\\lambda}_ic_i(\\overline{x}) , \\overline{y} \\in\\mathbb R^n , \\overline{{\\lambda}} \\in\\mathbb R^m $ \n",
    "\n",
    "subject to ${\\nabla}f(\\overline{y}) + \\sum_{i=1}^{m} {\\lambda}_i{\\nabla}c_i(\\overline{x}) = 0$ , ${\\lambda}_i \\ge 0$ for i = 1, 2, ... m\n",
    "\n",
    "The dual problem has n+m variables , n equality constraints and m inequality  constraints\n",
    "\n",
    "The objective function of the dual problem is the Lagrangian function of the NLP.\n",
    "\n",
    "3.1 Weak duality theorem\n",
    "\n",
    "If $\\overline{x}$ is a feasible point for NLP and $(\\overline{y} , \\overline{{\\lambda}})$ is feasible point for Dual problem , then $f(\\overline{x}) \\ge f(\\overline{y}) + \\sum_{i=1}^{m} {\\lambda}_i{\\nabla}c_i(\\overline{y})$\n",
    "\n",
    "This problem has weak duality. \n",
    "\n",
    "The particular optimal objective value of NLP is larger than Dual problem or equal to the optimal objective value of Dual problem \n",
    "\n",
    "That is $f(x^*) \\ge f(y^*) + \\sum_{i=1}^{m} {\\lambda}_i^*c_i(y^*)$ or\n",
    "\n",
    "min (NLP) $\\ge$ max (Dual problem)"
   ]
  },
  {
   "cell_type": "markdown",
   "metadata": {},
   "source": [
    "3.2 Strong Duality theorem\n",
    "\n",
    "Let NLP be a convex programming problem and associated with KKT conditions at $x^*$ then there exists a maximizer $(Y^* , {\\lambda}^*)$ for the dual problem \n",
    "\n",
    "such that $f(x^*) = f(y^*) + \\sum_{i=1}^{m} {\\lambda}_i^*c_i(y^*)$\n",
    "\n",
    "That is the optimal objective value of NLP and Dual problem be equal.<br><br>\n",
    "\n",
    "Example : The nonlinear programming problem \n",
    "\n",
    "Min $f(\\overline{x}) = x_1^2 + x_2^2$\n",
    "\n",
    "subject to $c_1 = 2x_1 + x_2 + 4 \\le 0$\n",
    "\n",
    "This problem is the convex programming problems , since $f(\\overline{x})$ is convex when ${\\nabla}^2f = \\begin{bmatrix} 2 & 0 \\\\ 0 & 2 \\end{bmatrix}$ is positive and $c_1(\\overline{x})$ is convex set.\n",
    "\n",
    "At  𝒜$(x^*)$ = {1} , the stationary point \n",
    "\n",
    "${\\nabla}f + {\\lambda}_1{\\nabla}c_1 = 0 , c_1 = 0 \\Rightarrow  \\begin{bmatrix} 2x_1 \\\\ 2x_2 \\end{bmatrix} + \n",
    "    {\\lambda}_1\\begin{bmatrix} 2 \\\\ 1 \\end{bmatrix} = \n",
    "    \\begin{bmatrix} 0 \\\\ 0 \\end{bmatrix} \\rightarrow \n",
    "    \\begin{bmatrix} (1) \\\\ (2) \\end{bmatrix}$ and $2x_1 + x_2 = -4 \\rightarrow (3)$\n",
    "\n",
    "From (1) , $2x_1 + {\\lambda}_1 = 0 \\Rightarrow {\\lambda}_1 = -x_1$\n",
    "\n",
    "From (2) , $2x_2 + {\\lambda}_1 = 0 \\Rightarrow {\\lambda}_1 = -2x_2$\n",
    "\n",
    "So $x_1 = 2x_2$\n",
    "\n",
    "Substituting $x_1 = 2x_2$ into (3) , we got $5x_2 = -4 \\Rightarrow x_2 = -\\frac{4}{5}$ and $x_1 = -\\frac{8}{5}$\n",
    "\n",
    "Then a stationary point $x^*$ is $x^* = \\begin{bmatrix} -\\frac{8}{5} \\\\ -\\frac{4}{5} \\end{bmatrix} , {\\lambda}_1^* = \\frac{8}{5} > 0$ which satisfies KKT condition , so $x^*$ is a global minimizer and $f(x^*) = {(-\\frac{8}{5})}^2 + {(-\\frac{4}{5})}^2 =  \\frac{16}{5}$<br><br>\n",
    "\n",
    "$\\underline{The\\;Dual\\;problem}$\n",
    "\n",
    "Max $f(\\overline{y}) = y_1^2 + y_2^2 + {\\lambda}_1(4 + 2y_1 + 2y_2)$\n",
    "\n",
    "subject to ${\\nabla}f(\\overline{y}) + {\\lambda}_i{\\nabla}c_i(\\overline{y}) = 0 , {\\lambda}_i \\ge 0$\n",
    "\n",
    "Then the dual nonlinear problem become Max $f(\\overline{y}) = y_1^2 + y_2^2 + {\\lambda}_1(4 + 2y_1 + y_2)$\n",
    "\n",
    "subject to $2y_1 + 2{\\lambda}_1 = 0 , 2y_2 + {\\lambda}_1 = 0 , {\\lambda}_1 \\ge 0 \\Rightarrow y_1 = 2y_2$\n",
    "\n",
    "Substituting $y_1 = 2y_2$ into $f(\\overline{y})$ , we obtain\n",
    "\n",
    "The derivative of $f(y_2)$ to find the optimal value of $y_2$ \n",
    "\n",
    "$f'(y_2) = -10y_2 -8 = 0 \\Rightarrow y_2 = -\\frac{8}{10} = -\\frac{4}{5}$ and $y_1 = -\\frac{16}{10} = -\\frac{8}{5}$\n",
    "\n",
    "Therefore , the global maximizer $y^* = \\begin{bmatrix} y_1^* \\\\ y_2^* \\end{bmatrix} = \n",
    "    \\begin{bmatrix} -\\frac{8}{5} \\\\ -\\frac{4}{5} \\end{bmatrix}$ with ${\\lambda}^* = \\frac{8}{5} > 0$ and the maximum value of the dual problem is $f(y^*) = \\frac{16}{5} = f(x^*)$\n",
    "\n",
    "So the problem is the strong dual."
   ]
  }
 ],
 "metadata": {
  "kernelspec": {
   "display_name": "Python 3",
   "language": "python",
   "name": "python3"
  },
  "language_info": {
   "codemirror_mode": {
    "name": "ipython",
    "version": 3
   },
   "file_extension": ".py",
   "mimetype": "text/x-python",
   "name": "python",
   "nbconvert_exporter": "python",
   "pygments_lexer": "ipython3",
   "version": "3.8.1"
  }
 },
 "nbformat": 4,
 "nbformat_minor": 2
}
