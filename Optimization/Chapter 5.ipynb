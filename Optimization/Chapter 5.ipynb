{
 "cells": [
  {
   "cell_type": "markdown",
   "metadata": {},
   "source": [
    "<h1 align=\"center\">Chapter 5<br><br>\n",
    "Numerical methods for 1 dimension problems<br><br>"
   ]
  },
  {
   "cell_type": "markdown",
   "metadata": {},
   "source": [
    "$\\qquad$One - dimensional problems are important both in there own right, and because they are a key part of methods for multivariable optimization. Henes it is esential that they are solved as efficiently and reliably as opposible.<br><br>"
   ]
  },
  {
   "cell_type": "markdown",
   "metadata": {},
   "source": [
    "**Example**      "
   ]
  },
  {
   "cell_type": "markdown",
   "metadata": {},
   "source": [
    "Min $f(x) = x^2 - sin x$ on $\\Omega = \\left[-\\frac{11}{2},\\frac{11}{2}\\right]$"
   ]
  },
  {
   "cell_type": "markdown",
   "metadata": {},
   "source": [
    "derivative ,$$f'(x) = 2x - cosx$$\n",
    "<br>$$f''(x) = 2 + sinx$$\n",
    "<br>let $$f(x^*) =0 \\Rightarrow 2x^* - cosx^* =0$$\n",
    "<br>$$2x^* = cosx^*$$\n",
    "<br>$$x^* = \\frac{1}{2}cosx^*$$\n"
   ]
  },
  {
   "cell_type": "markdown",
   "metadata": {},
   "source": [
    "Finding a stationary point $x*$ that is the solution of $f'(x*) = 0$, which requires a numerical method. As the internal $\\Omega$ is convex and $f''(x)\\; > \\;0$ for all $x$ in $\\Omega$, so $f'(x)$ is a strictly convex function. There a stationary point of f on $\\Omega$ is the global minimizer of $f$ on $\\Omega$"
   ]
  },
  {
   "cell_type": "markdown",
   "metadata": {},
   "source": [
    "A sketch of $cosx$ and $2x$ shows that there is exact one stationary point in $\\Omega$ at appoximately $x = 0.5$. A variety of methods for finding numerical approximation for  roots of $f'(x) = 0$ as follows "
   ]
  },
  {
   "cell_type": "markdown",
   "metadata": {},
   "source": [
    "**1. Fixed point iteration**\n",
    "<br>$\\qquad$Fixed point iteration is iteration method produced by taking"
   ]
  },
  {
   "cell_type": "markdown",
   "metadata": {},
   "source": [
    "<div align=\"center\">$x_{k+1} = g(x_k)$</div>"
   ]
  },
  {
   "cell_type": "markdown",
   "metadata": {},
   "source": [
    "If the initial point $x_1$ is on efficiently close to $x*$ and $\\left|g'(x*)\\right|\\; < \\;1$ then simple iteration produces a sequene ${x_k}$ which converges to $x*$, and the rate of converge is linear."
   ]
  },
  {
   "cell_type": "markdown",
   "metadata": {},
   "source": [
    "**2. Newton's method**\n",
    "<br>$\\qquad$Suppose that $f$ is twice continuously differentiable, Then at the point $x_k$ the function $f$ can be modelled locally by the quadratie function $q_k(d)$ obtained from a second order Taylor series expansion about $x_k$, "
   ]
  },
  {
   "cell_type": "markdown",
   "metadata": {},
   "source": [
    "<div align=\"center\">$f(x_k+d) \\approx q_k(d) \\equiv f(x_k) +f'(x_k)d + \\frac{1}{2}f''(x_k)d^2$</div>"
   ]
  },
  {
   "cell_type": "markdown",
   "metadata": {},
   "source": [
    "The unconstrained mininizer $d_k$ of $q_k(d)$ satisfies"
   ]
  },
  {
   "cell_type": "markdown",
   "metadata": {},
   "source": [
    "$$q'_k(d) = f'(x_k) + f''(x_k)d =0$$\n",
    "<br>giving $$d= \\frac{-f'(x_k)}{f''(x_k)}$$"
   ]
  },
  {
   "cell_type": "markdown",
   "metadata": {},
   "source": [
    "Note that $d_k$ is a minimizer of $q_k(d_k)$ if and only if $f''(x_k)\\; > \\;0$. Newton's method is odtained by using $d_k$ to provide a new estimate of a local minimizer, so"
   ]
  },
  {
   "cell_type": "markdown",
   "metadata": {},
   "source": [
    "$$x_{k+1} = x_k + d = x_k - \\frac{-f'(x_k)}{f''(x_k)}$$ when $$f''(x_k)\\; > \\;0$$"
   ]
  },
  {
   "cell_type": "markdown",
   "metadata": {},
   "source": [
    "Newton's method is not globally convergent as it is not defined at any point $x_k$ with $f''(x_k) \\leqslant 0$. However if the second order sufficient conditions for an unconstrained minimizer are satisfied at $x*$, and $x_1$ is sufficient close to $x*$ then Newton's method wors very well"
   ]
  },
  {
   "cell_type": "markdown",
   "metadata": {},
   "source": [
    "**3. Secant method**\n",
    "<br>$\\qquad$A disadvantage of Newton's method is that it requires both first and second derivatives to be evaluated. The secant method approximates the second derivatives at the point $x_k$ and $x_{k-1}$, so"
   ]
  },
  {
   "cell_type": "markdown",
   "metadata": {},
   "source": [
    "$$f''(x_k) \\approx \\frac{f'(x_k) - f'(x_{k-1})}{x_k - x_{k-1}}$$"
   ]
  },
  {
   "cell_type": "markdown",
   "metadata": {},
   "source": [
    "Using this approximation to replace the second derivative term in Newton's method produces"
   ]
  },
  {
   "cell_type": "markdown",
   "metadata": {},
   "source": [
    "$$x_{k+1} = x_k - f'(x_k)\\frac{x_k - x_{k-1}}{f'(x_k) - f'(x_{k-1})}$$\n",
    "<br> $$= \\frac{f'(x_k)x_{k-1} - f'(x_{k-1})x_k}{f'(x_k) - f'(x_{k-1})}$$"
   ]
  },
  {
   "cell_type": "markdown",
   "metadata": {
    "slideshow": {
     "slide_type": "slide"
    }
   },
   "source": [
    "If ${x_k}$ converges to $x*$ when $f'(x*) = 0$ and $f''(x*)\\; > \\;0$ then the secant method has a superlinear rate of converges\n",
    "<br>Since derivative value of $z$ points are required to approximate a secod derivative, so the secant method requires 2 starting points ($x_1$ and $x_2$ in table)"
   ]
  },
  {
   "cell_type": "markdown",
   "metadata": {},
   "source": [
    "**4. Binary search (bisection method)**\n",
    "<br>$\\qquad$Binary search is very simple idea for numerically solving the nonlinear equation $f(x) = 0$ when $f$ is a function of one variable. Bisection method has proceed as follws"
   ]
  },
  {
   "cell_type": "markdown",
   "metadata": {},
   "source": [
    "(i) For $f(x) =0$, given interval $[a,b]$ such that $f(a)$ and $f(b)$ are opposite. Shown as figure ; $f(\\gamma) = 0$"
   ]
  },
  {
   "cell_type": "markdown",
   "metadata": {},
   "source": [
    "(ii) To find the middle point of $[a, b]$, let $c=\\frac{a+b}{2}$, then evaluate $f(c)$ to cut the interval $[a, b]$ in half."
   ]
  },
  {
   "cell_type": "markdown",
   "metadata": {},
   "source": [
    "(iii) If $f(c)\\; > \\;0$, then $b=c$, we will get the new interval $[a,c]$. If $f(c)\\; > \\;0$, then $a=c$ will get the new interval $[c,b]$."
   ]
  },
  {
   "cell_type": "markdown",
   "metadata": {},
   "source": [
    "(iv) Repeating (ii) and (iii) until $f(c)$ close to zero or $|f(c)| < \\epsilon =0.5 \\times 10^{-2}$ when $d$ is the number of significant digits for approximation<br><br><br>"
   ]
  },
  {
   "cell_type": "markdown",
   "metadata": {},
   "source": [
    "The numerical approximation for the roots of $f(x) = 0$ or $f'(x) = 0$\n",
    "<br>\n",
    "<br>**1. Fixed point iteration** : $x = g(x)$\n",
    "<br>$$x_{k+1} = g(x_k)$$\n",
    "<br>or $$x_k = g(x_{k-1})$$"
   ]
  },
  {
   "cell_type": "markdown",
   "metadata": {},
   "source": [
    "**Example**"
   ]
  },
  {
   "cell_type": "markdown",
   "metadata": {},
   "source": [
    "$f(x) = x^2-sinx\\;$ on $\\;\\Omega = \\left[-\\frac{\\pi}{2},\\frac{\\pi}{2}\\right]$\n",
    "<br>Find the stationary point of $f(x)$ where $f'(x) = 0$ from $f'(x) - 2x - cosx = 0$"
   ]
  },
  {
   "cell_type": "markdown",
   "metadata": {},
   "source": [
    "$$x = \\frac{cosx}{2} = g(x)$$\n",
    "<br>\n",
    "<br>Fixed point iteration is<br>\n",
    "$$x_{k+1} = \\frac{cosx_k}{2}$$<br>\n",
    "$$\\text{or}$$<br>\n",
    "$$x_{k+1} = g(x_k), \\;x_{k} = g(x_{k-1})$$<br>\n",
    "<br>Let a initical point $x_1 = 0.5$, \n",
    "<br>\n",
    "<br>$\\qquad\\qquad k=1,\\; x_2 = \\frac{cosx_1}{2} = \\frac{cos0.5}{2} = 0.43879$\n",
    "<br>$\\qquad\\qquad k=2,\\; x_3 = \\frac{cosx_1}{2} = \\frac{cos0.43879}{2} = 0.452633$\n",
    "<br>$\\qquad\\qquad\\;\\;$**.**\n",
    "<br>$\\qquad\\qquad\\;\\;$**.**\n",
    "<br>$\\qquad\\qquad\\;\\;$**.**"
   ]
  },
  {
   "cell_type": "markdown",
   "metadata": {},
   "source": [
    "**Table1** Fixed point iteration for $x = \\frac{cosx}{2}$"
   ]
  },
  {
   "cell_type": "markdown",
   "metadata": {},
   "source": [
    "|$k$|$$x_k$$|$$f(x_k)$$|$$f'(x_k)$$|\n",
    "|---|---|---|---|\n",
    "|1|$$0.5$$|0.22942554|0.12241744|\n",
    "|2|0.43879128|0.23230778|0.02768328|\n",
    "|3|0.45263292|0.23245827|0.00596709|\n",
    "|4|0.44964938|-0.23246523|-0.00130080|\n",
    "|5|0.45029978|-0.23246556|0.00028280|\n",
    "|6|0.45018933|-0.23246557|0.00006155|\n",
    "|7|0.45018211|-0.23246558|0.00001339|\n",
    "|8|0.45018342|-0.23246558|0.00000291|\n",
    "|9|0.45018387|-0.23246558|0.00000063|"
   ]
  },
  {
   "cell_type": "markdown",
   "metadata": {},
   "source": [
    "**2. Newton's method** for $f'(x) = 0$\n",
    "<br>$$x_{k+1} = x_k - \\frac{f'(x_k)}{f''(x_k)}$$ when $$f''(x_k) \\neq 0$$"
   ]
  },
  {
   "cell_type": "markdown",
   "metadata": {},
   "source": [
    "<b>Example"
   ]
  },
  {
   "cell_type": "markdown",
   "metadata": {},
   "source": [
    "$f'(x) = 2x - cosx$\n",
    "<br>$f''(x) = 2 +sinx$ for $x = 0.5$"
   ]
  },
  {
   "cell_type": "markdown",
   "metadata": {},
   "source": [
    "<br>Newton's medthod\n",
    "<br>$$x_{k+1} = x_k -\\frac{2x_k-cosx_k}{2+sinx_k}$$\n",
    "<br>\n",
    "<br>$k=1,\\qquad x_2 =x_1-\\frac{2x_1-cosx_1}{2+sinx_1}$\n",
    "<br>$\\qquad\\qquad\\qquad=0.5-\\frac{2(0.5)-cos0.5}{2+sin0.5}$\n",
    "<br>$\\qquad\\qquad\\qquad=0.45062669$\n",
    "<br>$k=2, \\qquad x_3 =x_2-\\frac{2x_2-cosx_2}{2+sinx_2}$\n",
    "<br>$\\qquad\\qquad\\qquad=0.45062669-\\frac{2(0.45062669)-cos0.5}{2+sin0.45062669}$\n",
    "<br>$\\qquad\\qquad\\qquad=0.45018365$\n",
    "<br>$k=3, \\qquad x_4 =x_3-\\frac{2x_3-cosx_3}{2+sinx_3}$\n",
    "<br>$\\qquad\\qquad\\qquad=0.45018365-\\frac{2(0.45018365)-cos0.5}{2+sin0.45018365}$\n",
    "<br>$\\qquad\\qquad\\qquad=0.45018361$"
   ]
  },
  {
   "cell_type": "markdown",
   "metadata": {},
   "source": [
    "**Table** Newton's method for $f'(x) =0$"
   ]
  },
  {
   "cell_type": "markdown",
   "metadata": {},
   "source": [
    "|$k$|$$x_k$$|$$f(x_k)$$|$$f'(x_k)$$|$$f''(x_k)$$|\n",
    "|---|---|---|---|---|\n",
    "|1|$$0.5$$|-0.22942554|0.12241744|2.4794255|\n",
    "|2|0.45062669|-0.23246534|0.00107905|2.4355298|\n",
    "|3|0.45018365|-0.23246558|-0.0000009|2.4351309|\n",
    "|4|0.45018361|-0.23246558|-0.0000000|2.4351309|"
   ]
  },
  {
   "cell_type": "markdown",
   "metadata": {},
   "source": [
    "${x_k}$ convert to $x* = 0.45018361$ with the quadratic"
   ]
  },
  {
   "cell_type": "markdown",
   "metadata": {},
   "source": [
    "**3. Secant method**, $f'(x) =0$\n",
    "<br>$$x_{k+1} = \\frac{f'(x_k)x_{k-1}-f'(x_{k-1})x_k}{f'(x_k)-f'(x_{k-1})}$$"
   ]
  },
  {
   "cell_type": "markdown",
   "metadata": {},
   "source": [
    "<b>Example "
   ]
  },
  {
   "cell_type": "markdown",
   "metadata": {},
   "source": [
    "<br>$f'(x) = 2x-cosx$ ; $x_1 = 0.5, x_2 = 0.4$ are initial points\n",
    "<br>\n",
    "<br>Secant method \n",
    "<br>\n",
    "<br>$$x_{k+1} = x_k - \\frac{f'(x_k)(x_k-x_{k-1})}{f'(x_k)-f'(x_{k-1}}$$\n",
    "<br>\n",
    "<br>$k=2, \\qquad x_3= x_2 - \\frac{f'(x_2)(x_2-x_1)}{f'(x_2)-f'(x_1}$\n",
    "<br>$\\qquad\\qquad\\qquad=0.4497144$\n",
    "<br>$k=3, \\qquad x_4= x_3 - \\frac{f'(x_3)(x_3-x_2)}{f'(x_3)-f'(x_2}$\n",
    "<br>$\\qquad\\qquad\\qquad=0.45017843$\n",
    "<br>$k=4, \\qquad x_5= x_4 - \\frac{f'(x_4)(x_4-x_3)}{f'(x_4)-f'(x_3)}$\n",
    "<br>$\\qquad\\qquad\\qquad=0.45018361$"
   ]
  },
  {
   "cell_type": "markdown",
   "metadata": {},
   "source": [
    "**Table** Secant method for $2x - cosx =0$"
   ]
  },
  {
   "cell_type": "markdown",
   "metadata": {},
   "source": [
    "|$k$|$$x_k$$|$$f(x_k)$$|$$f'(x_k)$$|$$f''(x_k)$$|\n",
    "|---|---|---|---|---|\n",
    "|1|$$0.5$$|-0.22942554|0.12241744||\n",
    "|2|$$0.4$$|-0.22941834|-0.12106000|2.43478|\n",
    "|3|0.4497144|-0.23246532|-0.00112534|2.41215|\n",
    "|4|0.45017843|-0.23246558|-0.00001010|2.43492|\n",
    "|5|0.45018361|-0.23246558|-0.00000000|2.43517|"
   ]
  },
  {
   "cell_type": "markdown",
   "metadata": {},
   "source": [
    "${x_k}$ convert to $x* = 0.45018361$ with the super linear of convergence"
   ]
  },
  {
   "cell_type": "markdown",
   "metadata": {},
   "source": [
    "$\\qquad$An example for linear to compute the internal rate of return (IRR) of an investment, when r is the interest rate that satisfies the equation $f(x) = 0$, such that"
   ]
  },
  {
   "cell_type": "markdown",
   "metadata": {},
   "source": [
    "$$f(x) = \\frac{F_1}{(1+r)} +  \\frac{F_2}{(1+r)^2} + \\frac{F_3}{(1+r)^3} + ... + \\frac{F_N}{(1+r)^N} - C =0$$"
   ]
  },
  {
   "cell_type": "markdown",
   "metadata": {},
   "source": [
    "where, \n",
    "<br>$\\qquad\\qquad F_t$ = cash flow in year $t$ for $t = 1, 2, ... , N$\n",
    "<br>$\\qquad\\qquad N$ = number of years\n",
    "<br>$\\qquad\\qquad C$ = cost of the investment"
   ]
  },
  {
   "cell_type": "markdown",
   "metadata": {},
   "source": [
    "Consider a 4 year non-callable bond with a 10% coupon rate paid annually and par value of $1000 a bond has the following cash"
   ]
  },
  {
   "cell_type": "markdown",
   "metadata": {},
   "source": [
    "|$t$ years|$$F_t\\;(\\$)$$|\n",
    "|---|---|\n",
    "|$$1$$|$$100$$|\n",
    "|$$2$$|$$100$$|\n",
    "|$$3$$|$$100$$|\n",
    "|$$4$$|$$1100$$|\n"
   ]
  },
  {
   "cell_type": "markdown",
   "metadata": {},
   "source": [
    "Suppose the bond is now selling for 900 compute the yeild of bond, when the yield $r$ of bond is\n",
    "<br>\n",
    "<br>$$\\frac{100}{(1+r)} +  \\frac{100}{(1+r)^2} + \\frac{100}{(1+r)^3} + \\frac{1100}{(1+r)^4} - 900 =0$$"
   ]
  },
  {
   "cell_type": "markdown",
   "metadata": {},
   "source": [
    "Binary search to find IRR of bond"
   ]
  },
  {
   "cell_type": "markdown",
   "metadata": {},
   "source": [
    "|$$k$$|$$a$$|$$c$$|$$b$$|$$f(a)$$|$$f(c)$$|$$f(b)$$|\n",
    "|---|---|---|---|---|---|---|\n",
    "|$$1$$|$$0$$|$$0.5$$|$$1$$|$$500$$|$$-541.975$$|$$-743.7$$|\n",
    "|$$2$$|$$0$$|$$0.25$$|$$0.5$$|$$500$$|$$-254.24$$|$$-541.9$$|\n",
    "|$$3$$|$$0$$|$$0.125$$|$$0.25$$|$$500$$|$$24.85902$$|$$-254.2$$|\n",
    "|$$4$$|$$0.125$$|$$0.1875$$|$$0.25$$|$$24.85902$$|$$-131.989$$|$$-254.2$$|\n",
    "|$$5$$|$$0.125$$|$$0.15625$$|$$0.1875$$|$$24.85902$$|$$-58.5893$$|$$-131.98$$|\n",
    "|$$6$$|$$0.125$$|$$0.140625$$|$$0.15625$$|$$24.85902$$|$$-18.2181$$|$$-58.583$$|\n",
    "|$$7$$|$$0.125$$|$$0.132813$$|$$0.140625$$|$$24.85902$$|$$2.967767$$|$$-18.218$$|\n",
    "|$$8$$|$$0.132813$$|$$0.136719$$|$$0.140625$$|$$2.967767$$|$$-7.71156$$|$$-18.218$$|\n",
    "|$$9$$|$$0.132813$$|$$0.134766$$|$$0.136719$$|$$2.967767$$|$$-2.39372$$|$$-7.7115$$|\n",
    "|$$10$$|$$0.132813$$|$$0.134789$$|$$0.134766$$|$$2.967767$$|$$0.281543$$|$$-2.393$$|\n",
    "|$$11$$|$$0.133789$$|$$0.134277$$|$$0.134766$$|$$2.281543$$|$$-1.04745$$|$$-2.393$$|\n",
    "|$$12$$|$$0.133789$$|$$0.134033$$|$$0.134277$$|$$2.281543$$|$$-0.3883$$|$$-1.0574$$|"
   ]
  },
  {
   "cell_type": "markdown",
   "metadata": {},
   "source": [
    "$\\left\\{C_k\\right\\}$ convert to $\\;r^* = 0.133891647\\;$ or $= 13.38\\%$"
   ]
  },
  {
   "cell_type": "markdown",
   "metadata": {},
   "source": [
    "Newton's method for $f(x) = 0$\n",
    "<br>$$x_{k+1} = x_k - \\frac{f(x_k)}{f'(x_k)}$$"
   ]
  },
  {
   "cell_type": "markdown",
   "metadata": {},
   "source": [
    "From<br> \n",
    "$$\\;\\;f(r) = \\frac{100}{(1+r)} +  \\frac{100}{(1+r)^2} + \\frac{100}{(1+r)^3} + \\frac{1100}{(1+r)^4} - 900 =0$$<br>\n",
    "$$f'(r) = \\frac{-100}{(1+r)^2} - \\frac{200}{(1+r)^3} - \\frac{300}{(1+r)^4} - \\frac{4400}{(1+r)^5} $$<br>\n",
    "\n",
    "let a initial point $x_0 = 0.0$, then<br>\n",
    "$$\\qquad  x_1 = x_0 - \\frac{f(0)}{f'(0)} = 0 - \\frac{-500}{-5000} = 0.1$$<br>\n",
    "$$ x_2 = x_1 - \\frac{f(0.1)}{f'(0.1)} = 0.13154708$$"
   ]
  },
  {
   "cell_type": "markdown",
   "metadata": {},
   "source": [
    "**Table** Newton's method for $f(r) =0$ (IRR)"
   ]
  },
  {
   "cell_type": "markdown",
   "metadata": {},
   "source": [
    "|$k$|$$x_k$$|$$f(x_k)$$|\n",
    "|---|---|---|\n",
    "|0|$$0.0$$|$$500$$|\n",
    "|1|$$0.1$$|$$100$$|\n",
    "|2|0.13154708|0.46494821|\n",
    "|3|0.13388016|0.03152986|\n",
    "|4|0.13389165|0.00000076|\n",
    "|5|0.13389165|0.00000000|"
   ]
  },
  {
   "cell_type": "markdown",
   "metadata": {},
   "source": [
    "$\\{x_k\\}$ convert to $x^* = 0.13389165$ ($r = 13.39\\%$)"
   ]
  },
  {
   "cell_type": "markdown",
   "metadata": {},
   "source": [
    "$\\qquad$For the optimization problem, if the objective function $f(x)$ has a unique minimizer (maximizer), we can dothe following differentiability and unique of the optimizer indicate that $x^*$ is a minimizer of $g(x)$ if and only if $g'(x) = 0$, so determinding $f(x) = g(x)$ and applying Newton iteration as"
   ]
  },
  {
   "cell_type": "markdown",
   "metadata": {},
   "source": [
    "$$x_{k+1} = x_k - \\frac{f(x_k)}{f'(x_k)} = x_k - \\frac{g'(x_k)}{g''(x_k)}$$<br><br>"
   ]
  },
  {
   "cell_type": "markdown",
   "metadata": {},
   "source": [
    "$\\underline{Rate\\;of\\;convergence}$"
   ]
  },
  {
   "cell_type": "markdown",
   "metadata": {},
   "source": [
    "$\\quad$Let $\\{x_k\\}$ be a sequence which converges to $x^*$ as $k\\rightarrow\\infty$, and let"
   ]
  },
  {
   "cell_type": "markdown",
   "metadata": {},
   "source": [
    "$$\\lim_{k \\to \\infty}\\frac{||x_{k+1} - x^*||}{||x_k - x^*||^\\alpha} = \\beta \\quad\\text{for}\\;\\; 0 \\leq \\beta \\leq 1$$"
   ]
  },
  {
   "cell_type": "markdown",
   "metadata": {},
   "source": [
    "The rule of convergence is"
   ]
  },
  {
   "cell_type": "markdown",
   "metadata": {},
   "source": [
    "1) linear with rate $\\;\\beta\\;$ if $\\;\\alpha =1\\;$ and $\\;0\\leq\\beta\\leq 1$"
   ]
  },
  {
   "cell_type": "markdown",
   "metadata": {},
   "source": [
    "2) superlinear if $\\;\\alpha = 1\\;$ and $\\;\\beta = 0\\quad$ or $\\quad\\alpha\\; > \\;1\\;$ and $\\;0\\; < \\;\\beta\\leq 1$"
   ]
  },
  {
   "cell_type": "markdown",
   "metadata": {},
   "source": [
    "3) quadratic if $\\;\\alpha = 2\\;$ and $\\;0\\; < \\;\\beta\\leq 1$, and $\\;\\alpha$ be called the order of convergence."
   ]
  },
  {
   "cell_type": "markdown",
   "metadata": {},
   "source": [
    "The rate of convergence of Fixed point iteration is linear with $\\alpha=1.$"
   ]
  },
  {
   "cell_type": "markdown",
   "metadata": {},
   "source": [
    "The rate of convegence of Newton's method is quadratic, $\\alpha=2\\;$ and for Secant method is superlinear, $\\;\\alpha\\approx 1.618$<br>"
   ]
  },
  {
   "cell_type": "markdown",
   "metadata": {},
   "source": [
    "<b>Example "
   ]
  },
  {
   "cell_type": "markdown",
   "metadata": {},
   "source": [
    "Consider $\\{x_k\\} = \\left\\{\\frac{1}{k}\\right\\}$, as $\\;k \\rightarrow \\infty$, then $x^* = 0$ the rate of convergrnce of $\\{x_k\\}$;"
   ]
  },
  {
   "cell_type": "markdown",
   "metadata": {},
   "source": [
    "$$\\lim_{k \\to \\infty} \\frac{||\\frac{1}{k+1} - 0||}{||\\frac{1}{k} - 0||^\\alpha} = \\lim_{k \\to \\infty}\\frac{k^\\alpha}{k+1}$$"
   ]
  },
  {
   "cell_type": "markdown",
   "metadata": {},
   "source": [
    "If $\\;\\alpha\\; < \\;1$, then $\\;\\lim_{k \\to \\infty}\\large\\frac{k^\\alpha}{k+1} = \\small 0$"
   ]
  },
  {
   "cell_type": "markdown",
   "metadata": {},
   "source": [
    "If $\\;\\alpha\\; > \\;1$, then $\\;\\lim_{k \\to \\infty}\\large\\frac{k^\\alpha}{k+1} = \\small\\infty$"
   ]
  },
  {
   "cell_type": "markdown",
   "metadata": {},
   "source": [
    "If $\\;\\alpha = 1$, then $\\;\\lim_{k \\to \\infty}\\large\\frac{k^\\alpha}{k+1} = \\small 1$<br>\n",
    "So this sequence has linear convergence<br>"
   ]
  },
  {
   "cell_type": "markdown",
   "metadata": {},
   "source": [
    "<b>Example "
   ]
  },
  {
   "cell_type": "markdown",
   "metadata": {},
   "source": [
    "consider $\\{x_k\\} = \\left\\{\\frac{1}{k^k}\\right\\}$, then $\\{x_k\\}$ convert to $x^*= 0$ as $\\;k \\rightarrow \\infty$"
   ]
  },
  {
   "cell_type": "markdown",
   "metadata": {},
   "source": [
    "$$\\begin{align}\n",
    "    \\lim_{k \\to \\infty} \\frac{||x_{k+1} - x^*||}{||x_k - x^*||}&= \\;\\lim_{k \\to \\infty} \\frac{||\\frac{1}{(k+1)^{k+1}}||}{||\\frac{1}{k^k}||^{\\alpha=1}}\\nonumber \\\\\n",
    "                                                               &= \\;\\lim_{k \\to \\infty} \\frac{k^k}{(k+1)(k+1)^k}\\nonumber \\\\\n",
    "                                                               &= \\;\\lim_{k \\to \\infty} \\frac{1}{k+1} (\\frac{k}{k+1})^k\\nonumber \\\\\n",
    "                                                               &= \\;\\lim_{k \\to \\infty} \\frac{1}{k+1}\\times \\lim_{k \\to \\infty}\\frac{1}{(1+\\frac{1}{k})^k}\\nonumber \\\\\n",
    "                                                               &= \\;0 \\times e^{-1} = 0\\nonumber\n",
    "\\end{align}$$"
   ]
  },
  {
   "cell_type": "markdown",
   "metadata": {},
   "source": [
    "This sequence has superlinear convergence $(\\alpha = 1, \\;\\beta = 0)$"
   ]
  }
 ],
 "metadata": {
  "kernelspec": {
   "display_name": "Python 3",
   "language": "python",
   "name": "python3"
  },
  "language_info": {
   "codemirror_mode": {
    "name": "ipython",
    "version": 3
   },
   "file_extension": ".py",
   "mimetype": "text/x-python",
   "name": "python",
   "nbconvert_exporter": "python",
   "pygments_lexer": "ipython3",
   "version": "3.8.1"
  }
 },
 "nbformat": 4,
 "nbformat_minor": 2
}
