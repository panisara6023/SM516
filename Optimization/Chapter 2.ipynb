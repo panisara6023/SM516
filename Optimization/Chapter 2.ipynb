{
 "cells": [
  {
   "cell_type": "markdown",
   "metadata": {},
   "source": [
    "<h1 align=\"center\">Chapter 2\n",
    "<h2 align=\"center\">Review of matrix algrebra<br><br>"
   ]
  },
  {
   "cell_type": "markdown",
   "metadata": {},
   "source": [
    "$\\qquad$The matrix algebra is important in the development analysis and imprementation of numerical methods that is used to find the minimizers of optimization problems. Let"
   ]
  },
  {
   "cell_type": "markdown",
   "metadata": {},
   "source": [
    "$A$  = $\n",
    "\\begin{bmatrix}\n",
    "a_{11} & a_{12} & \\dots & a_{1n} \\\\\n",
    "a_{21} & a_{22} & \\dots & a_{2n} \\\\\n",
    "a_{m1} & a_{m2} & \\dots & a_{mn} \\\\\n",
    "\\end{bmatrix}  = [a_{ij}]_{m*n}\\;\\;, $ $\\;A\\in \\mathbb R^{m*n} $"
   ]
  },
  {
   "cell_type": "markdown",
   "metadata": {},
   "source": [
    "When $ a_{ij}  \\in \\mathbb R $ for $\n",
    "i = 1,2,\\dots,m\\;$ and $\\;j = 1,2,\\dots,n $"
   ]
  },
  {
   "cell_type": "markdown",
   "metadata": {},
   "source": [
    "And a vector $  a  \\in \\mathbb R^{n} $ , a = \n",
    "$\\begin{bmatrix}\n",
    "a_1 \\\\\n",
    "a_2 \\\\ \n",
    "\\vdots \\\\ \n",
    "a_3 \\\\\n",
    "\\end{bmatrix} $ when $ \n",
    "a_i \\in \\mathbb R\\;$ for $\\;i = 1,2,\\dots,n $"
   ]
  },
  {
   "cell_type": "markdown",
   "metadata": {},
   "source": [
    "## The basic operations with matrices "
   ]
  },
  {
   "cell_type": "markdown",
   "metadata": {},
   "source": [
    "## 1. Addition  $( \\mathbb R^{m*n} + \\mathbb R^{m*n} = \\mathbb R^{m*n} )$"
   ]
  },
  {
   "cell_type": "markdown",
   "metadata": {},
   "source": [
    "$\\qquad C = A + B\\quad$ when $\\;C_{ij} = a_{ij} + b_{ij};\\;\\;$ $ [C_{ij}]_{m*n} = [a_{ij} + b_{ij} ]_{m*n} $ ; $  i = 1,2,\\dots,m\\;$ and $\\;j = 1,2,\\dots,n  $"
   ]
  },
  {
   "cell_type": "markdown",
   "metadata": {},
   "source": [
    "## 2. Multiplication by a scalar $ ( \\mathbb R + \\mathbb R^{m*n} = \\mathbb R^{m*n} ) $"
   ]
  },
  {
   "cell_type": "markdown",
   "metadata": {},
   "source": [
    "$\\qquad C = \\alpha A\\;$"
   ]
  },
  {
   "cell_type": "markdown",
   "metadata": {},
   "source": [
    "$\\qquad C = [c_{ij}]_{m*n}\\;,\\;A = [a_{ij}]_{m*n}\\quad$ when $\\;C_{ij} = \\alpha a_{ij} $ ; $  i = 1,2,\\dots,m\\;$ and $\\;j = 1,2,\\dots,n $"
   ]
  },
  {
   "cell_type": "markdown",
   "metadata": {},
   "source": [
    "## 3. Matrix-Matrix multiplication $ ( \\mathbb R^{m*n} + \\mathbb R^{n*p} = \\mathbb R^{m*p} ) $"
   ]
  },
  {
   "cell_type": "markdown",
   "metadata": {},
   "source": [
    "$\\qquad C = AB $"
   ]
  },
  {
   "cell_type": "markdown",
   "metadata": {},
   "source": [
    "$\\qquad [c_{ij}]_{m*p} = [a_{ij}]_{m*n} * [b_{ij}]_{n*p}\\quad$ when $\\;c_{ij} = \\sum_{n=1}^{i=1}  a_{ik}b_{kj} $  for $\n",
    "i = 1,2,\\dots,m \\;$ and $\\;j = 1,2,\\dots,p $"
   ]
  },
  {
   "cell_type": "markdown",
   "metadata": {},
   "source": [
    "$$ c_{ij} = \\sum_{n=1}^{i=1}   a_{ik}b_{kj} = \n",
    "\\begin{bmatrix}\n",
    "a_{i1} & a_{i2} & .. & a_{in} \\\\\n",
    "\\end{bmatrix} \\begin{bmatrix}\n",
    "a_{1j} \\\\\n",
    "a_{2j} \\\\ \n",
    "\\vdots \\\\ \n",
    "a_{3j} \\\\\n",
    "\\end{bmatrix} $$"
   ]
  },
  {
   "cell_type": "markdown",
   "metadata": {},
   "source": [
    "Ex. $ A =\n",
    "\\begin{bmatrix}\n",
    "1 & 2 & 5 \\\\\n",
    "3 & 4 & 6 \\\\ \n",
    "\\end{bmatrix}_{2*3} \n",
    "\\quad B =\n",
    "\\begin{bmatrix}\n",
    "1 & 3 \\\\\n",
    "0 & 2 \\\\ \n",
    "-2 & 1 \\\\\n",
    "\\end{bmatrix}_{3*2}\n",
    "$"
   ]
  },
  {
   "cell_type": "markdown",
   "metadata": {},
   "source": [
    "$ C = AB $ , $ \\mathbb R $"
   ]
  },
  {
   "cell_type": "markdown",
   "metadata": {},
   "source": [
    "$ \\mathbb R^{2*2} =  \\mathbb R^{2*3} * \\mathbb R^{3*2}  $"
   ]
  },
  {
   "cell_type": "markdown",
   "metadata": {},
   "source": [
    "$ C = AB $"
   ]
  },
  {
   "cell_type": "markdown",
   "metadata": {},
   "source": [
    "$ C =  c_{ij} $ , $ i = 1,2\\;$ and  $\\;j = 1,2 $"
   ]
  },
  {
   "cell_type": "markdown",
   "metadata": {},
   "source": [
    "$ C = \n",
    "\\begin{bmatrix}\n",
    "c_{11} & c_{12} \\\\\n",
    "c_{21} & c_{22} \\\\\n",
    "\\end{bmatrix} $"
   ]
  },
  {
   "cell_type": "markdown",
   "metadata": {},
   "source": [
    "$ c_{11} =\n",
    "\\begin{bmatrix}\n",
    "1 & 2 & 5 \\\\ \n",
    "\\end{bmatrix} \\begin{bmatrix}\n",
    "1 \\\\\n",
    "0 \\\\ \n",
    "-2 \\\\ \n",
    "\\end{bmatrix} $\n",
    "\n",
    "$ c_{12} =\n",
    "\\begin{bmatrix}\n",
    "1 & 2 & 5 \\\\ \\end{bmatrix}\n",
    "\\begin{bmatrix}\n",
    "3 \\\\\n",
    "2 \\\\ \n",
    "1 \\\\ \n",
    "\\end{bmatrix} $"
   ]
  },
  {
   "cell_type": "markdown",
   "metadata": {},
   "source": [
    "## 4. Transposition $ ( \\mathbb R^{m*n} = \\mathbb R^{n*m} = \\mathbb R^{n*m} ) $"
   ]
  },
  {
   "cell_type": "markdown",
   "metadata": {},
   "source": [
    "$\\qquad C = A^T $ , $ C =  \\mathbb R^{n*m} = A^T\\;$ $\\rightarrow\\;A = \\mathbb R^{m*n}\\quad$ when $\\;[c_{ij}] = [a_{ij}]\\;$ for $\\;i = 1,2,\\dots,m\\;$ and $\\;j = 1,2\\dots,n $"
   ]
  },
  {
   "cell_type": "markdown",
   "metadata": {},
   "source": [
    "$\\qquad$An n-dimensional row vector is \n",
    "devoted by  $ a^T = \n",
    "\\begin{bmatrix}\n",
    "a_{i1} & a_{i2} & \\dots & a_{in} \\\\\n",
    "\\end{bmatrix} $"
   ]
  },
  {
   "cell_type": "markdown",
   "metadata": {},
   "source": [
    "and $ (AB)^T = B^T A^T $ ;  $ A \\in \\mathbb R^{m*n} , B  \\in \\mathbb R^{n*p}\\;$ and $\\;AB  \\neq  BA  $"
   ]
  },
  {
   "cell_type": "markdown",
   "metadata": {},
   "source": [
    "## 5. A matrix-vector product"
   ]
  },
  {
   "cell_type": "markdown",
   "metadata": {},
   "source": [
    " $\\qquad$A $ \\in  \\mathbb R^{m*n} $  ,$\\;\\;\\overline{x} \\in \\mathbb R^{n} $ \n",
    " "
   ]
  },
  {
   "cell_type": "markdown",
   "metadata": {},
   "source": [
    "$\\qquad A\\overline{x} = b\\;;\\;b \\in \\mathbb R^{n}\\;$ and $\\;\\;\\sum_{j=1} a_{ij}\\overline{x}_{bi}\\;$ for $\\;i = 1,2,\\dots,n  $"
   ]
  },
  {
   "cell_type": "markdown",
   "metadata": {},
   "source": [
    "$\\qquad Linear\\;system$"
   ]
  },
  {
   "cell_type": "markdown",
   "metadata": {},
   "source": [
    "$\\qquad\\qquad a_{11}x_1 + a_{12}x_2 + a_{13}x_3 = b_1 $ \n"
   ]
  },
  {
   "cell_type": "markdown",
   "metadata": {},
   "source": [
    "$\\qquad\\qquad a_{21}x_1 + a_{22}x_2 + a_{23}x_3 = b_2 $ "
   ]
  },
  {
   "cell_type": "markdown",
   "metadata": {},
   "source": [
    "$\\qquad\\qquad a_{31}x_1 + a_{32}x_2 + a_{33}x_3 = b_1 $ "
   ]
  },
  {
   "cell_type": "markdown",
   "metadata": {},
   "source": [
    "$$ \\begin{bmatrix} a_{11} & a_{12} & a_{13} \\\\ a_{21} & a_{22} & a_{23} \\\\ a_{31} & a_{32} & a_{33} \\end{bmatrix}\n",
    "   \\begin{bmatrix} x_1 \\\\ x_2 \\\\ x_3 \\end{bmatrix} =\n",
    "   \\begin{bmatrix}b_1 \\\\ b_2 \\\\ b_3 \\end{bmatrix} $$<br>\n",
    "$$ \\mathbb R^{3*3}\\;\\;\\text{x}\\;\\;\\mathbb R^3 = \\mathbb R^3 $$"
   ]
  },
  {
   "cell_type": "markdown",
   "metadata": {},
   "source": [
    "## 6. A vector-vector product"
   ]
  },
  {
   "cell_type": "markdown",
   "metadata": {},
   "source": [
    "$\\qquad$If $\\;a \\in \\mathbb R^{m*1},\\;b \\in   \\mathbb R^{n*1} $ are vector , then "
   ]
  },
  {
   "cell_type": "markdown",
   "metadata": {},
   "source": [
    "$$ ab^T \\in\\mathbb R^{m*n} $$"
   ]
  },
  {
   "cell_type": "markdown",
   "metadata": {},
   "source": [
    "$$ ab^T = \n",
    "\\begin{bmatrix}\n",
    "a_1b_1 & \\dots & a_1b_n \\\\\n",
    "a_2b_1 & \\dots & a_2b_n \\\\\n",
    "a_nb_1 & \\dots & a_2b_n \\\\\n",
    "\\end{bmatrix} $$"
   ]
  },
  {
   "cell_type": "markdown",
   "metadata": {},
   "source": [
    "$\\qquad$If m=n the inner product or scalar product of z vector $ a,b \\in  \\mathbb R^n $ is scalar  "
   ]
  },
  {
   "cell_type": "markdown",
   "metadata": {},
   "source": [
    "$$ ab^T = \\begin{bmatrix}\n",
    "a_1 & a_2 & \\dots & a_n \\\\\n",
    "\\end{bmatrix} \\begin{bmatrix}\n",
    "b_1 \\\\\n",
    "b_2 \\\\\n",
    "\\vdots \\\\\n",
    "b_n \\\\\n",
    "\\end{bmatrix} $$"
   ]
  },
  {
   "cell_type": "markdown",
   "metadata": {},
   "source": [
    "$$ ab^T = a_1b_1 + a_2b_2 + \\dots + a_nb_n = \\sum_{i=1} a_ib_i\\;=\\;\\text{scalar}$$"
   ]
  },
  {
   "cell_type": "markdown",
   "metadata": {},
   "source": [
    "Ex. $ a =\n",
    "\\begin{bmatrix}\n",
    "1 \\\\\n",
    "2 \\\\\n",
    "-2 \\\\\n",
    "\\end{bmatrix} $ , $\n",
    "\\;\\;b = \n",
    "\\begin{bmatrix}\n",
    "-3 \\\\\n",
    "2 \\\\\n",
    "-1 \\\\\n",
    "\\end{bmatrix} $"
   ]
  },
  {
   "cell_type": "markdown",
   "metadata": {},
   "source": [
    "$ ab^T = \\begin{bmatrix}\n",
    "1 & 2 & -2 \n",
    "\\end{bmatrix} \\begin{bmatrix}\n",
    "-3 \\\\\n",
    "2 \\\\\n",
    "-1 \\\\\n",
    "\\end{bmatrix} $"
   ]
  },
  {
   "cell_type": "markdown",
   "metadata": {},
   "source": [
    "$ ab^T = (1*-3) + (2*2) + (-2*-1) $ = 3 = $ b^Ta $"
   ]
  },
  {
   "cell_type": "markdown",
   "metadata": {},
   "source": [
    "$ b^Ta = \\begin{bmatrix}\n",
    "3 & 2 & -1 \n",
    "\\end{bmatrix} \\begin{bmatrix}\n",
    "1 \\\\\n",
    "2 \\\\\n",
    "-2 \\\\\n",
    "\\end{bmatrix} $  = $ a^Tb $"
   ]
  },
  {
   "cell_type": "markdown",
   "metadata": {},
   "source": [
    "But $\\;ab^T \\neq ba^T $<br><br>"
   ]
  },
  {
   "cell_type": "markdown",
   "metadata": {},
   "source": [
    "## 7. Diagonal matrix"
   ]
  },
  {
   "cell_type": "markdown",
   "metadata": {},
   "source": [
    "$\\qquad$An $ n*n $ diagonal matrix A when "
   ]
  },
  {
   "cell_type": "markdown",
   "metadata": {},
   "source": [
    "$\\qquad\\qquad a_{ij} = \\alpha_i\\;\\;\\text{for}\\;\\;i = 1,2,\\dots,n\\;$ and $\\;a_{ij} = 0\\;$ for $\\;i \\neq j\\;$ is devoted by"
   ]
  },
  {
   "cell_type": "markdown",
   "metadata": {},
   "source": [
    "$$ A = \\begin{bmatrix} \n",
    "\\alpha_1 & 0 & \\dots&0 \\\\\n",
    "0 & \\alpha_2 & \\dots&0 \\\\\n",
    "\\vdots&\\vdots\\\\\n",
    "0 & 0 & \\dots&\\alpha_n \\\\\n",
    "\\end{bmatrix}\n",
    "\\in \\mathbb R^{n*n} $$"
   ]
  },
  {
   "cell_type": "markdown",
   "metadata": {},
   "source": [
    "## 8. Determinant "
   ]
  },
  {
   "cell_type": "markdown",
   "metadata": {},
   "source": [
    "$\\qquad$If $ A \\in \\mathbb R^{n*n} $ is a diagonal matrix, then"
   ]
  },
  {
   "cell_type": "markdown",
   "metadata": {},
   "source": [
    "$$det\\;A = \\prod_{i=1} a_{ii}\\;\\;\\text{or}\\;\\;\n",
    "\\begin{bmatrix}\n",
    "a_{11} & 0 & \\dots & 0 \\\\\n",
    "0 & a_{22} & \\dots & 0 \\\\\n",
    "0 & 0 & \\dots & a_{nn} \\\\\n",
    "\\end{bmatrix} = a_{11}a_{22}a_{33} \\dots a_{nn} = \\prod_{i=1}a_{ii} $$"
   ]
  },
  {
   "cell_type": "markdown",
   "metadata": {},
   "source": [
    "$\\qquad$If $ A \\in \\mathbb R^{n*n} $ , then<br>\n",
    "$$det\\;A = \\sum_{j=1}(-1)^{i+j}a_{ij}m_{ij}\\;\\;\\text{for}\\;\\;i = 1,2,\\dots,n $$<br>\n",
    "when $ m_{ij} $ is the minor of  $ a_{ij} $ is determinent of matrix obtained by deleting row i and column j of A"
   ]
  },
  {
   "cell_type": "markdown",
   "metadata": {},
   "source": [
    "Ex. $ A =\n",
    "\\begin{bmatrix}\n",
    "1 & 2 & 3 \\\\\n",
    "-1 & 0 & 4 \\\\\n",
    "2 & 3 & -2 \\\\\n",
    "\\end{bmatrix} $"
   ]
  },
  {
   "cell_type": "markdown",
   "metadata": {},
   "source": [
    "#### 1st method<br>\n",
    "$ |A| =\n",
    "\\begin{bmatrix}\n",
    "1 & 2 & 3 \\\\\n",
    "-1 & 0 & 4 \\\\\n",
    "2 & 3 & -2 \\\\\n",
    "\\end{bmatrix} = (0+16-9) - (0+12+4) = -9 $"
   ]
  },
  {
   "cell_type": "markdown",
   "metadata": {},
   "source": [
    "#### 2nd method<br>\n",
    "$ |A| = \\begin{bmatrix}\n",
    "1 & 2 & 3 \\\\\n",
    "-1 & 0 & 4 \\\\\n",
    "2 & 3 & -2 \\\\\n",
    "\\end{bmatrix} $"
   ]
  },
  {
   "cell_type": "markdown",
   "metadata": {},
   "source": [
    "$ i=1 : |A| = (-1)^{1+1}a_{11}m_{11} + (-1)^{1+2}a_{12}m_{12} + (-1)^{1+3}a_{13}m_{13} $"
   ]
  },
  {
   "cell_type": "markdown",
   "metadata": {},
   "source": [
    "$ |A| = +(1) \\begin{bmatrix}\n",
    "0 & 4 \\\\\n",
    "3 & -2 \\\\\n",
    "\\end{bmatrix} + (-1)(2) \\begin{bmatrix}\n",
    "-1 & 4 \\\\\n",
    "2 & -2 \\\\\n",
    "\\end{bmatrix} + (3) \\begin{bmatrix}\n",
    "-1 & 0 \\\\\n",
    "2 & 3 \\\\\n",
    "\\end{bmatrix} $"
   ]
  },
  {
   "cell_type": "markdown",
   "metadata": {},
   "source": [
    "$ |A| = (1)(-12) + (-2)(-6) + (3)(-3) $"
   ]
  },
  {
   "cell_type": "markdown",
   "metadata": {},
   "source": [
    "$ |A| = -12+12-9 = -9 $"
   ]
  },
  {
   "cell_type": "markdown",
   "metadata": {},
   "source": [
    "$ i=2 : |A| = (-1)^{2+1}a_{21}m_{21} + (-1)^{2+2}a_{22}m_{22} + (-1)^{2+3}a_{23}m_{23} $"
   ]
  },
  {
   "cell_type": "markdown",
   "metadata": {},
   "source": [
    "$ |A| = (-1)(-1) \\begin{bmatrix}\n",
    "2 & 3 \\\\\n",
    "3 & -2 \\\\\n",
    "\\end{bmatrix} + 0 + (-1)(4) \\begin{bmatrix}\n",
    "1 & 2 \\\\\n",
    "2 & 3 \\\\\n",
    "\\end{bmatrix} $"
   ]
  },
  {
   "cell_type": "markdown",
   "metadata": {},
   "source": [
    "$ |A| = -13+(-1)(4)(-1) = -9 $<br><br>"
   ]
  },
  {
   "cell_type": "markdown",
   "metadata": {},
   "source": [
    "$Properties\\;of\\;determinant$"
   ]
  },
  {
   "cell_type": "markdown",
   "metadata": {},
   "source": [
    "1. $ det(AB) = detAdetB $\n",
    "2. $ det(A)^T = detA $ \n",
    "3. $ det(\\alpha A) =  \\alpha^ndetA $ \n",
    "4. A is a nonsingular matrix if and only if $ det A \\neq 0 $<br>If  $ det A = 0 $, then A is a singular matrix "
   ]
  },
  {
   "cell_type": "markdown",
   "metadata": {},
   "source": [
    "## 9. Inverse of $ A \\in \\mathbb R^{n*n} = A^{-1}  $"
   ]
  },
  {
   "cell_type": "markdown",
   "metadata": {},
   "source": [
    "$\\qquad$If $ A \\in \\mathbb R^{2*2} $ ; $ A = \\begin{bmatrix}\n",
    "a_{11} & a_{12} \\\\\n",
    "a_{21} & a_{22} \\\\\n",
    "\\end{bmatrix} $ then $ \n",
    "A^{-1} = \\frac{1}{detA} \\begin{bmatrix}\n",
    "a_{22} & -a_{12} \\\\\n",
    "-a_{21} & a_{11} \\\\\n",
    "\\end{bmatrix} $"
   ]
  },
  {
   "cell_type": "markdown",
   "metadata": {},
   "source": [
    "$\\qquad$If $ A \\sum_ \\mathbb R^{m*n} $ ; then $ A^{-1} = \\frac{1}{detA} \\begin{bmatrix}\n",
    "[c_{ij}]^T \\\\\n",
    "\\end{bmatrix}_{m*n} $"
   ]
  },
  {
   "cell_type": "markdown",
   "metadata": {},
   "source": [
    "when $ c_{ij} $ = a cofactor of $ a_{ij} = (-1)^{i+j}M_{ij}\\;\\;$ and $\\;\\;M_{ij} = $ minor of $ a_{ij} $"
   ]
  },
  {
   "cell_type": "markdown",
   "metadata": {},
   "source": [
    "Ex. $ A =  \\begin{bmatrix} 1 & 2 \\\\ 3 & 4 \\end{bmatrix}$ \n",
    "\n",
    "$A^{-1} = \\frac{1}{detA} \\begin{bmatrix} 4 & -2 \\\\ -3 & 1 \\end{bmatrix} $\n"
   ]
  },
  {
   "cell_type": "markdown",
   "metadata": {},
   "source": [
    "$ detA = \n",
    "\\begin{bmatrix}\n",
    "1 & 2 \\\\\n",
    "3 & 4 \\\\\n",
    "\\end{bmatrix}$  $= 4-6 = -2\\ne 0$"
   ]
  },
  {
   "cell_type": "markdown",
   "metadata": {},
   "source": [
    "so $ a^{-1} = \\frac{1}{-2} \\begin{bmatrix}\n",
    "4 & -2 \\\\\n",
    "-3 & 1 \\\\\n",
    "\\end{bmatrix} =\n",
    "\\begin{bmatrix}\n",
    "-2 & 1 \\\\\n",
    "\\frac{3}{2} & -\\frac{1}{2} \\\\\n",
    "\\end{bmatrix} = A^{-1} $<br><br>"
   ]
  },
  {
   "cell_type": "markdown",
   "metadata": {},
   "source": [
    "Ex. $ B =  \n",
    "\\begin{bmatrix}\n",
    "1 & 2 & 0 \\\\\n",
    "-1 & 3 & 2 \\\\\n",
    "0 & 1 & -3 \\\\\n",
    "\\end{bmatrix} $"
   ]
  },
  {
   "cell_type": "markdown",
   "metadata": {},
   "source": [
    "$ |B| = \n",
    "\\begin{bmatrix}\n",
    "1 & 2 & 0 \\\\\n",
    "-1 & 3 & 2 \\\\\n",
    "0 & 1 & -3 \\\\\n",
    "\\end{bmatrix} = -9-2-6 = -17 $"
   ]
  },
  {
   "cell_type": "markdown",
   "metadata": {},
   "source": [
    "$ B^{-1} = \\frac{1}{detB} \n",
    "\\begin{bmatrix}\n",
    "c_{11} & c_{12} & c_{13} \\\\\n",
    "c_{21} & c_{22} & c_{23} \\\\\n",
    "c_{31} & c_{32} & c_{33} \\\\\n",
    "\\end{bmatrix}^T $ "
   ]
  },
  {
   "cell_type": "markdown",
   "metadata": {},
   "source": [
    "$ c_{11} = (-1)^{1+1}M_{11} = \\begin{bmatrix}\n",
    "3 & 2 \\\\\n",
    "1 & -3 \\\\\n",
    "\\end{bmatrix} = -9-2 = -11 $"
   ]
  },
  {
   "cell_type": "markdown",
   "metadata": {},
   "source": [
    "$ c_{12} = (-1)^{1+2}M_{12} = \\begin{bmatrix}\n",
    "-1 & 2 \\\\\n",
    "0 & -3 \\\\\n",
    "\\end{bmatrix} = -3 $"
   ]
  },
  {
   "cell_type": "markdown",
   "metadata": {},
   "source": [
    "$ c_{13} = (-1)^{1+3}M_{13} = \\begin{bmatrix}\n",
    "-1 & 3 \\\\\n",
    "0 & 1 \\\\\n",
    "\\end{bmatrix} = -1 $"
   ]
  },
  {
   "cell_type": "markdown",
   "metadata": {},
   "source": [
    "$ c_{21} = (-1)^{2+1}M_{21} = \\begin{bmatrix}\n",
    "2 & 0 \\\\\n",
    "1 & -3 \\\\\n",
    "\\end{bmatrix} = 6 $"
   ]
  },
  {
   "cell_type": "markdown",
   "metadata": {},
   "source": [
    "$ c_{22} = (-1)^{2+2}M_{22} = \\begin{bmatrix}\n",
    "1 & 0 \\\\\n",
    "0 & -3 \\\\\n",
    "\\end{bmatrix} = -3 $"
   ]
  },
  {
   "cell_type": "markdown",
   "metadata": {},
   "source": [
    "$ c_{23} = (-1)^{2+3}M_{23} = \\begin{bmatrix}\n",
    "1 & 2 \\\\\n",
    "0 & 1 \\\\\n",
    "\\end{bmatrix} = -1 $"
   ]
  },
  {
   "cell_type": "markdown",
   "metadata": {},
   "source": [
    "$ c_{31} = (-1)^{3+1}M_{31} = \\begin{bmatrix}\n",
    "2 & 0 \\\\\n",
    "2 & 2 \\\\\n",
    "\\end{bmatrix} = 4 $"
   ]
  },
  {
   "cell_type": "markdown",
   "metadata": {},
   "source": [
    "$ c_{32} = (-1)^{3+2}M_{32} = \\begin{bmatrix}\n",
    "1 & 0 \\\\\n",
    "-1 & 2 \\\\\n",
    "\\end{bmatrix} = -2 $"
   ]
  },
  {
   "cell_type": "markdown",
   "metadata": {},
   "source": [
    "$ c_{33} = (-1)^{3+3}M_{33} = \\begin{bmatrix}\n",
    "1 & 2 \\\\\n",
    "-1 & 3 \\\\\n",
    "\\end{bmatrix} = 5 $"
   ]
  },
  {
   "cell_type": "markdown",
   "metadata": {},
   "source": [
    "$ B^{-1} = \\frac{1}{17}\n",
    "\\begin{bmatrix}\n",
    "-11 & -3 & -1 \\\\\n",
    "6 & -3 & -1 \\\\\n",
    "4 & -2 & 5 \\\\\n",
    "\\end{bmatrix}^T $"
   ]
  },
  {
   "cell_type": "markdown",
   "metadata": {},
   "source": [
    "$ B^{-1} = \\frac{1}{17}\n",
    "\\begin{bmatrix}\n",
    "-11 & 6 & 4 \\\\\n",
    "-3 & -3 & -2 \\\\\n",
    "-1 & -1 & 5 \\\\\n",
    "\\end{bmatrix} $<br><br>"
   ]
  },
  {
   "cell_type": "markdown",
   "metadata": {},
   "source": [
    "## 10. Linear independence"
   ]
  },
  {
   "cell_type": "markdown",
   "metadata": {},
   "source": [
    "$\\qquad$The set of m vectors ; { $ a_1,a_2,\\dots,a_n $ } , $ a_i \\in \\mathbb R^n $ for $ i = 1,2,\\dots,m\\;$ is a linear independence if there exists number $ \\alpha_i $ such that $ \\sum_{i=1}a_{i} = 0 $ "
   ]
  },
  {
   "cell_type": "markdown",
   "metadata": {},
   "source": [
    "when $ $$\\alpha$$_1 = $$\\alpha$$_2 = ... = $$\\alpha$$_m = 0\\;$ and\n",
    "$\\;a_i =\n",
    "\\begin{bmatrix}\n",
    "a_1 \\\\\n",
    "a_2 \\\\\n",
    "\\vdots \\\\\n",
    "a_n \\\\\n",
    "\\end{bmatrix} \\in \\mathbb R^n $ for $ i = 1,2,\\dots,m $"
   ]
  },
  {
   "cell_type": "markdown",
   "metadata": {},
   "source": [
    "$\\qquad$If $ \\alpha_i \\neq 0 $ , then { $ a_1,a_2,\\dots,a_m $ } is not a linear independence or also called linear dependence "
   ]
  },
  {
   "cell_type": "markdown",
   "metadata": {},
   "source": [
    "## 11. Rank of a matrix A : $\\large R(A) $"
   ]
  },
  {
   "cell_type": "markdown",
   "metadata": {},
   "source": [
    "$\\qquad R(A) $ is the maximum number of linearly independent colums or rows of A"
   ]
  },
  {
   "cell_type": "markdown",
   "metadata": {},
   "source": [
    "Ex. a)  $ A = \\begin{bmatrix}\n",
    "5 & 0 & -15 \\\\\n",
    "0 & 4 & 0 \\\\\n",
    "-2 & 0 & 6 \\\\\n",
    "\\end{bmatrix}_{3*3} $ ; $ a_3 = -3a_1\\ne a_2\\;\\rightarrow\\;R(A) = 2 $<br><br>"
   ]
  },
  {
   "cell_type": "markdown",
   "metadata": {},
   "source": [
    "Ex. b)  $ B = \\begin{bmatrix}\n",
    "-1 & 0 & 2 & 1 \\\\\n",
    "-2 & 2 & 4 & 2 \\\\\n",
    "-3 & 1 & 6 & 3 \\\\\n",
    "\\end{bmatrix}_{3*4} $ ; $ a_3 = 2a_4 = -2a_1\\;\\rightarrow\\;-a_1 = a_4\\ne a_2\\;\\rightarrow\\;R(B) = 2 $<br><br>"
   ]
  },
  {
   "cell_type": "markdown",
   "metadata": {},
   "source": [
    "Ex. c)  $ C = \\begin{bmatrix}\n",
    "-1 & 0 & 2 & 1 \\\\\n",
    "-2 & 0 & 4 & 2 \\\\\n",
    "-3 & 0 & 6 & 3 \\\\\n",
    "\\end{bmatrix} $"
   ]
  },
  {
   "cell_type": "markdown",
   "metadata": {},
   "source": [
    "#### 1st method\n",
    "$ C = \\begin{bmatrix}\n",
    "-1 & 2 & 1 \\\\\n",
    "-2 & 4 & 2 \\\\\n",
    "-3 & 6 & 3 \\\\\n",
    "\\end{bmatrix};\\;-a_1 = a_4 = \\frac{1}{2}a_3\\;\\rightarrow\\;2a_4 = a_3\\;\\rightarrow\\;R(C) = 1$"
   ]
  },
  {
   "cell_type": "markdown",
   "metadata": {},
   "source": [
    "#### 2nd method\n",
    "$ C = \\begin{bmatrix}\n",
    "-1 & 2 & 1 \\\\\n",
    "-2 & 4 & 2 \\\\\n",
    "-3 & 6 & 3 \\\\\n",
    "\\end{bmatrix};\\;b_2 = 2b_1\\;\\rightarrow\\;b_3 = 3b_1\\;\\rightarrow\\;R(C) = 1 $ "
   ]
  },
  {
   "cell_type": "markdown",
   "metadata": {},
   "source": [
    "If $ A $$ \\in $$ \\mathbb R^{n*n} $ then A is nonsingular matrix iff (if and only if) $ R(A) = n $<br><br>"
   ]
  },
  {
   "cell_type": "markdown",
   "metadata": {},
   "source": [
    "Ex. $  A = \\begin{bmatrix}\n",
    "1 & 2 \\\\\n",
    "3 & 4 \\\\\n",
    "\\end{bmatrix}_{2*2} ,\\;\\;n = 2 $"
   ]
  },
  {
   "cell_type": "markdown",
   "metadata": {},
   "source": [
    "$ |A| = \n",
    "\\begin{bmatrix}\n",
    "1 & 2 \\\\\n",
    "3 & 4 \\\\\n",
    "\\end{bmatrix} = 4-6 = -2 \\neq 0 $ "
   ]
  },
  {
   "cell_type": "markdown",
   "metadata": {},
   "source": [
    "So A is nonsingularmatrix , $ R(A) = 2 $<br><br>"
   ]
  },
  {
   "cell_type": "markdown",
   "metadata": {},
   "source": [
    "The rank of A is not affected by elementary row operations :\n",
    "1. Interchange of 2 rows or 2 columns $ (r_i = r_j) $\n",
    "2. Multiplication of row(column) of A by nonzero scalar $ c \\neq 0\\;(cr_i = r_i) $\n",
    "3. Addition a given row (column) to nonzeroscalar $(\\alpha)$ times the other row(column) $ (r_i + \\alpha r_j\\;\\rightarrow\\;r_j) $"
   ]
  },
  {
   "cell_type": "markdown",
   "metadata": {},
   "source": [
    "Ex. $ A = \\begin{bmatrix}\n",
    "1 & 3 & 2 & 2 \\\\\n",
    "2 & 3 & 5 & 1 \\\\\n",
    "1 & 3 & 4 & 5 \\\\\n",
    "\\end{bmatrix}_{3*4}$ $\\qquad R(A)=?$"
   ]
  },
  {
   "cell_type": "markdown",
   "metadata": {},
   "source": [
    "$ \\begin{bmatrix}\n",
    "1 & 2 & 3 & 2 \\\\\n",
    "2 & 3 & 5 & 1 \\\\\n",
    "1 & 3 & 4 & 5 \\\\\n",
    "\\end{bmatrix}\\;\\;$\n",
    "$\\sim\\;\\;\\begin{bmatrix}\n",
    "1 & 2 & 3 & 2 \\\\\n",
    "0 & -1 & -1 & -3 \\\\\n",
    "0 & 1 & 1 & 3 \\\\\n",
    "\\end{bmatrix}\\;\\;$\n",
    "$\\sim\\;\\;\\begin{bmatrix}\n",
    "1 & 2 & 3 & 2 \\\\\n",
    "0 & -1 & -1 & -3 \\\\\n",
    "0 & 0 & 0 & 0 \\\\\n",
    "\\end{bmatrix} $"
   ]
  },
  {
   "cell_type": "markdown",
   "metadata": {},
   "source": [
    "$ R(A) = 2,\\;r_2\\;$ and $\\;r_2\\;$ are independenct and $\\;R(A) = R(A)^T $"
   ]
  },
  {
   "cell_type": "markdown",
   "metadata": {},
   "source": [
    "$\\qquad$The linear system $ Ax = B $ There exists a unique solution iff $ R(A) = R(A|B) $"
   ]
  },
  {
   "cell_type": "markdown",
   "metadata": {},
   "source": [
    "Ex.\n",
    "$\\quad 2x_1 - x_2 = 3$<br>\n",
    "$\\qquad 4x_1 - 2x_1 = 5 $"
   ]
  },
  {
   "cell_type": "markdown",
   "metadata": {},
   "source": [
    "$  \\begin{bmatrix}\n",
    "2 & -1 \\\\\n",
    "4 & -2 \\\\\n",
    "\\end{bmatrix} \\begin{bmatrix}\n",
    "x_1 \\\\\n",
    "x_2 \\\\\n",
    "\\end{bmatrix} = \\begin{bmatrix}\n",
    "3 \\\\\n",
    "5 \\\\\n",
    "\\end{bmatrix} $"
   ]
  },
  {
   "cell_type": "markdown",
   "metadata": {},
   "source": [
    "$ Ax= B $"
   ]
  },
  {
   "cell_type": "markdown",
   "metadata": {},
   "source": [
    "$R(A) = 1$<br>\n",
    "$R(A|B) = 2$<br>\n",
    "$R(A) \\neq R(A|B)$"
   ]
  },
  {
   "cell_type": "markdown",
   "metadata": {},
   "source": [
    "## 12. Eigen values and Eigen vectors"
   ]
  },
  {
   "cell_type": "markdown",
   "metadata": {},
   "source": [
    "$\\qquad$If $A\\in\\mathbb R^{n*n}$ then eigen value of $A$ are the n roots $\\lambda_1,\\lambda_2,\\dots,\\lambda_n$ of its characteristic polynomial"
   ]
  },
  {
   "cell_type": "markdown",
   "metadata": {},
   "source": [
    "$$ det(A-\\lambda I) = 0\\;\\;\\text{or}\\;\\;|A-\\lambda I| = 0\\quad\\text{When}\\;I\\;\\text{is idenitity matrix}\\;\\mathbb R^{n*n} $$"
   ]
  },
  {
   "cell_type": "markdown",
   "metadata": {},
   "source": [
    "$\\qquad$For a square matrix the eigen valus are either real value or complex conjugate. If A is symmetric, then all eigen value are real<br>\n",
    "$$z=a+ib=a-ib$$"
   ]
  },
  {
   "cell_type": "markdown",
   "metadata": {},
   "source": [
    "Ex. $ A = \\begin{bmatrix}\n",
    "1 & 2 \\\\\n",
    "2 & 1 \\\\\n",
    "\\end{bmatrix} $"
   ]
  },
  {
   "cell_type": "markdown",
   "metadata": {},
   "source": [
    "characteristic polynomial "
   ]
  },
  {
   "cell_type": "markdown",
   "metadata": {},
   "source": [
    "$ | A - \\lambda I | $ = $ \\left| \\begin{bmatrix}\n",
    "1 & 2 \\\\\n",
    "2 & 1 \\\\\n",
    "\\end{bmatrix} - \\lambda  \\begin{bmatrix}\n",
    "1 & 0 \\\\\n",
    "0 & 1 \\\\\n",
    "\\end{bmatrix} \\right| = 0 $"
   ]
  },
  {
   "cell_type": "markdown",
   "metadata": {},
   "source": [
    "$ \\begin{bmatrix} \n",
    "1-\\lambda & 2 \\\\\n",
    "2 & 1-\\lambda \\\\\n",
    "\\end{bmatrix} $ $ = (1-\\lambda)(1-\\lambda) - 4 = \\lambda^2-2\\lambda+1-4 = 0\\;\\rightarrow\\;\\lambda^2-2\\lambda-3=0\\;\\rightarrow\\;(\\lambda-3)(\\lambda+1) = 0 $"
   ]
  },
  {
   "cell_type": "markdown",
   "metadata": {},
   "source": [
    "eigen value: $\\;\\lambda_1 = 3,\\;\\lambda_2 = -1 $<br>\n",
    "The marix A is symmetric $\\;\\rightarrow\\;A = A^T $"
   ]
  },
  {
   "cell_type": "markdown",
   "metadata": {},
   "source": [
    "If $\\lambda$ is an eigen value of $ A  \\in  \\mathbb R^{n*n}\\;$  then the nonzero vector $\\overline{x}$ satisfying $ A\\overline{x} = \\lambda \\overline{x} $ are the eigen vector of A<br>\n",
    "$ A\\overline{x} - \\lambda \\overline{x} = 0$<br>\n",
    "$(A - \\lambda I)\\overline{x} = 0 $"
   ]
  },
  {
   "cell_type": "markdown",
   "metadata": {},
   "source": [
    "Ex. a) $ A = \\begin{bmatrix}\n",
    "1 & 2 \\\\\n",
    "3 & 0 \\\\\n",
    "\\end{bmatrix} $"
   ]
  },
  {
   "cell_type": "markdown",
   "metadata": {},
   "source": [
    "eigen value: $ det(A - \\lambda I) = 0 $"
   ]
  },
  {
   "cell_type": "markdown",
   "metadata": {},
   "source": [
    "$ \\begin{bmatrix} \n",
    "1-\\lambda & 2 \\\\\n",
    "3 & 0-\\lambda \\\\\n",
    "\\end{bmatrix} = 0$ <br>\n",
    "$(1-\\lambda)(-\\lambda)-6 = 0$<br>\n",
    "$\\lambda^2-\\lambda-6 = 0$<br>\n",
    "$(\\lambda-3(\\lambda+2) = 0$<br>\n",
    "$\\lambda_1 =3,\\lambda_2=-2 $"
   ]
  },
  {
   "cell_type": "markdown",
   "metadata": {},
   "source": [
    "eigen vector of $ \\lambda_1$ = 3 \n",
    "\n",
    "$(A - \\lambda I) \\overline{x}$ = 0 \n",
    "\n",
    "$\\begin{bmatrix} 1-\\lambda_1 & 2 \\\\ 3 & -\\lambda_1 \\end{bmatrix}\n",
    "    \\begin{bmatrix} x_1 \\\\ x_2 \\end{bmatrix}  =\n",
    "    \\begin{bmatrix} 0 \\\\ 0 \\end{bmatrix} $\n",
    "\n",
    "$\\begin{bmatrix} 1-3 & 2 \\\\ 3 & -3 \\end{bmatrix}\n",
    "    \\begin{bmatrix} x_1 \\\\ x_2 \\end{bmatrix}  =\n",
    "    \\begin{bmatrix} 0 \\\\ 0 \\end{bmatrix}$\n",
    "\n",
    "$\\begin{bmatrix} -2 & 2 \\\\ 3 & -3 \\end{bmatrix}\n",
    "    \\begin{bmatrix} x_1 \\\\ x_2 \\end{bmatrix}  =\n",
    "    \\begin{bmatrix} 0 \\\\ 0 \\end{bmatrix} $\n",
    "\n",
    "$r_1 = r_2 $\n",
    "\n",
    "$-x_1 + x_2 = 0\\;\\rightarrow\\;x_2 = x_1 $"
   ]
  },
  {
   "cell_type": "markdown",
   "metadata": {},
   "source": [
    "Let $ x_1 = 1 , $ then $ x_2 = 1 $"
   ]
  },
  {
   "cell_type": "markdown",
   "metadata": {},
   "source": [
    "eigen vector for $ \\lambda_1 = 3 $ is $ \\overline{x} = \\begin{bmatrix}\n",
    "x_1 \\\\\n",
    "x_2 \\\\\n",
    "\\end{bmatrix} = \\begin{bmatrix}\n",
    "1 \\\\\n",
    "1 \\\\\n",
    "\\end{bmatrix} $"
   ]
  },
  {
   "cell_type": "markdown",
   "metadata": {},
   "source": [
    "eigen vector of $ \\lambda_2 = -2 $\n",
    "\n",
    "$(A - \\lambda I)\\overline{x} = 0 $\n",
    "\n",
    "$\\begin{bmatrix} 1-\\lambda_2 & 2 \\\\ 3 & -\\lambda_2 \\end{bmatrix}\n",
    "    \\begin{bmatrix} x_1 \\\\ x_2 \\end{bmatrix}  =\n",
    "    \\begin{bmatrix} 0 \\\\ 0 \\end{bmatrix}$ \n",
    "\n",
    "$\\begin{bmatrix} 1+2 & 2 \\\\ 3 & 2 \\end{bmatrix}\n",
    "    \\begin{bmatrix} x_1 \\\\ x_2 \\end{bmatrix}  =\n",
    "    \\begin{bmatrix} 0 \\\\ 0 \\end{bmatrix} $\n",
    "\n",
    "$\\begin{bmatrix} 3 & 2 \\\\ 3 & 2 \\end{bmatrix}\n",
    "    \\begin{bmatrix} x_1 \\\\ x_2 \\end{bmatrix}  =\n",
    "    \\begin{bmatrix} 0 \\\\ 0 \\end{bmatrix}$\n",
    "\n",
    "$r_1 = r_2$\n",
    "\n",
    "$3x_1 + 2x_2 = 0 $\n",
    "\n",
    "$x_1 = (\\frac{-2}{3})x_2 $ "
   ]
  },
  {
   "cell_type": "markdown",
   "metadata": {},
   "source": [
    "Let $ x_2 = 1 , $ then $ x_1 = \\frac{-2}{3} $"
   ]
  },
  {
   "cell_type": "markdown",
   "metadata": {},
   "source": [
    "eigen vector for $ \\lambda_2 = -2 $ is $ \\overline{x} = \\begin{bmatrix}\n",
    "x_1 \\\\\n",
    "x_2 \\\\\n",
    "\\end{bmatrix} =  \\begin{bmatrix}\n",
    "\\frac{-2}{3} \\\\\n",
    "1 \\\\\n",
    "\\end{bmatrix} $"
   ]
  },
  {
   "cell_type": "markdown",
   "metadata": {},
   "source": [
    "For $ A \\in  \\mathbb R^{2*2} $ with real eigen values"
   ]
  },
  {
   "cell_type": "markdown",
   "metadata": {},
   "source": [
    "$ A = \\begin{bmatrix}\n",
    "a_{11} & a_{12} \\\\\n",
    "a_{21} & a_{22} \\\\\n",
    "\\end{bmatrix} $"
   ]
  },
  {
   "cell_type": "markdown",
   "metadata": {},
   "source": [
    "and eigen values $ \\lambda_1,\\lambda_2 $ are real "
   ]
  },
  {
   "cell_type": "markdown",
   "metadata": {},
   "source": [
    "The characteristic polynomial"
   ]
  },
  {
   "cell_type": "markdown",
   "metadata": {},
   "source": [
    "$ |A - \\lambda I| = \\begin{bmatrix} a_{11}-\\lambda & a_{12} \\\\ a_{21} & a_{22}-\\lambda \\end{bmatrix} $\n",
    "\n",
    "$= (a_{11}-\\lambda)(a_{22-\\lambda})-a_{21}-a_{12} $\n",
    "\n",
    "$= \\lambda^2-(a_{11}+a_{12})\\lambda+(a_{11}a_{22}-a_{12}a_{21}) $\n",
    "\n",
    "$= \\lambda^2-Tr(A)+det(A) $\n",
    "\n",
    "$= \\lambda^2-(\\lambda_1+\\lambda_2)+(\\lambda_1\\lambda_2) $\n",
    "\n",
    "$A \\in  \\mathbb R^{2*2} $\n",
    "\n",
    "$D = \\begin{bmatrix} \\lambda_1 & 0 \\\\ 0 & \\lambda_2 \\end{bmatrix} $"
   ]
  },
  {
   "cell_type": "markdown",
   "metadata": {},
   "source": [
    "If $ A  \\in\\mathbb R^{2*2} $ then real eigen values $\\;\\lambda_1,\\lambda_2\\;$ will be as follwed"
   ]
  },
  {
   "cell_type": "markdown",
   "metadata": {},
   "source": [
    "a) $ \\lambda_1,\\lambda_2 > 0\\;$ iff $\\;|A| > 0\\;$ and $\\;Tr(A) > 0 $"
   ]
  },
  {
   "cell_type": "markdown",
   "metadata": {},
   "source": [
    "b) $ \\lambda_1,\\lambda_2 < 0 \\;$ iff $\\; |A| > 0 \\;$ and $\\; Tr(A) < 0 $"
   ]
  },
  {
   "cell_type": "markdown",
   "metadata": {},
   "source": [
    "c) $ \\lambda_1 < 0 , \\lambda_2 > 0 \\;$ or $ \\;\\lambda_1 > 0 , \\lambda_2 < 0  \\;$ iff $\\; |A| < 0 $"
   ]
  },
  {
   "cell_type": "markdown",
   "metadata": {},
   "source": [
    "## 13. Diagonal matrix"
   ]
  },
  {
   "cell_type": "markdown",
   "metadata": {},
   "source": [
    "$\\qquad$If $ A  \\in  \\mathbb R^{n*n} $ and $ \\lambda_1,\\lambda_2,\\dots,\\lambda_n $ are eigen values of A and let $ v_1,v_2,\\dots,v_n $ are eigen vectors which is associate with eigen vectors $ \\lambda_1,\\lambda_2,\\dots,\\lambda_n $ respectively."
   ]
  },
  {
   "cell_type": "markdown",
   "metadata": {},
   "source": [
    "$\\qquad$Let $\\;I = [ v_1 v_2 \\dots v_n ] $ is a matrix of linearly independent eigen vectors , then $\\;T^{-1}AT = D $"
   ]
  },
  {
   "cell_type": "markdown",
   "metadata": {},
   "source": [
    "$$ D=\\begin{bmatrix}\n",
    "\\lambda_1 & 0 & \\dots & 0 \\\\\n",
    "0 & \\lambda_2 & \\dots & 0 \\\\\n",
    "0 & 0 & \\dots & \\lambda_3 \\\\\n",
    "\\end{bmatrix} =\n",
    "\\lambda^2-Tr(\\lambda_1+\\lambda_2)+(\\lambda_1\\lambda_2) $$"
   ]
  },
  {
   "cell_type": "markdown",
   "metadata": {},
   "source": [
    "$Ex.\\;\\;A = \\begin{bmatrix} 1 & 2 \\\\ 3 & 0 \\end{bmatrix}$\n",
    "\n",
    "$D = \\begin{bmatrix} \\lambda_1 & 0 \\\\ 0 & \\lambda_2 \\end{bmatrix} $"
   ]
  },
  {
   "cell_type": "markdown",
   "metadata": {},
   "source": [
    "eigen values : $ |A - \\lambda I| = 0 $\n",
    "\n",
    "$\\begin{bmatrix}\n",
    "1-\\lambda & 2 \\\\\n",
    "3 & 0-\\lambda \\\\\n",
    "\\end{bmatrix}\\;\\rightarrow\\;\n",
    "\\lambda_1 = 3,\\;\\lambda_2 = -2 $"
   ]
  },
  {
   "cell_type": "markdown",
   "metadata": {},
   "source": [
    "eigen vector for $ \\lambda_1 = 3 $ is $ x^{(1)} = \\begin{bmatrix}\n",
    "1 \\\\\n",
    "1 \\\\\n",
    "\\end{bmatrix} $"
   ]
  },
  {
   "cell_type": "markdown",
   "metadata": {},
   "source": [
    "eigen vector for $ \\lambda_2 = -2 $ is $ x^{(2)} = \\begin{bmatrix}\n",
    "\\frac{-2}{3} \\\\\n",
    "1 \\\\\n",
    "\\end{bmatrix} $"
   ]
  },
  {
   "cell_type": "markdown",
   "metadata": {},
   "source": [
    "Let $\\;T = \\begin{bmatrix} x^{(1)} & x^{(2)} \\end{bmatrix} =\n",
    "        \\begin{bmatrix} 1 & \\frac{-2}{3} \\\\ 1 & 1  \\end{bmatrix} $"
   ]
  },
  {
   "cell_type": "markdown",
   "metadata": {},
   "source": [
    "and det $ T =\\begin{bmatrix} 1 & \\frac{-2}{3} \\\\ 1 & 1  \\end{bmatrix} = \\frac{1+2}{3} = \\frac{5}{3} $\n",
    "\n",
    "$T^{-1} = \\frac{1}{detT} \\begin{bmatrix} 1 & \\frac{-2}{3} \\\\ 1 & 1  \\end{bmatrix}$ \n",
    "\n",
    "$= \\frac{3}{5}\\begin{bmatrix} 1 & \\frac{-2}{3} \\\\ 1 & 1  \\end{bmatrix} $"
   ]
  },
  {
   "cell_type": "markdown",
   "metadata": {},
   "source": [
    "So $\\;\\;T^{-1}AT = \\frac{3}{5}\\begin{bmatrix} 1 & \\frac{2}{3} \\\\ -1 & 1  \\end{bmatrix}\n",
    "    \\begin{bmatrix} 1 & 2 \\\\ 3 & 0 \\end{bmatrix}\n",
    "    \\begin{bmatrix} 1 & \\frac{-2}{3} \\\\ 1 & 1  \\end{bmatrix}$ \n",
    "\n",
    "$= \\frac{3}{5}\\begin{bmatrix} 3 & 2 \\\\ 2 & -3  \\end{bmatrix}\n",
    "    \\begin{bmatrix} 1 & \\frac{-2}{3} \\\\ 1 & 1  \\end{bmatrix}$\n",
    "\n",
    "$= \\frac{3}{5} \\begin{bmatrix} 5 & 0 \\\\ 0 & \\frac{-10}{3}  \\end{bmatrix}$\n",
    "\n",
    "$= \\begin{bmatrix} 3 & 0 \\\\ 0 & -2  \\end{bmatrix} $\n",
    "\n",
    "$= \\begin{bmatrix} {\\lambda}_1 & 0 \\\\ 0 & {\\lambda}_2  \\end{bmatrix} $"
   ]
  },
  {
   "cell_type": "markdown",
   "metadata": {},
   "source": [
    "## 14. Quadratic from of $ \\large f(\\overline{x}),\\;\\overline{x} \\in  \\mathbb R^{n} $"
   ]
  },
  {
   "cell_type": "markdown",
   "metadata": {},
   "source": [
    "$\\qquad f(\\overline{x}) = \\sum_{i=q}\\sum_{j=1}a_{ij}x_ix_j\\;$ an be rewritten as the martix form $\\;f(x) = x^TAx\\;$ such that A is a square matrix and be a symmetric matrix, $\\;x_ix_j = x_jx_i $ and $ a_{ij}x_ix_j + a_{ij}x_jx_i = (a_{ij}+a_{ji})x_ix_j $"
   ]
  },
  {
   "cell_type": "markdown",
   "metadata": {},
   "source": [
    "Ex. $ Q(\\overline{x}) = 3x_1^2 + 6x_1x_3 + x_2^2 - 4x_2x_3 + 8x_3^2 , \\overline{x} \\in R^3 $\n",
    "\n",
    "$= \\begin{bmatrix} x_1 & x_2 & x_3 \\end{bmatrix}\n",
    "    \\begin{bmatrix} 3 & 0  & 3 \\\\ 0 & -1  & -2 \\\\ 3 & -2  & 8 \\end{bmatrix}\n",
    "    \\begin{bmatrix} x_1 \\\\ x_2 \\\\ x_3 \\end{bmatrix} $\n",
    "\n",
    "$= \\begin{bmatrix} 3x_1+3x_3 x_2-2x_3 3x_1-2x_2+8x_3 \\end{bmatrix}\n",
    "    \\begin{bmatrix} x_1 \\\\ x_2 \\\\ x_3 \\end{bmatrix}$\n",
    "\n",
    "$= 3x_1^2 +3x_3x_1 + x_2^2 -2x_3x_2 +3x_1x_3 -2x_2x_3 + 8x_3^2 $\n",
    "\n",
    "$= 3x_1^2 + 6x_3x_1 -4x_2x_1 + x_2^2 +8x_3^2 $ "
   ]
  },
  {
   "cell_type": "markdown",
   "metadata": {},
   "source": [
    "<br>\n",
    "$\\qquad$If A is not symmetric , we can change to be symmetric by $ A_o = \\frac{1}{2}(A+A^T) $<br>\n",
    "Ex. $ A = \\begin{bmatrix}\n",
    "1 & 0 \\\\\n",
    "-4 & 1 \\\\\n",
    "\\end{bmatrix} $ is not symmetric"
   ]
  },
  {
   "cell_type": "markdown",
   "metadata": {},
   "source": [
    "$ A_o = \\frac{1}{2}(A+A^T) = \\frac{1}{2}\\begin{bmatrix} 1 & 0 \\\\ -4 & 1 \\end{bmatrix} +\n",
    "    \\begin{bmatrix} 1 & -4 \\\\ 0 & 1 \\end{bmatrix} $\n",
    "\n",
    "$= \\frac{1}{2} \\begin{bmatrix} 2 & -4 \\\\ -4 & 2 \\end{bmatrix} $\n",
    "\n",
    "$=  \\begin{bmatrix} 1 & -2 \\\\ -2 & 1 \\end{bmatrix} $"
   ]
  },
  {
   "cell_type": "markdown",
   "metadata": {},
   "source": [
    "## 15. Definitemess of matrix A\n",
    "\n",
    "Let $A \\in \\mathbb R^{n*n}$ be symmetric then A is\n",
    "1. Positive definite iff $X^{T}AX > 0$ , $\\forall\\overline{x}\\in \\mathbb R^{n}$ , $\\overline{x} \\neq 0$\n",
    "2. Positive semidefinite iff $X^{T}AX \\ge 0$ , $\\forall\\overline{x}\\in \\mathbb R^{n}$\n",
    "3. Negative definite iff $X^{T}AX < 0$ , $\\forall\\overline{x}\\in \\mathbb R^{n}$ , $\\overline{x} \\neq 0$\n",
    "4. Negative semidefinite iff $X^{T}AX \\le 0$ , $\\forall\\overline{x}\\in \\mathbb R^{n}$\n",
    "5. Indefinite iff $\\exists$, $\\;\\overline{y}\\in \\mathbb R^{n}$ such that $X^{T}AX > 0$ and $Y^{T}AY < 0$"
   ]
  },
  {
   "cell_type": "markdown",
   "metadata": {},
   "source": [
    "### Test the definiteness for small matrices\n",
    "\n",
    "#### 1. Leading principle minor of $A \\in \\mathbb R^{n*n}$\n",
    "    \n",
    "Let $\\Delta_r$ be the leading principle minor of order $r_1,\\;\\Delta_r$ is the determinant of the first r rows and columns of $|A|$\n",
    "    \n",
    "   Let A = $\\left[a_{ij}\\right]_{n*n}$ , $A \\in \\mathbb R^{n*n}$"
   ]
  },
  {
   "cell_type": "markdown",
   "metadata": {},
   "source": [
    "$$|A| = \\left|\\begin{matrix} a_{11} & a_{12} & a_{13} & \\dots & a_{1n} \\\\ a_{21} & a_{22} & a_{23} & \\dots & a_{2n} \\\\ & & \\vdots \\\\ a_{n1} & a_{n2} & a_{n3} & \\dots & a_{nn} \\end{matrix}\\right|$$"
   ]
  },
  {
   "cell_type": "markdown",
   "metadata": {},
   "source": [
    "#### the leading principle minor\n",
    "\n",
    "$r = 1$  , $\\Delta_1 = |a_{11}|$\n",
    "\n",
    "\n",
    "$r = 2$  ,  $\\Delta_2 = \\left|\\begin{matrix} a_{11} & a_{12} \\\\ a_{21} & a_{22} \\end{matrix}\\right|$\n",
    "\n",
    "\n",
    "$r = 3$  ,  $\\Delta_3 = \\left|\\begin{matrix} a_{11} & a_{12} & a_{13} \\\\ a_{21} & a_{22} & a_{23} \\\\ a_{31} & a_{32} & a_{33} \\end{matrix}\\right|$"
   ]
  },
  {
   "cell_type": "markdown",
   "metadata": {},
   "source": [
    "### The characterization of definiteness in terms of the leading principle minor\n",
    "\n",
    "1. A is positive definite iff $\\Delta_i > 0$ , $\\forall_i = 1,2,...,n$\n",
    "2. A is negative definite iff $\\Delta_i$ has sign $(-1)^{i}$ for $i = 1,2,...,n$\n",
    "3. A is indefinite iff $n \\ge 2$ and $\\Delta_i < 0$ , $\\forall_i = 1,2,...,n$"
   ]
  },
  {
   "cell_type": "markdown",
   "metadata": {},
   "source": [
    "EX. $\\;\\;A = \\begin{bmatrix} 3 & -3 \\\\ -3 & 5 \\end{bmatrix}$\n",
    "\n",
    "$sol^n$\n",
    "\n",
    "The leading principle minor :\n",
    "    \n",
    "$\\Delta_1 = |3| = 3 > 0 $\n",
    "\n",
    "$\\Delta_2 = \\left|\\begin{matrix} 3 & -3 \\\\ -3 & 5 \\end{matrix}\\right| = 15-9 = 6 > 0$\n",
    "\n",
    "$\\therefore$  A is positive definite"
   ]
  },
  {
   "cell_type": "markdown",
   "metadata": {},
   "source": [
    "<br>\n",
    "EX. $\\;\\;A = \\begin{bmatrix} -3 & 3 \\\\ 3 & -5 \\end{bmatrix}$\n",
    "\n",
    "$sol^n$\n",
    "    \n",
    "The leading principle minor :\n",
    "\n",
    "$\\Delta_1 = |-3| = -3 < 0 \\Rightarrow -$\n",
    "    \n",
    "$\\Delta_2 = |A| = 15-9 = 6 > 0 \\Rightarrow +$\n",
    "    \n",
    "$\\therefore$ A is negative definite"
   ]
  },
  {
   "cell_type": "markdown",
   "metadata": {},
   "source": [
    "<br>\n",
    "EX. $\\;\\;A = \\begin{bmatrix} 4 & 0 & 0 \\\\ 0 & 2 & -3 \\\\ 0 & -3 & 5 \\end{bmatrix},\\;A \\in \\mathbb R^{3*3}$\n",
    "\n",
    "$sol^n$\n",
    "    \n",
    "The leading principle minor :\n",
    "\n",
    "$\\Delta_1 = |4| = 4 > 0 $\n",
    "    \n",
    "$\\Delta_2 = \\left|\\begin{matrix} 4 & 0 \\\\ 0 & 2 \\end{matrix}\\right| = 8 > 0 $\n",
    "\n",
    "$\\Delta_3 = \\left|\\begin{matrix} 4 & 0 & 0 \\\\ 0 & 2 & -3 \\\\ 0 & -3 & 5 \\end{matrix}\\right| = 40 - 36 = 4 > 0 $\n",
    "    \n",
    "$\\therefore$ A is positive definite"
   ]
  },
  {
   "cell_type": "markdown",
   "metadata": {},
   "source": [
    "<br>\n",
    "EX.\n",
    "    \n",
    "Determine the definiteness of the quadratic function\n",
    "    \n",
    "a.) $\\;\\;Q(\\overline{x}) = 3x_{1}^{2} + 6x_{1}x_{3} + x_{2}^{2} - 4x_{2}x_{3} + 8x_{3}^{2} $\n",
    "\n",
    "$sol^n$\n",
    "    \n",
    "$Q(\\overline{x})$ = $X^{T}AX$ , $\\overline{x} \\in R^{3}$ , $\\overline{x} = \\begin{bmatrix} x_{1} \\\\ x_{2} \\\\ x_{3} \\end{bmatrix}$\n",
    "    \n",
    "= $\\begin{bmatrix} x_{1} & x_{2} & x_{3} \\end{bmatrix}$ $\\begin{bmatrix} A \\in R^{3*3} \\end{bmatrix}$ $\\begin{bmatrix} x_{1} \\\\ x_{2} \\\\ x_{3} \\end{bmatrix}$\n",
    "    \n",
    "= $\\begin{bmatrix} x_{1} & x_{2} & x_{3} \\end{bmatrix}$ $\\begin{bmatrix} 3 & 0 & 3 \\\\ 0 & 1 & -2 \\\\ 3 & -2 & 8 \\end{bmatrix}$ $\\begin{bmatrix} x_{1} \\\\ x_{2} \\\\ x_{3} \\end{bmatrix}$\n",
    "    \n",
    "\n",
    "$\\therefore$ $|A| = \\left|\\begin{matrix} 3 & 0 & 3 \\\\ 0 & 1 & -2 \\\\ 3 & -2 & 8 \\end{matrix}\\right|$"
   ]
  },
  {
   "cell_type": "markdown",
   "metadata": {},
   "source": [
    "#### Leading principle minor :\n",
    "\n",
    "\n",
    "$\\Delta_1 = |3| = 3$\n",
    "\n",
    "$\\Delta_2 = \\left|\\begin{matrix} 3 & 0 \\\\ 0 & 1 \\end{matrix}\\right| = 3$\n",
    "\n",
    "$\\Delta_3 = |A| = \\left|\\begin{matrix} 3 & 0 & 3 \\\\ 0 & 1 &-2 \\\\ 3 & -2 & 8 \\end{matrix}\\right| = 24-9-12 = 3 > 0 $\n",
    "\n",
    "So A is positive definite $\\Rightarrow\\;Q(\\overline{x})$ is positive definite"
   ]
  },
  {
   "cell_type": "markdown",
   "metadata": {},
   "source": [
    "b.) $\\;\\;Q(\\overline{x}) = -x_{1}^{2} + 6x_{1}x_{2} - 9x_{2}^{2} - 2x_{3}^{2}  ,\\;\\overline{x} \\in \\mathbb R^{3} $\n",
    "\n",
    "$sol^{n}$\n",
    "\n",
    "$Q(\\overline{x})$ = $X^{T}AX$\n",
    "\n",
    "We obtain $A = \\begin{bmatrix} -1 & 3 & 0 \\\\ 3 & -9 & 0 \\\\ 0 & 0 & -2 \\end{bmatrix}$ , $A \\in \\mathbb R^{3}$"
   ]
  },
  {
   "cell_type": "markdown",
   "metadata": {},
   "source": [
    "#### Leading principle minor \n",
    "\n",
    "$\\Delta_1$ = $|-1| = -1 $\n",
    "\n",
    "$\\Delta_2$ = $\\left|\\begin{matrix} -1 & 3 \\\\ 3 & -9 \\end{matrix}\\right| = 9-9 = 0 $\n",
    "\n",
    "$\\Delta_3$ = $\\left|\\begin{matrix} -1 & 3 & 0 \\\\ 3 & -9 & 0 \\\\ 0 & 0 & -2 \\end{matrix}\\right| = -18+18 = 0 $\n",
    "\n",
    "$\\therefore$ Matrix A is not characterize by leading principle minor"
   ]
  },
  {
   "cell_type": "markdown",
   "metadata": {},
   "source": [
    "### Characterization of definiteness with eigen value of A\n",
    "\n",
    "$\\qquad$Let Q($\\overline{x}$) = $-X^{T}AX$ be x quadratic function when A is symmetric and $\\lambda_1$ , $\\lambda_2$ , ... , $\\lambda_n$ are real eigen values , then\n",
    "\n",
    "a.) Q($\\overline{x}$) is positive definite iff $\\lambda_i > 0$ , $\\forall_i = 1,2,...,n$\n",
    "\n",
    "b.) Q($\\overline{x}$) is positive semidefinite iff $\\lambda_i \\ge 0$ , for $i = 1,2,...,n$\n",
    "\n",
    "c.) Q($\\overline{x}$) is negative definite iff $\\lambda_i < 0$ , $\\forall_i$\n",
    "\n",
    "d.) Q($\\overline{x}$) is negative semidefinite iff $\\lambda_i \\le 0$ , $\\forall_i$\n",
    "\n",
    "e.) Q($\\overline{x}$) is indefinite iff $\\lambda_i > 0$ and $\\lambda_j < 0$ or $\\lambda_i < 0$ and $\\lambda_j > 0$"
   ]
  },
  {
   "cell_type": "markdown",
   "metadata": {},
   "source": [
    "<br>\n",
    "EX.\n",
    "\n",
    "Find the definiteness of A : $A = \\begin{bmatrix} 2 & 3 \\\\ 3 & 2 \\end{bmatrix}$ , $A \\in \\mathbb R^{2*2}$\n",
    "    \n",
    "Leading principle minor : x\n",
    "    \n",
    "$\\Delta_1$ = $|2| = 2 > 0$\n",
    "    \n",
    "$\\Delta_2$ = $\\left|\\begin{matrix} 2 & 3 \\\\ 3 & 2 \\end{matrix}\\right| = 4-9 = -5 < 0$\n",
    "    \n",
    "Eigen values of A :\n",
    "    \n",
    "$$|A-\\lambda I| = 0 $$<br>\n",
    "    \n",
    "$$\\left|\\begin{matrix} 2-\\lambda & 3 \\\\ 3 & 2-\\lambda \\end{matrix}\\right| = 0 $$<br>\n",
    "    \n",
    "$$(2-\\lambda)^{2} -9 = 0 $$<br>\n",
    "    \n",
    "$$\\lambda^{2} - 4\\lambda + 4 - 9 = 0 $$<br>\n",
    "    \n",
    "$$\\lambda^{2} - 4\\lambda - 5 = 0 $$<br>\n",
    "    \n",
    "$$(\\lambda-5)(\\lambda+1) = 0 $$<br>\n",
    "    \n",
    "$$\\lambda_1 = 5,\\;\\lambda_2 = -1$$<br>\n",
    "    \n",
    "$\\qquad\\qquad\\therefore\\;\\;$ $A$ is indefinite<br><br>"
   ]
  },
  {
   "cell_type": "markdown",
   "metadata": {},
   "source": [
    "### Consider $\\large A \\in \\mathbb R^{2*2}$\n",
    "\n",
    "$\\qquad A = [a_{ij}]$ , $A \\in \\mathbb R^{2*2}$ and $A$ is symmetric then $tr(A) = a_{11} + a_{22} = \\lambda_1 + \\lambda_2 $ \n",
    "    \n",
    "and det $A$ = $a_{11}a_{22} - a_{21}a_{12} = \\lambda_1\\lambda_2 $\n",
    "    \n",
    "If det $A > 0$ , then $\\lambda_1 , \\lambda_2 >0 $ or $\\lambda_1 , \\lambda_2 < 0 $ the implies that $A$ maybe positive definite or negative definite, so\n",
    "    \n",
    "* a.) if det $A > 0$ and $ tr(A) >0$ , then $A$ is positive definite $(\\lambda_1 , \\lambda_2 > 0)$\n",
    "\n",
    "* b.) if det $A > 0$ and $ tr(A) < 0$ , then $A$ is negative definite $(\\lambda_1 , \\lambda_2 > 0)$"
   ]
  },
  {
   "cell_type": "markdown",
   "metadata": {},
   "source": [
    "#### For Diagonal Matrix\n",
    "\n",
    "\n",
    "$$ 0 = \\begin{bmatrix} \\alpha_1 & 0 & 0 & \\dots & 0 \\\\ 0 & \\alpha_2 & 0 & \\dots & 0 \\\\ \\vdots & \\vdots & \\vdots & \\ddots \\\\ 0 & 0 & 0 & \\dots & \\alpha_n \\end{bmatrix} ,\\;D \\in \\mathbb R^{n*n} $$\n",
    "\n",
    "has eigen value equal to its diagonal elements $\\lambda_1 = \\alpha_1 , \\lambda_2 = \\alpha_2 , \\dots , \\lambda_n = \\alpha_n $ then $D$ is\n",
    "\n",
    "a.) positive definite iff all $\\alpha_i > 0$ , $i = 1 ,2 , ... , n$\n",
    "\n",
    "b.) positive semidefinite iff all $\\alpha_i \\ge 0$ , $i = 1 ,2 , ... , n$\n",
    "\n",
    "c.) negative definite iff all $\\alpha_i < 0$ , $i = 1 ,2 , ... , n$\n",
    "\n",
    "d.) negative semidefinite iff all $\\alpha_i \\le 0$ , $i = 1 ,2 , ... , n$\n",
    "\n",
    "e.) indefinite iff $\\exists \\alpha_i > 0$ and $\\alpha_j < 0$"
   ]
  },
  {
   "cell_type": "markdown",
   "metadata": {},
   "source": [
    "$Remark:\\;A$ symmetric matrix $A$\n",
    "    \n",
    "*  $A$ is negative definite iff $-A$ is poitive definite\n",
    "    \n",
    "* $A$ is negative semidefinite iff $-A$ is poitive semidefinite\n",
    "    \n",
    "*  $\\forall$ is positive definite $(\\lambda_i > 0)$ , so $A$ is poitive semidefinite $(\\lambda_i \\ge 0)$<br>"
   ]
  },
  {
   "cell_type": "markdown",
   "metadata": {},
   "source": [
    "### Functions of several variables $\\large f : \\mathbb R^n \\Rightarrow \\mathbb R$\n",
    "    \n",
    "$\\qquad$Let $f$ be real value function of $n$ variables which is denoted by $f : \\mathbb R^n \\to \\mathbb R$ , $f$ is smooth function and $f \\in C^k(\\mathbb R^n)$\n",
    "    \n",
    "The notation $f \\in C^k(\\mathbb R^n)$ denotes $f$ has all partial derivatives of order $1 , 2 , ... , k$ are continuous on $\\mathbb R^n$"
   ]
  },
  {
   "cell_type": "markdown",
   "metadata": {},
   "source": [
    "* $Gradient\\;of\\;f(\\overline{x})$ : $\\nabla f(\\overline{x})$ , ($1^{st} order$)\n",
    "\n",
    "$$ g(\\overline{x}) = \\nabla f(\\overline{x}) = \\begin{bmatrix} \\frac{\\partial f}{\\partial x_1} \\\\ \\frac{\\partial f}{\\partial x_2} \\\\ \\vdots \\\\ \\frac{\\partial f}{\\partial x_n} \\end{bmatrix}\\;\\;\\text{and}\\;\\;\\nabla =\n",
    "    \\begin{bmatrix} \\frac{\\partial}{\\partial x_1} \\\\ \\frac{\\partial}{\\partial x_2} \\\\ \\vdots \\\\ \\frac{\\partial}{\\partial x_n} \\end{bmatrix} = \\text{operator} $$"
   ]
  },
  {
   "cell_type": "markdown",
   "metadata": {},
   "source": [
    "* $Hessian\\;matrix:\\;\\nabla^2 f$ , ($2^{nd} order$)\n",
    "\n",
    "If $f \\in C^2(\\mathbb R^n)$ , the Hessian is the continuous matrix valued function $(\\nabla^2 f)$ consisting of second partial derivatives of with respect to the variable $x$"
   ]
  },
  {
   "cell_type": "markdown",
   "metadata": {},
   "source": [
    "$$ G(\\overline{x}) = \\nabla^2 f(\\overline{x}) = \\begin{bmatrix} \\frac{\\partial^2 f}{\\partial x_1^2} & \\frac{\\partial^2 f}{\\partial x_1\\partial x_2} & \\dots & \\frac{\\partial^2 f}{\\partial x_1\\partial x_n} \\\\ \\frac{\\partial^2 f}{\\partial x_2\\partial x_1} & \\frac{\\partial^2 f}{\\partial x_2^2} & \\dots & \\frac{\\partial^2 f}{\\partial x_2\\partial x_n} \\\\ && \\vdots \\\\ \\frac{\\partial^2 f}{\\partial x_n\\partial x_1} & \\frac{\\partial^2 f}{\\partial x_n\\partial x_2} & \\dots & \\frac{\\partial^2 f}{\\partial x_n^2} \\end{bmatrix} = \n",
    "    \\begin{bmatrix} f_{11} & f_{12} & \\dots & f_{1n} \\\\ f_{21} & f_{22} & \\dots & f_{2n} \\\\ && \\vdots \\\\ f_{n1} & f_{n2} & \\dots & f_{nn} \\end{bmatrix}$$\n",
    "\n",
    "* $\\nabla f(\\overline{x}) \\equiv g(\\overline{x})$ is a column vector with $n$ component\n",
    "\n",
    "* $\\nabla^2 f(\\overline{x}) \\equiv G(\\overline{x})$ is an $n$ x $n$ matrix\n",
    "\n",
    "If $f \\in C^2(\\mathbb R^n)$ then the Hessian matrix is symmetric , $G^T(\\overline{x}) = G(\\overline{x})$ , so $G_{ij}(\\overline{x}) = \\frac{\\partial^2 f(\\overline{x})}{\\partial x_i\\partial x_j} = \\frac{\\partial^2 f(\\overline{x})}{\\partial x_j\\partial x_i} = G_{ji}(\\overline{x})$"
   ]
  },
  {
   "cell_type": "markdown",
   "metadata": {},
   "source": [
    "#####  EX.  (Rosenbrock's function)\n",
    "\n",
    "$$ f(\\overline{x}) = 100(x_2 - x_1^2)^2 + (1 - x_1)^2 , \\overline{x} \\in \\mathbb R^2 $$\n",
    "\n",
    "* Gradient of $f$ : $\\nabla f(\\overline{x})$\n",
    "    \n",
    "$$\\nabla f(\\overline{x}) = \\begin{bmatrix} \\frac{\\partial f}{\\partial x_1} \\\\ \\frac{\\partial f}{\\partial x_2} \\end{bmatrix} = \n",
    "    \\begin{bmatrix} 200(x_2 - x_1^2)(-2X_1) - 2(1-x_1) \\\\ 200(x_2 - x_1^2)(1) \\end{bmatrix}$$\n",
    "    \n",
    "$$\\nabla f(\\overline{x}) = \\begin{bmatrix} 400x_1^3 - 400x_1x_2 + 2x_1 - 2 \\\\ 200x_2 - 200x_1^2 \\end{bmatrix}  \\equiv g(\\overline{x}) $$\n",
    "    \n",
    "* Hessian of $f(\\overline{x})$   , $\\overline{x} \\in \\mathbb R^2$\n",
    "\n",
    "$$\\nabla f^2(\\overline{x}) = \\begin{bmatrix} \\frac{\\partial^2 f}{\\partial x_1^2} & \\frac{\\partial^2 f}{\\partial x_1 \\partial x_2} \\\\ \\frac{\\partial^2 f}{\\partial x_2 \\partial x_1} & \\frac{\\partial^2 f}{\\partial x_2^2} \\end{bmatrix} = \n",
    "    \\begin{bmatrix} 1200x_1^2 - 400x_2 + 2 & -400x_1 \\\\ -400x_1 & 200 \\end{bmatrix} \\equiv G(\\overline{x})\\;\\text{is symmetric} $$\n",
    "\n",
    "* Contour of $f(\\overline{x})$ , $\\overline{x} \\in \\mathbb R^n$\n",
    "\n",
    "$\\qquad$If $f : \\mathbb R^n \\Rightarrow \\mathbb R$ , then contour of $f(\\overline{x})$ for a value $K \\in \\mathbb R$ is the set = $\\{x \\in \\mathbb R^n \\mid f(\\overline{x}) = K \\}$\n",
    "\n",
    "* a contour of $f(\\overline{x})$ = $x_1^2 + x_2^2$ is\n",
    "\n",
    "$$ x_1^2 + x_2^2 = K$$\n",
    "\n",
    "$K = 0 , x_1^2 + x_2^2 = 0 \\Rightarrow$ a point (0,0)\n",
    "\n",
    "$K = 1 , x_1^2 + x_2^2 = 1 \\Rightarrow$ circle , a center (0,0) , $r=1$\n",
    "\n",
    "$K = 4 , x_1^2 + x_2^2 = 4 $ , $\\Rightarrow r = 2$ \n",
    "\n",
    "For $n = 2$ , Contour of $f(\\overline{x})$ , $\\overline{x} \\in \\mathbb R^2$ is level curves\n",
    "\n",
    "For $n = 3$ , Contour of $f(\\overline{x})$ , $\\overline{x} \\in \\mathbb R^3$ is level surfaces\n",
    "\n",
    "$$ f(\\overline{x}) = x_1^2 + x_2^2 + x_3^2 , \\overline{x} \\in \\mathbb R^3 $$\n",
    "\n",
    "Contour of $f(\\overline{x})$ , $\\overline{x} \\in R^3$ : $x_1^2 +x_2^2 +x_3^2 = K$ \n",
    "\n",
    "$K = 0 , x_1^2 + x_2^2 + x_3^2 = 0 \\Rightarrow$ a point (0,0,0)\n",
    "\n",
    "$K = 1 , x_1^2 + x_2^2 + x_3^2 = 1 \\Rightarrow$ sphere , a center (0,0,0)\n",
    "\n",
    "$K = 4 , x_1^2 + x_2^2 + x_3^2 = 2 $ , $\\Rightarrow$ sphere , $r =  \\sqrt{2}$"
   ]
  },
  {
   "cell_type": "markdown",
   "metadata": {},
   "source": [
    "$Direction\\;of\\;\\nabla$ of ($\\bar{x}$) = vector\n",
    "\n",
    "$\\quad$The gradient $\\nabla f(\\bar{x})$ at a point $x^*$ is orthogonal to the contour $f(\\bar{x}) = K$ \n",
    "\n",
    "$\\quad$If $\\;\\bar{V} \\in \\mathbb R^n$ is tangential of the contour at $x^*$, then\n",
    "\n",
    "$$ V^{-T} \\nabla f(\\bar{x}) = 0 \\;\\Rightarrow\\; \\bar{V} \\perp \\nabla f(x^*) $$\n",
    "\n",
    "A function $f(\\bar{x})$ increase fastest in the direction of $\\nabla f(\\bar{x})$ and the maximum rate of change = $||\\nabla f||$\n",
    "\n",
    "$f(\\bar{x})$ decrease fastest in the direction $-\\nabla f(\\bar{x})$ and the minimum rate of change = $-||\\nabla f||$<br><br>"
   ]
  },
  {
   "cell_type": "markdown",
   "metadata": {},
   "source": [
    "### Affine function (Linear function)\n",
    "\n",
    "$$ f(\\bar x) = \\nabla f^T \\bar x + f_0  ,  \\nabla f \\equiv g  $$<br>\n",
    "$$ f(\\bar x) = \\bar g^T \\bar x + f_0 $$<br>\n",
    "$\\qquad$when $ \\bar g $ is a constant vector in $ \\mathbb R^n $ and $ f_0 $ is a scalar and $\\;f_0 = f(\\bar 0) , \\nabla f \\equiv \\bar g \\;$ and $ \\;\\nabla^2 f = 0 $"
   ]
  },
  {
   "cell_type": "markdown",
   "metadata": {},
   "source": [
    "EX. $\\quad f(\\bar x) = 2x_1 + 3x_2 + 5 , \\bar x \\in \\mathbb R^2 $\n",
    "\n",
    "$f(\\bar x) = (2x_1 + 3x_2) + 5 $\n",
    "    \n",
    "$ = \\begin{bmatrix} 2 & 3 \\end{bmatrix}\n",
    "    \\begin{bmatrix} x_1 \\\\ x_2 \\end{bmatrix} + 5 $\n",
    "    \n",
    "$ = \\nabla f^T \\bar x + f_0 $\n",
    "    \n",
    "$\\text{when}\\;\\;\\nabla f (\\bar x) =  \\begin{bmatrix} \\frac{\\partial f}{\\partial x_1} \\\\ \\frac{\\partial f}{\\partial x_2} \\end{bmatrix} = \n",
    "    \\begin{bmatrix} 2 \\\\ 3 \\end{bmatrix}\\;\\;\\text{and}\\;\\;f_0 = f(\\bar 0) = 5\\;\\text{at}\\;\\bar x = \n",
    "    \\begin{bmatrix} 0 \\\\ 0 \\end{bmatrix}$"
   ]
  },
  {
   "cell_type": "markdown",
   "metadata": {},
   "source": [
    "## Quadaratic function in  $\\large\\mathbb R^n $\n",
    "\n",
    "$$ f(x) = \\frac{1}{2}x^T G_x + g_0^T \\bar x + f_0 $$\n",
    "\n",
    "when \n",
    "\n",
    "* $G$ is a fixed nxn real matrix\n",
    "\n",
    "* $g$ is a fixed n-dimensional vector\n",
    " \n",
    "* $f_0$ is a scalar \n",
    "    \n",
    "   $\\nabla f(\\bar x) = G(\\bar x) + g_0 $\n",
    "   \n",
    "   $\\nabla^2 f(\\bar x) = G $\n",
    "   \n",
    "   and $\\nabla f(\\bar 0) = g_0 $ "
   ]
  },
  {
   "cell_type": "markdown",
   "metadata": {},
   "source": [
    "EX. $\\quad f(\\bar x) = -2x_1^2 - 3x_2^2 + 4x_1x_2 + 2x_1 + 6x_2 + 10 $\n",
    "    \n",
    "$ = ( -2x_1^2 - 3x_2^2 + 4x_1x_2 ) + \\begin{bmatrix} 2 & 6 \\end{bmatrix}\n",
    "    \\begin{bmatrix} x_1 \\\\ x_2 \\end{bmatrix} + 10  $\n",
    "    \n",
    "$ = \\frac{1}{2}\\begin{bmatrix} x_1 & x_2 \\end{bmatrix}\n",
    "    \\begin{bmatrix} -4 & 4 \\\\ 4 & -6 \\end{bmatrix}\n",
    "    \\begin{bmatrix} x_1 \\\\ x_2 \\end{bmatrix} + \n",
    "    \\begin{bmatrix} 2&6 \\end{bmatrix}\n",
    "    \\begin{bmatrix} x_1 \\\\ x_2 \\end{bmatrix} + 10 $ \n",
    "    \n",
    "$ = \\frac{1}{2}x^{-T} G_x + g_0^T \\bar x + f_0  $\n",
    "    \n",
    "when \n",
    " \n",
    "$\\nabla f (\\bar x) =  \\begin{bmatrix} \\frac{\\partial f}{\\partial x_1} \\\\ \\frac{\\partial f}{\\partial x_2} \\end{bmatrix} = \n",
    "    \\begin{bmatrix} -4x_1 + 4x_2 + 2 \\\\ -6x_2 + 4x_1  + 6 \\end{bmatrix} = g   $\n",
    "   \n",
    "at  $\\begin{bmatrix} x_1 \\\\ x_2 \\end{bmatrix} = \n",
    "        \\begin{bmatrix} 0 \\\\ 0 \\end{bmatrix}  : \\nabla f(\\bar 0) =  \n",
    "        \\begin{bmatrix} 2 \\\\ 6 \\end{bmatrix} = g_0 $ \n",
    "\n",
    "then $\\nabla^2 f(\\bar x) = \\begin{bmatrix} \\frac{\\partial^2 f}{\\partial x_1^2}&\\frac{\\partial^2 f}{\\partial x_1\\partial x_2} \\\\ \\frac{\\partial^2 f}{\\partial x_2\\partial x_1}&\\frac{\\partial^2 f}{\\partial x_2^2} \\end{bmatrix}  = \n",
    "    \\begin{bmatrix} -4&4\\\\4&-6  \\end{bmatrix} = G $\n",
    "\n",
    "$ \\nabla f (\\bar x) = G \\bar x + g_0 $\n",
    "\n",
    "$ \\nabla f  = \\begin{bmatrix} -4x_1 + 4x_2 \\\\ -6x_2 + 4x_1 \\end{bmatrix} + \n",
    "    \\begin{bmatrix} 2 \\\\ 6 \\end{bmatrix} $\n",
    "\n",
    "$ = \\begin{bmatrix} -4&4 \\\\ 4&-6 \\end{bmatrix}\n",
    "    \\begin{bmatrix} x_1 \\\\ x_2 \\end{bmatrix} + \n",
    "    \\begin{bmatrix} 2 \\\\ 6 \\end{bmatrix} $\n",
    "\n",
    "$ = G \\bar x + g_0 $<br><br>"
   ]
  },
  {
   "cell_type": "markdown",
   "metadata": {},
   "source": [
    "## Vector and lines in $\\large\\mathbb R^n$\n",
    "\n",
    "$\\qquad$Lines in $\\mathbb R^n$ is the set of points\n",
    "    \n",
    "$$ x(\\alpha) = \\bar x_0 +\\alpha \\bar d  , \\alpha \\in \\mathbb R $$\n",
    "    \n",
    "passing through the point $\\bar x_0$ and lying in the direction $\\bar d$"
   ]
  },
  {
   "cell_type": "markdown",
   "metadata": {},
   "source": [
    "EX. $\\quad$A line in $\\mathbb R^2$ that passing through $\\bar x_0 = \\begin{bmatrix} 1 \\\\ 2 \\end{bmatrix} $ with the direction $ \\bar d = \\begin{bmatrix} -1 \\\\ 3 \\end{bmatrix} $ , represented by \n",
    "\n",
    "$$ \\bar x(\\alpha) = \\bar x_0 +\\alpha \\bar d $$<br>\n",
    "\n",
    "$$ = \\begin{bmatrix} 1 \\\\ 2 \\end{bmatrix} + \\alpha \\begin{bmatrix} -1 \\\\ 3 \\end{bmatrix} $$<br>\n",
    "\n",
    "$\\therefore \\bar x(\\alpha) = \\begin{bmatrix} 1-\\alpha \\\\ 2+3\\alpha \\end{bmatrix} $ for any $\\alpha \\in \\mathbb R $\n",
    "\n",
    "If $\\alpha \\in [0,2]$ we obtain\n",
    "\n",
    "$$ \\alpha = 0 , x(0) = \\begin{bmatrix} 1 \\\\ 2 \\end{bmatrix} $$<br>\n",
    "\n",
    "$$ \\alpha = 1 , x(1) = \\begin{bmatrix} 0 \\\\ 5\\end{bmatrix} $$<br>\n",
    "\n",
    "$$ \\alpha = 2 , x(2) = \\begin{bmatrix} -1 \\\\ 8 \\end{bmatrix} $$<br>\n",
    "\n",
    "From $$ \\frac{\\Delta Y}{\\Delta x} = \\frac{5-2}{0-1}  = -3 $$<br>\n",
    "\n",
    "$$ (y - y_0) = m(x - x_0) $$<br>\n",
    "\n",
    "$$ (y - 2) = m(x-1) $$<br>\n",
    "\n",
    "$$ y-2 = -3(x-1) $$<br>\n",
    "\n",
    "$$ y = -3x + 5 $$<br>\n",
    "\n",
    "$$ y = mx + b  = -3x + 5 $$ <br>\n",
    "    \n",
    "or $$ x_2 = -3x_1 + 5 $$<br><br>"
   ]
  },
  {
   "cell_type": "markdown",
   "metadata": {},
   "source": [
    "## Line segment joining 2 points in $\\large\\mathbb R^n$<u>\n",
    " \n",
    " The line segment joining the point $\\bar Y \\in \\mathbb R^n $ and $ \\bar Z \\in \\mathbb R^n $ is\n",
    "$$ \\bar x (\\theta) =  \\theta \\bar Y + (1 - \\theta)\\bar Z\\;\\;for\\;\\;\\theta \\in [0,1]  $$\n",
    " \n",
    "For $$ \\theta = 0 \\Rightarrow \\bar x = \\bar Z $$\n",
    "    \n",
    "$$ \\theta = 1 \\Rightarrow \\bar x = \\bar Y $$\n",
    " \n",
    "Often it is convenient to normalized the direction vector $\\bar d$ to be unite vector that $ \\| \\bar d \\|_2 = 1  $ or $ \\bar d^T d = 1 $"
   ]
  },
  {
   "cell_type": "markdown",
   "metadata": {},
   "source": [
    "EX. $\\quad\\bar P = \\begin{bmatrix} 2 \\\\ 3 \\end{bmatrix}  , \\|P\\|_2 = \\sqrt{2^2+3^2} = \\sqrt{4+9} = \\sqrt{13}$\n",
    "\n",
    "$$ \\| \\bar d \\| = 1 \\Rightarrow \\bar d = \\frac{\\bar P}{\\| \\bar P \\|} = \\frac{\\begin{bmatrix} 2 \\\\ 3 \\end{bmatrix}}{\\sqrt{13}}  = \\frac {1}{\\sqrt{13}}\n",
    "    \\begin{bmatrix} 2 \\\\ 3 \\end{bmatrix} =  \n",
    "    \\begin{bmatrix} \\frac{2}{\\sqrt{13}}\\\\ \\frac{3}{\\sqrt{13}} \\end{bmatrix} $$<br>\n",
    "\n",
    "$$ \\|\\bar d\\|_2 = \\sqrt{\\left(\\frac{2}{\\sqrt{13}}\\right)^2+\\left(\\frac{3}{\\sqrt{13}}\\right)^2} = \\sqrt{{\\frac{4}{13}}+{\\frac{9}{13}}} = 1$$<br>\n",
    "\n",
    "\n",
    "The function value along the line in $\\mathbb R^n$ is<br>\n",
    "\n",
    "$$  \\ell(\\alpha) = f(\\bar x(\\alpha)) $$<br>\n",
    "\n",
    "which is a function of a single value $\\alpha$ ,thus the slope along the line at the point $\\bar x(\\alpha)$ is<br>\n",
    "\n",
    "$$  \\ell'(\\alpha) = \\frac{df}{d\\alpha}(\\bar x (\\alpha)) $$<br>\n",
    "\n",
    "$$  \\ell'(\\alpha) = \\nabla f^T(\\bar x(\\alpha))\\bar d $$<br>\n",
    "\n",
    "and the currature along the line is<br>\n",
    "\n",
    "$$  \\ell''(\\alpha) = \\frac{d^2f}{d\\alpha^2}(\\bar x (\\alpha)) $$<br>\n",
    "    \n",
    "$$  \\ell''(\\alpha) = \\bar d^T\\nabla^2 f(\\bar x(\\alpha))d $$<br>"
   ]
  },
  {
   "cell_type": "markdown",
   "metadata": {},
   "source": [
    "EX. $\\quad f(\\bar x) = 100(x_2-x_1^2)^2 + (1-x_1)^2 , \\;\\bar x \\in \\mathbb R^2\\;\\;$ Find the line in $\\mathbb R^2$ passing through the point $\\bar x_0 = \\begin{bmatrix} 1\\\\ 1 \\end{bmatrix} $ and lying in the direction $ \\bar d = \\begin{bmatrix} 2 \\\\ 1 \\end{bmatrix}$ and slope , curvature of $f(\\bar x)$ along the line at the point $\\bar x(\\alpha)$\n",
    "\n",
    "$\\Rightarrow\\;\\;$Line in $\\mathbb R^n$ : \n",
    "\n",
    "$$ \\bar x(\\alpha) = \\bar x_0 + \\alpha\\bar d , \\bar x_0 = \\begin{bmatrix} 1\\\\ 1 \\end{bmatrix},\\bar d = \n",
    "    \\begin{bmatrix} 2\\\\ 1 \\end{bmatrix} $$<br>\n",
    "\n",
    "The normarlized directinal vector with length 1 is\n",
    "\n",
    "$$ \\bar d = \\frac{\\bar d}{\\|\\bar d\\|} = \\frac{\\begin{bmatrix} 2\\\\ 1 \\end{bmatrix}}{\\sqrt{4+1}} = \n",
    "    \\begin{bmatrix} {\\frac{2}{\\sqrt5}}\\\\ {\\frac{1}{\\sqrt5}} \\end{bmatrix} $$<br>\n",
    "\n",
    "So $$ \\bar x(\\alpha) = \\bar x_0 + \\alpha\\bar d $$<br>\n",
    "$$ = \\begin{bmatrix} 1\\\\ 1 \\end{bmatrix} + \\alpha\n",
    "    \\begin{bmatrix} {\\frac{2}{\\sqrt5}}\\\\ {\\frac{1}{\\sqrt5}} \\end{bmatrix} $$<br>\n",
    "$$ = \\begin{bmatrix} 1+{\\frac{2\\alpha}{\\sqrt5}}\\\\ 1+{\\frac{\\alpha}{\\sqrt5}} \\end{bmatrix} = \n",
    "    \\begin{bmatrix} x_1\\\\ x_2 \\end{bmatrix} $$<br>\n",
    "\n",
    "Function value along the line\n",
    "\n",
    "$$ f(\\bar x(\\alpha)) = \\ell(\\alpha) $$<br>\n",
    "    \n",
    "$$ = 100 \\begin{bmatrix} \\left( 1+{\\frac{\\alpha}{\\sqrt5}} \\right)-\\left( 1+{\\frac{2\\alpha}{\\sqrt5}} \\right)^2 \\end{bmatrix}^2 + \n",
    "    \\begin{bmatrix} 1-\\left( 1+{\\frac{2\\alpha}{\\sqrt5}} \\right)^2 \\end{bmatrix}^2 $$<br>\n",
    "    \n",
    "$$ =64(\\alpha)^4 + 96\\sqrt5(\\alpha)^3 +\\frac{904\\alpha^2}{5}$$<br>\n",
    "\n",
    "The first derivative along the line :\n",
    "\n",
    "$$ \\ell '(\\alpha) = 256\\alpha^3 + 288\\sqrt5\\alpha^2 + \\frac{1808}{5}\\alpha $$<br>\n",
    "    \n",
    "or $$\\nabla f^T \\bar d = \\bar d^T \\nabla f (\\bar x_0 + \\alpha\\bar d) $$<br>\n",
    "    \n",
    "$$ = \\begin{bmatrix} {\\frac{2}{\\sqrt5}}& {\\frac{1}{\\sqrt5}} \\end{bmatrix}\n",
    "    \\begin{bmatrix} 128\\sqrt5\\alpha^3 +800\\alpha^2 +\\frac{1204\\alpha}{\\sqrt5}\\\\ -160\\alpha^2-120\\sqrt5\\alpha \\end{bmatrix} $$<br>\n",
    "\n",
    "$$ = 256\\alpha^3 + 288\\sqrt5\\alpha^2 + \\frac{1808\\alpha}{5}$$<br>\n",
    "    \n",
    "$$ = \\ell'(\\alpha)$$<br>\n",
    "\n",
    "The second derivative along the line :\n",
    "    \n",
    "$$ \\ell''(\\alpha) = 768\\alpha^2 + 576\\sqrt5\\alpha + \\frac{1808}{5} $$<br>\n",
    "\n",
    "or $$\\bar d^T\\nabla^2f(\\bar x_0+\\alpha\\bar d)d = \\begin{bmatrix} {\\frac{2}{\\sqrt5}}& {\\frac{1}{\\sqrt5}} \\end{bmatrix}\n",
    "    \\begin{bmatrix}960\\alpha^2 +880\\sqrt5\\alpha+802 & -160\\sqrt5\\alpha-400 \\\\ -160\\sqrt5\\alpha-400 & 200 \\end{bmatrix}  $$<br>\n",
    "    \n",
    "$$ =768\\alpha^2 +576\\sqrt5\\alpha + \\frac{1808}{5} =  \\ell''(\\alpha) $$<br>"
   ]
  },
  {
   "cell_type": "markdown",
   "metadata": {},
   "source": [
    "## Taylor's series in $\\large\\mathbb R^n$\n",
    "\n",
    "The basis for many numerical methods for optimization is Taylor formula\n",
    "    \n",
    "If $ f : \\mathbb R^n \\Rightarrow \\mathbb R $ is a continuous function and if $ f\\in C'(\\mathbb R^n) $ then the first order\n",
    "\n",
    "Taylor series expansion of $f(\\bar x)$ about a point $x^*$ is \n",
    "\n",
    "$$ f(x^* + \\alpha\\bar d) \\approx f(x^*) + \\alpha\\bar d^T\\nabla f(x^*) +\\dots $$\n",
    "\n",
    "If $ f \\in C^2(\\mathbb R^n)$ , then the second order Taylor series expansion of $f(\\bar x)$ about $ x^* $ is\n",
    "    \n",
    "$$ f(x^* + \\alpha\\bar d) \\approx f(x^*) + \\alpha\\bar d^T\\nabla f(x^*) +\\frac{1}{2!}\\alpha^2\\nabla^2f(x^*)d + \\dots  $$"
   ]
  },
  {
   "cell_type": "markdown",
   "metadata": {},
   "source": [
    "EX. $\\quad f : \\mathbb R \\Rightarrow \\mathbb R $ (one variable)\n",
    "\n",
    "Taylor is series expansion of $ f(x+\\Delta x) $about a point $x_0$ is\n",
    "    \n",
    "$$ f(x+\\Delta x) \\approx f(x_0) + f'(x_0)\\Delta x + \\frac{f''(x_0)(\\Delta x)^2}{2!} +\\dots $$<br>\n",
    "    \n",
    "$ \\Delta x = n $, \n",
    "    \n",
    "$$ f(x_0+h) \\approx f(x_0)+f'(x_0)h+\\frac{1}{2!}f''(x_0)h^2 +\\dots $$<br>\n",
    "\n",
    "Let $ x = x_0 + h \\Rightarrow  h(x - x_0)  $ , then\n",
    "\n",
    "* 1.) $ f(x)\\approx f(x_0)+f'(x_0)(x-x_0)+\\frac{1}{2!}f''(x_0)(x-x_0)+ \\dots  $\n",
    "    \n",
    "For $ f : \\mathbb R^2 \\Rightarrow \\mathbb R $ (2 variables) \n",
    "    \n",
    "$$ f(x_0+\\Delta x,\\;y_0+\\Delta y)$$<br>\n",
    "    \n",
    "$= f(x_0,y_0) + (\\frac{\\partial f}{\\partial x}\\Delta x +\\frac{\\partial f}{\\partial y}\\Delta y)+\\frac{1}{2!}(\\frac{\\partial^2 f}{\\partial^2 x}(\\Delta x)^2 + \\frac{2\\partial^2 f}{\\partial x\\partial y}\\Delta x\\Delta y +\\frac{\\partial^2 f}{\\partial y^2}(\\Delta y)^2) $\n",
    "\n",
    "$= f(x_0,y_0)+ (\\frac{\\partial f}{\\partial x}\\Delta x +\\frac{\\partial f}{\\partial y}\\Delta y) +\\frac{1}{2!}(\\frac{\\partial^2 f}{\\partial^2 x}(\\Delta x)^2 + \\frac{\\partial^2 f}{\\partial x\\partial y}\\Delta x\\Delta y + \\frac{\\partial^2 f}{\\partial y^2}(\\Delta y)^2 $\n",
    "    \n",
    "$ = f(x_0,y_0) + [\\Delta x\\;\\;\\Delta y]\\begin{bmatrix}\\frac{\\partial f}{\\partial x} \\\\\\frac{\\partial f}{\\partial y}\\end{bmatrix}+ \\frac{1}{2!}[\\Delta x\\;\\;\\Delta y]\n",
    "    \\begin{bmatrix}\\frac{\\partial^2 f}{\\partial x^2} &\\frac{\\partial^2 f}{\\partial x\\partial y}\\\\  \\frac{\\partial^2 f}{\\partial y\\partial x}&\\frac{\\partial^2 f}{\\partial y^2} \\end{bmatrix}\n",
    "    \\begin{bmatrix}\\Delta x \\\\ \\Delta y\\end{bmatrix} $\n",
    "    \n",
    "$ = f(x_0,y_0) + \\bar d^T\\nabla f + \\frac{1}{2!}d^T\\nabla^2fd + \\dots $\n",
    "\n",
    "If $ x_1 + \\Delta x = x $ and $ y_0 + \\Delta y  $ , then \n",
    "\n",
    "$ \\Delta x  = x - x_0 $ and $ \\Delta y = y - y_0 $\n",
    "\n",
    "* 2.) $ f(x,y)$ \n",
    "\n",
    "$= f(x_0,y_0) + \\begin{bmatrix}\\frac{\\partial f}{\\partial x}(x - x_0) +\\frac{\\partial f}{\\partial y}(y - y_0)  \\end{bmatrix} + \\frac{1}{2!}\n",
    "    \\begin{bmatrix}\\frac{\\partial^2 f}{\\partial x^2}(x - x_0)^2 + \\frac{\\partial^2 f}{\\partial x\\partial y}(x - x_0)(y - y_0) + \\frac{\\partial^2 f}{\\partial y^2}(y - y_0)^2 \\end{bmatrix}$\n",
    "\n",
    "\n",
    "Taylor's expansion of $ f(\\bar x) $ about $(x_0,y_0) $\n",
    "\n",
    "At $ (x_0,y_0) = (0,0) $\n",
    "\n",
    "* 3.) $ f(x,y)$ \n",
    "    \n",
    "$ = f(0,0) + \\begin{bmatrix}\\frac{\\partial f}{\\partial x}x +\\frac{\\partial f}{\\partial y}y  \\end{bmatrix} + \\frac{1}{2!}\n",
    "    \\begin{bmatrix}\\frac{\\partial^2 f}{\\partial x^2}x^2 +\\frac{\\partial^2 f}{\\partial x\\partial y}xy + \\frac{\\partial^2 f}{\\partial y^2}y^2 \\end{bmatrix} + \\dots $<br><br>"
   ]
  },
  {
   "cell_type": "markdown",
   "metadata": {},
   "source": [
    "EX. $\\quad$Expansion $ f(x,y) = e^xIn(1 + y) $ about a point (0,0)<br>\n",
    "\n",
    "$$ e^xIn(1 + y) = 0 + (0 + y) + \\frac{1}{2!}(0 + 2xy - y^2) $$<br>\n",
    "\n",
    "$$ e^xIn(1 +y) \\approx y + xy - \\frac{y^2}{2}  $$<br>\n",
    "\n",
    "$ Sol^n $<br>\n",
    "\n",
    "$$ f(0,0) = e^0In(1 + 0) = 0 $$<br>\n",
    "\n",
    "* Gradient $\\Rightarrow \\nabla f(0,0) = \\begin{bmatrix}\\frac{\\partial f}{\\partial x} \\\\ \\frac{\\partial f}{\\partial y}  \\end{bmatrix} $<br>\n",
    "    \n",
    "$$= \\begin{bmatrix} e^xIn(1 + y) \\\\ \\frac{e^x}{1 + y} \\end{bmatrix} = \n",
    "    \\begin{bmatrix} 0 \\\\ 1 \\end{bmatrix}  $$<br>\n",
    "\n",
    "* Hessian  $\\Rightarrow \\nabla^2 f(0,0) = \\begin{bmatrix} \\frac{\\partial^2 f}{\\partial x^2}& \\frac{\\partial^2 f}{\\partial x\\partial y} \\\\ \\frac{\\partial^2 f}{\\partial y\\partial x}&\\frac{\\partial^2 f}{\\partial y^2} \\end{bmatrix}  $<br>\n",
    "\n",
    "$$ = \\begin{bmatrix} e^xIn(1+y)&\\frac{e^y}{1+y} \\\\ \\frac{e^x}{1+y}&\\frac{-e^y}{(1+y)^2} \\end{bmatrix}  = \n",
    "    \\begin{bmatrix} 0&1 \\\\ 1&1 \\end{bmatrix} $$<br><br>"
   ]
  },
  {
   "cell_type": "markdown",
   "metadata": {},
   "source": [
    "## Vector norms\n",
    "\n",
    "$\\qquad$If $\\alpha\\in \\mathbb R  $ then its magnitude is defind by \n",
    "\n",
    "$$ |\\alpha| = \\begin{cases}\\alpha &, \\alpha\\geqslant 0 \\\\\n",
    "    -\\alpha &, \\alpha < 0\n",
    "\\end{cases}$$\n",
    "\n",
    "$\\qquad$In $ \\mathbb R^n$ and $\\mathbb R^{mxn}$ , there are several possible definitions of the magnitude of a quantity there are refered to as vector norms and matrix norms and denoted by using $\\|\\boxdot\\|$ \n",
    "\n",
    "$\\qquad$A vector norm on $\\mathbb R^n$ is a function $\\|\\boxdot\\|$ from $\\mathbb R^n$ to $\\mathbb R$ with the following properties :\n",
    "\n",
    "1. $ \\|\\bar x \\| \\geqslant 0 , \\forall\\bar x \\in \\mathbb R^n $ and $ \\|\\bar x\\| = 0 $ iff $\\bar x = \\bar 0$\n",
    "\n",
    "2. $ \\|\\bar x + \\bar y\\| \\leqslant \\|\\bar x \\|+\\|\\bar y \\| $ , $\\forall\\bar x,\\bar y\\in \\mathbb R^n$\n",
    "\n",
    "3. $ \\|\\alpha\\bar x\\| = |\\alpha| \\|\\bar x\\| $ , $\\forall\\alpha\\in \\mathbb R$, $ \\bar x \\in \\mathbb R^n $\n",
    "\n",
    "\n",
    "The most widely used vector norms are the p-norms defined by\n",
    "\n",
    "$$ \\|\\bar x\\|_p  = \\left(\\sum_{i=1}^{n} |x_i|^p\\right)^{\\large\\frac{1}{p}} $$"
   ]
  },
  {
   "cell_type": "markdown",
   "metadata": {},
   "source": [
    "EX.<br>\n",
    "\n",
    "1.) 1 - norms : P = 1\n",
    "\n",
    "$\\qquad\\|\\bar x\\|_1  = \\sum_{i=1}^{n} |x_i|  = |x_1|+|x_2|+\\dots+|x_n|  $\n",
    "\n",
    "2.) 2 - norms : P = 2\n",
    "\n",
    "$\\qquad\\|\\bar x\\|_2  = (\\sum_{i=1}^{n} |x_i|^2)^{\\frac{1}{2}}   = \\sqrt{x_1^2+x_2^2+\\dots+x_n^2}  = (\\bar x^Tx)^{\\frac{1}{2}}$\n",
    "\n",
    "3.) $ \\infty $ - norm or maximum norm\n",
    "\n",
    "$\\qquad\\|\\bar x\\|_\\infty = max_{i=1,\\dots,n}|x_i|$ = max$\\{|x_1|,|x_2|,\\dots,|x_n|  \\} $<br><br><br>\n",
    "\n",
    "$\\qquad$Norms provide the concept of distance between elements in $\\mathbb R^n$ and used in the definition of continoity and convergence\n",
    "    \n",
    "The sequence $ \\{ x^{(K)} \\} $ converages to $x^*$ iff\n",
    "\n",
    "$$ \\|x^{(K)} - x^*\\| \\Rightarrow 0 $$\n",
    "    \n",
    "as  $$ K \\Rightarrow \\infty $$\n",
    "\n",
    "$$ \\|x^{(K+1)} - x^{(K)}\\| \\leqslant 0.5 x 10^{-5} \\leqslant 0.000005$$\n",
    "\n",
    "Suppose $\\bar x \\in \\mathbb R^n$ is an approximation to $ x^* \\in \\mathbb R^n $\n",
    "\n",
    "The absolute error in $\\bar x \\in \\mathbb R^n$ is\n",
    "\n",
    "$$ E_a = \\| \\bar x - x^* \\| $$\n",
    "\n",
    "The relative error is\n",
    "\n",
    "$$ E_r = \\frac{\\| \\bar x - x^* \\|}{\\|x^*\\|} $$\n",
    "\n",
    "$\\qquad$The relative error using the $\\infty$- norm gives some information about the number of correct significant digits in $x^*$\n",
    "\n",
    "If $$ \\frac{{\\| \\bar x - x^* \\|}_\\infty}{{\\|x^*\\|}_\\infty} \\leqslant 0.5 x 10^{-P}  $$\n",
    "\n",
    "then the largest component of $\\hat x$ has approximately P correct significant digits<br><br>\n",
    "\n",
    "$For\\;example$\n",
    "    \n",
    "If $ x^* =  \\begin{bmatrix} -3.641 \\\\ 0.7843 \\end{bmatrix}\\;$ and \n",
    "$\\;\\hat x =  \\begin{bmatrix} -3.641 \\\\ 0.7843 \\end{bmatrix} $ then\n",
    "\n",
    "$\\Rightarrow$ 1st method;<br>\n",
    "$\\qquad\\frac{{\\| \\bar x - x^* \\|}_\\infty}\n",
    "    {{\\|x^*\\|}_\\infty} =  \\frac{{\\large\\| \\begin{matrix}+0.008 \\\\ +0.0072\\end{matrix} \\|}_\\infty}\n",
    "    {{\\large\\| \\begin{matrix}-3.641 \\\\ 0.7843\\end{matrix} \\|}_\\infty}  = \n",
    "    \\frac{\\large max\\{0.008,0.072\\}}{\\large max\\{|-3.641|,0.7843\\}} = \n",
    "    \\frac{0.008}{3.641} = 0.2 x 10^{-2} \\leqslant 0.5 x 10^{-2} $<br>\n",
    "    \n",
    "$$Degree=2\\;\\rightarrow\\;P = 2\\;;\\;\\;\\text{significant digits}$$<br>\n",
    "\n",
    "2nd method; 2-norm:\n",
    "\n",
    "$\\qquad\\frac{{\\| \\bar x - x^* \\|}_2}{{\\|x^*\\|}_2}  =  \\frac{{\\large\\| \\begin{matrix}+0.008 \\\\ +0.0072\\end{matrix} \\|}_2}{{\\large\\| \n",
    "    \\begin{matrix}-3.641 \\\\ 0.7843\\end{matrix} \\|}_2}  = \\frac{\\sqrt{(0.008)^2 + (0.0072)^2}}{\\sqrt{(-3.641)^2 + (0.7843)^2}}  = 0.2706 x 10^{-2} \\leqslant 0.5 x 10^{-2}\\;\\;\\rightarrow\\;\\;P=2$"
   ]
  }
 ],
 "metadata": {
  "kernelspec": {
   "display_name": "Python 3",
   "language": "python",
   "name": "python3"
  },
  "language_info": {
   "codemirror_mode": {
    "name": "ipython",
    "version": 3
   },
   "file_extension": ".py",
   "mimetype": "text/x-python",
   "name": "python",
   "nbconvert_exporter": "python",
   "pygments_lexer": "ipython3",
   "version": "3.8.1"
  }
 },
 "nbformat": 4,
 "nbformat_minor": 2
}
