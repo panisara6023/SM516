{
 "cells": [
  {
   "cell_type": "markdown",
   "metadata": {},
   "source": [
    "## Chapter 2  "
   ]
  },
  {
   "cell_type": "markdown",
   "metadata": {},
   "source": [
    "## Review of matrix algrebra \n",
    "The matrix algebra is important in the development analysis and imprementation of numerical methods that is used to find theminimizers \n",
    "of optimization problems  Let"
   ]
  },
  {
   "cell_type": "markdown",
   "metadata": {},
   "source": [
    "$\\overline{x}$  = $\n",
    "\\begin{bmatrix}\n",
    "a_{11} & a_{12} & \\dots & a_{1n} \\\\\n",
    "a_{21} & a_{22} & \\dots & a_{2n} \\\\\n",
    "a_{m1} & a_{m2} & \\dots & a_{mn} \\\\\n",
    "\\end{bmatrix}  ; [a_{ij}]_{n*m}   ; $ $ A x \\in R^{m*n} $"
   ]
  },
  {
   "cell_type": "markdown",
   "metadata": {},
   "source": [
    "When $ a_{ij} $$ \\in R $ for $\n",
    "i = 1,2,\\dots,m  j = 1,2,\\dots,n $\n",
    "\n"
   ]
  },
  {
   "cell_type": "markdown",
   "metadata": {},
   "source": [
    "And a vector $ $ a $ \\in R^n$ $ , a = \n",
    "\\begin{bmatrix}\n",
    "a_1 \\\\\n",
    "a_2 \\\\ \n",
    "\\vdots \\\\ \n",
    "a_3 \\\\\n",
    "\\end{bmatrix} $ when $ \n",
    "$$a_i \\in R$$ for i = 1,2,\\dots,n $"
   ]
  },
  {
   "cell_type": "markdown",
   "metadata": {},
   "source": [
    "## The basic operations with matrices "
   ]
  },
  {
   "cell_type": "markdown",
   "metadata": {},
   "source": [
    "1. Addion $ ( R^{m*n} + R^{m*n} = R^{m*n} ) $"
   ]
  },
  {
   "cell_type": "markdown",
   "metadata": {},
   "source": [
    "$ C = A + B $ when "
   ]
  },
  {
   "cell_type": "markdown",
   "metadata": {},
   "source": [
    "$ C_{ij} = a_{ij} + b_{ij} $"
   ]
  },
  {
   "cell_type": "markdown",
   "metadata": {},
   "source": [
    "$ [C_{ij}]_{m*n} = [a_{ij} + b_{ij} ]_{m*n} $ ; $  i = 1,2,\\dots,m $ $ j = 1,2,\\dots,n  $"
   ]
  },
  {
   "cell_type": "markdown",
   "metadata": {},
   "source": [
    "2. Multiplication by a scelar $ ( R + R^{m*n} = R^{m*n} ) $"
   ]
  },
  {
   "cell_type": "markdown",
   "metadata": {},
   "source": [
    "$ C = \\alpha A $"
   ]
  },
  {
   "cell_type": "markdown",
   "metadata": {},
   "source": [
    "$ ; C = [c_{ij}]_{m*n} , A = [a_{ij}]_{m*n} $"
   ]
  },
  {
   "cell_type": "markdown",
   "metadata": {},
   "source": [
    "when $ C_{ij} = \\alpha a_{ij} $ ; $  i = 1,2,\\dots,m $ $ j = 1,2,\\dots,n $"
   ]
  },
  {
   "cell_type": "markdown",
   "metadata": {},
   "source": [
    "3. Matrix-Matrix multiplication $ ( R^{m*n} + R^{n*p} = R^{m*p} ) $"
   ]
  },
  {
   "cell_type": "markdown",
   "metadata": {},
   "source": [
    "$ C = AB $"
   ]
  },
  {
   "cell_type": "markdown",
   "metadata": {},
   "source": [
    "$ [c_{ij}]_{m*p} = [a_{ij}]_{m*n} * [b_{ij}]_{n*p} $"
   ]
  },
  {
   "cell_type": "markdown",
   "metadata": {},
   "source": [
    "when $ c_{ij} = \\sum_{n=1}^{i=1}  a_{ik}b_{kj} $  for $\n",
    "i = 1,2,\\dots,m  $  $ j = 1,2,\\dots,p $\n"
   ]
  },
  {
   "cell_type": "markdown",
   "metadata": {},
   "source": [
    "$ c_{ij} = $$\\sum_{n=1}^{i=1} $$  a_{ik}b_{kj} = \n",
    "\\begin{bmatrix}\n",
    "a_{i1} & a_{i2} & .. & a_{in} \\\\\n",
    "\\end{bmatrix} \\begin{bmatrix}\n",
    "a_{1j} \\\\\n",
    "a_{2j} \\\\ \n",
    "\\vdots \\\\ \n",
    "a_{3j} \\\\\n",
    "\\end{bmatrix} $"
   ]
  },
  {
   "cell_type": "markdown",
   "metadata": {},
   "source": [
    "Ex. $ A =\n",
    "\\begin{bmatrix}\n",
    "1 & 2 & 5 \\\\\n",
    "3 & 4 & 6 \\\\ \n",
    "\\end{bmatrix}_{2*3} \n",
    "B =\n",
    "\\begin{bmatrix}\n",
    "1 & 3 \\\\\n",
    "0 & 2 \\\\ \n",
    "-2 & 1 \\\\\n",
    "\\end{bmatrix}_{3*2}\n",
    "$"
   ]
  },
  {
   "cell_type": "markdown",
   "metadata": {},
   "source": [
    "$ C = AB $ ; $ R $"
   ]
  },
  {
   "cell_type": "markdown",
   "metadata": {},
   "source": [
    "$ R^{2*2} =  R^{2*3} * R^{3*2}  $"
   ]
  },
  {
   "cell_type": "markdown",
   "metadata": {},
   "source": [
    "$ C = AB $"
   ]
  },
  {
   "cell_type": "markdown",
   "metadata": {},
   "source": [
    "$ C =  c_{ij} $ , $ i = 1,2  $  $ j = 1,2 $"
   ]
  },
  {
   "cell_type": "markdown",
   "metadata": {},
   "source": [
    "$ C = \n",
    "\\begin{bmatrix}\n",
    "c_{11} & c_{12} \\\\\n",
    "c_{21} & c_{22} \\\\\n",
    "\\end{bmatrix} $"
   ]
  },
  {
   "cell_type": "markdown",
   "metadata": {},
   "source": [
    "$ c_{11} =\n",
    "\\begin{bmatrix}\n",
    "1 & 2 & 5 \\\\ \n",
    "\\end{bmatrix} \\begin{bmatrix}\n",
    "1 \\\\\n",
    "0 \\\\ \n",
    "-2 \\\\ \n",
    "\\end{bmatrix} $\n",
    "\n",
    "$ c_{12} =\n",
    "\\begin{bmatrix}\n",
    "1 & 2 & 5 \\\\ \\end{bmatrix}\n",
    "\\begin{bmatrix}\n",
    "3 \\\\\n",
    "2 \\\\ \n",
    "1 \\\\ \n",
    "\\end{bmatrix} $"
   ]
  },
  {
   "cell_type": "markdown",
   "metadata": {},
   "source": [
    "4. Transposition $ ( R^{m*n} = R^{n*m} = R^{n*m} ) $"
   ]
  },
  {
   "cell_type": "markdown",
   "metadata": {},
   "source": [
    "$ C = A^T $ , $ C =  R^{n*m} = A^T $"
   ]
  },
  {
   "cell_type": "markdown",
   "metadata": {},
   "source": [
    "when $  [c_{ij}] = [a_{ij}] $ for $\n",
    "i = 1,2,\\dots,m  $  $ j = 1,2\\dots,n $\n"
   ]
  },
  {
   "cell_type": "markdown",
   "metadata": {},
   "source": [
    "$ A = R^{m*n} $"
   ]
  },
  {
   "cell_type": "markdown",
   "metadata": {},
   "source": [
    "An n-dimensional row vector is \n",
    "devoted by  $ a^T = \n",
    "\\begin{bmatrix}\n",
    "a_{i1} & a_{i2} & \\dots & a_{in} \\\\\n",
    "\\end{bmatrix} $"
   ]
  },
  {
   "cell_type": "markdown",
   "metadata": {},
   "source": [
    "and $ (AB)^T = B^T A^T $ ;  $ A \\in R^{m*n} , B  \\in R^{n*p} $ "
   ]
  },
  {
   "cell_type": "markdown",
   "metadata": {},
   "source": [
    "and $ AB  \\neq  BA  $"
   ]
  },
  {
   "cell_type": "markdown",
   "metadata": {},
   "source": [
    "5. A matrix-vector product"
   ]
  },
  {
   "cell_type": "markdown",
   "metadata": {},
   "source": [
    " A $ \\in  R^{m*n} $  ,$ \\overline{x} \\in R^n $ \n",
    " "
   ]
  },
  {
   "cell_type": "markdown",
   "metadata": {},
   "source": [
    "$ A $$\\overline{x}$$ = b $ ;  b $ \\in R^n $  "
   ]
  },
  {
   "cell_type": "markdown",
   "metadata": {},
   "source": [
    "and $ \\sum_{j=1} a_{ij}\\overline{x}_{bi} $  for $\n",
    "i = 1,2,\\dots,n  $"
   ]
  },
  {
   "cell_type": "markdown",
   "metadata": {},
   "source": [
    "linear system"
   ]
  },
  {
   "cell_type": "markdown",
   "metadata": {},
   "source": [
    "$ a_{11}x_1 + a_{12}x_2 + a_{13}x_3 = b_1 $ \n"
   ]
  },
  {
   "cell_type": "markdown",
   "metadata": {},
   "source": [
    "$ a_{21}x_1 + a_{22}x_2 + a_{23}x_3 = b_2 $ "
   ]
  },
  {
   "cell_type": "markdown",
   "metadata": {},
   "source": [
    "$ a_{31}x_1 + a_{32}x_2 + a_{33}x_3 = b_1 $ "
   ]
  },
  {
   "cell_type": "markdown",
   "metadata": {},
   "source": [
    "$ \\begin{bmatrix} a_{11} & a_{12} & a_{13} \\\\ a_{21} & a_{22} & a_{23} \\\\ a_{31} & a_{32} & a_{33} \\end{bmatrix} \\begin{bmatrix} x_1 \\\\ x_2 \\\\ x_3 \\end{bmatrix} = \\begin{bmatrix}b_1 \\\\ b_2 \\\\ b_3 \\end{bmatrix} $"
   ]
  },
  {
   "cell_type": "markdown",
   "metadata": {},
   "source": [
    "$ R^{3*3} * R^3 = R^3 $"
   ]
  },
  {
   "cell_type": "markdown",
   "metadata": {},
   "source": [
    "6. A vector-vector product"
   ]
  },
  {
   "cell_type": "markdown",
   "metadata": {},
   "source": [
    "If $ a \\in R^{m*1}  b \\in   R^{n*1} $ are vector , then "
   ]
  },
  {
   "cell_type": "markdown",
   "metadata": {},
   "source": [
    "$ ab^T \\in   R^{m*n} $"
   ]
  },
  {
   "cell_type": "markdown",
   "metadata": {},
   "source": [
    "$ ab^T = \n",
    "\\begin{bmatrix}\n",
    "a_1b_1 & \\dots & a_1b_n \\\\\n",
    "a_2b_1 & \\dots & a_2b_n \\\\\n",
    "a_nb_1 & \\dots & a_2b_n \\\\\n",
    "\\end{bmatrix} $"
   ]
  },
  {
   "cell_type": "markdown",
   "metadata": {},
   "source": [
    "If m=n the inner product or scalar product of z vector $ a,b \\in  R^n $ is scalar  "
   ]
  },
  {
   "cell_type": "markdown",
   "metadata": {},
   "source": [
    "$ ab^T = \\begin{bmatrix}\n",
    "a_1 & a_2 & \\dots & a_n \\\\\n",
    "\\end{bmatrix} \\begin{bmatrix}\n",
    "b_1 \\\\\n",
    "b_2 \\\\\n",
    "\\vdots \\\\\n",
    "b_n \\\\\n",
    "\\end{bmatrix} $"
   ]
  },
  {
   "cell_type": "markdown",
   "metadata": {},
   "source": [
    "$ ab^T = a_1b_1 + a_2b_2 + \\dots + a_nb_n = \\sum_{i=1} a_ib_i $ = scalar"
   ]
  },
  {
   "cell_type": "markdown",
   "metadata": {},
   "source": [
    "Ex. $ a =\n",
    "\\begin{bmatrix}\n",
    "1 \\\\\n",
    "2 \\\\\n",
    "-2 \\\\\n",
    "\\end{bmatrix} $ , $\n",
    "b = \n",
    "\\begin{bmatrix}\n",
    "-3 \\\\\n",
    "2 \\\\\n",
    "-1 \\\\\n",
    "\\end{bmatrix} $"
   ]
  },
  {
   "cell_type": "markdown",
   "metadata": {},
   "source": [
    "$ ab^T = \\begin{bmatrix}\n",
    "1 & 2 & -2 \n",
    "\\end{bmatrix} \\begin{bmatrix}\n",
    "-3 \\\\\n",
    "2 \\\\\n",
    "-1 \\\\\n",
    "\\end{bmatrix} $"
   ]
  },
  {
   "cell_type": "markdown",
   "metadata": {},
   "source": [
    "$ ab^T = (1*-3) + (2*2) + (-2*-1) $ = 3 = $ b^Ta $"
   ]
  },
  {
   "cell_type": "markdown",
   "metadata": {},
   "source": [
    "$ b^Ta = \\begin{bmatrix}\n",
    "3 & 2 & -1 \n",
    "\\end{bmatrix} \\begin{bmatrix}\n",
    "1 \\\\\n",
    "2 \\\\\n",
    "-2 \\\\\n",
    "\\end{bmatrix} $  = $ a^Tb $"
   ]
  },
  {
   "cell_type": "markdown",
   "metadata": {},
   "source": [
    "But $ ab^T \\neq ba^T $"
   ]
  },
  {
   "cell_type": "markdown",
   "metadata": {},
   "source": [
    "7. Diagonal matrix"
   ]
  },
  {
   "cell_type": "markdown",
   "metadata": {},
   "source": [
    "An $ n*n $ diagonal matrix A when "
   ]
  },
  {
   "cell_type": "markdown",
   "metadata": {},
   "source": [
    "$ a_{ij} = \\alpha_i $ for $ i = 1,2,\\dots,n $"
   ]
  },
  {
   "cell_type": "markdown",
   "metadata": {},
   "source": [
    "and  $ a_{ij} = 0 $ for $ i \\neq j $ is devoted by "
   ]
  },
  {
   "cell_type": "markdown",
   "metadata": {},
   "source": [
    "$ A = \\begin{bmatrix} \n",
    "\\alpha_1 & 0 & \\dots&0 \\\\\n",
    "0 & \\alpha_2 & \\dots&0 \\\\\n",
    "\\vdots&\\vdots\\\\\n",
    "0 & 0 & \\dots&\\alpha_n \\\\\n",
    "\\end{bmatrix}\n",
    "\\in R^{n*n} $"
   ]
  },
  {
   "cell_type": "markdown",
   "metadata": {},
   "source": [
    "8. Determinant "
   ]
  },
  {
   "cell_type": "markdown",
   "metadata": {},
   "source": [
    "If $ A \\in R^{n*n} $ is a diagonal matrix, then det $ A = \\prod_{i=1} a_{ii} $"
   ]
  },
  {
   "cell_type": "markdown",
   "metadata": {},
   "source": [
    "or $ \\begin{bmatrix}\n",
    "a_{11} & 0 & \\dots & 0 \\\\\n",
    "0 & a_{22} & \\dots & 0 \\\\\n",
    "0 & 0 & \\dots & a_{nn} \\\\\n",
    "\\end{bmatrix} = a_{11}a_{22}a_{33} \\dots a_{nn} = \\prod_{i=1}a_{ii} $"
   ]
  },
  {
   "cell_type": "markdown",
   "metadata": {},
   "source": [
    "If $ A \\in R^{n*n} $ , then"
   ]
  },
  {
   "cell_type": "markdown",
   "metadata": {},
   "source": [
    "det $ A = \\sum_{j=1}(-1)^{i+j}a_{ij}m_{ij} $ for $ i = 1,2,\\dots,n $"
   ]
  },
  {
   "cell_type": "markdown",
   "metadata": {},
   "source": [
    "when $ m_{ij} $ is the minor of  $ a_{ij} $ is determinent of matrix obtained by deleting row i and column j of A "
   ]
  },
  {
   "cell_type": "markdown",
   "metadata": {},
   "source": [
    "Ex. $ A =\n",
    "\\begin{bmatrix}\n",
    "1 & 2 & 3 \\\\\n",
    "-1 & 0 & 4 \\\\\n",
    "2 & 3 & -2 \\\\\n",
    "\\end{bmatrix} $"
   ]
  },
  {
   "cell_type": "markdown",
   "metadata": {},
   "source": [
    "$ |A| =\n",
    "\\begin{bmatrix}\n",
    "1 & 2 & 3 \\\\\n",
    "-1 & 0 & 4 \\\\\n",
    "2 & 3 & -2 \\\\\n",
    "\\end{bmatrix} = (0+16-9) - (0+12+4) = -9 $"
   ]
  },
  {
   "cell_type": "markdown",
   "metadata": {},
   "source": [
    "$ |A| = \\begin{bmatrix}\n",
    "1 & 2 & 3 \\\\\n",
    "-1 & 0 & 4 \\\\\n",
    "2 & 3 & -2 \\\\\n",
    "\\end{bmatrix} $"
   ]
  },
  {
   "cell_type": "markdown",
   "metadata": {},
   "source": [
    "$ i=1 : |A| = (-1)^{1+1}a_{11}m_{11} + (-1)^{1+2}a_{12}m_{12} + (-1)^{1+3}a_{13}m_{13} $"
   ]
  },
  {
   "cell_type": "markdown",
   "metadata": {},
   "source": [
    "$ |A| = +(1) \\begin{bmatrix}\n",
    "0 & 4 \\\\\n",
    "3 & -2 \\\\\n",
    "\\end{bmatrix} + (-1)(2) \\begin{bmatrix}\n",
    "-1 & 4 \\\\\n",
    "2 & -2 \\\\\n",
    "\\end{bmatrix} + (3) \\begin{bmatrix}\n",
    "-1 & 0 \\\\\n",
    "2 & 3 \\\\\n",
    "\\end{bmatrix} $"
   ]
  },
  {
   "cell_type": "markdown",
   "metadata": {},
   "source": [
    "$ |A| = (1)(-12) + (-2)(-6) + (3)(-3) $"
   ]
  },
  {
   "cell_type": "markdown",
   "metadata": {},
   "source": [
    "$ |A| = -12+12-9 = -9 $"
   ]
  },
  {
   "cell_type": "markdown",
   "metadata": {},
   "source": [
    "$ i=2 : |A| = (-1)^{2+1}a_{21}m_{21} + (-1)^{2+2}a_{22}m_{22} + (-1)^{2+3}a_{23}m_{23} $"
   ]
  },
  {
   "cell_type": "markdown",
   "metadata": {},
   "source": [
    "$ |A| = (-1)(-1) \\begin{bmatrix}\n",
    "2 & 3 \\\\\n",
    "3 & -2 \\\\\n",
    "\\end{bmatrix} + 0 + (-1)(4) \\begin{bmatrix}\n",
    "1 & 2 \\\\\n",
    "2 & 3 \\\\\n",
    "\\end{bmatrix} $"
   ]
  },
  {
   "cell_type": "markdown",
   "metadata": {},
   "source": [
    "$ |A| = -13+(-1)(4)(-1) = -9 $"
   ]
  },
  {
   "cell_type": "markdown",
   "metadata": {},
   "source": [
    "Properties of determinant "
   ]
  },
  {
   "cell_type": "markdown",
   "metadata": {},
   "source": [
    "1. $ det(AB) = detAdetB $"
   ]
  },
  {
   "cell_type": "markdown",
   "metadata": {},
   "source": [
    "2. $ det(A)^T = detA $ "
   ]
  },
  {
   "cell_type": "markdown",
   "metadata": {},
   "source": [
    "3. $ det($$\\alpha$$A) =  $$\\alpha$$^ndetA $ "
   ]
  },
  {
   "cell_type": "markdown",
   "metadata": {},
   "source": [
    "4. A is a nonsingular matrix if and only if $ det A \\neq 0 $ If  $ det A = 0 $ ,then A is a singular matrix "
   ]
  },
  {
   "cell_type": "markdown",
   "metadata": {},
   "source": [
    "9. Inverse of $ A \\in R^{n*n} = A^{-1}  $"
   ]
  },
  {
   "cell_type": "markdown",
   "metadata": {},
   "source": [
    "If $ A \\in R^{2*2} $ ; $ A = \\begin{bmatrix}\n",
    "a_{11} & a_{12} \\\\\n",
    "a_{21} & a_{22} \\\\\n",
    "\\end{bmatrix} $ then $ \n",
    "A^{-1} = 1/detA \\begin{bmatrix}\n",
    "a_{22} & -a_{12} \\\\\n",
    "-a_{21} & a_{11} \\\\\n",
    "\\end{bmatrix} $"
   ]
  },
  {
   "cell_type": "markdown",
   "metadata": {},
   "source": [
    "If $ A \\sum_ R^{m*n} $ ; then $ A^{-1} = 1/detA \\begin{bmatrix}\n",
    "[c_{ij}]^T \\\\\n",
    "\\end{bmatrix}_{m*n} $"
   ]
  },
  {
   "cell_type": "markdown",
   "metadata": {},
   "source": [
    "when $ c_{ij} $ = a cofactor of $ a_{ij} = (-1)^{i+j}M_{ij} $ and $ M_{ij} = $ minor of $ a_{ij} $"
   ]
  },
  {
   "cell_type": "markdown",
   "metadata": {},
   "source": [
    "Ex. $ A =  \n",
    "\\begin{bmatrix}\n",
    "1 & 2 \\\\\n",
    "3 & 4 \\\\\n",
    "\\end{bmatrix}  \\\\ A^{-1} = 1/detA \\begin{bmatrix}\n",
    "4 & -2 \\\\\n",
    "-3 & 1 \\\\\n",
    "\\end{bmatrix} $\n"
   ]
  },
  {
   "cell_type": "markdown",
   "metadata": {},
   "source": [
    "$ detA = \n",
    "\\begin{bmatrix}\n",
    "1 & 2 \\\\\n",
    "3 & 4 \\\\\n",
    "\\end{bmatrix}  = 4-6 = 2 ≠ 0 $"
   ]
  },
  {
   "cell_type": "markdown",
   "metadata": {},
   "source": [
    "so $ a^{-1} = \\frac{1}{-2} \\begin{bmatrix}\n",
    "4 & -2 \\\\\n",
    "-3 & 1 \\\\\n",
    "\\end{bmatrix} = \\begin{bmatrix}\n",
    "-2 & 1 \\\\\n",
    "\\frac{3}{2} & \\frac{-1}{2} \\\\\n",
    "\\end{bmatrix} = A^{-1} $"
   ]
  },
  {
   "cell_type": "markdown",
   "metadata": {},
   "source": [
    "Ex. $ B =  \n",
    "\\begin{bmatrix}\n",
    "1 & 2 & 0 \\\\\n",
    "-1 & 3 & 2 \\\\\n",
    "0 & 1 & -3 \\\\\n",
    "\\end{bmatrix} $"
   ]
  },
  {
   "cell_type": "markdown",
   "metadata": {},
   "source": [
    "$ |B| = \n",
    "\\begin{bmatrix}\n",
    "1 & 2 & 0 \\\\\n",
    "-1 & 3 & 2 \\\\\n",
    "0 & 1 & -3 \\\\\n",
    "\\end{bmatrix} = -9-2-6 = -17 $"
   ]
  },
  {
   "cell_type": "markdown",
   "metadata": {},
   "source": [
    "$ B^{-1} = 1/detB \n",
    "\\begin{bmatrix}\n",
    "c_{11} & c_{12} & c_{13} \\\\\n",
    "c_{21} & c_{22} & c_{23} \\\\\n",
    "c_{31} & c_{32} & c_{33} \\\\\n",
    "\\end{bmatrix}^T $ "
   ]
  },
  {
   "cell_type": "markdown",
   "metadata": {},
   "source": [
    "$ c_{11} = (-1)^{1+1}M_{11} = \\begin{bmatrix}\n",
    "3 & 2 \\\\\n",
    "1 & -3 \\\\\n",
    "\\end{bmatrix} = -9-2 = -11 $"
   ]
  },
  {
   "cell_type": "markdown",
   "metadata": {},
   "source": [
    "$ c_{12} = (-1)^{1+2}M_{12} = \\begin{bmatrix}\n",
    "-1 & 2 \\\\\n",
    "0 & -3 \\\\\n",
    "\\end{bmatrix} = -3 $"
   ]
  },
  {
   "cell_type": "markdown",
   "metadata": {},
   "source": [
    "$ c_{13} = (-1)^{1+3}M_{13} = \\begin{bmatrix}\n",
    "-1 & 3 \\\\\n",
    "0 & 1 \\\\\n",
    "\\end{bmatrix} = -1 $"
   ]
  },
  {
   "cell_type": "markdown",
   "metadata": {},
   "source": [
    "$ c_{21} = (-1)^{2+1}M_{21} = \\begin{bmatrix}\n",
    "2 & 0 \\\\\n",
    "1 & -3 \\\\\n",
    "\\end{bmatrix} = 6 $"
   ]
  },
  {
   "cell_type": "markdown",
   "metadata": {},
   "source": [
    "$ c_{22} = (-1)^{2+2}M_{22} = \\begin{bmatrix}\n",
    "1 & 0 \\\\\n",
    "0 & -3 \\\\\n",
    "\\end{bmatrix} = -3 $"
   ]
  },
  {
   "cell_type": "markdown",
   "metadata": {},
   "source": [
    "$ c_{23} = (-1)^{2+3}M_{23} = \\begin{bmatrix}\n",
    "1 & 2 \\\\\n",
    "0 & 1 \\\\\n",
    "\\end{bmatrix} = -1 $"
   ]
  },
  {
   "cell_type": "markdown",
   "metadata": {},
   "source": [
    "$ c_{31} = (-1)^{3+1}M_{31} = \\begin{bmatrix}\n",
    "2 & 0 \\\\\n",
    "2 & 2 \\\\\n",
    "\\end{bmatrix} = 4 $"
   ]
  },
  {
   "cell_type": "markdown",
   "metadata": {},
   "source": [
    "$ c_{32} = (-1)^{3+2}M_{32} = \\begin{bmatrix}\n",
    "1 & 0 \\\\\n",
    "-1 & 2 \\\\\n",
    "\\end{bmatrix} = -2 $"
   ]
  },
  {
   "cell_type": "markdown",
   "metadata": {},
   "source": [
    "$ c_{33} = (-1)^{3+3}M_{33} = \\begin{bmatrix}\n",
    "1 & 2 \\\\\n",
    "-1 & 3 \\\\\n",
    "\\end{bmatrix} = 5 $"
   ]
  },
  {
   "cell_type": "markdown",
   "metadata": {},
   "source": [
    "$ B^{-1} = 1/17\n",
    "\\begin{bmatrix}\n",
    "-11 & -3 & -1 \\\\\n",
    "6 & -3 & -1 \\\\\n",
    "4 & -2 & 5 \\\\\n",
    "\\end{bmatrix}^T $"
   ]
  },
  {
   "cell_type": "markdown",
   "metadata": {},
   "source": [
    "$ B^{-1} = 1/17\n",
    "\\begin{bmatrix}\n",
    "-11 & 6 & 4 \\\\\n",
    "-3 & -3 & -2 \\\\\n",
    "-1 & -1 & 5 \\\\\n",
    "\\end{bmatrix} $"
   ]
  },
  {
   "cell_type": "markdown",
   "metadata": {},
   "source": [
    "10. Linear independence"
   ]
  },
  {
   "cell_type": "markdown",
   "metadata": {},
   "source": [
    "The set of m vectors ; { $ a_1,a_2,\\dots,a_n $ } , $ a_i \\in R^n $ for $ i = 1,2,\\dots,m $ is a linear independence if there exists number $ \\alpha_i $ such that $ \\sum_{i=1}a_{i} = 0 $ "
   ]
  },
  {
   "cell_type": "markdown",
   "metadata": {},
   "source": [
    "when $ $$\\alpha$$_1 = $$\\alpha$$_2 = ... = $$\\alpha$$_m = 0 $"
   ]
  },
  {
   "cell_type": "markdown",
   "metadata": {},
   "source": [
    "and $ a_i =\n",
    "\\begin{bmatrix}\n",
    "a_1 \\\\\n",
    "a_2 \\\\\n",
    "\\vdots \\\\\n",
    "a_n \\\\\n",
    "\\end{bmatrix} \\in R^n $ for $ i = 1,2,\\dots,m $"
   ]
  },
  {
   "cell_type": "markdown",
   "metadata": {},
   "source": [
    "If $ \\alpha_i \\neq 0 $ , then { $ a_1,a_2,\\dots,a_m $ } is not a linear independence or also called linear dependence "
   ]
  },
  {
   "cell_type": "markdown",
   "metadata": {},
   "source": [
    "11. Rank of a matrix A : $ R(A) $"
   ]
  },
  {
   "cell_type": "markdown",
   "metadata": {},
   "source": [
    "$ R(A) $ is the maximum number of linearly independent colums or rows of A"
   ]
  },
  {
   "cell_type": "markdown",
   "metadata": {},
   "source": [
    "Ex. a)  $ A = \\begin{bmatrix}\n",
    "5 & 0 & -15 \\\\\n",
    "0 & 4 & 0 \\\\\n",
    "-2 & 0 & 6 \\\\\n",
    "\\end{bmatrix}_{3*3} $ ; $ a_3 = -3a_1  \\\\ \n",
    "R(A) = 2 $"
   ]
  },
  {
   "cell_type": "markdown",
   "metadata": {},
   "source": [
    "Ex. b)  $ B = \\begin{bmatrix}\n",
    "-1 & 0 & 2 & 1 \\\\\n",
    "-2 & 2 & 4 & 2 \\\\\n",
    "-3 & 1 & 6 & 3 \\\\\n",
    "\\end{bmatrix}_{3*4} $ ; $ a_3 = 2a_4 = -2a_1  \\\\\n",
    "-a_1 = a_4 \\\\\n",
    "R(B) = 2 $"
   ]
  },
  {
   "cell_type": "markdown",
   "metadata": {},
   "source": [
    "Ex. c)  $ C = \\begin{bmatrix}\n",
    "-1 & 0 & 2 & 1 \\\\\n",
    "-2 & 0 & 4 & 2 \\\\\n",
    "-3 & 0 & 6 & 3 \\\\\n",
    "\\end{bmatrix} $"
   ]
  },
  {
   "cell_type": "markdown",
   "metadata": {},
   "source": [
    " $ C = \\begin{bmatrix}\n",
    "-1 & 2 & 1 \\\\\n",
    "-2 & 4 & 2 \\\\\n",
    "-3 & 6 & 3 \\\\\n",
    "\\end{bmatrix}  \\\\  R(C) = 1  \\\\\n",
    "-a_1 = a_4 = \\frac{1}{2}a_3 \\\\\n",
    "2a_4 = a_3 \\\\ $"
   ]
  },
  {
   "cell_type": "markdown",
   "metadata": {},
   "source": [
    "$ C = \\begin{bmatrix}\n",
    "-1 & 2 & 1 \\\\\n",
    "-2 & 4 & 2 \\\\\n",
    "-3 & 6 & 3 \\\\\n",
    "\\end{bmatrix} \\\\\n",
    "b_2 = 2b_1 \\\\\n",
    "b_3 = 3b_1 \\\\\n",
    "R(C) = 1 $ "
   ]
  },
  {
   "cell_type": "markdown",
   "metadata": {},
   "source": [
    "If $ A $$ \\in $$ R^{n*n} $ then A is nonsingular matrix iff (if and only if) $ R(A) = 1 $"
   ]
  },
  {
   "cell_type": "markdown",
   "metadata": {},
   "source": [
    "Ex. $  A = \\begin{bmatrix}\n",
    "1 & 2 \\\\\n",
    "3 & 4 \\\\\n",
    "\\end{bmatrix}_{2*2} , n = 2 $"
   ]
  },
  {
   "cell_type": "markdown",
   "metadata": {},
   "source": [
    "$ |A| = \n",
    "\\begin{bmatrix}\n",
    "1 & 2 \\\\\n",
    "3 & 4 \\\\\n",
    "\\end{bmatrix} = 4-6 = -2 \\neq 0 $ "
   ]
  },
  {
   "cell_type": "markdown",
   "metadata": {},
   "source": [
    "So A is nonsingularmatrix , $ R(A) = 2 $"
   ]
  },
  {
   "cell_type": "markdown",
   "metadata": {},
   "source": [
    "The rank of A is not affected by elementary row operations : "
   ]
  },
  {
   "cell_type": "markdown",
   "metadata": {},
   "source": [
    "1.Interchange of 2 rows or 2 columns $ (r_i = r_j) $"
   ]
  },
  {
   "cell_type": "markdown",
   "metadata": {},
   "source": [
    "2.Multiplication of row(column) of A by nonzero scalar $ c \\neq 0  (cr_i = r_i) $"
   ]
  },
  {
   "cell_type": "markdown",
   "metadata": {},
   "source": [
    "3.Addition a given row (column) to nonzeroscalar $ ∝ $ times the other row(column) $ (r_i + \\alpha r_j = r_j) $"
   ]
  },
  {
   "cell_type": "markdown",
   "metadata": {},
   "source": [
    "Ex. $ A = \\begin{bmatrix}\n",
    "1 & 3 & 2 & 2 \\\\\n",
    "2 & 3 & 5 & 1 \\\\\n",
    "1 & 3 & 4 & 5 \\\\\n",
    "\\end{bmatrix}_{3*3} $"
   ]
  },
  {
   "cell_type": "markdown",
   "metadata": {},
   "source": [
    "$ \\begin{bmatrix}\n",
    "1 & 2 & 3 & 2 \\\\\n",
    "2 & 3 & 5 & 1 \\\\\n",
    "1 & 3 & 4 & 5 \\\\\n",
    "\\end{bmatrix} $"
   ]
  },
  {
   "cell_type": "markdown",
   "metadata": {},
   "source": [
    "$ ∿ \\begin{bmatrix}\n",
    "1 & 2 & 3 & 2 \\\\\n",
    "0 & -1 & -1 & -3 \\\\\n",
    "0 & 1 & 1 & 3 \\\\\n",
    "\\end{bmatrix} $"
   ]
  },
  {
   "cell_type": "markdown",
   "metadata": {},
   "source": [
    "$ ∿ \\begin{bmatrix}\n",
    "1 & 2 & 3 & 2 \\\\\n",
    "0 & -1 & -1 & -3 \\\\\n",
    "0 & 0 & 0 & 0 \\\\\n",
    "\\end{bmatrix} $"
   ]
  },
  {
   "cell_type": "markdown",
   "metadata": {},
   "source": [
    "$ R(A) = 2 , r_2 $ and $ r_2 $ are independenct and $ R(A) = R(A)^T $"
   ]
  },
  {
   "cell_type": "markdown",
   "metadata": {},
   "source": [
    "The linear system $ Ax = B $ "
   ]
  },
  {
   "cell_type": "markdown",
   "metadata": {},
   "source": [
    "There exists a unique solution iff $ R(A) = R(A|B) $"
   ]
  },
  {
   "cell_type": "markdown",
   "metadata": {},
   "source": [
    "Ex. $ 2x_1 - x_2 = 3 $"
   ]
  },
  {
   "cell_type": "markdown",
   "metadata": {},
   "source": [
    "$ 4x_1 - 2x_1 = 5 $"
   ]
  },
  {
   "cell_type": "markdown",
   "metadata": {},
   "source": [
    "$  \\begin{bmatrix}\n",
    "2 & -1 \\\\\n",
    "4 & -2 \\\\\n",
    "\\end{bmatrix} \\begin{bmatrix}\n",
    "x_1 \\\\\n",
    "x_2 \\\\\n",
    "\\end{bmatrix} = \\begin{bmatrix}\n",
    "3 \\\\\n",
    "5 \\\\\n",
    "\\end{bmatrix} $"
   ]
  },
  {
   "cell_type": "markdown",
   "metadata": {},
   "source": [
    "$ Ax= B $"
   ]
  },
  {
   "cell_type": "markdown",
   "metadata": {},
   "source": [
    "$ R(A) = 1 \\\\\n",
    "R(A|B) = 2 \\\\\n",
    "R(A) \\neq R(A|B) $"
   ]
  },
  {
   "cell_type": "markdown",
   "metadata": {},
   "source": [
    "12. Eigen values and Eigen vectors"
   ]
  },
  {
   "cell_type": "markdown",
   "metadata": {},
   "source": [
    "If $ A $$ \\in $$ R^{n*n} $ then eigen value of $ A $ are the n roots $ $$\\lambda$$_1 , $$\\lambda$$_2 , \\dots , $$\\lambda$$_n $ of its characteristic polynomial "
   ]
  },
  {
   "cell_type": "markdown",
   "metadata": {},
   "source": [
    "$ det(A-$$\\lambda$$I) = 0 $ or $ |A-$$\\lambda$$I| = 0 $"
   ]
  },
  {
   "cell_type": "markdown",
   "metadata": {},
   "source": [
    "When $ I $ is idenitity matrix $ R^{n*n} $"
   ]
  },
  {
   "cell_type": "markdown",
   "metadata": {},
   "source": [
    "For a square matrix the eigen valus are either real value or complex conjugate  \n",
    "If A is symmetric then all eigen value are real "
   ]
  },
  {
   "cell_type": "markdown",
   "metadata": {},
   "source": [
    "Ex. $ A = \\begin{bmatrix}\n",
    "1 & 2 \\\\\n",
    "2 & 1 \\\\\n",
    "\\end{bmatrix} $"
   ]
  },
  {
   "cell_type": "markdown",
   "metadata": {},
   "source": [
    "characteristic polynomial "
   ]
  },
  {
   "cell_type": "markdown",
   "metadata": {},
   "source": [
    "$ | A - \\lambda I | $ = $ | \\begin{bmatrix}\n",
    "1 & 2 \\\\\n",
    "2 & 1 \\\\\n",
    "\\end{bmatrix} - \\lambda  \\begin{bmatrix}\n",
    "1 & 0 \\\\\n",
    "0 & 1 \\\\\n",
    "\\end{bmatrix} | = 0 $"
   ]
  },
  {
   "cell_type": "markdown",
   "metadata": {},
   "source": [
    "$ \\begin{bmatrix} \n",
    "1-\\lambda & 2 \\\\\n",
    "2 & 1-\\lambda \\\\\n",
    "\\end{bmatrix} $ "
   ]
  },
  {
   "cell_type": "markdown",
   "metadata": {},
   "source": [
    "$ = (1-\\lambda)(1-\\lambda) - 4 \\\\ = \\lambda^2-2\\lambda+1-4 = 0 \\\\\n",
    "\\lambda^2-2\\lambda-3 = 0 \\\\\n",
    "(\\lambda-3)(\\lambda+1) = 0 $"
   ]
  },
  {
   "cell_type": "markdown",
   "metadata": {},
   "source": [
    "eigen value : $ $$\\lambda$$_1 = 3 , $$\\lambda$$_2 = -1 $"
   ]
  },
  {
   "cell_type": "markdown",
   "metadata": {},
   "source": [
    "The marix A is symmetric $ A = A^T $ "
   ]
  },
  {
   "cell_type": "markdown",
   "metadata": {},
   "source": [
    "If $$\\lambda$$ is an eigen value of $ A $$ \\in $$ R^{n*n} $ then the nonzero vector $\\overline{x}$ satisfying "
   ]
  },
  {
   "cell_type": "markdown",
   "metadata": {},
   "source": [
    "$ Ax̄ = $$\\lambda$$x̄ $ are the elgen vector of A"
   ]
  },
  {
   "cell_type": "markdown",
   "metadata": {},
   "source": [
    "$ Ax̄ - \\lambda x̄ = 0 \\\\\n",
    "(A - \\lambda I)x̄ = 0 $"
   ]
  },
  {
   "cell_type": "markdown",
   "metadata": {},
   "source": [
    "Ex. a) $ A = \\begin{bmatrix}\n",
    "1 & 2 \\\\\n",
    "3 & 0 \\\\\n",
    "\\end{bmatrix} $"
   ]
  },
  {
   "cell_type": "markdown",
   "metadata": {},
   "source": [
    "eigen value : $ det(A - $$\\lambda$$I) = 0 $"
   ]
  },
  {
   "cell_type": "markdown",
   "metadata": {},
   "source": [
    "$ \\begin{bmatrix} \n",
    "1-\\lambda & 2 \\\\\n",
    "3 & 0-\\lambda \\\\\n",
    "\\end{bmatrix} = 0  \\\\\n",
    "(1-\\lambda)(-\\lambda)-6 = 0 \\\\\n",
    "\\lambda^2-\\lambda-6 = 0 \\\\\n",
    "(\\lambda-3(\\lambda+2) = 0 \\\\\n",
    "\\lambda_1 =3,\\lambda_2=-2  $ "
   ]
  },
  {
   "cell_type": "markdown",
   "metadata": {},
   "source": [
    "eigen vector of $ \\lambda_1 = 3 \\\\\n",
    "(A - \\lambda I) \\overline{x} = 0 \\\\\n",
    "\\begin{bmatrix} \n",
    "1-\\lambda_1 & 2 \\\\\n",
    "3 & -\\lambda_1 \\\\\n",
    "\\end{bmatrix} \\begin{bmatrix}\n",
    "x_1 \\\\\n",
    "x_2 \\\\\n",
    "\\end{bmatrix}  = \\begin{bmatrix}\n",
    "0 \\\\\n",
    "0 \\\\\n",
    "\\end{bmatrix} \\\\ \\begin{bmatrix}\n",
    "1-3 & 2 \\\\\n",
    "3 & -3 \\\\\n",
    "\\end{bmatrix} \\begin{bmatrix}\n",
    "x_1 \\\\\n",
    "x_2 \\\\\n",
    "\\end{bmatrix}  = \\begin{bmatrix}\n",
    "0 \\\\\n",
    "0 \\\\\n",
    "\\end{bmatrix} \\\\ \\begin{bmatrix}\n",
    "-2 & 2 \\\\\n",
    "3 & -3 \\\\\n",
    "\\end{bmatrix} \\begin{bmatrix}\n",
    "x_1 \\\\\n",
    "x_2 \\\\\n",
    "\\end{bmatrix}  = \\begin{bmatrix}\n",
    "0 \\\\\n",
    "0 \\\\\n",
    "\\end{bmatrix} \\\\\n",
    "r_1 = r_2 \\\\\n",
    "-x_1 + x_2 = 0 \\\\\n",
    "x_2 = x_1 $ "
   ]
  },
  {
   "cell_type": "markdown",
   "metadata": {},
   "source": [
    "Let $ x_1 = 1 , $ then $ x_2 = 1 $"
   ]
  },
  {
   "cell_type": "markdown",
   "metadata": {},
   "source": [
    "eigen vector for $ \\lambda_1 = 3 $ is $ \\overline{x} = \\begin{bmatrix}\n",
    "x_1 \\\\\n",
    "x_2 \\\\\n",
    "\\end{bmatrix} = \\begin{bmatrix}\n",
    "1 \\\\\n",
    "1 \\\\\n",
    "\\end{bmatrix} $"
   ]
  },
  {
   "cell_type": "markdown",
   "metadata": {},
   "source": [
    "eigen vector of $ \\lambda_2 = -2 \\\\\n",
    "(A - \\lambda I)x̄ = 0 \\\\\n",
    "\\begin{bmatrix} \n",
    "1-\\lambda_2 & 2 \\\\\n",
    "3 & -\\lambda_2 \\\\\n",
    "\\end{bmatrix} \\begin{bmatrix} \n",
    "x_1 \\\\\n",
    "x_2 \\\\\n",
    "\\end{bmatrix}  = \\begin{bmatrix} \n",
    "0 \\\\\n",
    "0 \\\\\n",
    "\\end{bmatrix} \\\\ \\begin{bmatrix} \n",
    "1+2 & 2 \\\\\n",
    "3 & 2 \\\\\n",
    "\\end{bmatrix} \\begin{bmatrix} \n",
    "x_1 \\\\\n",
    "x_2 \\\\\n",
    "\\end{bmatrix}  = \\begin{bmatrix} \n",
    "0 \\\\\n",
    "0 \\\\\n",
    "\\end{bmatrix} \\\\ \\begin{bmatrix} \n",
    "3 & 2 \\\\\n",
    "3 & 2 \\\\\n",
    "\\end{bmatrix} \\begin{bmatrix} \n",
    "x_1 \\\\\n",
    "x_2 \\\\\n",
    "\\end{bmatrix}  = \\begin{bmatrix} \n",
    "0 \\\\\n",
    "0 \\\\\n",
    "\\end{bmatrix} \\\\\n",
    "r_1 = r_2 \\\\\n",
    "3x_1 + 2x_2 = 0 \\\\\n",
    "x_1 = (\\frac{-2}{3})x_2 $ "
   ]
  },
  {
   "cell_type": "markdown",
   "metadata": {},
   "source": [
    "Let $ x_2 = 1 , $ then $ x_1 = \\frac{-2}{3} $"
   ]
  },
  {
   "cell_type": "markdown",
   "metadata": {},
   "source": [
    "eigen vector for $ \\lambda_2 = -2 $ is $ \\overline{x} = \\begin{bmatrix}\n",
    "x_1 \\\\\n",
    "x_2 \\\\\n",
    "\\end{bmatrix} =  \\begin{bmatrix}\n",
    "\\frac{-2}{3} \\\\\n",
    "1 \\\\\n",
    "\\end{bmatrix} $"
   ]
  },
  {
   "cell_type": "markdown",
   "metadata": {},
   "source": [
    "For $ A \\in  R^{2*2} $ with real eigen values"
   ]
  },
  {
   "cell_type": "markdown",
   "metadata": {},
   "source": [
    "$ A = \\begin{bmatrix}\n",
    "a_{11} & a_{12} \\\\\n",
    "a_{21} & a_{22} \\\\\n",
    "\\end{bmatrix} $"
   ]
  },
  {
   "cell_type": "markdown",
   "metadata": {},
   "source": [
    "and eigen values $ \\lambda_1,\\lambda_2 $ are real "
   ]
  },
  {
   "cell_type": "markdown",
   "metadata": {},
   "source": [
    "The characteristic polynomial"
   ]
  },
  {
   "cell_type": "markdown",
   "metadata": {},
   "source": [
    "$ |A - \\lambda I| = \\begin{bmatrix} a_{11}-\\lambda & a_{12} \\\\ a_{21} & a_{22}-\\lambda \\end{bmatrix} $\n",
    "\n",
    "$= (a_{11}-\\lambda)(a_{22-\\lambda})-a_{21}-a_{12} $\n",
    "\n",
    "$= \\lambda^2-(a_{11}+a_{12})\\lambda+(a_{11}a_{22}-a_{12}a_{21}) $\n",
    "\n",
    "$= \\lambda^2-Tr(A)+detA = 0 $\n",
    "\n",
    "$= \\lambda^2-Tr(A)+det(A) $\n",
    "\n",
    "$= \\lambda^2-(\\lambda_1+\\lambda_2)+(\\lambda_1\\lambda_2) $\n",
    "\n",
    "$A \\in  R^{2*2} $\n",
    "\n",
    "$D = \\begin{bmatrix} \\lambda_1 & 0 \\\\ 0 & \\lambda_2 \\end{bmatrix} $"
   ]
  },
  {
   "cell_type": "markdown",
   "metadata": {},
   "source": [
    "If $ A  \\in   R^{2*2} $ then real eigen values $ \\lambda_1,\\lambda_2 $ will be as follwed"
   ]
  },
  {
   "cell_type": "markdown",
   "metadata": {},
   "source": [
    "a) $ \\lambda_1,\\lambda_2 > 0 $ iff $ |A| > 0 $ and $ Tr(A) > 0 $"
   ]
  },
  {
   "cell_type": "markdown",
   "metadata": {},
   "source": [
    "b) $ \\lambda_1,\\lambda_2 < 0 $ iff $ |A| > 0 $ and $ Tr(A) < 0 $"
   ]
  },
  {
   "cell_type": "markdown",
   "metadata": {},
   "source": [
    "c) $ \\lambda_1 < 0 , \\lambda_2 > 0 $ or $ \\lambda_1 > 0 , \\lambda_2 < 0  $ iff $ |A| < 0 $"
   ]
  },
  {
   "cell_type": "markdown",
   "metadata": {},
   "source": [
    "13. Diagonal matrix"
   ]
  },
  {
   "cell_type": "markdown",
   "metadata": {},
   "source": [
    "If $ A  \\in  R^{n*n} $ and $ \\lambda_1,\\lambda_2,\\dots,\\lambda_n $ are eigen values of A "
   ]
  },
  {
   "cell_type": "markdown",
   "metadata": {},
   "source": [
    "and let $ v_1,v_2,\\dots,v_n $ are eigen vectors which is associate \n"
   ]
  },
  {
   "cell_type": "markdown",
   "metadata": {},
   "source": [
    "with eigen vectors $ \\lambda_1,\\lambda_2,\\dots,\\lambda_n $ respectively \n",
    "Let $ I = [ v_1 v_2 \\dots v_n ] $ is a matrix of linearly independent eigen vectors , then "
   ]
  },
  {
   "cell_type": "markdown",
   "metadata": {},
   "source": [
    "$ T^{-1}AT = D $"
   ]
  },
  {
   "cell_type": "markdown",
   "metadata": {},
   "source": [
    "$ \\begin{bmatrix}\n",
    "\\lambda_1 & 0 & \\dots & 0 \\\\\n",
    "0 & \\lambda_2 & \\dots & 0 \\\\\n",
    "0 & 0 & \\dots & \\lambda_3 \\\\\n",
    "\\end{bmatrix}\n",
    "\\lambda^2-Tr(\\lambda_1+\\lambda_2)+(\\lambda_1\\lambda_2) $"
   ]
  },
  {
   "cell_type": "markdown",
   "metadata": {},
   "source": [
    "$Ex. A = \\begin{bmatrix} 1 & 2 \\\\ 3 & 0 \\end{bmatrix}$\n",
    "\n",
    "$D = \\begin{bmatrix} \\lambda_1 & 0 \\\\ 0 & \\lambda_2 \\end{bmatrix} $"
   ]
  },
  {
   "cell_type": "markdown",
   "metadata": {},
   "source": [
    "eigen values : $ |A - \\lambda I| = 0 $\n",
    "\n",
    "$\\begin{bmatrix}\n",
    "1-\\lambda & 2 \\\\\n",
    "3 & 0-\\lambda \\\\\n",
    "\\end{bmatrix}\n",
    "\\lambda_1 = 3 , \\lambda_2 = -2 $"
   ]
  },
  {
   "cell_type": "markdown",
   "metadata": {},
   "source": [
    "eigen vector for $ \\lambda_1 = 3 $ is $ x^{(1)} = \\begin{bmatrix}\n",
    "1 \\\\\n",
    "1 \\\\\n",
    "\\end{bmatrix} $"
   ]
  },
  {
   "cell_type": "markdown",
   "metadata": {},
   "source": [
    "eigen vector for $ \\lambda_2 = -1 $ is $ x^{(2)} = \\begin{bmatrix}\n",
    "\\frac{-2}{3} \\\\\n",
    "1 \\\\\n",
    "\\end{bmatrix} $"
   ]
  },
  {
   "cell_type": "markdown",
   "metadata": {},
   "source": [
    "let $ T = \\begin{bmatrix}\n",
    "x^{(1)} & x^{(2)} \\\\\n",
    "\\end{bmatrix} \\\\ =\n",
    "\\begin{bmatrix}\n",
    "1 & \\frac{-2}{3} \\\\\n",
    "1 & 1  \\\\\n",
    "\\end{bmatrix} $"
   ]
  },
  {
   "cell_type": "markdown",
   "metadata": {},
   "source": [
    "and det $ T =\\begin{bmatrix}\n",
    "1 & \\frac{-2}{3} \\\\\n",
    "1 & 1  \\\\\n",
    "\\end{bmatrix} = \\frac{1+2}{3} = \\frac{5}{3} \\\\\n",
    "T^{-1} = 1/detT \\begin{bmatrix}\n",
    "1 & \\frac{-2}{3} \\\\\n",
    "1 & 1  \\\\\n",
    "\\end{bmatrix} \\\\ = \\frac{3}{5}\n",
    "\\begin{bmatrix}\n",
    "1 & \\frac{-2}{3} \\\\\n",
    "1 & 1  \\\\\n",
    "\\end{bmatrix} $"
   ]
  },
  {
   "cell_type": "markdown",
   "metadata": {},
   "source": [
    "So $ T^{-1}AT = \\frac{3}{5}\n",
    "\\begin{bmatrix}\n",
    "1 & \\frac{2}{3} \\\\\n",
    "-1 & 1  \\\\\n",
    "\\end{bmatrix} \\begin{bmatrix}\n",
    "1 & 2 \\\\\n",
    "3 & 0  \\\\\n",
    "\\end{bmatrix} \\begin{bmatrix}\n",
    "1 & \\frac{-2}{3} \\\\\n",
    "1 & 1  \\\\\n",
    "\\end{bmatrix} \\\\ = \\frac{3}{5}\n",
    "\\begin{bmatrix}\n",
    "3 & 2 \\\\\n",
    "2 & -3  \\\\\n",
    "\\end{bmatrix} \\begin{bmatrix}\n",
    "1 & \\frac{-2}{3} \\\\\n",
    "1 & 1  \\\\\n",
    "\\end{bmatrix} \\\\\n",
    "= \\frac{3}{5} \\begin{bmatrix}\n",
    "5 & 0 \\\\\n",
    "0 & \\frac{-10}{3}  \\\\\n",
    "\\end{bmatrix} \\\\\n",
    "\\begin{bmatrix}\n",
    "3 & 0 \\\\\n",
    "0 & -2  \\\\\n",
    "\\end{bmatrix} \\\\\n",
    "\\begin{bmatrix}\n",
    "⋌_1 & 0 \\\\\n",
    "0 & ⋌_2  \\\\\n",
    "\\end{bmatrix} $"
   ]
  },
  {
   "cell_type": "markdown",
   "metadata": {},
   "source": [
    "14. Quadratic from of $ f\\overline{x} , \\overline{x} \\in  R^n $"
   ]
  },
  {
   "cell_type": "markdown",
   "metadata": {},
   "source": [
    "$ f(\\overline{x}) = \\sum_{i=q}\\sum_{j=1}a_{ij}x_ix_j $"
   ]
  },
  {
   "cell_type": "markdown",
   "metadata": {},
   "source": [
    "Can be rewritten as the martix from $ f(x) = x^TAx $ such that A is a square matrix and be a symmetric matrix,"
   ]
  },
  {
   "cell_type": "markdown",
   "metadata": {},
   "source": [
    "$ x_ix_j = x_jx_i $ and $ a_{ij}x_ix_j + a_{ij}x_jx_i = (a_{ij}+a_{ji})x_ix_j $"
   ]
  },
  {
   "cell_type": "markdown",
   "metadata": {},
   "source": [
    "Ex. $ Q(\\overline{x}) = 3x_1^2 + 6x_1x_3 + x_2^2 - 4x_2x_3 + 8x_3^2 , \\overline{x} ∈ R^3 \\\\\n",
    "= \\begin{bmatrix}\n",
    "x_1 & x_2 & x_3 \\\\\n",
    "\\end{bmatrix}\n",
    "\\begin{bmatrix}\n",
    "3 & 0  & 3 \\\\\n",
    "0 & -1  & -2 \\\\\n",
    "3 & -2  & 8 \\\\\n",
    "\\end{bmatrix} \\begin{bmatrix}\n",
    "x_1 \\\\\n",
    "x_2 \\\\\n",
    "x_3 \\\\\n",
    "\\end{bmatrix} \\\\ \n",
    "= x^TAx \\\\ \n",
    "= \\begin{bmatrix}\n",
    "[3x_1+3x_3 x_2-2x_3 3x_1-2x_2+8x_3] \n",
    "\\end{bmatrix} \\begin{bmatrix}\n",
    "x_1 \\\\\n",
    "x_2 \\\\\n",
    "x_3 \\\\\n",
    "\\end{bmatrix} \\\\\n",
    "= 3x_1^2 +3x_3x_1 + x_2^2 -2x_3x_2 +3x_1x_3 -2x_2x_3 + 8x_3^2 \\\\ \n",
    "= 3x_1^2 + 6x_3x_1 -4x_2x_1 + x_2^2 +8x_3^2 $ "
   ]
  },
  {
   "cell_type": "markdown",
   "metadata": {},
   "source": [
    "If A is not symmetric , we can change to be symmetric by $ A_o = \\frac{1}{2}(A+A^T) $"
   ]
  },
  {
   "cell_type": "markdown",
   "metadata": {},
   "source": [
    "Ex. $ A = \\begin{bmatrix}\n",
    "1 & 0 \\\\\n",
    "-4 & 1 \\\\\n",
    "\\end{bmatrix} $ is not symmetric"
   ]
  },
  {
   "cell_type": "markdown",
   "metadata": {},
   "source": [
    "$ A_o = \\frac{1}{2}(A+A^T) = \\frac{1}{2}[( \\begin{bmatrix}\n",
    "1 & 0 \\\\\n",
    "-4 & 1 \\\\\n",
    "\\end{bmatrix}] +  \\begin{bmatrix}\n",
    "1 & -4 \\\\\n",
    "0 & 1 \\\\\n",
    "\\end{bmatrix} \\\\\n",
    "= \\frac{1}{2} \\begin{bmatrix}\n",
    "2 & -4 \\\\\n",
    "-4 & 2 \\\\\n",
    "\\end{bmatrix} \\\\ \n",
    "=  \\begin{bmatrix}\n",
    "1 & -2 \\\\\n",
    "-2 & 1 \\\\\n",
    "\\end{bmatrix} $"
   ]
  },
  {
   "cell_type": "code",
   "execution_count": null,
   "metadata": {},
   "outputs": [],
   "source": []
  },
  {
   "cell_type": "markdown",
   "metadata": {},
   "source": []
  }
 ],
 "metadata": {
  "kernelspec": {
   "display_name": "Python 3",
   "language": "python",
   "name": "python3"
  },
  "language_info": {
   "codemirror_mode": {
    "name": "ipython",
    "version": 3
   },
   "file_extension": ".py",
   "mimetype": "text/x-python",
   "name": "python",
   "nbconvert_exporter": "python",
   "pygments_lexer": "ipython3",
   "version": "3.7.6"
  }
 },
 "nbformat": 4,
 "nbformat_minor": 2
}
