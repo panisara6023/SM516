{
 "cells": [
  {
   "cell_type": "markdown",
   "metadata": {},
   "source": [
    "$\\begin{bmatrix} 0 \\\\ -\\frac{1}{2} \\end{bmatrix} + {\\lambda}_2\\begin{bmatrix} -1 \\\\ 1 \\end{bmatrix}$ = $\\begin{bmatrix} 0 \\\\ 0 \\end{bmatrix}$ , which cannot find any value of ${\\lambda}_2$"
   ]
  },
  {
   "cell_type": "markdown",
   "metadata": {},
   "source": [
    "$\\Omega$ = { $\\bar x \\in R^n \\mid a_i^T(\\bar x) - \\beta_i  = 0 $  for  i $\\in$ E and $a_i^T(\\bar x) - \\beta_i \\leq 0$ for i $\\in I $}"
   ]
  },
  {
   "cell_type": "code",
   "execution_count": null,
   "metadata": {},
   "outputs": [],
   "source": []
  }
 ],
 "metadata": {
  "kernelspec": {
   "display_name": "Python 3",
   "language": "python",
   "name": "python3"
  },
  "language_info": {
   "codemirror_mode": {
    "name": "ipython",
    "version": 3
   },
   "file_extension": ".py",
   "mimetype": "text/x-python",
   "name": "python",
   "nbconvert_exporter": "python",
   "pygments_lexer": "ipython3",
   "version": "3.7.6"
  }
 },
 "nbformat": 4,
 "nbformat_minor": 2
}
